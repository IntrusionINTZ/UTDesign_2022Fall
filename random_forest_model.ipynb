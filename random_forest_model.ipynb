{
  "cells": [
    {
      "cell_type": "code",
      "execution_count": null,
      "metadata": {
        "id": "D1CBrjFWGDi_"
      },
      "outputs": [],
      "source": [
        "import seaborn as sns\n",
        "import math as math\n"
      ]
    },
    {
      "cell_type": "code",
      "execution_count": null,
      "metadata": {
        "id": "ulCKP27xttOp"
      },
      "outputs": [],
      "source": [
        "import pandas as pd\n",
        "import numpy as np\n",
        "from sklearn.ensemble import RandomForestClassifier\n",
        "\n"
      ]
    },
    {
      "cell_type": "markdown",
      "source": [
        "Get the 4 different protocols in their own groups and then use RF Forest Classifier on each one of them individually"
      ],
      "metadata": {
        "id": "r_lE9jfG39D1"
      }
    },
    {
      "cell_type": "code",
      "source": [
        "# DF For TLS Protocols\n",
        "ltl_df = pd.read_csv('tls_linux.csv', encoding = \"ISO-8859-1\")\n",
        "wtl_df = pd.read_csv('tls_windows.csv', encoding = \"ISO-8859-1\")\n",
        "mtl_df = pd.read_csv('tls_macos.csv', encoding = \"ISO-8859-1\")"
      ],
      "metadata": {
        "id": "Qq1T_Uwz4GHT"
      },
      "execution_count": null,
      "outputs": []
    },
    {
      "cell_type": "code",
      "execution_count": null,
      "metadata": {
        "colab": {
          "base_uri": "https://localhost:8080/",
          "height": 270
        },
        "id": "nFG8e-nTBo-b",
        "outputId": "1b5187d1-afde-4205-b924-51d8ff1d483b"
      },
      "outputs": [
        {
          "output_type": "execute_result",
          "data": {
            "text/plain": [
              "          SRC_IP  MF_FLAG  DF_FLAG  PACKET_NO KNOWN_HOST_DEVICE  PACKET_SIZE  \\\n",
              "0  172.16.16.128        0        0          1             Linux           20   \n",
              "1  172.16.16.128        0        0          2             Linux           20   \n",
              "2    172.16.16.2        0        1          3             Linux           20   \n",
              "3  172.16.16.128        0        1          4             Linux           20   \n",
              "4  172.16.16.128        0        0          6             Linux           20   \n",
              "\n",
              "      TIMESTAMP  TTL           DST_IP  IP_FRAG_OFF  \n",
              "0  1.258920e+09  128    172.16.16.255            0  \n",
              "1  1.258920e+09    1  239.255.255.250            0  \n",
              "2  1.258920e+09   64    172.16.16.128            0  \n",
              "3  1.258920e+09    4       224.0.1.60            0  \n",
              "4  1.258920e+09    1      224.0.0.252            0  "
            ],
            "text/html": [
              "\n",
              "  <div id=\"df-7d91946d-d7d1-4477-8115-a6baa7862efd\">\n",
              "    <div class=\"colab-df-container\">\n",
              "      <div>\n",
              "<style scoped>\n",
              "    .dataframe tbody tr th:only-of-type {\n",
              "        vertical-align: middle;\n",
              "    }\n",
              "\n",
              "    .dataframe tbody tr th {\n",
              "        vertical-align: top;\n",
              "    }\n",
              "\n",
              "    .dataframe thead th {\n",
              "        text-align: right;\n",
              "    }\n",
              "</style>\n",
              "<table border=\"1\" class=\"dataframe\">\n",
              "  <thead>\n",
              "    <tr style=\"text-align: right;\">\n",
              "      <th></th>\n",
              "      <th>SRC_IP</th>\n",
              "      <th>MF_FLAG</th>\n",
              "      <th>DF_FLAG</th>\n",
              "      <th>PACKET_NO</th>\n",
              "      <th>KNOWN_HOST_DEVICE</th>\n",
              "      <th>PACKET_SIZE</th>\n",
              "      <th>TIMESTAMP</th>\n",
              "      <th>TTL</th>\n",
              "      <th>DST_IP</th>\n",
              "      <th>IP_FRAG_OFF</th>\n",
              "    </tr>\n",
              "  </thead>\n",
              "  <tbody>\n",
              "    <tr>\n",
              "      <th>0</th>\n",
              "      <td>172.16.16.128</td>\n",
              "      <td>0</td>\n",
              "      <td>0</td>\n",
              "      <td>1</td>\n",
              "      <td>Linux</td>\n",
              "      <td>20</td>\n",
              "      <td>1.258920e+09</td>\n",
              "      <td>128</td>\n",
              "      <td>172.16.16.255</td>\n",
              "      <td>0</td>\n",
              "    </tr>\n",
              "    <tr>\n",
              "      <th>1</th>\n",
              "      <td>172.16.16.128</td>\n",
              "      <td>0</td>\n",
              "      <td>0</td>\n",
              "      <td>2</td>\n",
              "      <td>Linux</td>\n",
              "      <td>20</td>\n",
              "      <td>1.258920e+09</td>\n",
              "      <td>1</td>\n",
              "      <td>239.255.255.250</td>\n",
              "      <td>0</td>\n",
              "    </tr>\n",
              "    <tr>\n",
              "      <th>2</th>\n",
              "      <td>172.16.16.2</td>\n",
              "      <td>0</td>\n",
              "      <td>1</td>\n",
              "      <td>3</td>\n",
              "      <td>Linux</td>\n",
              "      <td>20</td>\n",
              "      <td>1.258920e+09</td>\n",
              "      <td>64</td>\n",
              "      <td>172.16.16.128</td>\n",
              "      <td>0</td>\n",
              "    </tr>\n",
              "    <tr>\n",
              "      <th>3</th>\n",
              "      <td>172.16.16.128</td>\n",
              "      <td>0</td>\n",
              "      <td>1</td>\n",
              "      <td>4</td>\n",
              "      <td>Linux</td>\n",
              "      <td>20</td>\n",
              "      <td>1.258920e+09</td>\n",
              "      <td>4</td>\n",
              "      <td>224.0.1.60</td>\n",
              "      <td>0</td>\n",
              "    </tr>\n",
              "    <tr>\n",
              "      <th>4</th>\n",
              "      <td>172.16.16.128</td>\n",
              "      <td>0</td>\n",
              "      <td>0</td>\n",
              "      <td>6</td>\n",
              "      <td>Linux</td>\n",
              "      <td>20</td>\n",
              "      <td>1.258920e+09</td>\n",
              "      <td>1</td>\n",
              "      <td>224.0.0.252</td>\n",
              "      <td>0</td>\n",
              "    </tr>\n",
              "  </tbody>\n",
              "</table>\n",
              "</div>\n",
              "      <button class=\"colab-df-convert\" onclick=\"convertToInteractive('df-7d91946d-d7d1-4477-8115-a6baa7862efd')\"\n",
              "              title=\"Convert this dataframe to an interactive table.\"\n",
              "              style=\"display:none;\">\n",
              "        \n",
              "  <svg xmlns=\"http://www.w3.org/2000/svg\" height=\"24px\"viewBox=\"0 0 24 24\"\n",
              "       width=\"24px\">\n",
              "    <path d=\"M0 0h24v24H0V0z\" fill=\"none\"/>\n",
              "    <path d=\"M18.56 5.44l.94 2.06.94-2.06 2.06-.94-2.06-.94-.94-2.06-.94 2.06-2.06.94zm-11 1L8.5 8.5l.94-2.06 2.06-.94-2.06-.94L8.5 2.5l-.94 2.06-2.06.94zm10 10l.94 2.06.94-2.06 2.06-.94-2.06-.94-.94-2.06-.94 2.06-2.06.94z\"/><path d=\"M17.41 7.96l-1.37-1.37c-.4-.4-.92-.59-1.43-.59-.52 0-1.04.2-1.43.59L10.3 9.45l-7.72 7.72c-.78.78-.78 2.05 0 2.83L4 21.41c.39.39.9.59 1.41.59.51 0 1.02-.2 1.41-.59l7.78-7.78 2.81-2.81c.8-.78.8-2.07 0-2.86zM5.41 20L4 18.59l7.72-7.72 1.47 1.35L5.41 20z\"/>\n",
              "  </svg>\n",
              "      </button>\n",
              "      \n",
              "  <style>\n",
              "    .colab-df-container {\n",
              "      display:flex;\n",
              "      flex-wrap:wrap;\n",
              "      gap: 12px;\n",
              "    }\n",
              "\n",
              "    .colab-df-convert {\n",
              "      background-color: #E8F0FE;\n",
              "      border: none;\n",
              "      border-radius: 50%;\n",
              "      cursor: pointer;\n",
              "      display: none;\n",
              "      fill: #1967D2;\n",
              "      height: 32px;\n",
              "      padding: 0 0 0 0;\n",
              "      width: 32px;\n",
              "    }\n",
              "\n",
              "    .colab-df-convert:hover {\n",
              "      background-color: #E2EBFA;\n",
              "      box-shadow: 0px 1px 2px rgba(60, 64, 67, 0.3), 0px 1px 3px 1px rgba(60, 64, 67, 0.15);\n",
              "      fill: #174EA6;\n",
              "    }\n",
              "\n",
              "    [theme=dark] .colab-df-convert {\n",
              "      background-color: #3B4455;\n",
              "      fill: #D2E3FC;\n",
              "    }\n",
              "\n",
              "    [theme=dark] .colab-df-convert:hover {\n",
              "      background-color: #434B5C;\n",
              "      box-shadow: 0px 1px 3px 1px rgba(0, 0, 0, 0.15);\n",
              "      filter: drop-shadow(0px 1px 2px rgba(0, 0, 0, 0.3));\n",
              "      fill: #FFFFFF;\n",
              "    }\n",
              "  </style>\n",
              "\n",
              "      <script>\n",
              "        const buttonEl =\n",
              "          document.querySelector('#df-7d91946d-d7d1-4477-8115-a6baa7862efd button.colab-df-convert');\n",
              "        buttonEl.style.display =\n",
              "          google.colab.kernel.accessAllowed ? 'block' : 'none';\n",
              "\n",
              "        async function convertToInteractive(key) {\n",
              "          const element = document.querySelector('#df-7d91946d-d7d1-4477-8115-a6baa7862efd');\n",
              "          const dataTable =\n",
              "            await google.colab.kernel.invokeFunction('convertToInteractive',\n",
              "                                                     [key], {});\n",
              "          if (!dataTable) return;\n",
              "\n",
              "          const docLinkHtml = 'Like what you see? Visit the ' +\n",
              "            '<a target=\"_blank\" href=https://colab.research.google.com/notebooks/data_table.ipynb>data table notebook</a>'\n",
              "            + ' to learn more about interactive tables.';\n",
              "          element.innerHTML = '';\n",
              "          dataTable['output_type'] = 'display_data';\n",
              "          await google.colab.output.renderOutput(dataTable, element);\n",
              "          const docLink = document.createElement('div');\n",
              "          docLink.innerHTML = docLinkHtml;\n",
              "          element.appendChild(docLink);\n",
              "        }\n",
              "      </script>\n",
              "    </div>\n",
              "  </div>\n",
              "  "
            ]
          },
          "metadata": {},
          "execution_count": 45
        }
      ],
      "source": [
        "ltl_df.head()"
      ]
    },
    {
      "cell_type": "code",
      "source": [
        "wtl_df.head()"
      ],
      "metadata": {
        "colab": {
          "base_uri": "https://localhost:8080/",
          "height": 270
        },
        "id": "tWZuXQ164vNf",
        "outputId": "a764d7b0-4a20-4722-b9f3-06db482d8fa3"
      },
      "execution_count": null,
      "outputs": [
        {
          "output_type": "execute_result",
          "data": {
            "text/plain": [
              "   MF_FLAG  PACKET_SIZE TLS_VERSION  PACKET_NO  DF_FLAG KNOWN_HOST_DEVICE  \\\n",
              "0        0           20         NaN          1        1           Windows   \n",
              "1        0           20         NaN          2        1           Windows   \n",
              "2        0           20         NaN          3        1           Windows   \n",
              "3        0           20         NaN          4        1           Windows   \n",
              "4        0           20         NaN          5        1           Windows   \n",
              "\n",
              "  SUB_PROTOCOL TLS_EXTENSION_SIG_ALGS  TTL  IP_FRAG_OFF     TIMESTAMP  \\\n",
              "0          NaN                    NaN   42            0  1.663877e+09   \n",
              "1          NaN                    NaN  128            0  1.663877e+09   \n",
              "2          NaN                    NaN   42            0  1.663877e+09   \n",
              "3          NaN                    NaN  128            0  1.663878e+09   \n",
              "4          NaN                    NaN  118            0  1.663878e+09   \n",
              "\n",
              "  TLS_CIPHER_SUITES          SRC_IP          DST_IP  \n",
              "0               NaN   35.169.217.52  10.169.161.162  \n",
              "1               NaN  10.169.161.162   35.169.217.52  \n",
              "2               NaN   35.169.217.52  10.169.161.162  \n",
              "3               NaN  10.169.161.162   142.251.33.36  \n",
              "4               NaN   142.251.33.36  10.169.161.162  "
            ],
            "text/html": [
              "\n",
              "  <div id=\"df-482b6bc9-f10d-499d-b9ac-0b20d8517d43\">\n",
              "    <div class=\"colab-df-container\">\n",
              "      <div>\n",
              "<style scoped>\n",
              "    .dataframe tbody tr th:only-of-type {\n",
              "        vertical-align: middle;\n",
              "    }\n",
              "\n",
              "    .dataframe tbody tr th {\n",
              "        vertical-align: top;\n",
              "    }\n",
              "\n",
              "    .dataframe thead th {\n",
              "        text-align: right;\n",
              "    }\n",
              "</style>\n",
              "<table border=\"1\" class=\"dataframe\">\n",
              "  <thead>\n",
              "    <tr style=\"text-align: right;\">\n",
              "      <th></th>\n",
              "      <th>MF_FLAG</th>\n",
              "      <th>PACKET_SIZE</th>\n",
              "      <th>TLS_VERSION</th>\n",
              "      <th>PACKET_NO</th>\n",
              "      <th>DF_FLAG</th>\n",
              "      <th>KNOWN_HOST_DEVICE</th>\n",
              "      <th>SUB_PROTOCOL</th>\n",
              "      <th>TLS_EXTENSION_SIG_ALGS</th>\n",
              "      <th>TTL</th>\n",
              "      <th>IP_FRAG_OFF</th>\n",
              "      <th>TIMESTAMP</th>\n",
              "      <th>TLS_CIPHER_SUITES</th>\n",
              "      <th>SRC_IP</th>\n",
              "      <th>DST_IP</th>\n",
              "    </tr>\n",
              "  </thead>\n",
              "  <tbody>\n",
              "    <tr>\n",
              "      <th>0</th>\n",
              "      <td>0</td>\n",
              "      <td>20</td>\n",
              "      <td>NaN</td>\n",
              "      <td>1</td>\n",
              "      <td>1</td>\n",
              "      <td>Windows</td>\n",
              "      <td>NaN</td>\n",
              "      <td>NaN</td>\n",
              "      <td>42</td>\n",
              "      <td>0</td>\n",
              "      <td>1.663877e+09</td>\n",
              "      <td>NaN</td>\n",
              "      <td>35.169.217.52</td>\n",
              "      <td>10.169.161.162</td>\n",
              "    </tr>\n",
              "    <tr>\n",
              "      <th>1</th>\n",
              "      <td>0</td>\n",
              "      <td>20</td>\n",
              "      <td>NaN</td>\n",
              "      <td>2</td>\n",
              "      <td>1</td>\n",
              "      <td>Windows</td>\n",
              "      <td>NaN</td>\n",
              "      <td>NaN</td>\n",
              "      <td>128</td>\n",
              "      <td>0</td>\n",
              "      <td>1.663877e+09</td>\n",
              "      <td>NaN</td>\n",
              "      <td>10.169.161.162</td>\n",
              "      <td>35.169.217.52</td>\n",
              "    </tr>\n",
              "    <tr>\n",
              "      <th>2</th>\n",
              "      <td>0</td>\n",
              "      <td>20</td>\n",
              "      <td>NaN</td>\n",
              "      <td>3</td>\n",
              "      <td>1</td>\n",
              "      <td>Windows</td>\n",
              "      <td>NaN</td>\n",
              "      <td>NaN</td>\n",
              "      <td>42</td>\n",
              "      <td>0</td>\n",
              "      <td>1.663877e+09</td>\n",
              "      <td>NaN</td>\n",
              "      <td>35.169.217.52</td>\n",
              "      <td>10.169.161.162</td>\n",
              "    </tr>\n",
              "    <tr>\n",
              "      <th>3</th>\n",
              "      <td>0</td>\n",
              "      <td>20</td>\n",
              "      <td>NaN</td>\n",
              "      <td>4</td>\n",
              "      <td>1</td>\n",
              "      <td>Windows</td>\n",
              "      <td>NaN</td>\n",
              "      <td>NaN</td>\n",
              "      <td>128</td>\n",
              "      <td>0</td>\n",
              "      <td>1.663878e+09</td>\n",
              "      <td>NaN</td>\n",
              "      <td>10.169.161.162</td>\n",
              "      <td>142.251.33.36</td>\n",
              "    </tr>\n",
              "    <tr>\n",
              "      <th>4</th>\n",
              "      <td>0</td>\n",
              "      <td>20</td>\n",
              "      <td>NaN</td>\n",
              "      <td>5</td>\n",
              "      <td>1</td>\n",
              "      <td>Windows</td>\n",
              "      <td>NaN</td>\n",
              "      <td>NaN</td>\n",
              "      <td>118</td>\n",
              "      <td>0</td>\n",
              "      <td>1.663878e+09</td>\n",
              "      <td>NaN</td>\n",
              "      <td>142.251.33.36</td>\n",
              "      <td>10.169.161.162</td>\n",
              "    </tr>\n",
              "  </tbody>\n",
              "</table>\n",
              "</div>\n",
              "      <button class=\"colab-df-convert\" onclick=\"convertToInteractive('df-482b6bc9-f10d-499d-b9ac-0b20d8517d43')\"\n",
              "              title=\"Convert this dataframe to an interactive table.\"\n",
              "              style=\"display:none;\">\n",
              "        \n",
              "  <svg xmlns=\"http://www.w3.org/2000/svg\" height=\"24px\"viewBox=\"0 0 24 24\"\n",
              "       width=\"24px\">\n",
              "    <path d=\"M0 0h24v24H0V0z\" fill=\"none\"/>\n",
              "    <path d=\"M18.56 5.44l.94 2.06.94-2.06 2.06-.94-2.06-.94-.94-2.06-.94 2.06-2.06.94zm-11 1L8.5 8.5l.94-2.06 2.06-.94-2.06-.94L8.5 2.5l-.94 2.06-2.06.94zm10 10l.94 2.06.94-2.06 2.06-.94-2.06-.94-.94-2.06-.94 2.06-2.06.94z\"/><path d=\"M17.41 7.96l-1.37-1.37c-.4-.4-.92-.59-1.43-.59-.52 0-1.04.2-1.43.59L10.3 9.45l-7.72 7.72c-.78.78-.78 2.05 0 2.83L4 21.41c.39.39.9.59 1.41.59.51 0 1.02-.2 1.41-.59l7.78-7.78 2.81-2.81c.8-.78.8-2.07 0-2.86zM5.41 20L4 18.59l7.72-7.72 1.47 1.35L5.41 20z\"/>\n",
              "  </svg>\n",
              "      </button>\n",
              "      \n",
              "  <style>\n",
              "    .colab-df-container {\n",
              "      display:flex;\n",
              "      flex-wrap:wrap;\n",
              "      gap: 12px;\n",
              "    }\n",
              "\n",
              "    .colab-df-convert {\n",
              "      background-color: #E8F0FE;\n",
              "      border: none;\n",
              "      border-radius: 50%;\n",
              "      cursor: pointer;\n",
              "      display: none;\n",
              "      fill: #1967D2;\n",
              "      height: 32px;\n",
              "      padding: 0 0 0 0;\n",
              "      width: 32px;\n",
              "    }\n",
              "\n",
              "    .colab-df-convert:hover {\n",
              "      background-color: #E2EBFA;\n",
              "      box-shadow: 0px 1px 2px rgba(60, 64, 67, 0.3), 0px 1px 3px 1px rgba(60, 64, 67, 0.15);\n",
              "      fill: #174EA6;\n",
              "    }\n",
              "\n",
              "    [theme=dark] .colab-df-convert {\n",
              "      background-color: #3B4455;\n",
              "      fill: #D2E3FC;\n",
              "    }\n",
              "\n",
              "    [theme=dark] .colab-df-convert:hover {\n",
              "      background-color: #434B5C;\n",
              "      box-shadow: 0px 1px 3px 1px rgba(0, 0, 0, 0.15);\n",
              "      filter: drop-shadow(0px 1px 2px rgba(0, 0, 0, 0.3));\n",
              "      fill: #FFFFFF;\n",
              "    }\n",
              "  </style>\n",
              "\n",
              "      <script>\n",
              "        const buttonEl =\n",
              "          document.querySelector('#df-482b6bc9-f10d-499d-b9ac-0b20d8517d43 button.colab-df-convert');\n",
              "        buttonEl.style.display =\n",
              "          google.colab.kernel.accessAllowed ? 'block' : 'none';\n",
              "\n",
              "        async function convertToInteractive(key) {\n",
              "          const element = document.querySelector('#df-482b6bc9-f10d-499d-b9ac-0b20d8517d43');\n",
              "          const dataTable =\n",
              "            await google.colab.kernel.invokeFunction('convertToInteractive',\n",
              "                                                     [key], {});\n",
              "          if (!dataTable) return;\n",
              "\n",
              "          const docLinkHtml = 'Like what you see? Visit the ' +\n",
              "            '<a target=\"_blank\" href=https://colab.research.google.com/notebooks/data_table.ipynb>data table notebook</a>'\n",
              "            + ' to learn more about interactive tables.';\n",
              "          element.innerHTML = '';\n",
              "          dataTable['output_type'] = 'display_data';\n",
              "          await google.colab.output.renderOutput(dataTable, element);\n",
              "          const docLink = document.createElement('div');\n",
              "          docLink.innerHTML = docLinkHtml;\n",
              "          element.appendChild(docLink);\n",
              "        }\n",
              "      </script>\n",
              "    </div>\n",
              "  </div>\n",
              "  "
            ]
          },
          "metadata": {},
          "execution_count": 46
        }
      ]
    },
    {
      "cell_type": "code",
      "source": [
        "mtl_df.head()"
      ],
      "metadata": {
        "colab": {
          "base_uri": "https://localhost:8080/",
          "height": 270
        },
        "id": "thFOrVrK4y2c",
        "outputId": "0460ec77-311f-4c7d-abed-665713b158d3"
      },
      "execution_count": null,
      "outputs": [
        {
          "output_type": "execute_result",
          "data": {
            "text/plain": [
              "   DF_FLAG  PACKET_NO TLS_VERSION         SRC_IP TLS_CIPHER_SUITES  \\\n",
              "0        1          1         NaN  192.168.86.21               NaN   \n",
              "1        1          2         NaN    52.96.57.34               NaN   \n",
              "2        0          3         NaN  192.168.86.21               NaN   \n",
              "3        1          4         NaN  140.82.112.26               NaN   \n",
              "4        0          5         NaN  192.168.86.23               NaN   \n",
              "\n",
              "  SUB_PROTOCOL TLS_EXTENSION_SIG_ALGS         DST_IP  TTL  MF_FLAG  \\\n",
              "0          NaN                    NaN    52.96.57.34   64        0   \n",
              "1          NaN                    NaN  192.168.86.21  241        0   \n",
              "2          NaN                    NaN  140.82.112.26   64        0   \n",
              "3          NaN                    NaN  192.168.86.21   49        0   \n",
              "4          NaN                    NaN    224.0.0.251  255        0   \n",
              "\n",
              "   PACKET_SIZE     TIMESTAMP  IP_FRAG_OFF KNOWN_HOST_DEVICE  \n",
              "0           20  1.666898e+09            0             MacOS  \n",
              "1           20  1.666898e+09            0             MacOS  \n",
              "2           20  1.666898e+09            0             MacOS  \n",
              "3           20  1.666898e+09            0             MacOS  \n",
              "4           20  1.666898e+09            0             MacOS  "
            ],
            "text/html": [
              "\n",
              "  <div id=\"df-02af8af5-4bf2-4cab-8986-7a54d2a08298\">\n",
              "    <div class=\"colab-df-container\">\n",
              "      <div>\n",
              "<style scoped>\n",
              "    .dataframe tbody tr th:only-of-type {\n",
              "        vertical-align: middle;\n",
              "    }\n",
              "\n",
              "    .dataframe tbody tr th {\n",
              "        vertical-align: top;\n",
              "    }\n",
              "\n",
              "    .dataframe thead th {\n",
              "        text-align: right;\n",
              "    }\n",
              "</style>\n",
              "<table border=\"1\" class=\"dataframe\">\n",
              "  <thead>\n",
              "    <tr style=\"text-align: right;\">\n",
              "      <th></th>\n",
              "      <th>DF_FLAG</th>\n",
              "      <th>PACKET_NO</th>\n",
              "      <th>TLS_VERSION</th>\n",
              "      <th>SRC_IP</th>\n",
              "      <th>TLS_CIPHER_SUITES</th>\n",
              "      <th>SUB_PROTOCOL</th>\n",
              "      <th>TLS_EXTENSION_SIG_ALGS</th>\n",
              "      <th>DST_IP</th>\n",
              "      <th>TTL</th>\n",
              "      <th>MF_FLAG</th>\n",
              "      <th>PACKET_SIZE</th>\n",
              "      <th>TIMESTAMP</th>\n",
              "      <th>IP_FRAG_OFF</th>\n",
              "      <th>KNOWN_HOST_DEVICE</th>\n",
              "    </tr>\n",
              "  </thead>\n",
              "  <tbody>\n",
              "    <tr>\n",
              "      <th>0</th>\n",
              "      <td>1</td>\n",
              "      <td>1</td>\n",
              "      <td>NaN</td>\n",
              "      <td>192.168.86.21</td>\n",
              "      <td>NaN</td>\n",
              "      <td>NaN</td>\n",
              "      <td>NaN</td>\n",
              "      <td>52.96.57.34</td>\n",
              "      <td>64</td>\n",
              "      <td>0</td>\n",
              "      <td>20</td>\n",
              "      <td>1.666898e+09</td>\n",
              "      <td>0</td>\n",
              "      <td>MacOS</td>\n",
              "    </tr>\n",
              "    <tr>\n",
              "      <th>1</th>\n",
              "      <td>1</td>\n",
              "      <td>2</td>\n",
              "      <td>NaN</td>\n",
              "      <td>52.96.57.34</td>\n",
              "      <td>NaN</td>\n",
              "      <td>NaN</td>\n",
              "      <td>NaN</td>\n",
              "      <td>192.168.86.21</td>\n",
              "      <td>241</td>\n",
              "      <td>0</td>\n",
              "      <td>20</td>\n",
              "      <td>1.666898e+09</td>\n",
              "      <td>0</td>\n",
              "      <td>MacOS</td>\n",
              "    </tr>\n",
              "    <tr>\n",
              "      <th>2</th>\n",
              "      <td>0</td>\n",
              "      <td>3</td>\n",
              "      <td>NaN</td>\n",
              "      <td>192.168.86.21</td>\n",
              "      <td>NaN</td>\n",
              "      <td>NaN</td>\n",
              "      <td>NaN</td>\n",
              "      <td>140.82.112.26</td>\n",
              "      <td>64</td>\n",
              "      <td>0</td>\n",
              "      <td>20</td>\n",
              "      <td>1.666898e+09</td>\n",
              "      <td>0</td>\n",
              "      <td>MacOS</td>\n",
              "    </tr>\n",
              "    <tr>\n",
              "      <th>3</th>\n",
              "      <td>1</td>\n",
              "      <td>4</td>\n",
              "      <td>NaN</td>\n",
              "      <td>140.82.112.26</td>\n",
              "      <td>NaN</td>\n",
              "      <td>NaN</td>\n",
              "      <td>NaN</td>\n",
              "      <td>192.168.86.21</td>\n",
              "      <td>49</td>\n",
              "      <td>0</td>\n",
              "      <td>20</td>\n",
              "      <td>1.666898e+09</td>\n",
              "      <td>0</td>\n",
              "      <td>MacOS</td>\n",
              "    </tr>\n",
              "    <tr>\n",
              "      <th>4</th>\n",
              "      <td>0</td>\n",
              "      <td>5</td>\n",
              "      <td>NaN</td>\n",
              "      <td>192.168.86.23</td>\n",
              "      <td>NaN</td>\n",
              "      <td>NaN</td>\n",
              "      <td>NaN</td>\n",
              "      <td>224.0.0.251</td>\n",
              "      <td>255</td>\n",
              "      <td>0</td>\n",
              "      <td>20</td>\n",
              "      <td>1.666898e+09</td>\n",
              "      <td>0</td>\n",
              "      <td>MacOS</td>\n",
              "    </tr>\n",
              "  </tbody>\n",
              "</table>\n",
              "</div>\n",
              "      <button class=\"colab-df-convert\" onclick=\"convertToInteractive('df-02af8af5-4bf2-4cab-8986-7a54d2a08298')\"\n",
              "              title=\"Convert this dataframe to an interactive table.\"\n",
              "              style=\"display:none;\">\n",
              "        \n",
              "  <svg xmlns=\"http://www.w3.org/2000/svg\" height=\"24px\"viewBox=\"0 0 24 24\"\n",
              "       width=\"24px\">\n",
              "    <path d=\"M0 0h24v24H0V0z\" fill=\"none\"/>\n",
              "    <path d=\"M18.56 5.44l.94 2.06.94-2.06 2.06-.94-2.06-.94-.94-2.06-.94 2.06-2.06.94zm-11 1L8.5 8.5l.94-2.06 2.06-.94-2.06-.94L8.5 2.5l-.94 2.06-2.06.94zm10 10l.94 2.06.94-2.06 2.06-.94-2.06-.94-.94-2.06-.94 2.06-2.06.94z\"/><path d=\"M17.41 7.96l-1.37-1.37c-.4-.4-.92-.59-1.43-.59-.52 0-1.04.2-1.43.59L10.3 9.45l-7.72 7.72c-.78.78-.78 2.05 0 2.83L4 21.41c.39.39.9.59 1.41.59.51 0 1.02-.2 1.41-.59l7.78-7.78 2.81-2.81c.8-.78.8-2.07 0-2.86zM5.41 20L4 18.59l7.72-7.72 1.47 1.35L5.41 20z\"/>\n",
              "  </svg>\n",
              "      </button>\n",
              "      \n",
              "  <style>\n",
              "    .colab-df-container {\n",
              "      display:flex;\n",
              "      flex-wrap:wrap;\n",
              "      gap: 12px;\n",
              "    }\n",
              "\n",
              "    .colab-df-convert {\n",
              "      background-color: #E8F0FE;\n",
              "      border: none;\n",
              "      border-radius: 50%;\n",
              "      cursor: pointer;\n",
              "      display: none;\n",
              "      fill: #1967D2;\n",
              "      height: 32px;\n",
              "      padding: 0 0 0 0;\n",
              "      width: 32px;\n",
              "    }\n",
              "\n",
              "    .colab-df-convert:hover {\n",
              "      background-color: #E2EBFA;\n",
              "      box-shadow: 0px 1px 2px rgba(60, 64, 67, 0.3), 0px 1px 3px 1px rgba(60, 64, 67, 0.15);\n",
              "      fill: #174EA6;\n",
              "    }\n",
              "\n",
              "    [theme=dark] .colab-df-convert {\n",
              "      background-color: #3B4455;\n",
              "      fill: #D2E3FC;\n",
              "    }\n",
              "\n",
              "    [theme=dark] .colab-df-convert:hover {\n",
              "      background-color: #434B5C;\n",
              "      box-shadow: 0px 1px 3px 1px rgba(0, 0, 0, 0.15);\n",
              "      filter: drop-shadow(0px 1px 2px rgba(0, 0, 0, 0.3));\n",
              "      fill: #FFFFFF;\n",
              "    }\n",
              "  </style>\n",
              "\n",
              "      <script>\n",
              "        const buttonEl =\n",
              "          document.querySelector('#df-02af8af5-4bf2-4cab-8986-7a54d2a08298 button.colab-df-convert');\n",
              "        buttonEl.style.display =\n",
              "          google.colab.kernel.accessAllowed ? 'block' : 'none';\n",
              "\n",
              "        async function convertToInteractive(key) {\n",
              "          const element = document.querySelector('#df-02af8af5-4bf2-4cab-8986-7a54d2a08298');\n",
              "          const dataTable =\n",
              "            await google.colab.kernel.invokeFunction('convertToInteractive',\n",
              "                                                     [key], {});\n",
              "          if (!dataTable) return;\n",
              "\n",
              "          const docLinkHtml = 'Like what you see? Visit the ' +\n",
              "            '<a target=\"_blank\" href=https://colab.research.google.com/notebooks/data_table.ipynb>data table notebook</a>'\n",
              "            + ' to learn more about interactive tables.';\n",
              "          element.innerHTML = '';\n",
              "          dataTable['output_type'] = 'display_data';\n",
              "          await google.colab.output.renderOutput(dataTable, element);\n",
              "          const docLink = document.createElement('div');\n",
              "          docLink.innerHTML = docLinkHtml;\n",
              "          element.appendChild(docLink);\n",
              "        }\n",
              "      </script>\n",
              "    </div>\n",
              "  </div>\n",
              "  "
            ]
          },
          "metadata": {},
          "execution_count": 47
        }
      ]
    },
    {
      "cell_type": "code",
      "source": [
        "mtl_df.dtypes"
      ],
      "metadata": {
        "colab": {
          "base_uri": "https://localhost:8080/"
        },
        "id": "YQxr1HRM6JSx",
        "outputId": "7c1f59f0-730f-469d-acf0-17b613f7cba2"
      },
      "execution_count": null,
      "outputs": [
        {
          "output_type": "execute_result",
          "data": {
            "text/plain": [
              "DF_FLAG                     int64\n",
              "PACKET_NO                   int64\n",
              "TLS_VERSION                object\n",
              "SRC_IP                     object\n",
              "TLS_CIPHER_SUITES          object\n",
              "SUB_PROTOCOL               object\n",
              "TLS_EXTENSION_SIG_ALGS     object\n",
              "DST_IP                     object\n",
              "TTL                         int64\n",
              "MF_FLAG                     int64\n",
              "PACKET_SIZE                 int64\n",
              "TIMESTAMP                 float64\n",
              "IP_FRAG_OFF                 int64\n",
              "KNOWN_HOST_DEVICE          object\n",
              "dtype: object"
            ]
          },
          "metadata": {},
          "execution_count": 31
        }
      ]
    },
    {
      "cell_type": "code",
      "source": [
        "mtl_df['TLS_CIPHER_SUITES'].isna().sum()\n"
      ],
      "metadata": {
        "colab": {
          "base_uri": "https://localhost:8080/"
        },
        "id": "CurxBoRp5SeY",
        "outputId": "bbca6e67-c8ed-4f22-e89a-c524c9f499c7"
      },
      "execution_count": null,
      "outputs": [
        {
          "output_type": "execute_result",
          "data": {
            "text/plain": [
              "7774"
            ]
          },
          "metadata": {},
          "execution_count": 10
        }
      ]
    },
    {
      "cell_type": "code",
      "source": [
        "mtl_df['TLS_EXTENSION_SIG_ALGS'].isna().sum()"
      ],
      "metadata": {
        "colab": {
          "base_uri": "https://localhost:8080/"
        },
        "id": "93uZKQxq55FI",
        "outputId": "bca9e362-eaf8-40ed-8558-8cc7109d3b0b"
      },
      "execution_count": null,
      "outputs": [
        {
          "output_type": "execute_result",
          "data": {
            "text/plain": [
              "7774"
            ]
          },
          "metadata": {},
          "execution_count": 12
        }
      ]
    },
    {
      "cell_type": "code",
      "source": [
        "mtl_df.shape[0]"
      ],
      "metadata": {
        "colab": {
          "base_uri": "https://localhost:8080/"
        },
        "id": "Y319lNX750Xd",
        "outputId": "35842ec5-6dac-47e8-ee48-0ed013dd0042"
      },
      "execution_count": null,
      "outputs": [
        {
          "output_type": "execute_result",
          "data": {
            "text/plain": [
              "7810"
            ]
          },
          "metadata": {},
          "execution_count": 11
        }
      ]
    },
    {
      "cell_type": "code",
      "source": [
        "wtl_df.dtypes"
      ],
      "metadata": {
        "colab": {
          "base_uri": "https://localhost:8080/"
        },
        "id": "IsGDsmRh65IO",
        "outputId": "69eaa194-5e66-4d19-c4cb-c0058970268c"
      },
      "execution_count": null,
      "outputs": [
        {
          "output_type": "execute_result",
          "data": {
            "text/plain": [
              "MF_FLAG                     int64\n",
              "PACKET_SIZE                 int64\n",
              "TLS_VERSION                object\n",
              "PACKET_NO                   int64\n",
              "DF_FLAG                     int64\n",
              "KNOWN_HOST_DEVICE          object\n",
              "SUB_PROTOCOL               object\n",
              "TLS_EXTENSION_SIG_ALGS     object\n",
              "TTL                         int64\n",
              "IP_FRAG_OFF                 int64\n",
              "TIMESTAMP                 float64\n",
              "TLS_CIPHER_SUITES          object\n",
              "SRC_IP                     object\n",
              "DST_IP                     object\n",
              "dtype: object"
            ]
          },
          "metadata": {},
          "execution_count": 14
        }
      ]
    },
    {
      "cell_type": "code",
      "source": [
        "wtl_df.shape[0]"
      ],
      "metadata": {
        "colab": {
          "base_uri": "https://localhost:8080/"
        },
        "id": "gL9xZr3V7eiK",
        "outputId": "75ead33f-2bd2-4ecc-99b7-eebb030fc45c"
      },
      "execution_count": null,
      "outputs": [
        {
          "output_type": "execute_result",
          "data": {
            "text/plain": [
              "23713"
            ]
          },
          "metadata": {},
          "execution_count": 15
        }
      ]
    },
    {
      "cell_type": "code",
      "source": [
        "wtl_df['TLS_EXTENSION_SIG_ALGS'].isna().sum()"
      ],
      "metadata": {
        "colab": {
          "base_uri": "https://localhost:8080/"
        },
        "id": "I1MaWbQe7mxD",
        "outputId": "0ca0fbb7-7409-46e7-db2f-28de552a16b6"
      },
      "execution_count": null,
      "outputs": [
        {
          "output_type": "execute_result",
          "data": {
            "text/plain": [
              "23589"
            ]
          },
          "metadata": {},
          "execution_count": 17
        }
      ]
    },
    {
      "cell_type": "code",
      "source": [
        "ltl_df.dtypes"
      ],
      "metadata": {
        "colab": {
          "base_uri": "https://localhost:8080/"
        },
        "id": "YZMrojFx7x_v",
        "outputId": "3a9a462a-cc56-40ec-faaa-048d02d663a6"
      },
      "execution_count": null,
      "outputs": [
        {
          "output_type": "execute_result",
          "data": {
            "text/plain": [
              "SRC_IP                object\n",
              "MF_FLAG                int64\n",
              "DF_FLAG                int64\n",
              "PACKET_NO              int64\n",
              "KNOWN_HOST_DEVICE     object\n",
              "PACKET_SIZE            int64\n",
              "TIMESTAMP            float64\n",
              "TTL                    int64\n",
              "DST_IP                object\n",
              "IP_FRAG_OFF            int64\n",
              "dtype: object"
            ]
          },
          "metadata": {},
          "execution_count": 19
        }
      ]
    },
    {
      "cell_type": "code",
      "source": [
        "wtl_df['TLS_CIPHER_SUITES'].isna().sum()\n"
      ],
      "metadata": {
        "colab": {
          "base_uri": "https://localhost:8080/"
        },
        "id": "zaTK31Lx7svD",
        "outputId": "874afbbf-9c79-41ed-f679-17b0a313f55e"
      },
      "execution_count": null,
      "outputs": [
        {
          "output_type": "execute_result",
          "data": {
            "text/plain": [
              "23589"
            ]
          },
          "metadata": {},
          "execution_count": 18
        }
      ]
    },
    {
      "cell_type": "code",
      "source": [
        "#mtl_df[\"TLS_CIPHER_SUITES\"] = mtl_df[\"TLS_CIPHER_SUITES\"].astype('category')\n",
        "#mtl_df[\"TLS_EXTENSION_SIG_ALGS\"] = mtl_df[\"TLS_EXTENSION_SIG_ALGS\"].astype('category')\n",
        "#wtl_df[\"TLS_CIPHER_SUITES\"] = wtl_df[\"TLS_CIPHER_SUITES\"].astype('category')\n",
        "#wtl_df[\"TLS_EXTENSION_SIG_ALGS\"] = wtl_df[\"TLS_EXTENSION_SIG_ALGS\"].astype('category')\n"
      ],
      "metadata": {
        "id": "Gm6GPw2h_Sfr"
      },
      "execution_count": null,
      "outputs": []
    },
    {
      "cell_type": "code",
      "source": [
        "#mtl_df[\"TLS_CIPHER_SUITES\"] = mtl_df[\"TLS_CIPHER_SUITES\"].cat.codes\n",
        "#mtl_df[\"TLS_EXTENSION_SIG_ALGS\"] = mtl_df[\"TLS_EXTENSION_SIG_ALGS\"].cat.codes\n",
        "#wtl_df[\"TLS_CIPHER_SUITES\"] = wtl_df[\"TLS_CIPHER_SUITES\"].cat.codes\n",
        "#wtl_df[\"TLS_EXTENSION_SIG_ALGS\"] = wtl_df[\"TLS_EXTENSION_SIG_ALGS\"].cat.codes\n",
        "\n"
      ],
      "metadata": {
        "id": "Pf-_R1f360Cx"
      },
      "execution_count": null,
      "outputs": []
    },
    {
      "cell_type": "code",
      "source": [
        "ltl_df['OS'] = 1\n",
        "mtl_df['OS'] = 2\n",
        "wtl_df['OS'] = 3\n"
      ],
      "metadata": {
        "id": "a51snZzx_6us"
      },
      "execution_count": null,
      "outputs": []
    },
    {
      "cell_type": "code",
      "source": [
        "tls_df = pd.concat([ltl_df, mtl_df, wtl_df], axis=0)\n"
      ],
      "metadata": {
        "id": "4RtHCX8m_o9Z"
      },
      "execution_count": null,
      "outputs": []
    },
    {
      "cell_type": "code",
      "source": [
        "tls_df.head()"
      ],
      "metadata": {
        "colab": {
          "base_uri": "https://localhost:8080/",
          "height": 270
        },
        "id": "J90F6QtcASe1",
        "outputId": "5517b42c-732c-488c-e4fd-5e26a8cf3ce4"
      },
      "execution_count": null,
      "outputs": [
        {
          "output_type": "execute_result",
          "data": {
            "text/plain": [
              "          SRC_IP  MF_FLAG  DF_FLAG  PACKET_NO KNOWN_HOST_DEVICE  PACKET_SIZE  \\\n",
              "0  172.16.16.128        0        0          1             Linux           20   \n",
              "1  172.16.16.128        0        0          2             Linux           20   \n",
              "2    172.16.16.2        0        1          3             Linux           20   \n",
              "3  172.16.16.128        0        1          4             Linux           20   \n",
              "4  172.16.16.128        0        0          6             Linux           20   \n",
              "\n",
              "      TIMESTAMP  TTL           DST_IP  IP_FRAG_OFF  OS TLS_VERSION  \\\n",
              "0  1.258920e+09  128    172.16.16.255            0   1         NaN   \n",
              "1  1.258920e+09    1  239.255.255.250            0   1         NaN   \n",
              "2  1.258920e+09   64    172.16.16.128            0   1         NaN   \n",
              "3  1.258920e+09    4       224.0.1.60            0   1         NaN   \n",
              "4  1.258920e+09    1      224.0.0.252            0   1         NaN   \n",
              "\n",
              "  TLS_CIPHER_SUITES SUB_PROTOCOL TLS_EXTENSION_SIG_ALGS  \n",
              "0               NaN          NaN                    NaN  \n",
              "1               NaN          NaN                    NaN  \n",
              "2               NaN          NaN                    NaN  \n",
              "3               NaN          NaN                    NaN  \n",
              "4               NaN          NaN                    NaN  "
            ],
            "text/html": [
              "\n",
              "  <div id=\"df-4d33c6f7-21b8-46b2-8828-3460f336a5bd\">\n",
              "    <div class=\"colab-df-container\">\n",
              "      <div>\n",
              "<style scoped>\n",
              "    .dataframe tbody tr th:only-of-type {\n",
              "        vertical-align: middle;\n",
              "    }\n",
              "\n",
              "    .dataframe tbody tr th {\n",
              "        vertical-align: top;\n",
              "    }\n",
              "\n",
              "    .dataframe thead th {\n",
              "        text-align: right;\n",
              "    }\n",
              "</style>\n",
              "<table border=\"1\" class=\"dataframe\">\n",
              "  <thead>\n",
              "    <tr style=\"text-align: right;\">\n",
              "      <th></th>\n",
              "      <th>SRC_IP</th>\n",
              "      <th>MF_FLAG</th>\n",
              "      <th>DF_FLAG</th>\n",
              "      <th>PACKET_NO</th>\n",
              "      <th>KNOWN_HOST_DEVICE</th>\n",
              "      <th>PACKET_SIZE</th>\n",
              "      <th>TIMESTAMP</th>\n",
              "      <th>TTL</th>\n",
              "      <th>DST_IP</th>\n",
              "      <th>IP_FRAG_OFF</th>\n",
              "      <th>OS</th>\n",
              "      <th>TLS_VERSION</th>\n",
              "      <th>TLS_CIPHER_SUITES</th>\n",
              "      <th>SUB_PROTOCOL</th>\n",
              "      <th>TLS_EXTENSION_SIG_ALGS</th>\n",
              "    </tr>\n",
              "  </thead>\n",
              "  <tbody>\n",
              "    <tr>\n",
              "      <th>0</th>\n",
              "      <td>172.16.16.128</td>\n",
              "      <td>0</td>\n",
              "      <td>0</td>\n",
              "      <td>1</td>\n",
              "      <td>Linux</td>\n",
              "      <td>20</td>\n",
              "      <td>1.258920e+09</td>\n",
              "      <td>128</td>\n",
              "      <td>172.16.16.255</td>\n",
              "      <td>0</td>\n",
              "      <td>1</td>\n",
              "      <td>NaN</td>\n",
              "      <td>NaN</td>\n",
              "      <td>NaN</td>\n",
              "      <td>NaN</td>\n",
              "    </tr>\n",
              "    <tr>\n",
              "      <th>1</th>\n",
              "      <td>172.16.16.128</td>\n",
              "      <td>0</td>\n",
              "      <td>0</td>\n",
              "      <td>2</td>\n",
              "      <td>Linux</td>\n",
              "      <td>20</td>\n",
              "      <td>1.258920e+09</td>\n",
              "      <td>1</td>\n",
              "      <td>239.255.255.250</td>\n",
              "      <td>0</td>\n",
              "      <td>1</td>\n",
              "      <td>NaN</td>\n",
              "      <td>NaN</td>\n",
              "      <td>NaN</td>\n",
              "      <td>NaN</td>\n",
              "    </tr>\n",
              "    <tr>\n",
              "      <th>2</th>\n",
              "      <td>172.16.16.2</td>\n",
              "      <td>0</td>\n",
              "      <td>1</td>\n",
              "      <td>3</td>\n",
              "      <td>Linux</td>\n",
              "      <td>20</td>\n",
              "      <td>1.258920e+09</td>\n",
              "      <td>64</td>\n",
              "      <td>172.16.16.128</td>\n",
              "      <td>0</td>\n",
              "      <td>1</td>\n",
              "      <td>NaN</td>\n",
              "      <td>NaN</td>\n",
              "      <td>NaN</td>\n",
              "      <td>NaN</td>\n",
              "    </tr>\n",
              "    <tr>\n",
              "      <th>3</th>\n",
              "      <td>172.16.16.128</td>\n",
              "      <td>0</td>\n",
              "      <td>1</td>\n",
              "      <td>4</td>\n",
              "      <td>Linux</td>\n",
              "      <td>20</td>\n",
              "      <td>1.258920e+09</td>\n",
              "      <td>4</td>\n",
              "      <td>224.0.1.60</td>\n",
              "      <td>0</td>\n",
              "      <td>1</td>\n",
              "      <td>NaN</td>\n",
              "      <td>NaN</td>\n",
              "      <td>NaN</td>\n",
              "      <td>NaN</td>\n",
              "    </tr>\n",
              "    <tr>\n",
              "      <th>4</th>\n",
              "      <td>172.16.16.128</td>\n",
              "      <td>0</td>\n",
              "      <td>0</td>\n",
              "      <td>6</td>\n",
              "      <td>Linux</td>\n",
              "      <td>20</td>\n",
              "      <td>1.258920e+09</td>\n",
              "      <td>1</td>\n",
              "      <td>224.0.0.252</td>\n",
              "      <td>0</td>\n",
              "      <td>1</td>\n",
              "      <td>NaN</td>\n",
              "      <td>NaN</td>\n",
              "      <td>NaN</td>\n",
              "      <td>NaN</td>\n",
              "    </tr>\n",
              "  </tbody>\n",
              "</table>\n",
              "</div>\n",
              "      <button class=\"colab-df-convert\" onclick=\"convertToInteractive('df-4d33c6f7-21b8-46b2-8828-3460f336a5bd')\"\n",
              "              title=\"Convert this dataframe to an interactive table.\"\n",
              "              style=\"display:none;\">\n",
              "        \n",
              "  <svg xmlns=\"http://www.w3.org/2000/svg\" height=\"24px\"viewBox=\"0 0 24 24\"\n",
              "       width=\"24px\">\n",
              "    <path d=\"M0 0h24v24H0V0z\" fill=\"none\"/>\n",
              "    <path d=\"M18.56 5.44l.94 2.06.94-2.06 2.06-.94-2.06-.94-.94-2.06-.94 2.06-2.06.94zm-11 1L8.5 8.5l.94-2.06 2.06-.94-2.06-.94L8.5 2.5l-.94 2.06-2.06.94zm10 10l.94 2.06.94-2.06 2.06-.94-2.06-.94-.94-2.06-.94 2.06-2.06.94z\"/><path d=\"M17.41 7.96l-1.37-1.37c-.4-.4-.92-.59-1.43-.59-.52 0-1.04.2-1.43.59L10.3 9.45l-7.72 7.72c-.78.78-.78 2.05 0 2.83L4 21.41c.39.39.9.59 1.41.59.51 0 1.02-.2 1.41-.59l7.78-7.78 2.81-2.81c.8-.78.8-2.07 0-2.86zM5.41 20L4 18.59l7.72-7.72 1.47 1.35L5.41 20z\"/>\n",
              "  </svg>\n",
              "      </button>\n",
              "      \n",
              "  <style>\n",
              "    .colab-df-container {\n",
              "      display:flex;\n",
              "      flex-wrap:wrap;\n",
              "      gap: 12px;\n",
              "    }\n",
              "\n",
              "    .colab-df-convert {\n",
              "      background-color: #E8F0FE;\n",
              "      border: none;\n",
              "      border-radius: 50%;\n",
              "      cursor: pointer;\n",
              "      display: none;\n",
              "      fill: #1967D2;\n",
              "      height: 32px;\n",
              "      padding: 0 0 0 0;\n",
              "      width: 32px;\n",
              "    }\n",
              "\n",
              "    .colab-df-convert:hover {\n",
              "      background-color: #E2EBFA;\n",
              "      box-shadow: 0px 1px 2px rgba(60, 64, 67, 0.3), 0px 1px 3px 1px rgba(60, 64, 67, 0.15);\n",
              "      fill: #174EA6;\n",
              "    }\n",
              "\n",
              "    [theme=dark] .colab-df-convert {\n",
              "      background-color: #3B4455;\n",
              "      fill: #D2E3FC;\n",
              "    }\n",
              "\n",
              "    [theme=dark] .colab-df-convert:hover {\n",
              "      background-color: #434B5C;\n",
              "      box-shadow: 0px 1px 3px 1px rgba(0, 0, 0, 0.15);\n",
              "      filter: drop-shadow(0px 1px 2px rgba(0, 0, 0, 0.3));\n",
              "      fill: #FFFFFF;\n",
              "    }\n",
              "  </style>\n",
              "\n",
              "      <script>\n",
              "        const buttonEl =\n",
              "          document.querySelector('#df-4d33c6f7-21b8-46b2-8828-3460f336a5bd button.colab-df-convert');\n",
              "        buttonEl.style.display =\n",
              "          google.colab.kernel.accessAllowed ? 'block' : 'none';\n",
              "\n",
              "        async function convertToInteractive(key) {\n",
              "          const element = document.querySelector('#df-4d33c6f7-21b8-46b2-8828-3460f336a5bd');\n",
              "          const dataTable =\n",
              "            await google.colab.kernel.invokeFunction('convertToInteractive',\n",
              "                                                     [key], {});\n",
              "          if (!dataTable) return;\n",
              "\n",
              "          const docLinkHtml = 'Like what you see? Visit the ' +\n",
              "            '<a target=\"_blank\" href=https://colab.research.google.com/notebooks/data_table.ipynb>data table notebook</a>'\n",
              "            + ' to learn more about interactive tables.';\n",
              "          element.innerHTML = '';\n",
              "          dataTable['output_type'] = 'display_data';\n",
              "          await google.colab.output.renderOutput(dataTable, element);\n",
              "          const docLink = document.createElement('div');\n",
              "          docLink.innerHTML = docLinkHtml;\n",
              "          element.appendChild(docLink);\n",
              "        }\n",
              "      </script>\n",
              "    </div>\n",
              "  </div>\n",
              "  "
            ]
          },
          "metadata": {},
          "execution_count": 66
        }
      ]
    },
    {
      "cell_type": "code",
      "source": [
        "tls_df[\"TLS_CIPHER_SUITES\"] = tls_df[\"TLS_CIPHER_SUITES\"].astype('category')\n",
        "tls_df[\"TLS_EXTENSION_SIG_ALGS\"] = tls_df[\"TLS_EXTENSION_SIG_ALGS\"].astype('category')\n",
        "\n"
      ],
      "metadata": {
        "id": "9FLAEBAfAmS4"
      },
      "execution_count": null,
      "outputs": []
    },
    {
      "cell_type": "code",
      "source": [
        "tls_df[\"TLS_CIPHER_SUITES\"] = tls_df[\"TLS_CIPHER_SUITES\"].cat.codes\n",
        "tls_df[\"TLS_EXTENSION_SIG_ALGS\"] = tls_df[\"TLS_EXTENSION_SIG_ALGS\"].cat.codes"
      ],
      "metadata": {
        "id": "bK8XJARLAxoy"
      },
      "execution_count": null,
      "outputs": []
    },
    {
      "cell_type": "code",
      "source": [
        "tls_df.dtypes"
      ],
      "metadata": {
        "colab": {
          "base_uri": "https://localhost:8080/"
        },
        "id": "vG-Psn_tAaUJ",
        "outputId": "8a887843-67c3-4e1e-cd8e-4b569e72c716"
      },
      "execution_count": null,
      "outputs": [
        {
          "output_type": "execute_result",
          "data": {
            "text/plain": [
              "SRC_IP                     object\n",
              "MF_FLAG                     int64\n",
              "DF_FLAG                     int64\n",
              "PACKET_NO                   int64\n",
              "KNOWN_HOST_DEVICE          object\n",
              "PACKET_SIZE                 int64\n",
              "TIMESTAMP                 float64\n",
              "TTL                         int64\n",
              "DST_IP                     object\n",
              "IP_FRAG_OFF                 int64\n",
              "OS                          int64\n",
              "TLS_VERSION                object\n",
              "TLS_CIPHER_SUITES            int8\n",
              "SUB_PROTOCOL               object\n",
              "TLS_EXTENSION_SIG_ALGS       int8\n",
              "dtype: object"
            ]
          },
          "metadata": {},
          "execution_count": 53
        }
      ]
    },
    {
      "cell_type": "code",
      "source": [
        "tls_df.head()"
      ],
      "metadata": {
        "colab": {
          "base_uri": "https://localhost:8080/",
          "height": 270
        },
        "id": "z7G-e39jBZ_t",
        "outputId": "eed99085-b478-4395-dc1f-4fd77d365938"
      },
      "execution_count": null,
      "outputs": [
        {
          "output_type": "execute_result",
          "data": {
            "text/plain": [
              "          SRC_IP  MF_FLAG  DF_FLAG  PACKET_NO KNOWN_HOST_DEVICE  PACKET_SIZE  \\\n",
              "0  172.16.16.128        0        0          1             Linux           20   \n",
              "1  172.16.16.128        0        0          2             Linux           20   \n",
              "2    172.16.16.2        0        1          3             Linux           20   \n",
              "3  172.16.16.128        0        1          4             Linux           20   \n",
              "4  172.16.16.128        0        0          6             Linux           20   \n",
              "\n",
              "      TIMESTAMP  TTL           DST_IP  IP_FRAG_OFF  OS TLS_VERSION  \\\n",
              "0  1.258920e+09  128    172.16.16.255            0   1         NaN   \n",
              "1  1.258920e+09    1  239.255.255.250            0   1         NaN   \n",
              "2  1.258920e+09   64    172.16.16.128            0   1         NaN   \n",
              "3  1.258920e+09    4       224.0.1.60            0   1         NaN   \n",
              "4  1.258920e+09    1      224.0.0.252            0   1         NaN   \n",
              "\n",
              "   TLS_CIPHER_SUITES SUB_PROTOCOL  TLS_EXTENSION_SIG_ALGS  \n",
              "0                 -1          NaN                      -1  \n",
              "1                 -1          NaN                      -1  \n",
              "2                 -1          NaN                      -1  \n",
              "3                 -1          NaN                      -1  \n",
              "4                 -1          NaN                      -1  "
            ],
            "text/html": [
              "\n",
              "  <div id=\"df-e4389c8a-9514-4464-b5f7-3d1c41b03060\">\n",
              "    <div class=\"colab-df-container\">\n",
              "      <div>\n",
              "<style scoped>\n",
              "    .dataframe tbody tr th:only-of-type {\n",
              "        vertical-align: middle;\n",
              "    }\n",
              "\n",
              "    .dataframe tbody tr th {\n",
              "        vertical-align: top;\n",
              "    }\n",
              "\n",
              "    .dataframe thead th {\n",
              "        text-align: right;\n",
              "    }\n",
              "</style>\n",
              "<table border=\"1\" class=\"dataframe\">\n",
              "  <thead>\n",
              "    <tr style=\"text-align: right;\">\n",
              "      <th></th>\n",
              "      <th>SRC_IP</th>\n",
              "      <th>MF_FLAG</th>\n",
              "      <th>DF_FLAG</th>\n",
              "      <th>PACKET_NO</th>\n",
              "      <th>KNOWN_HOST_DEVICE</th>\n",
              "      <th>PACKET_SIZE</th>\n",
              "      <th>TIMESTAMP</th>\n",
              "      <th>TTL</th>\n",
              "      <th>DST_IP</th>\n",
              "      <th>IP_FRAG_OFF</th>\n",
              "      <th>OS</th>\n",
              "      <th>TLS_VERSION</th>\n",
              "      <th>TLS_CIPHER_SUITES</th>\n",
              "      <th>SUB_PROTOCOL</th>\n",
              "      <th>TLS_EXTENSION_SIG_ALGS</th>\n",
              "    </tr>\n",
              "  </thead>\n",
              "  <tbody>\n",
              "    <tr>\n",
              "      <th>0</th>\n",
              "      <td>172.16.16.128</td>\n",
              "      <td>0</td>\n",
              "      <td>0</td>\n",
              "      <td>1</td>\n",
              "      <td>Linux</td>\n",
              "      <td>20</td>\n",
              "      <td>1.258920e+09</td>\n",
              "      <td>128</td>\n",
              "      <td>172.16.16.255</td>\n",
              "      <td>0</td>\n",
              "      <td>1</td>\n",
              "      <td>NaN</td>\n",
              "      <td>-1</td>\n",
              "      <td>NaN</td>\n",
              "      <td>-1</td>\n",
              "    </tr>\n",
              "    <tr>\n",
              "      <th>1</th>\n",
              "      <td>172.16.16.128</td>\n",
              "      <td>0</td>\n",
              "      <td>0</td>\n",
              "      <td>2</td>\n",
              "      <td>Linux</td>\n",
              "      <td>20</td>\n",
              "      <td>1.258920e+09</td>\n",
              "      <td>1</td>\n",
              "      <td>239.255.255.250</td>\n",
              "      <td>0</td>\n",
              "      <td>1</td>\n",
              "      <td>NaN</td>\n",
              "      <td>-1</td>\n",
              "      <td>NaN</td>\n",
              "      <td>-1</td>\n",
              "    </tr>\n",
              "    <tr>\n",
              "      <th>2</th>\n",
              "      <td>172.16.16.2</td>\n",
              "      <td>0</td>\n",
              "      <td>1</td>\n",
              "      <td>3</td>\n",
              "      <td>Linux</td>\n",
              "      <td>20</td>\n",
              "      <td>1.258920e+09</td>\n",
              "      <td>64</td>\n",
              "      <td>172.16.16.128</td>\n",
              "      <td>0</td>\n",
              "      <td>1</td>\n",
              "      <td>NaN</td>\n",
              "      <td>-1</td>\n",
              "      <td>NaN</td>\n",
              "      <td>-1</td>\n",
              "    </tr>\n",
              "    <tr>\n",
              "      <th>3</th>\n",
              "      <td>172.16.16.128</td>\n",
              "      <td>0</td>\n",
              "      <td>1</td>\n",
              "      <td>4</td>\n",
              "      <td>Linux</td>\n",
              "      <td>20</td>\n",
              "      <td>1.258920e+09</td>\n",
              "      <td>4</td>\n",
              "      <td>224.0.1.60</td>\n",
              "      <td>0</td>\n",
              "      <td>1</td>\n",
              "      <td>NaN</td>\n",
              "      <td>-1</td>\n",
              "      <td>NaN</td>\n",
              "      <td>-1</td>\n",
              "    </tr>\n",
              "    <tr>\n",
              "      <th>4</th>\n",
              "      <td>172.16.16.128</td>\n",
              "      <td>0</td>\n",
              "      <td>0</td>\n",
              "      <td>6</td>\n",
              "      <td>Linux</td>\n",
              "      <td>20</td>\n",
              "      <td>1.258920e+09</td>\n",
              "      <td>1</td>\n",
              "      <td>224.0.0.252</td>\n",
              "      <td>0</td>\n",
              "      <td>1</td>\n",
              "      <td>NaN</td>\n",
              "      <td>-1</td>\n",
              "      <td>NaN</td>\n",
              "      <td>-1</td>\n",
              "    </tr>\n",
              "  </tbody>\n",
              "</table>\n",
              "</div>\n",
              "      <button class=\"colab-df-convert\" onclick=\"convertToInteractive('df-e4389c8a-9514-4464-b5f7-3d1c41b03060')\"\n",
              "              title=\"Convert this dataframe to an interactive table.\"\n",
              "              style=\"display:none;\">\n",
              "        \n",
              "  <svg xmlns=\"http://www.w3.org/2000/svg\" height=\"24px\"viewBox=\"0 0 24 24\"\n",
              "       width=\"24px\">\n",
              "    <path d=\"M0 0h24v24H0V0z\" fill=\"none\"/>\n",
              "    <path d=\"M18.56 5.44l.94 2.06.94-2.06 2.06-.94-2.06-.94-.94-2.06-.94 2.06-2.06.94zm-11 1L8.5 8.5l.94-2.06 2.06-.94-2.06-.94L8.5 2.5l-.94 2.06-2.06.94zm10 10l.94 2.06.94-2.06 2.06-.94-2.06-.94-.94-2.06-.94 2.06-2.06.94z\"/><path d=\"M17.41 7.96l-1.37-1.37c-.4-.4-.92-.59-1.43-.59-.52 0-1.04.2-1.43.59L10.3 9.45l-7.72 7.72c-.78.78-.78 2.05 0 2.83L4 21.41c.39.39.9.59 1.41.59.51 0 1.02-.2 1.41-.59l7.78-7.78 2.81-2.81c.8-.78.8-2.07 0-2.86zM5.41 20L4 18.59l7.72-7.72 1.47 1.35L5.41 20z\"/>\n",
              "  </svg>\n",
              "      </button>\n",
              "      \n",
              "  <style>\n",
              "    .colab-df-container {\n",
              "      display:flex;\n",
              "      flex-wrap:wrap;\n",
              "      gap: 12px;\n",
              "    }\n",
              "\n",
              "    .colab-df-convert {\n",
              "      background-color: #E8F0FE;\n",
              "      border: none;\n",
              "      border-radius: 50%;\n",
              "      cursor: pointer;\n",
              "      display: none;\n",
              "      fill: #1967D2;\n",
              "      height: 32px;\n",
              "      padding: 0 0 0 0;\n",
              "      width: 32px;\n",
              "    }\n",
              "\n",
              "    .colab-df-convert:hover {\n",
              "      background-color: #E2EBFA;\n",
              "      box-shadow: 0px 1px 2px rgba(60, 64, 67, 0.3), 0px 1px 3px 1px rgba(60, 64, 67, 0.15);\n",
              "      fill: #174EA6;\n",
              "    }\n",
              "\n",
              "    [theme=dark] .colab-df-convert {\n",
              "      background-color: #3B4455;\n",
              "      fill: #D2E3FC;\n",
              "    }\n",
              "\n",
              "    [theme=dark] .colab-df-convert:hover {\n",
              "      background-color: #434B5C;\n",
              "      box-shadow: 0px 1px 3px 1px rgba(0, 0, 0, 0.15);\n",
              "      filter: drop-shadow(0px 1px 2px rgba(0, 0, 0, 0.3));\n",
              "      fill: #FFFFFF;\n",
              "    }\n",
              "  </style>\n",
              "\n",
              "      <script>\n",
              "        const buttonEl =\n",
              "          document.querySelector('#df-e4389c8a-9514-4464-b5f7-3d1c41b03060 button.colab-df-convert');\n",
              "        buttonEl.style.display =\n",
              "          google.colab.kernel.accessAllowed ? 'block' : 'none';\n",
              "\n",
              "        async function convertToInteractive(key) {\n",
              "          const element = document.querySelector('#df-e4389c8a-9514-4464-b5f7-3d1c41b03060');\n",
              "          const dataTable =\n",
              "            await google.colab.kernel.invokeFunction('convertToInteractive',\n",
              "                                                     [key], {});\n",
              "          if (!dataTable) return;\n",
              "\n",
              "          const docLinkHtml = 'Like what you see? Visit the ' +\n",
              "            '<a target=\"_blank\" href=https://colab.research.google.com/notebooks/data_table.ipynb>data table notebook</a>'\n",
              "            + ' to learn more about interactive tables.';\n",
              "          element.innerHTML = '';\n",
              "          dataTable['output_type'] = 'display_data';\n",
              "          await google.colab.output.renderOutput(dataTable, element);\n",
              "          const docLink = document.createElement('div');\n",
              "          docLink.innerHTML = docLinkHtml;\n",
              "          element.appendChild(docLink);\n",
              "        }\n",
              "      </script>\n",
              "    </div>\n",
              "  </div>\n",
              "  "
            ]
          },
          "metadata": {},
          "execution_count": 69
        }
      ]
    },
    {
      "cell_type": "code",
      "source": [
        "# Dropping TLS Columns\n",
        "tls_df.drop(['TIMESTAMP', 'DST_IP', 'KNOWN_HOST_DEVICE', 'TLS_VERSION', 'SUB_PROTOCOL'], axis=1, inplace=True)"
      ],
      "metadata": {
        "id": "3s4EjASrCEmI"
      },
      "execution_count": null,
      "outputs": []
    },
    {
      "cell_type": "code",
      "source": [
        "tls_df.head()"
      ],
      "metadata": {
        "colab": {
          "base_uri": "https://localhost:8080/",
          "height": 270
        },
        "id": "7HVzlsypDzzf",
        "outputId": "46921255-3170-4867-a6e8-1d381dda5d79"
      },
      "execution_count": null,
      "outputs": [
        {
          "output_type": "execute_result",
          "data": {
            "text/plain": [
              "          SRC_IP  MF_FLAG  DF_FLAG  PACKET_NO  PACKET_SIZE  TTL  IP_FRAG_OFF  \\\n",
              "0  172.16.16.128        0        0          1           20  128            0   \n",
              "1  172.16.16.128        0        0          2           20    1            0   \n",
              "2    172.16.16.2        0        1          3           20   64            0   \n",
              "3  172.16.16.128        0        1          4           20    4            0   \n",
              "4  172.16.16.128        0        0          6           20    1            0   \n",
              "\n",
              "   OS  TLS_CIPHER_SUITES  TLS_EXTENSION_SIG_ALGS  \n",
              "0   1                 -1                      -1  \n",
              "1   1                 -1                      -1  \n",
              "2   1                 -1                      -1  \n",
              "3   1                 -1                      -1  \n",
              "4   1                 -1                      -1  "
            ],
            "text/html": [
              "\n",
              "  <div id=\"df-6f7c1766-50bd-43c3-977d-55ff14a9b7cf\">\n",
              "    <div class=\"colab-df-container\">\n",
              "      <div>\n",
              "<style scoped>\n",
              "    .dataframe tbody tr th:only-of-type {\n",
              "        vertical-align: middle;\n",
              "    }\n",
              "\n",
              "    .dataframe tbody tr th {\n",
              "        vertical-align: top;\n",
              "    }\n",
              "\n",
              "    .dataframe thead th {\n",
              "        text-align: right;\n",
              "    }\n",
              "</style>\n",
              "<table border=\"1\" class=\"dataframe\">\n",
              "  <thead>\n",
              "    <tr style=\"text-align: right;\">\n",
              "      <th></th>\n",
              "      <th>SRC_IP</th>\n",
              "      <th>MF_FLAG</th>\n",
              "      <th>DF_FLAG</th>\n",
              "      <th>PACKET_NO</th>\n",
              "      <th>PACKET_SIZE</th>\n",
              "      <th>TTL</th>\n",
              "      <th>IP_FRAG_OFF</th>\n",
              "      <th>OS</th>\n",
              "      <th>TLS_CIPHER_SUITES</th>\n",
              "      <th>TLS_EXTENSION_SIG_ALGS</th>\n",
              "    </tr>\n",
              "  </thead>\n",
              "  <tbody>\n",
              "    <tr>\n",
              "      <th>0</th>\n",
              "      <td>172.16.16.128</td>\n",
              "      <td>0</td>\n",
              "      <td>0</td>\n",
              "      <td>1</td>\n",
              "      <td>20</td>\n",
              "      <td>128</td>\n",
              "      <td>0</td>\n",
              "      <td>1</td>\n",
              "      <td>-1</td>\n",
              "      <td>-1</td>\n",
              "    </tr>\n",
              "    <tr>\n",
              "      <th>1</th>\n",
              "      <td>172.16.16.128</td>\n",
              "      <td>0</td>\n",
              "      <td>0</td>\n",
              "      <td>2</td>\n",
              "      <td>20</td>\n",
              "      <td>1</td>\n",
              "      <td>0</td>\n",
              "      <td>1</td>\n",
              "      <td>-1</td>\n",
              "      <td>-1</td>\n",
              "    </tr>\n",
              "    <tr>\n",
              "      <th>2</th>\n",
              "      <td>172.16.16.2</td>\n",
              "      <td>0</td>\n",
              "      <td>1</td>\n",
              "      <td>3</td>\n",
              "      <td>20</td>\n",
              "      <td>64</td>\n",
              "      <td>0</td>\n",
              "      <td>1</td>\n",
              "      <td>-1</td>\n",
              "      <td>-1</td>\n",
              "    </tr>\n",
              "    <tr>\n",
              "      <th>3</th>\n",
              "      <td>172.16.16.128</td>\n",
              "      <td>0</td>\n",
              "      <td>1</td>\n",
              "      <td>4</td>\n",
              "      <td>20</td>\n",
              "      <td>4</td>\n",
              "      <td>0</td>\n",
              "      <td>1</td>\n",
              "      <td>-1</td>\n",
              "      <td>-1</td>\n",
              "    </tr>\n",
              "    <tr>\n",
              "      <th>4</th>\n",
              "      <td>172.16.16.128</td>\n",
              "      <td>0</td>\n",
              "      <td>0</td>\n",
              "      <td>6</td>\n",
              "      <td>20</td>\n",
              "      <td>1</td>\n",
              "      <td>0</td>\n",
              "      <td>1</td>\n",
              "      <td>-1</td>\n",
              "      <td>-1</td>\n",
              "    </tr>\n",
              "  </tbody>\n",
              "</table>\n",
              "</div>\n",
              "      <button class=\"colab-df-convert\" onclick=\"convertToInteractive('df-6f7c1766-50bd-43c3-977d-55ff14a9b7cf')\"\n",
              "              title=\"Convert this dataframe to an interactive table.\"\n",
              "              style=\"display:none;\">\n",
              "        \n",
              "  <svg xmlns=\"http://www.w3.org/2000/svg\" height=\"24px\"viewBox=\"0 0 24 24\"\n",
              "       width=\"24px\">\n",
              "    <path d=\"M0 0h24v24H0V0z\" fill=\"none\"/>\n",
              "    <path d=\"M18.56 5.44l.94 2.06.94-2.06 2.06-.94-2.06-.94-.94-2.06-.94 2.06-2.06.94zm-11 1L8.5 8.5l.94-2.06 2.06-.94-2.06-.94L8.5 2.5l-.94 2.06-2.06.94zm10 10l.94 2.06.94-2.06 2.06-.94-2.06-.94-.94-2.06-.94 2.06-2.06.94z\"/><path d=\"M17.41 7.96l-1.37-1.37c-.4-.4-.92-.59-1.43-.59-.52 0-1.04.2-1.43.59L10.3 9.45l-7.72 7.72c-.78.78-.78 2.05 0 2.83L4 21.41c.39.39.9.59 1.41.59.51 0 1.02-.2 1.41-.59l7.78-7.78 2.81-2.81c.8-.78.8-2.07 0-2.86zM5.41 20L4 18.59l7.72-7.72 1.47 1.35L5.41 20z\"/>\n",
              "  </svg>\n",
              "      </button>\n",
              "      \n",
              "  <style>\n",
              "    .colab-df-container {\n",
              "      display:flex;\n",
              "      flex-wrap:wrap;\n",
              "      gap: 12px;\n",
              "    }\n",
              "\n",
              "    .colab-df-convert {\n",
              "      background-color: #E8F0FE;\n",
              "      border: none;\n",
              "      border-radius: 50%;\n",
              "      cursor: pointer;\n",
              "      display: none;\n",
              "      fill: #1967D2;\n",
              "      height: 32px;\n",
              "      padding: 0 0 0 0;\n",
              "      width: 32px;\n",
              "    }\n",
              "\n",
              "    .colab-df-convert:hover {\n",
              "      background-color: #E2EBFA;\n",
              "      box-shadow: 0px 1px 2px rgba(60, 64, 67, 0.3), 0px 1px 3px 1px rgba(60, 64, 67, 0.15);\n",
              "      fill: #174EA6;\n",
              "    }\n",
              "\n",
              "    [theme=dark] .colab-df-convert {\n",
              "      background-color: #3B4455;\n",
              "      fill: #D2E3FC;\n",
              "    }\n",
              "\n",
              "    [theme=dark] .colab-df-convert:hover {\n",
              "      background-color: #434B5C;\n",
              "      box-shadow: 0px 1px 3px 1px rgba(0, 0, 0, 0.15);\n",
              "      filter: drop-shadow(0px 1px 2px rgba(0, 0, 0, 0.3));\n",
              "      fill: #FFFFFF;\n",
              "    }\n",
              "  </style>\n",
              "\n",
              "      <script>\n",
              "        const buttonEl =\n",
              "          document.querySelector('#df-6f7c1766-50bd-43c3-977d-55ff14a9b7cf button.colab-df-convert');\n",
              "        buttonEl.style.display =\n",
              "          google.colab.kernel.accessAllowed ? 'block' : 'none';\n",
              "\n",
              "        async function convertToInteractive(key) {\n",
              "          const element = document.querySelector('#df-6f7c1766-50bd-43c3-977d-55ff14a9b7cf');\n",
              "          const dataTable =\n",
              "            await google.colab.kernel.invokeFunction('convertToInteractive',\n",
              "                                                     [key], {});\n",
              "          if (!dataTable) return;\n",
              "\n",
              "          const docLinkHtml = 'Like what you see? Visit the ' +\n",
              "            '<a target=\"_blank\" href=https://colab.research.google.com/notebooks/data_table.ipynb>data table notebook</a>'\n",
              "            + ' to learn more about interactive tables.';\n",
              "          element.innerHTML = '';\n",
              "          dataTable['output_type'] = 'display_data';\n",
              "          await google.colab.output.renderOutput(dataTable, element);\n",
              "          const docLink = document.createElement('div');\n",
              "          docLink.innerHTML = docLinkHtml;\n",
              "          element.appendChild(docLink);\n",
              "        }\n",
              "      </script>\n",
              "    </div>\n",
              "  </div>\n",
              "  "
            ]
          },
          "metadata": {},
          "execution_count": 55
        }
      ]
    },
    {
      "cell_type": "code",
      "source": [
        "tls_df.shape[0]"
      ],
      "metadata": {
        "colab": {
          "base_uri": "https://localhost:8080/"
        },
        "id": "sFhwDZz2FkoS",
        "outputId": "9b3d50b1-eccc-4344-a5d7-c4157bba1501"
      },
      "execution_count": null,
      "outputs": [
        {
          "output_type": "execute_result",
          "data": {
            "text/plain": [
              "44384"
            ]
          },
          "metadata": {},
          "execution_count": 71
        }
      ]
    },
    {
      "cell_type": "code",
      "source": [
        "corr = tls_df.corr()\n",
        "corr.style.background_gradient(cmap='coolwarm')"
      ],
      "metadata": {
        "colab": {
          "base_uri": "https://localhost:8080/",
          "height": 421
        },
        "id": "fu60S3WGESEZ",
        "outputId": "a9d52511-af8a-43f0-a847-2733701f831f"
      },
      "execution_count": null,
      "outputs": [
        {
          "output_type": "stream",
          "name": "stderr",
          "text": [
            "/usr/local/lib/python3.8/dist-packages/pandas/io/formats/style.py:2813: RuntimeWarning: All-NaN slice encountered\n",
            "  smin = np.nanmin(gmap) if vmin is None else vmin\n",
            "/usr/local/lib/python3.8/dist-packages/pandas/io/formats/style.py:2814: RuntimeWarning: All-NaN slice encountered\n",
            "  smax = np.nanmax(gmap) if vmax is None else vmax\n"
          ]
        },
        {
          "output_type": "execute_result",
          "data": {
            "text/plain": [
              "<pandas.io.formats.style.Styler at 0x7f21d2181eb0>"
            ],
            "text/html": [
              "<style type=\"text/css\">\n",
              "#T_ae197_row0_col0, #T_ae197_row0_col1, #T_ae197_row0_col2, #T_ae197_row0_col3, #T_ae197_row0_col4, #T_ae197_row0_col5, #T_ae197_row0_col6, #T_ae197_row0_col7, #T_ae197_row0_col8, #T_ae197_row1_col0, #T_ae197_row1_col5, #T_ae197_row2_col0, #T_ae197_row2_col5, #T_ae197_row3_col0, #T_ae197_row3_col5, #T_ae197_row4_col0, #T_ae197_row4_col5, #T_ae197_row5_col0, #T_ae197_row5_col1, #T_ae197_row5_col2, #T_ae197_row5_col3, #T_ae197_row5_col4, #T_ae197_row5_col5, #T_ae197_row5_col6, #T_ae197_row5_col7, #T_ae197_row5_col8, #T_ae197_row6_col0, #T_ae197_row6_col5, #T_ae197_row7_col0, #T_ae197_row7_col5, #T_ae197_row8_col0, #T_ae197_row8_col5 {\n",
              "  background-color: #000000;\n",
              "  color: #f1f1f1;\n",
              "}\n",
              "#T_ae197_row1_col1, #T_ae197_row2_col2, #T_ae197_row3_col3, #T_ae197_row4_col4, #T_ae197_row6_col6, #T_ae197_row7_col7, #T_ae197_row8_col8 {\n",
              "  background-color: #b40426;\n",
              "  color: #f1f1f1;\n",
              "}\n",
              "#T_ae197_row1_col2 {\n",
              "  background-color: #abc8fd;\n",
              "  color: #000000;\n",
              "}\n",
              "#T_ae197_row1_col3, #T_ae197_row2_col4, #T_ae197_row2_col6, #T_ae197_row2_col7, #T_ae197_row2_col8, #T_ae197_row3_col1, #T_ae197_row4_col3, #T_ae197_row6_col2, #T_ae197_row6_col3 {\n",
              "  background-color: #3b4cc0;\n",
              "  color: #f1f1f1;\n",
              "}\n",
              "#T_ae197_row1_col4 {\n",
              "  background-color: #7396f5;\n",
              "  color: #f1f1f1;\n",
              "}\n",
              "#T_ae197_row1_col6 {\n",
              "  background-color: #b1cbfc;\n",
              "  color: #000000;\n",
              "}\n",
              "#T_ae197_row1_col7 {\n",
              "  background-color: #4961d2;\n",
              "  color: #f1f1f1;\n",
              "}\n",
              "#T_ae197_row1_col8, #T_ae197_row6_col7 {\n",
              "  background-color: #4a63d3;\n",
              "  color: #f1f1f1;\n",
              "}\n",
              "#T_ae197_row2_col1 {\n",
              "  background-color: #688aef;\n",
              "  color: #f1f1f1;\n",
              "}\n",
              "#T_ae197_row2_col3 {\n",
              "  background-color: #4358cb;\n",
              "  color: #f1f1f1;\n",
              "}\n",
              "#T_ae197_row3_col2 {\n",
              "  background-color: #8caffe;\n",
              "  color: #000000;\n",
              "}\n",
              "#T_ae197_row3_col4 {\n",
              "  background-color: #5977e3;\n",
              "  color: #f1f1f1;\n",
              "}\n",
              "#T_ae197_row3_col6 {\n",
              "  background-color: #85a8fc;\n",
              "  color: #f1f1f1;\n",
              "}\n",
              "#T_ae197_row3_col7 {\n",
              "  background-color: #3f53c6;\n",
              "  color: #f1f1f1;\n",
              "}\n",
              "#T_ae197_row3_col8, #T_ae197_row4_col7, #T_ae197_row4_col8 {\n",
              "  background-color: #4055c8;\n",
              "  color: #f1f1f1;\n",
              "}\n",
              "#T_ae197_row4_col1 {\n",
              "  background-color: #5470de;\n",
              "  color: #f1f1f1;\n",
              "}\n",
              "#T_ae197_row4_col2 {\n",
              "  background-color: #6687ed;\n",
              "  color: #f1f1f1;\n",
              "}\n",
              "#T_ae197_row4_col6 {\n",
              "  background-color: #e9d5cb;\n",
              "  color: #000000;\n",
              "}\n",
              "#T_ae197_row6_col1 {\n",
              "  background-color: #6f92f3;\n",
              "  color: #f1f1f1;\n",
              "}\n",
              "#T_ae197_row6_col4 {\n",
              "  background-color: #d6dce4;\n",
              "  color: #000000;\n",
              "}\n",
              "#T_ae197_row6_col8 {\n",
              "  background-color: #4b64d5;\n",
              "  color: #f1f1f1;\n",
              "}\n",
              "#T_ae197_row7_col1 {\n",
              "  background-color: #465ecf;\n",
              "  color: #f1f1f1;\n",
              "}\n",
              "#T_ae197_row7_col2, #T_ae197_row8_col2 {\n",
              "  background-color: #82a6fb;\n",
              "  color: #f1f1f1;\n",
              "}\n",
              "#T_ae197_row7_col3, #T_ae197_row8_col3 {\n",
              "  background-color: #3d50c3;\n",
              "  color: #f1f1f1;\n",
              "}\n",
              "#T_ae197_row7_col4 {\n",
              "  background-color: #5e7de7;\n",
              "  color: #f1f1f1;\n",
              "}\n",
              "#T_ae197_row7_col6 {\n",
              "  background-color: #90b2fe;\n",
              "  color: #000000;\n",
              "}\n",
              "#T_ae197_row7_col8, #T_ae197_row8_col7 {\n",
              "  background-color: #d85646;\n",
              "  color: #f1f1f1;\n",
              "}\n",
              "#T_ae197_row8_col1 {\n",
              "  background-color: #485fd1;\n",
              "  color: #f1f1f1;\n",
              "}\n",
              "#T_ae197_row8_col4 {\n",
              "  background-color: #5d7ce6;\n",
              "  color: #f1f1f1;\n",
              "}\n",
              "#T_ae197_row8_col6 {\n",
              "  background-color: #92b4fe;\n",
              "  color: #000000;\n",
              "}\n",
              "</style>\n",
              "<table id=\"T_ae197_\" class=\"dataframe\">\n",
              "  <thead>\n",
              "    <tr>\n",
              "      <th class=\"blank level0\" >&nbsp;</th>\n",
              "      <th class=\"col_heading level0 col0\" >MF_FLAG</th>\n",
              "      <th class=\"col_heading level0 col1\" >DF_FLAG</th>\n",
              "      <th class=\"col_heading level0 col2\" >PACKET_NO</th>\n",
              "      <th class=\"col_heading level0 col3\" >PACKET_SIZE</th>\n",
              "      <th class=\"col_heading level0 col4\" >TTL</th>\n",
              "      <th class=\"col_heading level0 col5\" >IP_FRAG_OFF</th>\n",
              "      <th class=\"col_heading level0 col6\" >OS</th>\n",
              "      <th class=\"col_heading level0 col7\" >TLS_CIPHER_SUITES</th>\n",
              "      <th class=\"col_heading level0 col8\" >TLS_EXTENSION_SIG_ALGS</th>\n",
              "    </tr>\n",
              "  </thead>\n",
              "  <tbody>\n",
              "    <tr>\n",
              "      <th id=\"T_ae197_level0_row0\" class=\"row_heading level0 row0\" >MF_FLAG</th>\n",
              "      <td id=\"T_ae197_row0_col0\" class=\"data row0 col0\" >nan</td>\n",
              "      <td id=\"T_ae197_row0_col1\" class=\"data row0 col1\" >nan</td>\n",
              "      <td id=\"T_ae197_row0_col2\" class=\"data row0 col2\" >nan</td>\n",
              "      <td id=\"T_ae197_row0_col3\" class=\"data row0 col3\" >nan</td>\n",
              "      <td id=\"T_ae197_row0_col4\" class=\"data row0 col4\" >nan</td>\n",
              "      <td id=\"T_ae197_row0_col5\" class=\"data row0 col5\" >nan</td>\n",
              "      <td id=\"T_ae197_row0_col6\" class=\"data row0 col6\" >nan</td>\n",
              "      <td id=\"T_ae197_row0_col7\" class=\"data row0 col7\" >nan</td>\n",
              "      <td id=\"T_ae197_row0_col8\" class=\"data row0 col8\" >nan</td>\n",
              "    </tr>\n",
              "    <tr>\n",
              "      <th id=\"T_ae197_level0_row1\" class=\"row_heading level0 row1\" >DF_FLAG</th>\n",
              "      <td id=\"T_ae197_row1_col0\" class=\"data row1 col0\" >nan</td>\n",
              "      <td id=\"T_ae197_row1_col1\" class=\"data row1 col1\" >1.000000</td>\n",
              "      <td id=\"T_ae197_row1_col2\" class=\"data row1 col2\" >0.135220</td>\n",
              "      <td id=\"T_ae197_row1_col3\" class=\"data row1 col3\" >-0.011652</td>\n",
              "      <td id=\"T_ae197_row1_col4\" class=\"data row1 col4\" >0.074381</td>\n",
              "      <td id=\"T_ae197_row1_col5\" class=\"data row1 col5\" >nan</td>\n",
              "      <td id=\"T_ae197_row1_col6\" class=\"data row1 col6\" >0.154343</td>\n",
              "      <td id=\"T_ae197_row1_col7\" class=\"data row1 col7\" >0.030904</td>\n",
              "      <td id=\"T_ae197_row1_col8\" class=\"data row1 col8\" >0.034654</td>\n",
              "    </tr>\n",
              "    <tr>\n",
              "      <th id=\"T_ae197_level0_row2\" class=\"row_heading level0 row2\" >PACKET_NO</th>\n",
              "      <td id=\"T_ae197_row2_col0\" class=\"data row2 col0\" >nan</td>\n",
              "      <td id=\"T_ae197_row2_col1\" class=\"data row2 col1\" >0.135220</td>\n",
              "      <td id=\"T_ae197_row2_col2\" class=\"data row2 col2\" >1.000000</td>\n",
              "      <td id=\"T_ae197_row2_col3\" class=\"data row2 col3\" >0.016232</td>\n",
              "      <td id=\"T_ae197_row2_col4\" class=\"data row2 col4\" >-0.124478</td>\n",
              "      <td id=\"T_ae197_row2_col5\" class=\"data row2 col5\" >nan</td>\n",
              "      <td id=\"T_ae197_row2_col6\" class=\"data row2 col6\" >-0.306816</td>\n",
              "      <td id=\"T_ae197_row2_col7\" class=\"data row2 col7\" >-0.019565</td>\n",
              "      <td id=\"T_ae197_row2_col8\" class=\"data row2 col8\" >-0.020344</td>\n",
              "    </tr>\n",
              "    <tr>\n",
              "      <th id=\"T_ae197_level0_row3\" class=\"row_heading level0 row3\" >PACKET_SIZE</th>\n",
              "      <td id=\"T_ae197_row3_col0\" class=\"data row3 col0\" >nan</td>\n",
              "      <td id=\"T_ae197_row3_col1\" class=\"data row3 col1\" >-0.011652</td>\n",
              "      <td id=\"T_ae197_row3_col2\" class=\"data row3 col2\" >0.016232</td>\n",
              "      <td id=\"T_ae197_row3_col3\" class=\"data row3 col3\" >1.000000</td>\n",
              "      <td id=\"T_ae197_row3_col4\" class=\"data row3 col4\" >-0.011225</td>\n",
              "      <td id=\"T_ae197_row3_col5\" class=\"data row3 col5\" >nan</td>\n",
              "      <td id=\"T_ae197_row3_col6\" class=\"data row3 col6\" >-0.009556</td>\n",
              "      <td id=\"T_ae197_row3_col7\" class=\"data row3 col7\" >-0.000360</td>\n",
              "      <td id=\"T_ae197_row3_col8\" class=\"data row3 col8\" >-0.000404</td>\n",
              "    </tr>\n",
              "    <tr>\n",
              "      <th id=\"T_ae197_level0_row4\" class=\"row_heading level0 row4\" >TTL</th>\n",
              "      <td id=\"T_ae197_row4_col0\" class=\"data row4 col0\" >nan</td>\n",
              "      <td id=\"T_ae197_row4_col1\" class=\"data row4 col1\" >0.074381</td>\n",
              "      <td id=\"T_ae197_row4_col2\" class=\"data row4 col2\" >-0.124478</td>\n",
              "      <td id=\"T_ae197_row4_col3\" class=\"data row4 col3\" >-0.011225</td>\n",
              "      <td id=\"T_ae197_row4_col4\" class=\"data row4 col4\" >1.000000</td>\n",
              "      <td id=\"T_ae197_row4_col5\" class=\"data row4 col5\" >nan</td>\n",
              "      <td id=\"T_ae197_row4_col6\" class=\"data row4 col6\" >0.407919</td>\n",
              "      <td id=\"T_ae197_row4_col7\" class=\"data row4 col7\" >0.003214</td>\n",
              "      <td id=\"T_ae197_row4_col8\" class=\"data row4 col8\" >0.002549</td>\n",
              "    </tr>\n",
              "    <tr>\n",
              "      <th id=\"T_ae197_level0_row5\" class=\"row_heading level0 row5\" >IP_FRAG_OFF</th>\n",
              "      <td id=\"T_ae197_row5_col0\" class=\"data row5 col0\" >nan</td>\n",
              "      <td id=\"T_ae197_row5_col1\" class=\"data row5 col1\" >nan</td>\n",
              "      <td id=\"T_ae197_row5_col2\" class=\"data row5 col2\" >nan</td>\n",
              "      <td id=\"T_ae197_row5_col3\" class=\"data row5 col3\" >nan</td>\n",
              "      <td id=\"T_ae197_row5_col4\" class=\"data row5 col4\" >nan</td>\n",
              "      <td id=\"T_ae197_row5_col5\" class=\"data row5 col5\" >nan</td>\n",
              "      <td id=\"T_ae197_row5_col6\" class=\"data row5 col6\" >nan</td>\n",
              "      <td id=\"T_ae197_row5_col7\" class=\"data row5 col7\" >nan</td>\n",
              "      <td id=\"T_ae197_row5_col8\" class=\"data row5 col8\" >nan</td>\n",
              "    </tr>\n",
              "    <tr>\n",
              "      <th id=\"T_ae197_level0_row6\" class=\"row_heading level0 row6\" >OS</th>\n",
              "      <td id=\"T_ae197_row6_col0\" class=\"data row6 col0\" >nan</td>\n",
              "      <td id=\"T_ae197_row6_col1\" class=\"data row6 col1\" >0.154343</td>\n",
              "      <td id=\"T_ae197_row6_col2\" class=\"data row6 col2\" >-0.306816</td>\n",
              "      <td id=\"T_ae197_row6_col3\" class=\"data row6 col3\" >-0.009556</td>\n",
              "      <td id=\"T_ae197_row6_col4\" class=\"data row6 col4\" >0.407919</td>\n",
              "      <td id=\"T_ae197_row6_col5\" class=\"data row6 col5\" >nan</td>\n",
              "      <td id=\"T_ae197_row6_col6\" class=\"data row6 col6\" >1.000000</td>\n",
              "      <td id=\"T_ae197_row6_col7\" class=\"data row6 col7\" >0.033655</td>\n",
              "      <td id=\"T_ae197_row6_col8\" class=\"data row6 col8\" >0.036500</td>\n",
              "    </tr>\n",
              "    <tr>\n",
              "      <th id=\"T_ae197_level0_row7\" class=\"row_heading level0 row7\" >TLS_CIPHER_SUITES</th>\n",
              "      <td id=\"T_ae197_row7_col0\" class=\"data row7 col0\" >nan</td>\n",
              "      <td id=\"T_ae197_row7_col1\" class=\"data row7 col1\" >0.030904</td>\n",
              "      <td id=\"T_ae197_row7_col2\" class=\"data row7 col2\" >-0.019565</td>\n",
              "      <td id=\"T_ae197_row7_col3\" class=\"data row7 col3\" >-0.000360</td>\n",
              "      <td id=\"T_ae197_row7_col4\" class=\"data row7 col4\" >0.003214</td>\n",
              "      <td id=\"T_ae197_row7_col5\" class=\"data row7 col5\" >nan</td>\n",
              "      <td id=\"T_ae197_row7_col6\" class=\"data row7 col6\" >0.033655</td>\n",
              "      <td id=\"T_ae197_row7_col7\" class=\"data row7 col7\" >1.000000</td>\n",
              "      <td id=\"T_ae197_row7_col8\" class=\"data row7 col8\" >0.891780</td>\n",
              "    </tr>\n",
              "    <tr>\n",
              "      <th id=\"T_ae197_level0_row8\" class=\"row_heading level0 row8\" >TLS_EXTENSION_SIG_ALGS</th>\n",
              "      <td id=\"T_ae197_row8_col0\" class=\"data row8 col0\" >nan</td>\n",
              "      <td id=\"T_ae197_row8_col1\" class=\"data row8 col1\" >0.034654</td>\n",
              "      <td id=\"T_ae197_row8_col2\" class=\"data row8 col2\" >-0.020344</td>\n",
              "      <td id=\"T_ae197_row8_col3\" class=\"data row8 col3\" >-0.000404</td>\n",
              "      <td id=\"T_ae197_row8_col4\" class=\"data row8 col4\" >0.002549</td>\n",
              "      <td id=\"T_ae197_row8_col5\" class=\"data row8 col5\" >nan</td>\n",
              "      <td id=\"T_ae197_row8_col6\" class=\"data row8 col6\" >0.036500</td>\n",
              "      <td id=\"T_ae197_row8_col7\" class=\"data row8 col7\" >0.891780</td>\n",
              "      <td id=\"T_ae197_row8_col8\" class=\"data row8 col8\" >1.000000</td>\n",
              "    </tr>\n",
              "  </tbody>\n",
              "</table>\n"
            ]
          },
          "metadata": {},
          "execution_count": 72
        }
      ]
    },
    {
      "cell_type": "code",
      "source": [
        "tls_df.head()"
      ],
      "metadata": {
        "colab": {
          "base_uri": "https://localhost:8080/",
          "height": 270
        },
        "id": "yPxrYmECJTzK",
        "outputId": "3ea557b6-0ecd-44f8-ec7e-6458ca348df3"
      },
      "execution_count": null,
      "outputs": [
        {
          "output_type": "execute_result",
          "data": {
            "text/plain": [
              "          SRC_IP  MF_FLAG  DF_FLAG  PACKET_NO  PACKET_SIZE  TTL  IP_FRAG_OFF  \\\n",
              "0  172.16.16.128        0        0          1           20  128            0   \n",
              "1  172.16.16.128        0        0          2           20    1            0   \n",
              "2    172.16.16.2        0        1          3           20   64            0   \n",
              "3  172.16.16.128        0        1          4           20    4            0   \n",
              "4  172.16.16.128        0        0          6           20    1            0   \n",
              "\n",
              "   OS  TLS_CIPHER_SUITES  TLS_EXTENSION_SIG_ALGS  \n",
              "0   1                 -1                      -1  \n",
              "1   1                 -1                      -1  \n",
              "2   1                 -1                      -1  \n",
              "3   1                 -1                      -1  \n",
              "4   1                 -1                      -1  "
            ],
            "text/html": [
              "\n",
              "  <div id=\"df-fbbd5621-f7b0-4c3c-8211-beaa6c613c8a\">\n",
              "    <div class=\"colab-df-container\">\n",
              "      <div>\n",
              "<style scoped>\n",
              "    .dataframe tbody tr th:only-of-type {\n",
              "        vertical-align: middle;\n",
              "    }\n",
              "\n",
              "    .dataframe tbody tr th {\n",
              "        vertical-align: top;\n",
              "    }\n",
              "\n",
              "    .dataframe thead th {\n",
              "        text-align: right;\n",
              "    }\n",
              "</style>\n",
              "<table border=\"1\" class=\"dataframe\">\n",
              "  <thead>\n",
              "    <tr style=\"text-align: right;\">\n",
              "      <th></th>\n",
              "      <th>SRC_IP</th>\n",
              "      <th>MF_FLAG</th>\n",
              "      <th>DF_FLAG</th>\n",
              "      <th>PACKET_NO</th>\n",
              "      <th>PACKET_SIZE</th>\n",
              "      <th>TTL</th>\n",
              "      <th>IP_FRAG_OFF</th>\n",
              "      <th>OS</th>\n",
              "      <th>TLS_CIPHER_SUITES</th>\n",
              "      <th>TLS_EXTENSION_SIG_ALGS</th>\n",
              "    </tr>\n",
              "  </thead>\n",
              "  <tbody>\n",
              "    <tr>\n",
              "      <th>0</th>\n",
              "      <td>172.16.16.128</td>\n",
              "      <td>0</td>\n",
              "      <td>0</td>\n",
              "      <td>1</td>\n",
              "      <td>20</td>\n",
              "      <td>128</td>\n",
              "      <td>0</td>\n",
              "      <td>1</td>\n",
              "      <td>-1</td>\n",
              "      <td>-1</td>\n",
              "    </tr>\n",
              "    <tr>\n",
              "      <th>1</th>\n",
              "      <td>172.16.16.128</td>\n",
              "      <td>0</td>\n",
              "      <td>0</td>\n",
              "      <td>2</td>\n",
              "      <td>20</td>\n",
              "      <td>1</td>\n",
              "      <td>0</td>\n",
              "      <td>1</td>\n",
              "      <td>-1</td>\n",
              "      <td>-1</td>\n",
              "    </tr>\n",
              "    <tr>\n",
              "      <th>2</th>\n",
              "      <td>172.16.16.2</td>\n",
              "      <td>0</td>\n",
              "      <td>1</td>\n",
              "      <td>3</td>\n",
              "      <td>20</td>\n",
              "      <td>64</td>\n",
              "      <td>0</td>\n",
              "      <td>1</td>\n",
              "      <td>-1</td>\n",
              "      <td>-1</td>\n",
              "    </tr>\n",
              "    <tr>\n",
              "      <th>3</th>\n",
              "      <td>172.16.16.128</td>\n",
              "      <td>0</td>\n",
              "      <td>1</td>\n",
              "      <td>4</td>\n",
              "      <td>20</td>\n",
              "      <td>4</td>\n",
              "      <td>0</td>\n",
              "      <td>1</td>\n",
              "      <td>-1</td>\n",
              "      <td>-1</td>\n",
              "    </tr>\n",
              "    <tr>\n",
              "      <th>4</th>\n",
              "      <td>172.16.16.128</td>\n",
              "      <td>0</td>\n",
              "      <td>0</td>\n",
              "      <td>6</td>\n",
              "      <td>20</td>\n",
              "      <td>1</td>\n",
              "      <td>0</td>\n",
              "      <td>1</td>\n",
              "      <td>-1</td>\n",
              "      <td>-1</td>\n",
              "    </tr>\n",
              "  </tbody>\n",
              "</table>\n",
              "</div>\n",
              "      <button class=\"colab-df-convert\" onclick=\"convertToInteractive('df-fbbd5621-f7b0-4c3c-8211-beaa6c613c8a')\"\n",
              "              title=\"Convert this dataframe to an interactive table.\"\n",
              "              style=\"display:none;\">\n",
              "        \n",
              "  <svg xmlns=\"http://www.w3.org/2000/svg\" height=\"24px\"viewBox=\"0 0 24 24\"\n",
              "       width=\"24px\">\n",
              "    <path d=\"M0 0h24v24H0V0z\" fill=\"none\"/>\n",
              "    <path d=\"M18.56 5.44l.94 2.06.94-2.06 2.06-.94-2.06-.94-.94-2.06-.94 2.06-2.06.94zm-11 1L8.5 8.5l.94-2.06 2.06-.94-2.06-.94L8.5 2.5l-.94 2.06-2.06.94zm10 10l.94 2.06.94-2.06 2.06-.94-2.06-.94-.94-2.06-.94 2.06-2.06.94z\"/><path d=\"M17.41 7.96l-1.37-1.37c-.4-.4-.92-.59-1.43-.59-.52 0-1.04.2-1.43.59L10.3 9.45l-7.72 7.72c-.78.78-.78 2.05 0 2.83L4 21.41c.39.39.9.59 1.41.59.51 0 1.02-.2 1.41-.59l7.78-7.78 2.81-2.81c.8-.78.8-2.07 0-2.86zM5.41 20L4 18.59l7.72-7.72 1.47 1.35L5.41 20z\"/>\n",
              "  </svg>\n",
              "      </button>\n",
              "      \n",
              "  <style>\n",
              "    .colab-df-container {\n",
              "      display:flex;\n",
              "      flex-wrap:wrap;\n",
              "      gap: 12px;\n",
              "    }\n",
              "\n",
              "    .colab-df-convert {\n",
              "      background-color: #E8F0FE;\n",
              "      border: none;\n",
              "      border-radius: 50%;\n",
              "      cursor: pointer;\n",
              "      display: none;\n",
              "      fill: #1967D2;\n",
              "      height: 32px;\n",
              "      padding: 0 0 0 0;\n",
              "      width: 32px;\n",
              "    }\n",
              "\n",
              "    .colab-df-convert:hover {\n",
              "      background-color: #E2EBFA;\n",
              "      box-shadow: 0px 1px 2px rgba(60, 64, 67, 0.3), 0px 1px 3px 1px rgba(60, 64, 67, 0.15);\n",
              "      fill: #174EA6;\n",
              "    }\n",
              "\n",
              "    [theme=dark] .colab-df-convert {\n",
              "      background-color: #3B4455;\n",
              "      fill: #D2E3FC;\n",
              "    }\n",
              "\n",
              "    [theme=dark] .colab-df-convert:hover {\n",
              "      background-color: #434B5C;\n",
              "      box-shadow: 0px 1px 3px 1px rgba(0, 0, 0, 0.15);\n",
              "      filter: drop-shadow(0px 1px 2px rgba(0, 0, 0, 0.3));\n",
              "      fill: #FFFFFF;\n",
              "    }\n",
              "  </style>\n",
              "\n",
              "      <script>\n",
              "        const buttonEl =\n",
              "          document.querySelector('#df-fbbd5621-f7b0-4c3c-8211-beaa6c613c8a button.colab-df-convert');\n",
              "        buttonEl.style.display =\n",
              "          google.colab.kernel.accessAllowed ? 'block' : 'none';\n",
              "\n",
              "        async function convertToInteractive(key) {\n",
              "          const element = document.querySelector('#df-fbbd5621-f7b0-4c3c-8211-beaa6c613c8a');\n",
              "          const dataTable =\n",
              "            await google.colab.kernel.invokeFunction('convertToInteractive',\n",
              "                                                     [key], {});\n",
              "          if (!dataTable) return;\n",
              "\n",
              "          const docLinkHtml = 'Like what you see? Visit the ' +\n",
              "            '<a target=\"_blank\" href=https://colab.research.google.com/notebooks/data_table.ipynb>data table notebook</a>'\n",
              "            + ' to learn more about interactive tables.';\n",
              "          element.innerHTML = '';\n",
              "          dataTable['output_type'] = 'display_data';\n",
              "          await google.colab.output.renderOutput(dataTable, element);\n",
              "          const docLink = document.createElement('div');\n",
              "          docLink.innerHTML = docLinkHtml;\n",
              "          element.appendChild(docLink);\n",
              "        }\n",
              "      </script>\n",
              "    </div>\n",
              "  </div>\n",
              "  "
            ]
          },
          "metadata": {},
          "execution_count": 73
        }
      ]
    },
    {
      "cell_type": "code",
      "source": [
        "tls_df.drop([ 'SRC_IP'], axis=1, inplace=True)"
      ],
      "metadata": {
        "id": "-XehxKYUKRun"
      },
      "execution_count": null,
      "outputs": []
    },
    {
      "cell_type": "code",
      "execution_count": null,
      "metadata": {
        "id": "0M5OkF6KR3Zs"
      },
      "outputs": [],
      "source": [
        "# Features to Select: TTL, DF_FLAG, SRC_IP, PACKET_NO, TIMESTAMP, DST_IP\n",
        "from sklearn.feature_selection import SelectKBest\n",
        "from sklearn.feature_selection import chi2"
      ]
    },
    {
      "cell_type": "code",
      "execution_count": null,
      "metadata": {
        "id": "K9UHFh1vSnib"
      },
      "outputs": [],
      "source": [
        "from sklearn.model_selection import train_test_split, cross_val_score, GridSearchCV\n",
        "from sklearn.metrics import classification_report, accuracy_score, precision_score, precision_recall_curve\n",
        "import matplotlib.pyplot as plt\n",
        "from sklearn.preprocessing import MinMaxScaler, StandardScaler\n",
        "from sklearn.preprocessing import LabelEncoder\n",
        "from sklearn.pipeline import Pipeline"
      ]
    },
    {
      "cell_type": "code",
      "execution_count": null,
      "metadata": {
        "id": "XbdLcFMOYBkF"
      },
      "outputs": [],
      "source": [
        "from sklearn.metrics import classification_report, accuracy_score\n"
      ]
    },
    {
      "cell_type": "code",
      "execution_count": null,
      "metadata": {
        "id": "RaVyj7hkYJTo"
      },
      "outputs": [],
      "source": [
        "df_extracted = tls_df[['TTL', 'DF_FLAG', 'PACKET_NO', 'TLS_CIPHER_SUITES', 'TLS_EXTENSION_SIG_ALGS']]\n",
        "df_label = tls_df['OS']"
      ]
    },
    {
      "cell_type": "code",
      "execution_count": null,
      "metadata": {
        "id": "dlLPoQIaaTWm"
      },
      "outputs": [],
      "source": [
        "\n",
        "tft = LabelEncoder()\n",
        "df_label_t = tft.fit_transform(df_label)"
      ]
    },
    {
      "cell_type": "code",
      "execution_count": null,
      "metadata": {
        "id": "EK7yMokJYjmN"
      },
      "outputs": [],
      "source": [
        "X_train, X_test, y_train, y_test = train_test_split(df_extracted, df_label_t, test_size=0.3, random_state=1) # 70% training and 30% test\n"
      ]
    },
    {
      "cell_type": "code",
      "source": [
        "rf_pipe = Pipeline"
      ],
      "metadata": {
        "id": "e5kn_Wl8LEZD"
      },
      "execution_count": null,
      "outputs": []
    },
    {
      "cell_type": "code",
      "source": [
        "rf = RandomForestClassifier(max_depth = 5)\n",
        "rf.fit(X_train, y_train)"
      ],
      "metadata": {
        "colab": {
          "base_uri": "https://localhost:8080/"
        },
        "id": "BqTAaHmrLS3W",
        "outputId": "64205dd0-4f0b-4c1f-efcf-e7a9023899e4"
      },
      "execution_count": null,
      "outputs": [
        {
          "output_type": "execute_result",
          "data": {
            "text/plain": [
              "RandomForestClassifier(max_depth=5)"
            ]
          },
          "metadata": {},
          "execution_count": 87
        }
      ]
    },
    {
      "cell_type": "code",
      "source": [
        "import graphviz\n",
        "from sklearn import tree"
      ],
      "metadata": {
        "id": "oRKWAzCxLooV"
      },
      "execution_count": null,
      "outputs": []
    },
    {
      "cell_type": "code",
      "source": [
        "!pip install graphviz"
      ],
      "metadata": {
        "colab": {
          "base_uri": "https://localhost:8080/"
        },
        "id": "W7jJlP5SLb98",
        "outputId": "964755b4-04d2-4208-c717-036b3aca0497"
      },
      "execution_count": null,
      "outputs": [
        {
          "output_type": "stream",
          "name": "stdout",
          "text": [
            "Looking in indexes: https://pypi.org/simple, https://us-python.pkg.dev/colab-wheels/public/simple/\n",
            "Requirement already satisfied: graphviz in /usr/local/lib/python3.8/dist-packages (0.10.1)\n"
          ]
        }
      ]
    },
    {
      "cell_type": "code",
      "source": [
        "dot_data = tree.export_graphviz(rf.estimators_[0], out_file=None, feature_names = df_extracted.columns, class_names = str(df_label_t),\n",
        "                                filled = True, rounded = True, special_characters = True, impurity = True)\n",
        "\n",
        "graph = graphviz.Source(dot_data, format = 'png')\n",
        "graph"
      ],
      "metadata": {
        "colab": {
          "base_uri": "https://localhost:8080/",
          "height": 936
        },
        "id": "a5TNQlOXNDJD",
        "outputId": "00d3d942-2b8f-4b79-bea3-138415ba3bef"
      },
      "execution_count": null,
      "outputs": [
        {
          "output_type": "execute_result",
          "data": {
            "text/plain": [
              "<graphviz.files.Source at 0x7f21d1b5ee80>"
            ],
            "image/svg+xml": "<?xml version=\"1.0\" encoding=\"UTF-8\" standalone=\"no\"?>\n<!DOCTYPE svg PUBLIC \"-//W3C//DTD SVG 1.1//EN\"\n \"http://www.w3.org/Graphics/SVG/1.1/DTD/svg11.dtd\">\n<!-- Generated by graphviz version 2.40.1 (20161225.0304)\n -->\n<!-- Title: Tree Pages: 1 -->\n<svg width=\"3451pt\" height=\"671pt\"\n viewBox=\"0.00 0.00 3450.50 671.00\" xmlns=\"http://www.w3.org/2000/svg\" xmlns:xlink=\"http://www.w3.org/1999/xlink\">\n<g id=\"graph0\" class=\"graph\" transform=\"scale(1 1) rotate(0) translate(4 667)\">\n<title>Tree</title>\n<polygon fill=\"#ffffff\" stroke=\"transparent\" points=\"-4,4 -4,-667 3446.5,-667 3446.5,4 -4,4\"/>\n<!-- 0 -->\n<g id=\"node1\" class=\"node\">\n<title>0</title>\n<path fill=\"#d3bbf6\" stroke=\"#000000\" d=\"M2341,-663C2341,-663 2109,-663 2109,-663 2103,-663 2097,-657 2097,-651 2097,-651 2097,-592 2097,-592 2097,-586 2103,-580 2109,-580 2109,-580 2341,-580 2341,-580 2347,-580 2353,-586 2353,-592 2353,-592 2353,-651 2353,-651 2353,-657 2347,-663 2341,-663\"/>\n<text text-anchor=\"start\" x=\"2105\" y=\"-647.8\" font-family=\"Helvetica,sans-Serif\" font-size=\"14.00\" fill=\"#000000\">TLS_EXTENSION_SIG_ALGS ≤ &#45;0.5</text>\n<text text-anchor=\"start\" x=\"2187\" y=\"-632.8\" font-family=\"Helvetica,sans-Serif\" font-size=\"14.00\" fill=\"#000000\">gini = 0.599</text>\n<text text-anchor=\"start\" x=\"2169\" y=\"-617.8\" font-family=\"Helvetica,sans-Serif\" font-size=\"14.00\" fill=\"#000000\">samples = 19523</text>\n<text text-anchor=\"start\" x=\"2134.5\" y=\"-602.8\" font-family=\"Helvetica,sans-Serif\" font-size=\"14.00\" fill=\"#000000\">value = [8976, 5479, 16613]</text>\n<text text-anchor=\"start\" x=\"2198\" y=\"-587.8\" font-family=\"Helvetica,sans-Serif\" font-size=\"14.00\" fill=\"#000000\">class = &#160;</text>\n</g>\n<!-- 1 -->\n<g id=\"node2\" class=\"node\">\n<title>1</title>\n<path fill=\"#d4bbf6\" stroke=\"#000000\" d=\"M2001.5,-544C2001.5,-544 1828.5,-544 1828.5,-544 1822.5,-544 1816.5,-538 1816.5,-532 1816.5,-532 1816.5,-473 1816.5,-473 1816.5,-467 1822.5,-461 1828.5,-461 1828.5,-461 2001.5,-461 2001.5,-461 2007.5,-461 2013.5,-467 2013.5,-473 2013.5,-473 2013.5,-532 2013.5,-532 2013.5,-538 2007.5,-544 2001.5,-544\"/>\n<text text-anchor=\"start\" x=\"1880\" y=\"-528.8\" font-family=\"Helvetica,sans-Serif\" font-size=\"14.00\" fill=\"#000000\">TTL ≤ 82.5</text>\n<text text-anchor=\"start\" x=\"1885.5\" y=\"-513.8\" font-family=\"Helvetica,sans-Serif\" font-size=\"14.00\" fill=\"#000000\">gini = 0.6</text>\n<text text-anchor=\"start\" x=\"1859\" y=\"-498.8\" font-family=\"Helvetica,sans-Serif\" font-size=\"14.00\" fill=\"#000000\">samples = 19466</text>\n<text text-anchor=\"start\" x=\"1824.5\" y=\"-483.8\" font-family=\"Helvetica,sans-Serif\" font-size=\"14.00\" fill=\"#000000\">value = [8976, 5459, 16548]</text>\n<text text-anchor=\"start\" x=\"1888\" y=\"-468.8\" font-family=\"Helvetica,sans-Serif\" font-size=\"14.00\" fill=\"#000000\">class = &#160;</text>\n</g>\n<!-- 0&#45;&gt;1 -->\n<g id=\"edge1\" class=\"edge\">\n<title>0&#45;&gt;1</title>\n<path fill=\"none\" stroke=\"#000000\" d=\"M2116.577,-579.8796C2086.3276,-568.2677 2053.4691,-555.6543 2023.2308,-544.0467\"/>\n<polygon fill=\"#000000\" stroke=\"#000000\" points=\"2024.102,-540.6321 2013.5119,-540.3159 2021.5933,-547.1672 2024.102,-540.6321\"/>\n<text text-anchor=\"middle\" x=\"2023.6802\" y=\"-559.4545\" font-family=\"Helvetica,sans-Serif\" font-size=\"14.00\" fill=\"#000000\">True</text>\n</g>\n<!-- 30 -->\n<g id=\"node31\" class=\"node\">\n<title>30</title>\n<path fill=\"#a876ed\" stroke=\"#000000\" d=\"M2523.5,-544C2523.5,-544 2344.5,-544 2344.5,-544 2338.5,-544 2332.5,-538 2332.5,-532 2332.5,-532 2332.5,-473 2332.5,-473 2332.5,-467 2338.5,-461 2344.5,-461 2344.5,-461 2523.5,-461 2523.5,-461 2529.5,-461 2535.5,-467 2535.5,-473 2535.5,-473 2535.5,-532 2535.5,-532 2535.5,-538 2529.5,-544 2523.5,-544\"/>\n<text text-anchor=\"start\" x=\"2340.5\" y=\"-528.8\" font-family=\"Helvetica,sans-Serif\" font-size=\"14.00\" fill=\"#000000\">TLS_CIPHER_SUITES ≤ 6.5</text>\n<text text-anchor=\"start\" x=\"2400.5\" y=\"-513.8\" font-family=\"Helvetica,sans-Serif\" font-size=\"14.00\" fill=\"#000000\">gini = 0.36</text>\n<text text-anchor=\"start\" x=\"2390\" y=\"-498.8\" font-family=\"Helvetica,sans-Serif\" font-size=\"14.00\" fill=\"#000000\">samples = 57</text>\n<text text-anchor=\"start\" x=\"2376.5\" y=\"-483.8\" font-family=\"Helvetica,sans-Serif\" font-size=\"14.00\" fill=\"#000000\">value = [0, 20, 65]</text>\n<text text-anchor=\"start\" x=\"2407\" y=\"-468.8\" font-family=\"Helvetica,sans-Serif\" font-size=\"14.00\" fill=\"#000000\">class = &#160;</text>\n</g>\n<!-- 0&#45;&gt;30 -->\n<g id=\"edge30\" class=\"edge\">\n<title>0&#45;&gt;30</title>\n<path fill=\"none\" stroke=\"#000000\" d=\"M2298.0981,-579.8796C2315.4397,-570.0056 2334.0533,-559.4075 2351.7711,-549.3193\"/>\n<polygon fill=\"#000000\" stroke=\"#000000\" points=\"2353.9849,-552.0865 2360.9432,-544.0969 2350.5213,-546.0034 2353.9849,-552.0865\"/>\n<text text-anchor=\"middle\" x=\"2354.328\" y=\"-564.5058\" font-family=\"Helvetica,sans-Serif\" font-size=\"14.00\" fill=\"#000000\">False</text>\n</g>\n<!-- 2 -->\n<g id=\"node3\" class=\"node\">\n<title>2</title>\n<path fill=\"#f9e4d5\" stroke=\"#000000\" d=\"M1118.5,-425C1118.5,-425 953.5,-425 953.5,-425 947.5,-425 941.5,-419 941.5,-413 941.5,-413 941.5,-354 941.5,-354 941.5,-348 947.5,-342 953.5,-342 953.5,-342 1118.5,-342 1118.5,-342 1124.5,-342 1130.5,-348 1130.5,-354 1130.5,-354 1130.5,-413 1130.5,-413 1130.5,-419 1124.5,-425 1118.5,-425\"/>\n<text text-anchor=\"start\" x=\"1001\" y=\"-409.8\" font-family=\"Helvetica,sans-Serif\" font-size=\"14.00\" fill=\"#000000\">TTL ≤ 56.5</text>\n<text text-anchor=\"start\" x=\"1002.5\" y=\"-394.8\" font-family=\"Helvetica,sans-Serif\" font-size=\"14.00\" fill=\"#000000\">gini = 0.65</text>\n<text text-anchor=\"start\" x=\"984\" y=\"-379.8\" font-family=\"Helvetica,sans-Serif\" font-size=\"14.00\" fill=\"#000000\">samples = 9423</text>\n<text text-anchor=\"start\" x=\"949.5\" y=\"-364.8\" font-family=\"Helvetica,sans-Serif\" font-size=\"14.00\" fill=\"#000000\">value = [6596, 4122, 4304]</text>\n<text text-anchor=\"start\" x=\"1009\" y=\"-349.8\" font-family=\"Helvetica,sans-Serif\" font-size=\"14.00\" fill=\"#000000\">class = [</text>\n</g>\n<!-- 1&#45;&gt;2 -->\n<g id=\"edge2\" class=\"edge\">\n<title>1&#45;&gt;2</title>\n<path fill=\"none\" stroke=\"#000000\" d=\"M1816.3015,-489.1381C1649.094,-466.5013 1311.6567,-420.8187 1140.5609,-397.6556\"/>\n<polygon fill=\"#000000\" stroke=\"#000000\" points=\"1140.916,-394.1718 1130.5368,-396.2985 1139.9768,-401.1085 1140.916,-394.1718\"/>\n</g>\n<!-- 17 -->\n<g id=\"node18\" class=\"node\">\n<title>17</title>\n<path fill=\"#a36fec\" stroke=\"#000000\" d=\"M2001.5,-425C2001.5,-425 1828.5,-425 1828.5,-425 1822.5,-425 1816.5,-419 1816.5,-413 1816.5,-413 1816.5,-354 1816.5,-354 1816.5,-348 1822.5,-342 1828.5,-342 1828.5,-342 2001.5,-342 2001.5,-342 2007.5,-342 2013.5,-348 2013.5,-354 2013.5,-354 2013.5,-413 2013.5,-413 2013.5,-419 2007.5,-425 2001.5,-425\"/>\n<text text-anchor=\"start\" x=\"1864\" y=\"-409.8\" font-family=\"Helvetica,sans-Serif\" font-size=\"14.00\" fill=\"#000000\">DF_FLAG ≤ 0.5</text>\n<text text-anchor=\"start\" x=\"1877\" y=\"-394.8\" font-family=\"Helvetica,sans-Serif\" font-size=\"14.00\" fill=\"#000000\">gini = 0.382</text>\n<text text-anchor=\"start\" x=\"1859\" y=\"-379.8\" font-family=\"Helvetica,sans-Serif\" font-size=\"14.00\" fill=\"#000000\">samples = 10043</text>\n<text text-anchor=\"start\" x=\"1824.5\" y=\"-364.8\" font-family=\"Helvetica,sans-Serif\" font-size=\"14.00\" fill=\"#000000\">value = [2380, 1337, 12244]</text>\n<text text-anchor=\"start\" x=\"1888\" y=\"-349.8\" font-family=\"Helvetica,sans-Serif\" font-size=\"14.00\" fill=\"#000000\">class = &#160;</text>\n</g>\n<!-- 1&#45;&gt;17 -->\n<g id=\"edge17\" class=\"edge\">\n<title>1&#45;&gt;17</title>\n<path fill=\"none\" stroke=\"#000000\" d=\"M1915,-460.8796C1915,-452.6838 1915,-443.9891 1915,-435.5013\"/>\n<polygon fill=\"#000000\" stroke=\"#000000\" points=\"1918.5001,-435.298 1915,-425.2981 1911.5001,-435.2981 1918.5001,-435.298\"/>\n</g>\n<!-- 3 -->\n<g id=\"node4\" class=\"node\">\n<title>3</title>\n<path fill=\"#fcefe5\" stroke=\"#000000\" d=\"M596.5,-306C596.5,-306 439.5,-306 439.5,-306 433.5,-306 427.5,-300 427.5,-294 427.5,-294 427.5,-235 427.5,-235 427.5,-229 433.5,-223 439.5,-223 439.5,-223 596.5,-223 596.5,-223 602.5,-223 608.5,-229 608.5,-235 608.5,-235 608.5,-294 608.5,-294 608.5,-300 602.5,-306 596.5,-306\"/>\n<text text-anchor=\"start\" x=\"444\" y=\"-290.8\" font-family=\"Helvetica,sans-Serif\" font-size=\"14.00\" fill=\"#000000\">PACKET_NO ≤ 6999.0</text>\n<text text-anchor=\"start\" x=\"480\" y=\"-275.8\" font-family=\"Helvetica,sans-Serif\" font-size=\"14.00\" fill=\"#000000\">gini = 0.511</text>\n<text text-anchor=\"start\" x=\"466\" y=\"-260.8\" font-family=\"Helvetica,sans-Serif\" font-size=\"14.00\" fill=\"#000000\">samples = 5770</text>\n<text text-anchor=\"start\" x=\"435.5\" y=\"-245.8\" font-family=\"Helvetica,sans-Serif\" font-size=\"14.00\" fill=\"#000000\">value = [4884, 126, 4235]</text>\n<text text-anchor=\"start\" x=\"491\" y=\"-230.8\" font-family=\"Helvetica,sans-Serif\" font-size=\"14.00\" fill=\"#000000\">class = [</text>\n</g>\n<!-- 2&#45;&gt;3 -->\n<g id=\"edge3\" class=\"edge\">\n<title>2&#45;&gt;3</title>\n<path fill=\"none\" stroke=\"#000000\" d=\"M941.2921,-361.7428C849.8865,-340.7442 711.9849,-309.0641 618.6329,-287.6184\"/>\n<polygon fill=\"#000000\" stroke=\"#000000\" points=\"619.1401,-284.1438 608.6103,-285.3159 617.5728,-290.9661 619.1401,-284.1438\"/>\n</g>\n<!-- 10 -->\n<g id=\"node11\" class=\"node\">\n<title>10</title>\n<path fill=\"#90f0b8\" stroke=\"#000000\" d=\"M1110.5,-306C1110.5,-306 961.5,-306 961.5,-306 955.5,-306 949.5,-300 949.5,-294 949.5,-294 949.5,-235 949.5,-235 949.5,-229 955.5,-223 961.5,-223 961.5,-223 1110.5,-223 1110.5,-223 1116.5,-223 1122.5,-229 1122.5,-235 1122.5,-235 1122.5,-294 1122.5,-294 1122.5,-300 1116.5,-306 1110.5,-306\"/>\n<text text-anchor=\"start\" x=\"962\" y=\"-290.8\" font-family=\"Helvetica,sans-Serif\" font-size=\"14.00\" fill=\"#000000\">PACKET_NO ≤ 7972.0</text>\n<text text-anchor=\"start\" x=\"998\" y=\"-275.8\" font-family=\"Helvetica,sans-Serif\" font-size=\"14.00\" fill=\"#000000\">gini = 0.434</text>\n<text text-anchor=\"start\" x=\"984\" y=\"-260.8\" font-family=\"Helvetica,sans-Serif\" font-size=\"14.00\" fill=\"#000000\">samples = 3653</text>\n<text text-anchor=\"start\" x=\"957.5\" y=\"-245.8\" font-family=\"Helvetica,sans-Serif\" font-size=\"14.00\" fill=\"#000000\">value = [1712, 3996, 69]</text>\n<text text-anchor=\"start\" x=\"1007\" y=\"-230.8\" font-family=\"Helvetica,sans-Serif\" font-size=\"14.00\" fill=\"#000000\">class = 0</text>\n</g>\n<!-- 2&#45;&gt;10 -->\n<g id=\"edge10\" class=\"edge\">\n<title>2&#45;&gt;10</title>\n<path fill=\"none\" stroke=\"#000000\" d=\"M1036,-341.8796C1036,-333.6838 1036,-324.9891 1036,-316.5013\"/>\n<polygon fill=\"#000000\" stroke=\"#000000\" points=\"1039.5001,-316.298 1036,-306.2981 1032.5001,-316.2981 1039.5001,-316.298\"/>\n</g>\n<!-- 4 -->\n<g id=\"node5\" class=\"node\">\n<title>4</title>\n<path fill=\"#d3bbf6\" stroke=\"#000000\" d=\"M330.5,-187C330.5,-187 181.5,-187 181.5,-187 175.5,-187 169.5,-181 169.5,-175 169.5,-175 169.5,-116 169.5,-116 169.5,-110 175.5,-104 181.5,-104 181.5,-104 330.5,-104 330.5,-104 336.5,-104 342.5,-110 342.5,-116 342.5,-116 342.5,-175 342.5,-175 342.5,-181 336.5,-187 330.5,-187\"/>\n<text text-anchor=\"start\" x=\"205\" y=\"-171.8\" font-family=\"Helvetica,sans-Serif\" font-size=\"14.00\" fill=\"#000000\">DF_FLAG ≤ 0.5</text>\n<text text-anchor=\"start\" x=\"218\" y=\"-156.8\" font-family=\"Helvetica,sans-Serif\" font-size=\"14.00\" fill=\"#000000\">gini = 0.492</text>\n<text text-anchor=\"start\" x=\"204\" y=\"-141.8\" font-family=\"Helvetica,sans-Serif\" font-size=\"14.00\" fill=\"#000000\">samples = 4040</text>\n<text text-anchor=\"start\" x=\"177.5\" y=\"-126.8\" font-family=\"Helvetica,sans-Serif\" font-size=\"14.00\" fill=\"#000000\">value = [2510, 99, 3887]</text>\n<text text-anchor=\"start\" x=\"229\" y=\"-111.8\" font-family=\"Helvetica,sans-Serif\" font-size=\"14.00\" fill=\"#000000\">class = &#160;</text>\n</g>\n<!-- 3&#45;&gt;4 -->\n<g id=\"edge4\" class=\"edge\">\n<title>3&#45;&gt;4</title>\n<path fill=\"none\" stroke=\"#000000\" d=\"M427.4676,-223.3803C403.0728,-212.3003 376.6019,-200.2772 351.9238,-189.0685\"/>\n<polygon fill=\"#000000\" stroke=\"#000000\" points=\"353.1138,-185.7649 342.5616,-184.8161 350.219,-192.1383 353.1138,-185.7649\"/>\n</g>\n<!-- 7 -->\n<g id=\"node8\" class=\"node\">\n<title>7</title>\n<path fill=\"#e99558\" stroke=\"#000000\" d=\"M588,-187C588,-187 448,-187 448,-187 442,-187 436,-181 436,-175 436,-175 436,-116 436,-116 436,-110 442,-104 448,-104 448,-104 588,-104 588,-104 594,-104 600,-110 600,-116 600,-116 600,-175 600,-175 600,-181 594,-187 588,-187\"/>\n<text text-anchor=\"start\" x=\"483\" y=\"-171.8\" font-family=\"Helvetica,sans-Serif\" font-size=\"14.00\" fill=\"#000000\">TTL ≤ 49.0</text>\n<text text-anchor=\"start\" x=\"480\" y=\"-156.8\" font-family=\"Helvetica,sans-Serif\" font-size=\"14.00\" fill=\"#000000\">gini = 0.238</text>\n<text text-anchor=\"start\" x=\"466\" y=\"-141.8\" font-family=\"Helvetica,sans-Serif\" font-size=\"14.00\" fill=\"#000000\">samples = 1730</text>\n<text text-anchor=\"start\" x=\"444\" y=\"-126.8\" font-family=\"Helvetica,sans-Serif\" font-size=\"14.00\" fill=\"#000000\">value = [2374, 27, 348]</text>\n<text text-anchor=\"start\" x=\"491\" y=\"-111.8\" font-family=\"Helvetica,sans-Serif\" font-size=\"14.00\" fill=\"#000000\">class = [</text>\n</g>\n<!-- 3&#45;&gt;7 -->\n<g id=\"edge7\" class=\"edge\">\n<title>3&#45;&gt;7</title>\n<path fill=\"none\" stroke=\"#000000\" d=\"M518,-222.8796C518,-214.6838 518,-205.9891 518,-197.5013\"/>\n<polygon fill=\"#000000\" stroke=\"#000000\" points=\"521.5001,-197.298 518,-187.2981 514.5001,-197.2981 521.5001,-197.298\"/>\n</g>\n<!-- 5 -->\n<g id=\"node6\" class=\"node\">\n<title>5</title>\n<path fill=\"#e5833c\" stroke=\"#000000\" d=\"M144,-68C144,-68 12,-68 12,-68 6,-68 0,-62 0,-56 0,-56 0,-12 0,-12 0,-6 6,0 12,0 12,0 144,0 144,0 150,0 156,-6 156,-12 156,-12 156,-56 156,-56 156,-62 150,-68 144,-68\"/>\n<text text-anchor=\"start\" x=\"40\" y=\"-52.8\" font-family=\"Helvetica,sans-Serif\" font-size=\"14.00\" fill=\"#000000\">gini = 0.032</text>\n<text text-anchor=\"start\" x=\"26\" y=\"-37.8\" font-family=\"Helvetica,sans-Serif\" font-size=\"14.00\" fill=\"#000000\">samples = 1080</text>\n<text text-anchor=\"start\" x=\"8\" y=\"-22.8\" font-family=\"Helvetica,sans-Serif\" font-size=\"14.00\" fill=\"#000000\">value = [1720, 13, 15]</text>\n<text text-anchor=\"start\" x=\"51\" y=\"-7.8\" font-family=\"Helvetica,sans-Serif\" font-size=\"14.00\" fill=\"#000000\">class = [</text>\n</g>\n<!-- 4&#45;&gt;5 -->\n<g id=\"edge5\" class=\"edge\">\n<title>4&#45;&gt;5</title>\n<path fill=\"none\" stroke=\"#000000\" d=\"M189.7194,-103.9815C173.7901,-94.0034 156.8202,-83.3733 141.043,-73.4904\"/>\n<polygon fill=\"#000000\" stroke=\"#000000\" points=\"142.7474,-70.4281 132.4147,-68.0856 139.0314,-76.3603 142.7474,-70.4281\"/>\n</g>\n<!-- 6 -->\n<g id=\"node7\" class=\"node\">\n<title>6</title>\n<path fill=\"#9d65eb\" stroke=\"#000000\" d=\"M326,-68C326,-68 186,-68 186,-68 180,-68 174,-62 174,-56 174,-56 174,-12 174,-12 174,-6 180,0 186,0 186,0 326,0 326,0 332,0 338,-6 338,-12 338,-12 338,-56 338,-56 338,-62 332,-68 326,-68\"/>\n<text text-anchor=\"start\" x=\"218\" y=\"-52.8\" font-family=\"Helvetica,sans-Serif\" font-size=\"14.00\" fill=\"#000000\">gini = 0.307</text>\n<text text-anchor=\"start\" x=\"204\" y=\"-37.8\" font-family=\"Helvetica,sans-Serif\" font-size=\"14.00\" fill=\"#000000\">samples = 2960</text>\n<text text-anchor=\"start\" x=\"182\" y=\"-22.8\" font-family=\"Helvetica,sans-Serif\" font-size=\"14.00\" fill=\"#000000\">value = [790, 86, 3872]</text>\n<text text-anchor=\"start\" x=\"229\" y=\"-7.8\" font-family=\"Helvetica,sans-Serif\" font-size=\"14.00\" fill=\"#000000\">class = &#160;</text>\n</g>\n<!-- 4&#45;&gt;6 -->\n<g id=\"edge6\" class=\"edge\">\n<title>4&#45;&gt;6</title>\n<path fill=\"none\" stroke=\"#000000\" d=\"M256,-103.9815C256,-95.618 256,-86.7965 256,-78.3409\"/>\n<polygon fill=\"#000000\" stroke=\"#000000\" points=\"259.5001,-78.2636 256,-68.2637 252.5001,-78.2637 259.5001,-78.2636\"/>\n</g>\n<!-- 8 -->\n<g id=\"node9\" class=\"node\">\n<title>8</title>\n<path fill=\"#8c4be7\" stroke=\"#000000\" d=\"M484,-68C484,-68 368,-68 368,-68 362,-68 356,-62 356,-56 356,-56 356,-12 356,-12 356,-6 362,0 368,0 368,0 484,0 484,0 490,0 496,-6 496,-12 496,-12 496,-56 496,-56 496,-62 490,-68 484,-68\"/>\n<text text-anchor=\"start\" x=\"388\" y=\"-52.8\" font-family=\"Helvetica,sans-Serif\" font-size=\"14.00\" fill=\"#000000\">gini = 0.157</text>\n<text text-anchor=\"start\" x=\"378\" y=\"-37.8\" font-family=\"Helvetica,sans-Serif\" font-size=\"14.00\" fill=\"#000000\">samples = 205</text>\n<text text-anchor=\"start\" x=\"364\" y=\"-22.8\" font-family=\"Helvetica,sans-Serif\" font-size=\"14.00\" fill=\"#000000\">value = [23, 5, 303]</text>\n<text text-anchor=\"start\" x=\"399\" y=\"-7.8\" font-family=\"Helvetica,sans-Serif\" font-size=\"14.00\" fill=\"#000000\">class = &#160;</text>\n</g>\n<!-- 7&#45;&gt;8 -->\n<g id=\"edge8\" class=\"edge\">\n<title>7&#45;&gt;8</title>\n<path fill=\"none\" stroke=\"#000000\" d=\"M483.7426,-103.9815C476.2351,-94.8828 468.2804,-85.242 460.7536,-76.1199\"/>\n<polygon fill=\"#000000\" stroke=\"#000000\" points=\"463.3354,-73.7495 454.2714,-68.2637 457.9361,-78.2045 463.3354,-73.7495\"/>\n</g>\n<!-- 9 -->\n<g id=\"node10\" class=\"node\">\n<title>9</title>\n<path fill=\"#e6853f\" stroke=\"#000000\" d=\"M658,-68C658,-68 526,-68 526,-68 520,-68 514,-62 514,-56 514,-56 514,-12 514,-12 514,-6 520,0 526,0 526,0 658,0 658,0 664,0 670,-6 670,-12 670,-12 670,-56 670,-56 670,-62 664,-68 658,-68\"/>\n<text text-anchor=\"start\" x=\"554\" y=\"-52.8\" font-family=\"Helvetica,sans-Serif\" font-size=\"14.00\" fill=\"#000000\">gini = 0.054</text>\n<text text-anchor=\"start\" x=\"540\" y=\"-37.8\" font-family=\"Helvetica,sans-Serif\" font-size=\"14.00\" fill=\"#000000\">samples = 1525</text>\n<text text-anchor=\"start\" x=\"522\" y=\"-22.8\" font-family=\"Helvetica,sans-Serif\" font-size=\"14.00\" fill=\"#000000\">value = [2351, 22, 45]</text>\n<text text-anchor=\"start\" x=\"565\" y=\"-7.8\" font-family=\"Helvetica,sans-Serif\" font-size=\"14.00\" fill=\"#000000\">class = [</text>\n</g>\n<!-- 7&#45;&gt;9 -->\n<g id=\"edge9\" class=\"edge\">\n<title>7&#45;&gt;9</title>\n<path fill=\"none\" stroke=\"#000000\" d=\"M545.5549,-103.9815C551.4715,-95.0666 557.7335,-85.6313 563.6787,-76.6734\"/>\n<polygon fill=\"#000000\" stroke=\"#000000\" points=\"566.6464,-78.5311 569.26,-68.2637 560.814,-74.6602 566.6464,-78.5311\"/>\n</g>\n<!-- 11 -->\n<g id=\"node12\" class=\"node\">\n<title>11</title>\n<path fill=\"#6eeca2\" stroke=\"#000000\" d=\"M1016.5,-187C1016.5,-187 867.5,-187 867.5,-187 861.5,-187 855.5,-181 855.5,-175 855.5,-175 855.5,-116 855.5,-116 855.5,-110 861.5,-104 867.5,-104 867.5,-104 1016.5,-104 1016.5,-104 1022.5,-104 1028.5,-110 1028.5,-116 1028.5,-116 1028.5,-175 1028.5,-175 1028.5,-181 1022.5,-187 1016.5,-187\"/>\n<text text-anchor=\"start\" x=\"868\" y=\"-171.8\" font-family=\"Helvetica,sans-Serif\" font-size=\"14.00\" fill=\"#000000\">PACKET_NO ≤ 5327.5</text>\n<text text-anchor=\"start\" x=\"908.5\" y=\"-156.8\" font-family=\"Helvetica,sans-Serif\" font-size=\"14.00\" fill=\"#000000\">gini = 0.34</text>\n<text text-anchor=\"start\" x=\"890\" y=\"-141.8\" font-family=\"Helvetica,sans-Serif\" font-size=\"14.00\" fill=\"#000000\">samples = 3191</text>\n<text text-anchor=\"start\" x=\"863.5\" y=\"-126.8\" font-family=\"Helvetica,sans-Serif\" font-size=\"14.00\" fill=\"#000000\">value = [1012, 3996, 66]</text>\n<text text-anchor=\"start\" x=\"913\" y=\"-111.8\" font-family=\"Helvetica,sans-Serif\" font-size=\"14.00\" fill=\"#000000\">class = 0</text>\n</g>\n<!-- 10&#45;&gt;11 -->\n<g id=\"edge11\" class=\"edge\">\n<title>10&#45;&gt;11</title>\n<path fill=\"none\" stroke=\"#000000\" d=\"M1003.1234,-222.8796C996.0803,-213.9633 988.5707,-204.4565 981.3126,-195.268\"/>\n<polygon fill=\"#000000\" stroke=\"#000000\" points=\"983.9621,-192.9757 975.017,-187.2981 978.4691,-197.3147 983.9621,-192.9757\"/>\n</g>\n<!-- 14 -->\n<g id=\"node15\" class=\"node\">\n<title>14</title>\n<path fill=\"#e5823a\" stroke=\"#000000\" d=\"M1199,-187C1199,-187 1059,-187 1059,-187 1053,-187 1047,-181 1047,-175 1047,-175 1047,-116 1047,-116 1047,-110 1053,-104 1059,-104 1059,-104 1199,-104 1199,-104 1205,-104 1211,-110 1211,-116 1211,-116 1211,-175 1211,-175 1211,-181 1205,-187 1199,-187\"/>\n<text text-anchor=\"start\" x=\"1055\" y=\"-171.8\" font-family=\"Helvetica,sans-Serif\" font-size=\"14.00\" fill=\"#000000\">PACKET_NO ≤ 9764.5</text>\n<text text-anchor=\"start\" x=\"1091\" y=\"-156.8\" font-family=\"Helvetica,sans-Serif\" font-size=\"14.00\" fill=\"#000000\">gini = 0.008</text>\n<text text-anchor=\"start\" x=\"1081\" y=\"-141.8\" font-family=\"Helvetica,sans-Serif\" font-size=\"14.00\" fill=\"#000000\">samples = 462</text>\n<text text-anchor=\"start\" x=\"1071.5\" y=\"-126.8\" font-family=\"Helvetica,sans-Serif\" font-size=\"14.00\" fill=\"#000000\">value = [700, 0, 3]</text>\n<text text-anchor=\"start\" x=\"1102\" y=\"-111.8\" font-family=\"Helvetica,sans-Serif\" font-size=\"14.00\" fill=\"#000000\">class = [</text>\n</g>\n<!-- 10&#45;&gt;14 -->\n<g id=\"edge14\" class=\"edge\">\n<title>10&#45;&gt;14</title>\n<path fill=\"none\" stroke=\"#000000\" d=\"M1068.5269,-222.8796C1075.4951,-213.9633 1082.9247,-204.4565 1090.1056,-195.268\"/>\n<polygon fill=\"#000000\" stroke=\"#000000\" points=\"1092.9343,-197.3326 1096.3343,-187.2981 1087.4188,-193.0221 1092.9343,-197.3326\"/>\n</g>\n<!-- 12 -->\n<g id=\"node13\" class=\"node\">\n<title>12</title>\n<path fill=\"#7feeae\" stroke=\"#000000\" d=\"M840,-68C840,-68 700,-68 700,-68 694,-68 688,-62 688,-56 688,-56 688,-12 688,-12 688,-6 694,0 700,0 700,0 840,0 840,0 846,0 852,-6 852,-12 852,-12 852,-56 852,-56 852,-62 846,-68 840,-68\"/>\n<text text-anchor=\"start\" x=\"732\" y=\"-52.8\" font-family=\"Helvetica,sans-Serif\" font-size=\"14.00\" fill=\"#000000\">gini = 0.394</text>\n<text text-anchor=\"start\" x=\"718\" y=\"-37.8\" font-family=\"Helvetica,sans-Serif\" font-size=\"14.00\" fill=\"#000000\">samples = 2254</text>\n<text text-anchor=\"start\" x=\"696\" y=\"-22.8\" font-family=\"Helvetica,sans-Serif\" font-size=\"14.00\" fill=\"#000000\">value = [896, 2609, 40]</text>\n<text text-anchor=\"start\" x=\"741\" y=\"-7.8\" font-family=\"Helvetica,sans-Serif\" font-size=\"14.00\" fill=\"#000000\">class = 0</text>\n</g>\n<!-- 11&#45;&gt;12 -->\n<g id=\"edge12\" class=\"edge\">\n<title>11&#45;&gt;12</title>\n<path fill=\"none\" stroke=\"#000000\" d=\"M877.9535,-103.9815C862.7037,-94.0957 846.4669,-83.5701 831.3417,-73.7651\"/>\n<polygon fill=\"#000000\" stroke=\"#000000\" points=\"832.8755,-70.5884 822.5805,-68.0856 829.0678,-76.4622 832.8755,-70.5884\"/>\n</g>\n<!-- 13 -->\n<g id=\"node14\" class=\"node\">\n<title>13</title>\n<path fill=\"#4de88e\" stroke=\"#000000\" d=\"M1022,-68C1022,-68 882,-68 882,-68 876,-68 870,-62 870,-56 870,-56 870,-12 870,-12 870,-6 876,0 882,0 882,0 1022,0 1022,0 1028,0 1034,-6 1034,-12 1034,-12 1034,-56 1034,-56 1034,-62 1028,-68 1022,-68\"/>\n<text text-anchor=\"start\" x=\"914\" y=\"-52.8\" font-family=\"Helvetica,sans-Serif\" font-size=\"14.00\" fill=\"#000000\">gini = 0.171</text>\n<text text-anchor=\"start\" x=\"904\" y=\"-37.8\" font-family=\"Helvetica,sans-Serif\" font-size=\"14.00\" fill=\"#000000\">samples = 937</text>\n<text text-anchor=\"start\" x=\"878\" y=\"-22.8\" font-family=\"Helvetica,sans-Serif\" font-size=\"14.00\" fill=\"#000000\">value = [116, 1387, 26]</text>\n<text text-anchor=\"start\" x=\"923\" y=\"-7.8\" font-family=\"Helvetica,sans-Serif\" font-size=\"14.00\" fill=\"#000000\">class = 0</text>\n</g>\n<!-- 11&#45;&gt;13 -->\n<g id=\"edge13\" class=\"edge\">\n<title>11&#45;&gt;13</title>\n<path fill=\"none\" stroke=\"#000000\" d=\"M945.7236,-103.9815C946.4737,-95.618 947.2649,-86.7965 948.0232,-78.3409\"/>\n<polygon fill=\"#000000\" stroke=\"#000000\" points=\"951.5197,-78.5364 948.927,-68.2637 944.5477,-77.911 951.5197,-78.5364\"/>\n</g>\n<!-- 15 -->\n<g id=\"node16\" class=\"node\">\n<title>15</title>\n<path fill=\"#e5823b\" stroke=\"#000000\" d=\"M1171.5,-68C1171.5,-68 1064.5,-68 1064.5,-68 1058.5,-68 1052.5,-62 1052.5,-56 1052.5,-56 1052.5,-12 1052.5,-12 1052.5,-6 1058.5,0 1064.5,0 1064.5,0 1171.5,0 1171.5,0 1177.5,0 1183.5,-6 1183.5,-12 1183.5,-12 1183.5,-56 1183.5,-56 1183.5,-62 1177.5,-68 1171.5,-68\"/>\n<text text-anchor=\"start\" x=\"1080\" y=\"-52.8\" font-family=\"Helvetica,sans-Serif\" font-size=\"14.00\" fill=\"#000000\">gini = 0.022</text>\n<text text-anchor=\"start\" x=\"1070\" y=\"-37.8\" font-family=\"Helvetica,sans-Serif\" font-size=\"14.00\" fill=\"#000000\">samples = 184</text>\n<text text-anchor=\"start\" x=\"1060.5\" y=\"-22.8\" font-family=\"Helvetica,sans-Serif\" font-size=\"14.00\" fill=\"#000000\">value = [273, 0, 3]</text>\n<text text-anchor=\"start\" x=\"1091\" y=\"-7.8\" font-family=\"Helvetica,sans-Serif\" font-size=\"14.00\" fill=\"#000000\">class = [</text>\n</g>\n<!-- 14&#45;&gt;15 -->\n<g id=\"edge15\" class=\"edge\">\n<title>14&#45;&gt;15</title>\n<path fill=\"none\" stroke=\"#000000\" d=\"M1124.904,-103.9815C1124.0789,-95.618 1123.2086,-86.7965 1122.3744,-78.3409\"/>\n<polygon fill=\"#000000\" stroke=\"#000000\" points=\"1125.8452,-77.8717 1121.3803,-68.2637 1118.8791,-78.559 1125.8452,-77.8717\"/>\n</g>\n<!-- 16 -->\n<g id=\"node17\" class=\"node\">\n<title>16</title>\n<path fill=\"#e58139\" stroke=\"#000000\" d=\"M1320.5,-68C1320.5,-68 1213.5,-68 1213.5,-68 1207.5,-68 1201.5,-62 1201.5,-56 1201.5,-56 1201.5,-12 1201.5,-12 1201.5,-6 1207.5,0 1213.5,0 1213.5,0 1320.5,0 1320.5,0 1326.5,0 1332.5,-6 1332.5,-12 1332.5,-12 1332.5,-56 1332.5,-56 1332.5,-62 1326.5,-68 1320.5,-68\"/>\n<text text-anchor=\"start\" x=\"1237.5\" y=\"-52.8\" font-family=\"Helvetica,sans-Serif\" font-size=\"14.00\" fill=\"#000000\">gini = 0.0</text>\n<text text-anchor=\"start\" x=\"1219\" y=\"-37.8\" font-family=\"Helvetica,sans-Serif\" font-size=\"14.00\" fill=\"#000000\">samples = 278</text>\n<text text-anchor=\"start\" x=\"1209.5\" y=\"-22.8\" font-family=\"Helvetica,sans-Serif\" font-size=\"14.00\" fill=\"#000000\">value = [427, 0, 0]</text>\n<text text-anchor=\"start\" x=\"1240\" y=\"-7.8\" font-family=\"Helvetica,sans-Serif\" font-size=\"14.00\" fill=\"#000000\">class = [</text>\n</g>\n<!-- 14&#45;&gt;16 -->\n<g id=\"edge16\" class=\"edge\">\n<title>14&#45;&gt;16</title>\n<path fill=\"none\" stroke=\"#000000\" d=\"M1180.3861,-103.9815C1192.2161,-94.4232 1204.7864,-84.2668 1216.5751,-74.7419\"/>\n<polygon fill=\"#000000\" stroke=\"#000000\" points=\"1219.0142,-77.2708 1224.5929,-68.2637 1214.6149,-71.826 1219.0142,-77.2708\"/>\n</g>\n<!-- 18 -->\n<g id=\"node19\" class=\"node\">\n<title>18</title>\n<path fill=\"#b388ef\" stroke=\"#000000\" d=\"M1901.5,-306C1901.5,-306 1752.5,-306 1752.5,-306 1746.5,-306 1740.5,-300 1740.5,-294 1740.5,-294 1740.5,-235 1740.5,-235 1740.5,-229 1746.5,-223 1752.5,-223 1752.5,-223 1901.5,-223 1901.5,-223 1907.5,-223 1913.5,-229 1913.5,-235 1913.5,-235 1913.5,-294 1913.5,-294 1913.5,-300 1907.5,-306 1901.5,-306\"/>\n<text text-anchor=\"start\" x=\"1788\" y=\"-290.8\" font-family=\"Helvetica,sans-Serif\" font-size=\"14.00\" fill=\"#000000\">TTL ≤ 118.5</text>\n<text text-anchor=\"start\" x=\"1789\" y=\"-275.8\" font-family=\"Helvetica,sans-Serif\" font-size=\"14.00\" fill=\"#000000\">gini = 0.476</text>\n<text text-anchor=\"start\" x=\"1775\" y=\"-260.8\" font-family=\"Helvetica,sans-Serif\" font-size=\"14.00\" fill=\"#000000\">samples = 2825</text>\n<text text-anchor=\"start\" x=\"1748.5\" y=\"-245.8\" font-family=\"Helvetica,sans-Serif\" font-size=\"14.00\" fill=\"#000000\">value = [457, 944, 3040]</text>\n<text text-anchor=\"start\" x=\"1800\" y=\"-230.8\" font-family=\"Helvetica,sans-Serif\" font-size=\"14.00\" fill=\"#000000\">class = &#160;</text>\n</g>\n<!-- 17&#45;&gt;18 -->\n<g id=\"edge18\" class=\"edge\">\n<title>17&#45;&gt;18</title>\n<path fill=\"none\" stroke=\"#000000\" d=\"M1884.2219,-341.8796C1877.6949,-333.0534 1870.7401,-323.6485 1864.0092,-314.5466\"/>\n<polygon fill=\"#000000\" stroke=\"#000000\" points=\"1866.6695,-312.2574 1857.9095,-306.2981 1861.0412,-316.4195 1866.6695,-312.2574\"/>\n</g>\n<!-- 25 -->\n<g id=\"node26\" class=\"node\">\n<title>25</title>\n<path fill=\"#9f69eb\" stroke=\"#000000\" d=\"M2179.5,-306C2179.5,-306 2022.5,-306 2022.5,-306 2016.5,-306 2010.5,-300 2010.5,-294 2010.5,-294 2010.5,-235 2010.5,-235 2010.5,-229 2016.5,-223 2022.5,-223 2022.5,-223 2179.5,-223 2179.5,-223 2185.5,-223 2191.5,-229 2191.5,-235 2191.5,-235 2191.5,-294 2191.5,-294 2191.5,-300 2185.5,-306 2179.5,-306\"/>\n<text text-anchor=\"start\" x=\"2022.5\" y=\"-290.8\" font-family=\"Helvetica,sans-Serif\" font-size=\"14.00\" fill=\"#000000\">PACKET_NO ≤ 10174.5</text>\n<text text-anchor=\"start\" x=\"2063\" y=\"-275.8\" font-family=\"Helvetica,sans-Serif\" font-size=\"14.00\" fill=\"#000000\">gini = 0.333</text>\n<text text-anchor=\"start\" x=\"2049\" y=\"-260.8\" font-family=\"Helvetica,sans-Serif\" font-size=\"14.00\" fill=\"#000000\">samples = 7218</text>\n<text text-anchor=\"start\" x=\"2018.5\" y=\"-245.8\" font-family=\"Helvetica,sans-Serif\" font-size=\"14.00\" fill=\"#000000\">value = [1923, 393, 9204]</text>\n<text text-anchor=\"start\" x=\"2074\" y=\"-230.8\" font-family=\"Helvetica,sans-Serif\" font-size=\"14.00\" fill=\"#000000\">class = &#160;</text>\n</g>\n<!-- 17&#45;&gt;25 -->\n<g id=\"edge25\" class=\"edge\">\n<title>17&#45;&gt;25</title>\n<path fill=\"none\" stroke=\"#000000\" d=\"M1980.0538,-341.8796C1995.3454,-332.0962 2011.7484,-321.6019 2027.386,-311.5971\"/>\n<polygon fill=\"#000000\" stroke=\"#000000\" points=\"2029.4457,-314.4345 2035.983,-306.0969 2025.6732,-308.538 2029.4457,-314.4345\"/>\n</g>\n<!-- 19 -->\n<g id=\"node20\" class=\"node\">\n<title>19</title>\n<path fill=\"#8b48e7\" stroke=\"#000000\" d=\"M1636,-187C1636,-187 1504,-187 1504,-187 1498,-187 1492,-181 1492,-175 1492,-175 1492,-116 1492,-116 1492,-110 1498,-104 1504,-104 1504,-104 1636,-104 1636,-104 1642,-104 1648,-110 1648,-116 1648,-116 1648,-175 1648,-175 1648,-181 1642,-187 1636,-187\"/>\n<text text-anchor=\"start\" x=\"1531\" y=\"-171.8\" font-family=\"Helvetica,sans-Serif\" font-size=\"14.00\" fill=\"#000000\">TTL ≤ 116.5</text>\n<text text-anchor=\"start\" x=\"1532\" y=\"-156.8\" font-family=\"Helvetica,sans-Serif\" font-size=\"14.00\" fill=\"#000000\">gini = 0.131</text>\n<text text-anchor=\"start\" x=\"1518\" y=\"-141.8\" font-family=\"Helvetica,sans-Serif\" font-size=\"14.00\" fill=\"#000000\">samples = 1628</text>\n<text text-anchor=\"start\" x=\"1500\" y=\"-126.8\" font-family=\"Helvetica,sans-Serif\" font-size=\"14.00\" fill=\"#000000\">value = [179, 0, 2357]</text>\n<text text-anchor=\"start\" x=\"1543\" y=\"-111.8\" font-family=\"Helvetica,sans-Serif\" font-size=\"14.00\" fill=\"#000000\">class = &#160;</text>\n</g>\n<!-- 18&#45;&gt;19 -->\n<g id=\"edge19\" class=\"edge\">\n<title>18&#45;&gt;19</title>\n<path fill=\"none\" stroke=\"#000000\" d=\"M1740.3498,-224.3779C1713.6274,-212.0045 1684.1944,-198.376 1657.4205,-185.9787\"/>\n<polygon fill=\"#000000\" stroke=\"#000000\" points=\"1658.615,-182.6749 1648.0699,-181.6491 1655.6737,-189.027 1658.615,-182.6749\"/>\n</g>\n<!-- 22 -->\n<g id=\"node23\" class=\"node\">\n<title>22</title>\n<path fill=\"#d5f9e4\" stroke=\"#000000\" d=\"M1897,-187C1897,-187 1757,-187 1757,-187 1751,-187 1745,-181 1745,-175 1745,-175 1745,-116 1745,-116 1745,-110 1751,-104 1757,-104 1757,-104 1897,-104 1897,-104 1903,-104 1909,-110 1909,-116 1909,-116 1909,-175 1909,-175 1909,-181 1903,-187 1897,-187\"/>\n<text text-anchor=\"start\" x=\"1753\" y=\"-171.8\" font-family=\"Helvetica,sans-Serif\" font-size=\"14.00\" fill=\"#000000\">PACKET_NO ≤ 4561.0</text>\n<text text-anchor=\"start\" x=\"1789\" y=\"-156.8\" font-family=\"Helvetica,sans-Serif\" font-size=\"14.00\" fill=\"#000000\">gini = 0.605</text>\n<text text-anchor=\"start\" x=\"1775\" y=\"-141.8\" font-family=\"Helvetica,sans-Serif\" font-size=\"14.00\" fill=\"#000000\">samples = 1197</text>\n<text text-anchor=\"start\" x=\"1753\" y=\"-126.8\" font-family=\"Helvetica,sans-Serif\" font-size=\"14.00\" fill=\"#000000\">value = [278, 944, 683]</text>\n<text text-anchor=\"start\" x=\"1798\" y=\"-111.8\" font-family=\"Helvetica,sans-Serif\" font-size=\"14.00\" fill=\"#000000\">class = 0</text>\n</g>\n<!-- 18&#45;&gt;22 -->\n<g id=\"edge22\" class=\"edge\">\n<title>18&#45;&gt;22</title>\n<path fill=\"none\" stroke=\"#000000\" d=\"M1827,-222.8796C1827,-214.6838 1827,-205.9891 1827,-197.5013\"/>\n<polygon fill=\"#000000\" stroke=\"#000000\" points=\"1830.5001,-197.298 1827,-187.2981 1823.5001,-197.2981 1830.5001,-197.298\"/>\n</g>\n<!-- 20 -->\n<g id=\"node21\" class=\"node\">\n<title>20</title>\n<path fill=\"#e58139\" stroke=\"#000000\" d=\"M1469.5,-68C1469.5,-68 1362.5,-68 1362.5,-68 1356.5,-68 1350.5,-62 1350.5,-56 1350.5,-56 1350.5,-12 1350.5,-12 1350.5,-6 1356.5,0 1362.5,0 1362.5,0 1469.5,0 1469.5,0 1475.5,0 1481.5,-6 1481.5,-12 1481.5,-12 1481.5,-56 1481.5,-56 1481.5,-62 1475.5,-68 1469.5,-68\"/>\n<text text-anchor=\"start\" x=\"1386.5\" y=\"-52.8\" font-family=\"Helvetica,sans-Serif\" font-size=\"14.00\" fill=\"#000000\">gini = 0.0</text>\n<text text-anchor=\"start\" x=\"1368\" y=\"-37.8\" font-family=\"Helvetica,sans-Serif\" font-size=\"14.00\" fill=\"#000000\">samples = 107</text>\n<text text-anchor=\"start\" x=\"1358.5\" y=\"-22.8\" font-family=\"Helvetica,sans-Serif\" font-size=\"14.00\" fill=\"#000000\">value = [174, 0, 0]</text>\n<text text-anchor=\"start\" x=\"1389\" y=\"-7.8\" font-family=\"Helvetica,sans-Serif\" font-size=\"14.00\" fill=\"#000000\">class = [</text>\n</g>\n<!-- 19&#45;&gt;20 -->\n<g id=\"edge20\" class=\"edge\">\n<title>19&#45;&gt;20</title>\n<path fill=\"none\" stroke=\"#000000\" d=\"M1512.6561,-103.9815C1499.2006,-94.2394 1484.8869,-83.8759 1471.5133,-74.193\"/>\n<polygon fill=\"#000000\" stroke=\"#000000\" points=\"1473.4763,-71.2933 1463.3238,-68.2637 1469.3711,-76.9632 1473.4763,-71.2933\"/>\n</g>\n<!-- 21 -->\n<g id=\"node22\" class=\"node\">\n<title>21</title>\n<path fill=\"#8139e5\" stroke=\"#000000\" d=\"M1628,-68C1628,-68 1512,-68 1512,-68 1506,-68 1500,-62 1500,-56 1500,-56 1500,-12 1500,-12 1500,-6 1506,0 1512,0 1512,0 1628,0 1628,0 1634,0 1640,-6 1640,-12 1640,-12 1640,-56 1640,-56 1640,-62 1634,-68 1628,-68\"/>\n<text text-anchor=\"start\" x=\"1532\" y=\"-52.8\" font-family=\"Helvetica,sans-Serif\" font-size=\"14.00\" fill=\"#000000\">gini = 0.004</text>\n<text text-anchor=\"start\" x=\"1518\" y=\"-37.8\" font-family=\"Helvetica,sans-Serif\" font-size=\"14.00\" fill=\"#000000\">samples = 1521</text>\n<text text-anchor=\"start\" x=\"1508\" y=\"-22.8\" font-family=\"Helvetica,sans-Serif\" font-size=\"14.00\" fill=\"#000000\">value = [5, 0, 2357]</text>\n<text text-anchor=\"start\" x=\"1543\" y=\"-7.8\" font-family=\"Helvetica,sans-Serif\" font-size=\"14.00\" fill=\"#000000\">class = &#160;</text>\n</g>\n<!-- 19&#45;&gt;21 -->\n<g id=\"edge21\" class=\"edge\">\n<title>19&#45;&gt;21</title>\n<path fill=\"none\" stroke=\"#000000\" d=\"M1570,-103.9815C1570,-95.618 1570,-86.7965 1570,-78.3409\"/>\n<polygon fill=\"#000000\" stroke=\"#000000\" points=\"1573.5001,-78.2636 1570,-68.2637 1566.5001,-78.2637 1573.5001,-78.2636\"/>\n</g>\n<!-- 23 -->\n<g id=\"node24\" class=\"node\">\n<title>23</title>\n<path fill=\"#a1f3c3\" stroke=\"#000000\" d=\"M1810,-68C1810,-68 1670,-68 1670,-68 1664,-68 1658,-62 1658,-56 1658,-56 1658,-12 1658,-12 1658,-6 1664,0 1670,0 1670,0 1810,0 1810,0 1816,0 1822,-6 1822,-12 1822,-12 1822,-56 1822,-56 1822,-62 1816,-68 1810,-68\"/>\n<text text-anchor=\"start\" x=\"1702\" y=\"-52.8\" font-family=\"Helvetica,sans-Serif\" font-size=\"14.00\" fill=\"#000000\">gini = 0.539</text>\n<text text-anchor=\"start\" x=\"1692\" y=\"-37.8\" font-family=\"Helvetica,sans-Serif\" font-size=\"14.00\" fill=\"#000000\">samples = 883</text>\n<text text-anchor=\"start\" x=\"1666\" y=\"-22.8\" font-family=\"Helvetica,sans-Serif\" font-size=\"14.00\" fill=\"#000000\">value = [172, 866, 374]</text>\n<text text-anchor=\"start\" x=\"1711\" y=\"-7.8\" font-family=\"Helvetica,sans-Serif\" font-size=\"14.00\" fill=\"#000000\">class = 0</text>\n</g>\n<!-- 22&#45;&gt;23 -->\n<g id=\"edge23\" class=\"edge\">\n<title>22&#45;&gt;23</title>\n<path fill=\"none\" stroke=\"#000000\" d=\"M1794.6044,-103.9815C1787.5766,-94.9747 1780.1345,-85.4367 1773.0807,-76.3965\"/>\n<polygon fill=\"#000000\" stroke=\"#000000\" points=\"1775.646,-73.9946 1766.7349,-68.2637 1770.1272,-78.3008 1775.646,-73.9946\"/>\n</g>\n<!-- 24 -->\n<g id=\"node25\" class=\"node\">\n<title>24</title>\n<path fill=\"#bd97f1\" stroke=\"#000000\" d=\"M1984,-68C1984,-68 1852,-68 1852,-68 1846,-68 1840,-62 1840,-56 1840,-56 1840,-12 1840,-12 1840,-6 1846,0 1852,0 1852,0 1984,0 1984,0 1990,0 1996,-6 1996,-12 1996,-12 1996,-56 1996,-56 1996,-62 1990,-68 1984,-68\"/>\n<text text-anchor=\"start\" x=\"1880\" y=\"-52.8\" font-family=\"Helvetica,sans-Serif\" font-size=\"14.00\" fill=\"#000000\">gini = 0.536</text>\n<text text-anchor=\"start\" x=\"1870\" y=\"-37.8\" font-family=\"Helvetica,sans-Serif\" font-size=\"14.00\" fill=\"#000000\">samples = 314</text>\n<text text-anchor=\"start\" x=\"1848\" y=\"-22.8\" font-family=\"Helvetica,sans-Serif\" font-size=\"14.00\" fill=\"#000000\">value = [106, 78, 309]</text>\n<text text-anchor=\"start\" x=\"1891\" y=\"-7.8\" font-family=\"Helvetica,sans-Serif\" font-size=\"14.00\" fill=\"#000000\">class = &#160;</text>\n</g>\n<!-- 22&#45;&gt;24 -->\n<g id=\"edge24\" class=\"edge\">\n<title>22&#45;&gt;24</title>\n<path fill=\"none\" stroke=\"#000000\" d=\"M1860.885,-103.9815C1868.3109,-94.8828 1876.1792,-85.242 1883.6241,-76.1199\"/>\n<polygon fill=\"#000000\" stroke=\"#000000\" points=\"1886.4245,-78.224 1890.0359,-68.2637 1881.0014,-73.798 1886.4245,-78.224\"/>\n</g>\n<!-- 26 -->\n<g id=\"node27\" class=\"node\">\n<title>26</title>\n<path fill=\"#9a61ea\" stroke=\"#000000\" d=\"M2179.5,-187C2179.5,-187 2022.5,-187 2022.5,-187 2016.5,-187 2010.5,-181 2010.5,-175 2010.5,-175 2010.5,-116 2010.5,-116 2010.5,-110 2016.5,-104 2022.5,-104 2022.5,-104 2179.5,-104 2179.5,-104 2185.5,-104 2191.5,-110 2191.5,-116 2191.5,-116 2191.5,-175 2191.5,-175 2191.5,-181 2185.5,-187 2179.5,-187\"/>\n<text text-anchor=\"start\" x=\"2062\" y=\"-171.8\" font-family=\"Helvetica,sans-Serif\" font-size=\"14.00\" fill=\"#000000\">TTL ≤ 171.5</text>\n<text text-anchor=\"start\" x=\"2063\" y=\"-156.8\" font-family=\"Helvetica,sans-Serif\" font-size=\"14.00\" fill=\"#000000\">gini = 0.297</text>\n<text text-anchor=\"start\" x=\"2049\" y=\"-141.8\" font-family=\"Helvetica,sans-Serif\" font-size=\"14.00\" fill=\"#000000\">samples = 6974</text>\n<text text-anchor=\"start\" x=\"2018.5\" y=\"-126.8\" font-family=\"Helvetica,sans-Serif\" font-size=\"14.00\" fill=\"#000000\">value = [1545, 393, 9204]</text>\n<text text-anchor=\"start\" x=\"2074\" y=\"-111.8\" font-family=\"Helvetica,sans-Serif\" font-size=\"14.00\" fill=\"#000000\">class = &#160;</text>\n</g>\n<!-- 25&#45;&gt;26 -->\n<g id=\"edge26\" class=\"edge\">\n<title>25&#45;&gt;26</title>\n<path fill=\"none\" stroke=\"#000000\" d=\"M2101,-222.8796C2101,-214.6838 2101,-205.9891 2101,-197.5013\"/>\n<polygon fill=\"#000000\" stroke=\"#000000\" points=\"2104.5001,-197.298 2101,-187.2981 2097.5001,-197.2981 2104.5001,-197.298\"/>\n</g>\n<!-- 29 -->\n<g id=\"node30\" class=\"node\">\n<title>29</title>\n<path fill=\"#e58139\" stroke=\"#000000\" d=\"M2328.5,-179.5C2328.5,-179.5 2221.5,-179.5 2221.5,-179.5 2215.5,-179.5 2209.5,-173.5 2209.5,-167.5 2209.5,-167.5 2209.5,-123.5 2209.5,-123.5 2209.5,-117.5 2215.5,-111.5 2221.5,-111.5 2221.5,-111.5 2328.5,-111.5 2328.5,-111.5 2334.5,-111.5 2340.5,-117.5 2340.5,-123.5 2340.5,-123.5 2340.5,-167.5 2340.5,-167.5 2340.5,-173.5 2334.5,-179.5 2328.5,-179.5\"/>\n<text text-anchor=\"start\" x=\"2245.5\" y=\"-164.3\" font-family=\"Helvetica,sans-Serif\" font-size=\"14.00\" fill=\"#000000\">gini = 0.0</text>\n<text text-anchor=\"start\" x=\"2227\" y=\"-149.3\" font-family=\"Helvetica,sans-Serif\" font-size=\"14.00\" fill=\"#000000\">samples = 244</text>\n<text text-anchor=\"start\" x=\"2217.5\" y=\"-134.3\" font-family=\"Helvetica,sans-Serif\" font-size=\"14.00\" fill=\"#000000\">value = [378, 0, 0]</text>\n<text text-anchor=\"start\" x=\"2248\" y=\"-119.3\" font-family=\"Helvetica,sans-Serif\" font-size=\"14.00\" fill=\"#000000\">class = [</text>\n</g>\n<!-- 25&#45;&gt;29 -->\n<g id=\"edge29\" class=\"edge\">\n<title>25&#45;&gt;29</title>\n<path fill=\"none\" stroke=\"#000000\" d=\"M2161.8568,-222.8796C2179.6271,-210.7263 2199.0017,-197.4759 2216.6153,-185.4297\"/>\n<polygon fill=\"#000000\" stroke=\"#000000\" points=\"2218.8274,-188.1572 2225.1058,-179.623 2214.8757,-182.3792 2218.8274,-188.1572\"/>\n</g>\n<!-- 27 -->\n<g id=\"node28\" class=\"node\">\n<title>27</title>\n<path fill=\"#ad7eee\" stroke=\"#000000\" d=\"M2175.5,-68C2175.5,-68 2026.5,-68 2026.5,-68 2020.5,-68 2014.5,-62 2014.5,-56 2014.5,-56 2014.5,-12 2014.5,-12 2014.5,-6 2020.5,0 2026.5,0 2026.5,0 2175.5,0 2175.5,0 2181.5,0 2187.5,-6 2187.5,-12 2187.5,-12 2187.5,-56 2187.5,-56 2187.5,-62 2181.5,-68 2175.5,-68\"/>\n<text text-anchor=\"start\" x=\"2067.5\" y=\"-52.8\" font-family=\"Helvetica,sans-Serif\" font-size=\"14.00\" fill=\"#000000\">gini = 0.39</text>\n<text text-anchor=\"start\" x=\"2049\" y=\"-37.8\" font-family=\"Helvetica,sans-Serif\" font-size=\"14.00\" fill=\"#000000\">samples = 3794</text>\n<text text-anchor=\"start\" x=\"2022.5\" y=\"-22.8\" font-family=\"Helvetica,sans-Serif\" font-size=\"14.00\" fill=\"#000000\">value = [1507, 64, 4474]</text>\n<text text-anchor=\"start\" x=\"2074\" y=\"-7.8\" font-family=\"Helvetica,sans-Serif\" font-size=\"14.00\" fill=\"#000000\">class = &#160;</text>\n</g>\n<!-- 26&#45;&gt;27 -->\n<g id=\"edge27\" class=\"edge\">\n<title>26&#45;&gt;27</title>\n<path fill=\"none\" stroke=\"#000000\" d=\"M2101,-103.9815C2101,-95.618 2101,-86.7965 2101,-78.3409\"/>\n<polygon fill=\"#000000\" stroke=\"#000000\" points=\"2104.5001,-78.2636 2101,-68.2637 2097.5001,-78.2637 2104.5001,-78.2636\"/>\n</g>\n<!-- 28 -->\n<g id=\"node29\" class=\"node\">\n<title>28</title>\n<path fill=\"#8b48e7\" stroke=\"#000000\" d=\"M2358,-68C2358,-68 2218,-68 2218,-68 2212,-68 2206,-62 2206,-56 2206,-56 2206,-12 2206,-12 2206,-6 2212,0 2218,0 2218,0 2358,0 2358,0 2364,0 2370,-6 2370,-12 2370,-12 2370,-56 2370,-56 2370,-62 2364,-68 2358,-68\"/>\n<text text-anchor=\"start\" x=\"2250\" y=\"-52.8\" font-family=\"Helvetica,sans-Serif\" font-size=\"14.00\" fill=\"#000000\">gini = 0.135</text>\n<text text-anchor=\"start\" x=\"2236\" y=\"-37.8\" font-family=\"Helvetica,sans-Serif\" font-size=\"14.00\" fill=\"#000000\">samples = 3180</text>\n<text text-anchor=\"start\" x=\"2214\" y=\"-22.8\" font-family=\"Helvetica,sans-Serif\" font-size=\"14.00\" fill=\"#000000\">value = [38, 329, 4730]</text>\n<text text-anchor=\"start\" x=\"2261\" y=\"-7.8\" font-family=\"Helvetica,sans-Serif\" font-size=\"14.00\" fill=\"#000000\">class = &#160;</text>\n</g>\n<!-- 26&#45;&gt;28 -->\n<g id=\"edge28\" class=\"edge\">\n<title>26&#45;&gt;28</title>\n<path fill=\"none\" stroke=\"#000000\" d=\"M2170.6319,-103.9815C2187.5215,-93.911 2205.5247,-83.1764 2222.2295,-73.2161\"/>\n<polygon fill=\"#000000\" stroke=\"#000000\" points=\"2224.0373,-76.2132 2230.834,-68.0856 2220.4524,-70.2008 2224.0373,-76.2132\"/>\n</g>\n<!-- 31 -->\n<g id=\"node32\" class=\"node\">\n<title>31</title>\n<path fill=\"#ede3fb\" stroke=\"#000000\" d=\"M2500,-425C2500,-425 2368,-425 2368,-425 2362,-425 2356,-419 2356,-413 2356,-413 2356,-354 2356,-354 2356,-348 2362,-342 2368,-342 2368,-342 2500,-342 2500,-342 2506,-342 2512,-348 2512,-354 2512,-354 2512,-413 2512,-413 2512,-419 2506,-425 2500,-425\"/>\n<text text-anchor=\"start\" x=\"2364\" y=\"-409.8\" font-family=\"Helvetica,sans-Serif\" font-size=\"14.00\" fill=\"#000000\">PACKET_NO ≤ 533.0</text>\n<text text-anchor=\"start\" x=\"2396\" y=\"-394.8\" font-family=\"Helvetica,sans-Serif\" font-size=\"14.00\" fill=\"#000000\">gini = 0.497</text>\n<text text-anchor=\"start\" x=\"2390\" y=\"-379.8\" font-family=\"Helvetica,sans-Serif\" font-size=\"14.00\" fill=\"#000000\">samples = 17</text>\n<text text-anchor=\"start\" x=\"2376.5\" y=\"-364.8\" font-family=\"Helvetica,sans-Serif\" font-size=\"14.00\" fill=\"#000000\">value = [0, 12, 14]</text>\n<text text-anchor=\"start\" x=\"2407\" y=\"-349.8\" font-family=\"Helvetica,sans-Serif\" font-size=\"14.00\" fill=\"#000000\">class = &#160;</text>\n</g>\n<!-- 30&#45;&gt;31 -->\n<g id=\"edge31\" class=\"edge\">\n<title>30&#45;&gt;31</title>\n<path fill=\"none\" stroke=\"#000000\" d=\"M2434,-460.8796C2434,-452.6838 2434,-443.9891 2434,-435.5013\"/>\n<polygon fill=\"#000000\" stroke=\"#000000\" points=\"2437.5001,-435.298 2434,-425.2981 2430.5001,-435.2981 2437.5001,-435.298\"/>\n</g>\n<!-- 38 -->\n<g id=\"node39\" class=\"node\">\n<title>38</title>\n<path fill=\"#9558e9\" stroke=\"#000000\" d=\"M2809,-425C2809,-425 2669,-425 2669,-425 2663,-425 2657,-419 2657,-413 2657,-413 2657,-354 2657,-354 2657,-348 2663,-342 2669,-342 2669,-342 2809,-342 2809,-342 2815,-342 2821,-348 2821,-354 2821,-354 2821,-413 2821,-413 2821,-419 2815,-425 2809,-425\"/>\n<text text-anchor=\"start\" x=\"2665\" y=\"-409.8\" font-family=\"Helvetica,sans-Serif\" font-size=\"14.00\" fill=\"#000000\">PACKET_NO ≤ 5760.5</text>\n<text text-anchor=\"start\" x=\"2701\" y=\"-394.8\" font-family=\"Helvetica,sans-Serif\" font-size=\"14.00\" fill=\"#000000\">gini = 0.234</text>\n<text text-anchor=\"start\" x=\"2695\" y=\"-379.8\" font-family=\"Helvetica,sans-Serif\" font-size=\"14.00\" fill=\"#000000\">samples = 40</text>\n<text text-anchor=\"start\" x=\"2685.5\" y=\"-364.8\" font-family=\"Helvetica,sans-Serif\" font-size=\"14.00\" fill=\"#000000\">value = [0, 8, 51]</text>\n<text text-anchor=\"start\" x=\"2712\" y=\"-349.8\" font-family=\"Helvetica,sans-Serif\" font-size=\"14.00\" fill=\"#000000\">class = &#160;</text>\n</g>\n<!-- 30&#45;&gt;38 -->\n<g id=\"edge38\" class=\"edge\">\n<title>30&#45;&gt;38</title>\n<path fill=\"none\" stroke=\"#000000\" d=\"M2535.5606,-462.8747C2571.517,-448.8458 2611.7418,-433.1515 2646.8702,-419.4457\"/>\n<polygon fill=\"#000000\" stroke=\"#000000\" points=\"2648.5915,-422.5312 2656.6353,-415.6357 2646.0471,-416.01 2648.5915,-422.5312\"/>\n</g>\n<!-- 32 -->\n<g id=\"node33\" class=\"node\">\n<title>32</title>\n<path fill=\"#39e581\" stroke=\"#000000\" d=\"M2400.5,-298.5C2400.5,-298.5 2309.5,-298.5 2309.5,-298.5 2303.5,-298.5 2297.5,-292.5 2297.5,-286.5 2297.5,-286.5 2297.5,-242.5 2297.5,-242.5 2297.5,-236.5 2303.5,-230.5 2309.5,-230.5 2309.5,-230.5 2400.5,-230.5 2400.5,-230.5 2406.5,-230.5 2412.5,-236.5 2412.5,-242.5 2412.5,-242.5 2412.5,-286.5 2412.5,-286.5 2412.5,-292.5 2406.5,-298.5 2400.5,-298.5\"/>\n<text text-anchor=\"start\" x=\"2325.5\" y=\"-283.3\" font-family=\"Helvetica,sans-Serif\" font-size=\"14.00\" fill=\"#000000\">gini = 0.0</text>\n<text text-anchor=\"start\" x=\"2315.5\" y=\"-268.3\" font-family=\"Helvetica,sans-Serif\" font-size=\"14.00\" fill=\"#000000\">samples = 1</text>\n<text text-anchor=\"start\" x=\"2305.5\" y=\"-253.3\" font-family=\"Helvetica,sans-Serif\" font-size=\"14.00\" fill=\"#000000\">value = [0, 3, 0]</text>\n<text text-anchor=\"start\" x=\"2326\" y=\"-238.3\" font-family=\"Helvetica,sans-Serif\" font-size=\"14.00\" fill=\"#000000\">class = 0</text>\n</g>\n<!-- 31&#45;&gt;32 -->\n<g id=\"edge32\" class=\"edge\">\n<title>31&#45;&gt;32</title>\n<path fill=\"none\" stroke=\"#000000\" d=\"M2406.3696,-341.8796C2398.9237,-330.6636 2390.8575,-318.5131 2383.3718,-307.2372\"/>\n<polygon fill=\"#000000\" stroke=\"#000000\" points=\"2386.2273,-305.2104 2377.7805,-298.8149 2380.3954,-309.082 2386.2273,-305.2104\"/>\n</g>\n<!-- 33 -->\n<g id=\"node34\" class=\"node\">\n<title>33</title>\n<path fill=\"#d2b8f6\" stroke=\"#000000\" d=\"M2583,-306C2583,-306 2443,-306 2443,-306 2437,-306 2431,-300 2431,-294 2431,-294 2431,-235 2431,-235 2431,-229 2437,-223 2443,-223 2443,-223 2583,-223 2583,-223 2589,-223 2595,-229 2595,-235 2595,-235 2595,-294 2595,-294 2595,-300 2589,-306 2583,-306\"/>\n<text text-anchor=\"start\" x=\"2439\" y=\"-290.8\" font-family=\"Helvetica,sans-Serif\" font-size=\"14.00\" fill=\"#000000\">PACKET_NO ≤ 4505.0</text>\n<text text-anchor=\"start\" x=\"2475\" y=\"-275.8\" font-family=\"Helvetica,sans-Serif\" font-size=\"14.00\" fill=\"#000000\">gini = 0.476</text>\n<text text-anchor=\"start\" x=\"2469\" y=\"-260.8\" font-family=\"Helvetica,sans-Serif\" font-size=\"14.00\" fill=\"#000000\">samples = 16</text>\n<text text-anchor=\"start\" x=\"2459.5\" y=\"-245.8\" font-family=\"Helvetica,sans-Serif\" font-size=\"14.00\" fill=\"#000000\">value = [0, 9, 14]</text>\n<text text-anchor=\"start\" x=\"2486\" y=\"-230.8\" font-family=\"Helvetica,sans-Serif\" font-size=\"14.00\" fill=\"#000000\">class = &#160;</text>\n</g>\n<!-- 31&#45;&gt;33 -->\n<g id=\"edge33\" class=\"edge\">\n<title>31&#45;&gt;33</title>\n<path fill=\"none\" stroke=\"#000000\" d=\"M2461.6304,-341.8796C2467.43,-333.1434 2473.6059,-323.8404 2479.5908,-314.8253\"/>\n<polygon fill=\"#000000\" stroke=\"#000000\" points=\"2482.6368,-316.5652 2485.2517,-306.2981 2476.8049,-312.6935 2482.6368,-316.5652\"/>\n</g>\n<!-- 34 -->\n<g id=\"node35\" class=\"node\">\n<title>34</title>\n<path fill=\"#8139e5\" stroke=\"#000000\" d=\"M2467.5,-179.5C2467.5,-179.5 2376.5,-179.5 2376.5,-179.5 2370.5,-179.5 2364.5,-173.5 2364.5,-167.5 2364.5,-167.5 2364.5,-123.5 2364.5,-123.5 2364.5,-117.5 2370.5,-111.5 2376.5,-111.5 2376.5,-111.5 2467.5,-111.5 2467.5,-111.5 2473.5,-111.5 2479.5,-117.5 2479.5,-123.5 2479.5,-123.5 2479.5,-167.5 2479.5,-167.5 2479.5,-173.5 2473.5,-179.5 2467.5,-179.5\"/>\n<text text-anchor=\"start\" x=\"2392.5\" y=\"-164.3\" font-family=\"Helvetica,sans-Serif\" font-size=\"14.00\" fill=\"#000000\">gini = 0.0</text>\n<text text-anchor=\"start\" x=\"2382.5\" y=\"-149.3\" font-family=\"Helvetica,sans-Serif\" font-size=\"14.00\" fill=\"#000000\">samples = 4</text>\n<text text-anchor=\"start\" x=\"2372.5\" y=\"-134.3\" font-family=\"Helvetica,sans-Serif\" font-size=\"14.00\" fill=\"#000000\">value = [0, 0, 8]</text>\n<text text-anchor=\"start\" x=\"2395\" y=\"-119.3\" font-family=\"Helvetica,sans-Serif\" font-size=\"14.00\" fill=\"#000000\">class = &#160;</text>\n</g>\n<!-- 33&#45;&gt;34 -->\n<g id=\"edge34\" class=\"edge\">\n<title>33&#45;&gt;34</title>\n<path fill=\"none\" stroke=\"#000000\" d=\"M2481.1726,-222.8796C2472.5116,-211.5536 2463.1219,-199.2748 2454.428,-187.9058\"/>\n<polygon fill=\"#000000\" stroke=\"#000000\" points=\"2457.0956,-185.6324 2448.2408,-179.8149 2451.5351,-189.8846 2457.0956,-185.6324\"/>\n</g>\n<!-- 35 -->\n<g id=\"node36\" class=\"node\">\n<title>35</title>\n<path fill=\"#bdf6d5\" stroke=\"#000000\" d=\"M2600.5,-187C2600.5,-187 2509.5,-187 2509.5,-187 2503.5,-187 2497.5,-181 2497.5,-175 2497.5,-175 2497.5,-116 2497.5,-116 2497.5,-110 2503.5,-104 2509.5,-104 2509.5,-104 2600.5,-104 2600.5,-104 2606.5,-104 2612.5,-110 2612.5,-116 2612.5,-116 2612.5,-175 2612.5,-175 2612.5,-181 2606.5,-187 2600.5,-187\"/>\n<text text-anchor=\"start\" x=\"2520\" y=\"-171.8\" font-family=\"Helvetica,sans-Serif\" font-size=\"14.00\" fill=\"#000000\">TTL ≤ 96.0</text>\n<text text-anchor=\"start\" x=\"2521.5\" y=\"-156.8\" font-family=\"Helvetica,sans-Serif\" font-size=\"14.00\" fill=\"#000000\">gini = 0.48</text>\n<text text-anchor=\"start\" x=\"2511\" y=\"-141.8\" font-family=\"Helvetica,sans-Serif\" font-size=\"14.00\" fill=\"#000000\">samples = 12</text>\n<text text-anchor=\"start\" x=\"2505.5\" y=\"-126.8\" font-family=\"Helvetica,sans-Serif\" font-size=\"14.00\" fill=\"#000000\">value = [0, 9, 6]</text>\n<text text-anchor=\"start\" x=\"2526\" y=\"-111.8\" font-family=\"Helvetica,sans-Serif\" font-size=\"14.00\" fill=\"#000000\">class = 0</text>\n</g>\n<!-- 33&#45;&gt;35 -->\n<g id=\"edge35\" class=\"edge\">\n<title>33&#45;&gt;35</title>\n<path fill=\"none\" stroke=\"#000000\" d=\"M2527.6896,-222.8796C2530.6458,-214.5037 2533.7859,-205.6067 2536.844,-196.942\"/>\n<polygon fill=\"#000000\" stroke=\"#000000\" points=\"2540.2199,-197.8929 2540.2477,-187.2981 2533.619,-195.5631 2540.2199,-197.8929\"/>\n</g>\n<!-- 36 -->\n<g id=\"node37\" class=\"node\">\n<title>36</title>\n<path fill=\"#39e581\" stroke=\"#000000\" d=\"M2491.5,-68C2491.5,-68 2400.5,-68 2400.5,-68 2394.5,-68 2388.5,-62 2388.5,-56 2388.5,-56 2388.5,-12 2388.5,-12 2388.5,-6 2394.5,0 2400.5,0 2400.5,0 2491.5,0 2491.5,0 2497.5,0 2503.5,-6 2503.5,-12 2503.5,-12 2503.5,-56 2503.5,-56 2503.5,-62 2497.5,-68 2491.5,-68\"/>\n<text text-anchor=\"start\" x=\"2416.5\" y=\"-52.8\" font-family=\"Helvetica,sans-Serif\" font-size=\"14.00\" fill=\"#000000\">gini = 0.0</text>\n<text text-anchor=\"start\" x=\"2406.5\" y=\"-37.8\" font-family=\"Helvetica,sans-Serif\" font-size=\"14.00\" fill=\"#000000\">samples = 7</text>\n<text text-anchor=\"start\" x=\"2396.5\" y=\"-22.8\" font-family=\"Helvetica,sans-Serif\" font-size=\"14.00\" fill=\"#000000\">value = [0, 9, 0]</text>\n<text text-anchor=\"start\" x=\"2417\" y=\"-7.8\" font-family=\"Helvetica,sans-Serif\" font-size=\"14.00\" fill=\"#000000\">class = 0</text>\n</g>\n<!-- 35&#45;&gt;36 -->\n<g id=\"edge36\" class=\"edge\">\n<title>35&#45;&gt;36</title>\n<path fill=\"none\" stroke=\"#000000\" d=\"M2514.4124,-103.9815C2505.338,-94.6989 2495.7121,-84.8522 2486.6357,-75.5677\"/>\n<polygon fill=\"#000000\" stroke=\"#000000\" points=\"2488.9887,-72.9678 2479.4954,-68.2637 2483.9831,-77.8611 2488.9887,-72.9678\"/>\n</g>\n<!-- 37 -->\n<g id=\"node38\" class=\"node\">\n<title>37</title>\n<path fill=\"#8139e5\" stroke=\"#000000\" d=\"M2624.5,-68C2624.5,-68 2533.5,-68 2533.5,-68 2527.5,-68 2521.5,-62 2521.5,-56 2521.5,-56 2521.5,-12 2521.5,-12 2521.5,-6 2527.5,0 2533.5,0 2533.5,0 2624.5,0 2624.5,0 2630.5,0 2636.5,-6 2636.5,-12 2636.5,-12 2636.5,-56 2636.5,-56 2636.5,-62 2630.5,-68 2624.5,-68\"/>\n<text text-anchor=\"start\" x=\"2549.5\" y=\"-52.8\" font-family=\"Helvetica,sans-Serif\" font-size=\"14.00\" fill=\"#000000\">gini = 0.0</text>\n<text text-anchor=\"start\" x=\"2539.5\" y=\"-37.8\" font-family=\"Helvetica,sans-Serif\" font-size=\"14.00\" fill=\"#000000\">samples = 5</text>\n<text text-anchor=\"start\" x=\"2529.5\" y=\"-22.8\" font-family=\"Helvetica,sans-Serif\" font-size=\"14.00\" fill=\"#000000\">value = [0, 0, 6]</text>\n<text text-anchor=\"start\" x=\"2552\" y=\"-7.8\" font-family=\"Helvetica,sans-Serif\" font-size=\"14.00\" fill=\"#000000\">class = &#160;</text>\n</g>\n<!-- 35&#45;&gt;37 -->\n<g id=\"edge37\" class=\"edge\">\n<title>35&#45;&gt;37</title>\n<path fill=\"none\" stroke=\"#000000\" d=\"M2563.9367,-103.9815C2565.7567,-95.5261 2567.6775,-86.6026 2569.5157,-78.0623\"/>\n<polygon fill=\"#000000\" stroke=\"#000000\" points=\"2572.9421,-78.7763 2571.6249,-68.2637 2566.0989,-77.3032 2572.9421,-78.7763\"/>\n</g>\n<!-- 39 -->\n<g id=\"node40\" class=\"node\">\n<title>39</title>\n<path fill=\"#8742e6\" stroke=\"#000000\" d=\"M2809,-306C2809,-306 2669,-306 2669,-306 2663,-306 2657,-300 2657,-294 2657,-294 2657,-235 2657,-235 2657,-229 2663,-223 2669,-223 2669,-223 2809,-223 2809,-223 2815,-223 2821,-229 2821,-235 2821,-235 2821,-294 2821,-294 2821,-300 2815,-306 2809,-306\"/>\n<text text-anchor=\"start\" x=\"2665\" y=\"-290.8\" font-family=\"Helvetica,sans-Serif\" font-size=\"14.00\" fill=\"#000000\">PACKET_NO ≤ 1637.5</text>\n<text text-anchor=\"start\" x=\"2701\" y=\"-275.8\" font-family=\"Helvetica,sans-Serif\" font-size=\"14.00\" fill=\"#000000\">gini = 0.087</text>\n<text text-anchor=\"start\" x=\"2695\" y=\"-260.8\" font-family=\"Helvetica,sans-Serif\" font-size=\"14.00\" fill=\"#000000\">samples = 30</text>\n<text text-anchor=\"start\" x=\"2685.5\" y=\"-245.8\" font-family=\"Helvetica,sans-Serif\" font-size=\"14.00\" fill=\"#000000\">value = [0, 2, 42]</text>\n<text text-anchor=\"start\" x=\"2712\" y=\"-230.8\" font-family=\"Helvetica,sans-Serif\" font-size=\"14.00\" fill=\"#000000\">class = &#160;</text>\n</g>\n<!-- 38&#45;&gt;39 -->\n<g id=\"edge39\" class=\"edge\">\n<title>38&#45;&gt;39</title>\n<path fill=\"none\" stroke=\"#000000\" d=\"M2739,-341.8796C2739,-333.6838 2739,-324.9891 2739,-316.5013\"/>\n<polygon fill=\"#000000\" stroke=\"#000000\" points=\"2742.5001,-316.298 2739,-306.2981 2735.5001,-316.2981 2742.5001,-316.298\"/>\n</g>\n<!-- 44 -->\n<g id=\"node45\" class=\"node\">\n<title>44</title>\n<path fill=\"#d5bdf6\" stroke=\"#000000\" d=\"M3140.5,-306C3140.5,-306 2953.5,-306 2953.5,-306 2947.5,-306 2941.5,-300 2941.5,-294 2941.5,-294 2941.5,-235 2941.5,-235 2941.5,-229 2947.5,-223 2953.5,-223 2953.5,-223 3140.5,-223 3140.5,-223 3146.5,-223 3152.5,-229 3152.5,-235 3152.5,-235 3152.5,-294 3152.5,-294 3152.5,-300 3146.5,-306 3140.5,-306\"/>\n<text text-anchor=\"start\" x=\"2949.5\" y=\"-290.8\" font-family=\"Helvetica,sans-Serif\" font-size=\"14.00\" fill=\"#000000\">TLS_CIPHER_SUITES ≤ 12.0</text>\n<text text-anchor=\"start\" x=\"3013.5\" y=\"-275.8\" font-family=\"Helvetica,sans-Serif\" font-size=\"14.00\" fill=\"#000000\">gini = 0.48</text>\n<text text-anchor=\"start\" x=\"3003\" y=\"-260.8\" font-family=\"Helvetica,sans-Serif\" font-size=\"14.00\" fill=\"#000000\">samples = 10</text>\n<text text-anchor=\"start\" x=\"2997.5\" y=\"-245.8\" font-family=\"Helvetica,sans-Serif\" font-size=\"14.00\" fill=\"#000000\">value = [0, 6, 9]</text>\n<text text-anchor=\"start\" x=\"3020\" y=\"-230.8\" font-family=\"Helvetica,sans-Serif\" font-size=\"14.00\" fill=\"#000000\">class = &#160;</text>\n</g>\n<!-- 38&#45;&gt;44 -->\n<g id=\"edge44\" class=\"edge\">\n<title>38&#45;&gt;44</title>\n<path fill=\"none\" stroke=\"#000000\" d=\"M2821.1337,-351.7665C2854.996,-338.6834 2894.8341,-323.2914 2931.5482,-309.1064\"/>\n<polygon fill=\"#000000\" stroke=\"#000000\" points=\"2933.2429,-312.2038 2941.3094,-305.335 2930.72,-305.6743 2933.2429,-312.2038\"/>\n</g>\n<!-- 40 -->\n<g id=\"node41\" class=\"node\">\n<title>40</title>\n<path fill=\"#8139e5\" stroke=\"#000000\" d=\"M2746.5,-179.5C2746.5,-179.5 2647.5,-179.5 2647.5,-179.5 2641.5,-179.5 2635.5,-173.5 2635.5,-167.5 2635.5,-167.5 2635.5,-123.5 2635.5,-123.5 2635.5,-117.5 2641.5,-111.5 2647.5,-111.5 2647.5,-111.5 2746.5,-111.5 2746.5,-111.5 2752.5,-111.5 2758.5,-117.5 2758.5,-123.5 2758.5,-123.5 2758.5,-167.5 2758.5,-167.5 2758.5,-173.5 2752.5,-179.5 2746.5,-179.5\"/>\n<text text-anchor=\"start\" x=\"2667.5\" y=\"-164.3\" font-family=\"Helvetica,sans-Serif\" font-size=\"14.00\" fill=\"#000000\">gini = 0.0</text>\n<text text-anchor=\"start\" x=\"2653\" y=\"-149.3\" font-family=\"Helvetica,sans-Serif\" font-size=\"14.00\" fill=\"#000000\">samples = 15</text>\n<text text-anchor=\"start\" x=\"2643.5\" y=\"-134.3\" font-family=\"Helvetica,sans-Serif\" font-size=\"14.00\" fill=\"#000000\">value = [0, 0, 24]</text>\n<text text-anchor=\"start\" x=\"2670\" y=\"-119.3\" font-family=\"Helvetica,sans-Serif\" font-size=\"14.00\" fill=\"#000000\">class = &#160;</text>\n</g>\n<!-- 39&#45;&gt;40 -->\n<g id=\"edge40\" class=\"edge\">\n<title>39&#45;&gt;40</title>\n<path fill=\"none\" stroke=\"#000000\" d=\"M2724.3104,-222.8796C2720.5071,-212.1034 2716.3993,-200.4647 2712.5533,-189.5677\"/>\n<polygon fill=\"#000000\" stroke=\"#000000\" points=\"2715.7399,-188.08 2709.1112,-179.8149 2709.139,-190.4097 2715.7399,-188.08\"/>\n</g>\n<!-- 41 -->\n<g id=\"node42\" class=\"node\">\n<title>41</title>\n<path fill=\"#8f4fe8\" stroke=\"#000000\" d=\"M2887.5,-187C2887.5,-187 2788.5,-187 2788.5,-187 2782.5,-187 2776.5,-181 2776.5,-175 2776.5,-175 2776.5,-116 2776.5,-116 2776.5,-110 2782.5,-104 2788.5,-104 2788.5,-104 2887.5,-104 2887.5,-104 2893.5,-104 2899.5,-110 2899.5,-116 2899.5,-116 2899.5,-175 2899.5,-175 2899.5,-181 2893.5,-187 2887.5,-187\"/>\n<text text-anchor=\"start\" x=\"2803\" y=\"-171.8\" font-family=\"Helvetica,sans-Serif\" font-size=\"14.00\" fill=\"#000000\">TTL ≤ 96.0</text>\n<text text-anchor=\"start\" x=\"2804.5\" y=\"-156.8\" font-family=\"Helvetica,sans-Serif\" font-size=\"14.00\" fill=\"#000000\">gini = 0.18</text>\n<text text-anchor=\"start\" x=\"2794\" y=\"-141.8\" font-family=\"Helvetica,sans-Serif\" font-size=\"14.00\" fill=\"#000000\">samples = 15</text>\n<text text-anchor=\"start\" x=\"2784.5\" y=\"-126.8\" font-family=\"Helvetica,sans-Serif\" font-size=\"14.00\" fill=\"#000000\">value = [0, 2, 18]</text>\n<text text-anchor=\"start\" x=\"2811\" y=\"-111.8\" font-family=\"Helvetica,sans-Serif\" font-size=\"14.00\" fill=\"#000000\">class = &#160;</text>\n</g>\n<!-- 39&#45;&gt;41 -->\n<g id=\"edge41\" class=\"edge\">\n<title>39&#45;&gt;41</title>\n<path fill=\"none\" stroke=\"#000000\" d=\"M2773.6254,-222.8796C2781.118,-213.8733 2789.1119,-204.2644 2796.8279,-194.9897\"/>\n<polygon fill=\"#000000\" stroke=\"#000000\" points=\"2799.5219,-197.224 2803.2268,-187.2981 2794.1407,-192.7472 2799.5219,-197.224\"/>\n</g>\n<!-- 42 -->\n<g id=\"node43\" class=\"node\">\n<title>42</title>\n<path fill=\"#39e581\" stroke=\"#000000\" d=\"M2757.5,-68C2757.5,-68 2666.5,-68 2666.5,-68 2660.5,-68 2654.5,-62 2654.5,-56 2654.5,-56 2654.5,-12 2654.5,-12 2654.5,-6 2660.5,0 2666.5,0 2666.5,0 2757.5,0 2757.5,0 2763.5,0 2769.5,-6 2769.5,-12 2769.5,-12 2769.5,-56 2769.5,-56 2769.5,-62 2763.5,-68 2757.5,-68\"/>\n<text text-anchor=\"start\" x=\"2682.5\" y=\"-52.8\" font-family=\"Helvetica,sans-Serif\" font-size=\"14.00\" fill=\"#000000\">gini = 0.0</text>\n<text text-anchor=\"start\" x=\"2672.5\" y=\"-37.8\" font-family=\"Helvetica,sans-Serif\" font-size=\"14.00\" fill=\"#000000\">samples = 2</text>\n<text text-anchor=\"start\" x=\"2662.5\" y=\"-22.8\" font-family=\"Helvetica,sans-Serif\" font-size=\"14.00\" fill=\"#000000\">value = [0, 2, 0]</text>\n<text text-anchor=\"start\" x=\"2683\" y=\"-7.8\" font-family=\"Helvetica,sans-Serif\" font-size=\"14.00\" fill=\"#000000\">class = 0</text>\n</g>\n<!-- 41&#45;&gt;42 -->\n<g id=\"edge42\" class=\"edge\">\n<title>41&#45;&gt;42</title>\n<path fill=\"none\" stroke=\"#000000\" d=\"M2791.0823,-103.9815C2780.3848,-94.5151 2769.0244,-84.462 2758.3508,-75.0168\"/>\n<polygon fill=\"#000000\" stroke=\"#000000\" points=\"2760.5278,-72.2696 2750.7195,-68.2637 2755.8889,-77.5118 2760.5278,-72.2696\"/>\n</g>\n<!-- 43 -->\n<g id=\"node44\" class=\"node\">\n<title>43</title>\n<path fill=\"#8139e5\" stroke=\"#000000\" d=\"M2898.5,-68C2898.5,-68 2799.5,-68 2799.5,-68 2793.5,-68 2787.5,-62 2787.5,-56 2787.5,-56 2787.5,-12 2787.5,-12 2787.5,-6 2793.5,0 2799.5,0 2799.5,0 2898.5,0 2898.5,0 2904.5,0 2910.5,-6 2910.5,-12 2910.5,-12 2910.5,-56 2910.5,-56 2910.5,-62 2904.5,-68 2898.5,-68\"/>\n<text text-anchor=\"start\" x=\"2819.5\" y=\"-52.8\" font-family=\"Helvetica,sans-Serif\" font-size=\"14.00\" fill=\"#000000\">gini = 0.0</text>\n<text text-anchor=\"start\" x=\"2805\" y=\"-37.8\" font-family=\"Helvetica,sans-Serif\" font-size=\"14.00\" fill=\"#000000\">samples = 13</text>\n<text text-anchor=\"start\" x=\"2795.5\" y=\"-22.8\" font-family=\"Helvetica,sans-Serif\" font-size=\"14.00\" fill=\"#000000\">value = [0, 0, 18]</text>\n<text text-anchor=\"start\" x=\"2822\" y=\"-7.8\" font-family=\"Helvetica,sans-Serif\" font-size=\"14.00\" fill=\"#000000\">class = &#160;</text>\n</g>\n<!-- 41&#45;&gt;43 -->\n<g id=\"edge43\" class=\"edge\">\n<title>41&#45;&gt;43</title>\n<path fill=\"none\" stroke=\"#000000\" d=\"M2842.096,-103.9815C2842.9211,-95.618 2843.7914,-86.7965 2844.6256,-78.3409\"/>\n<polygon fill=\"#000000\" stroke=\"#000000\" points=\"2848.1209,-78.559 2845.6197,-68.2637 2841.1548,-77.8717 2848.1209,-78.559\"/>\n</g>\n<!-- 45 -->\n<g id=\"node46\" class=\"node\">\n<title>45</title>\n<path fill=\"#61ea9a\" stroke=\"#000000\" d=\"M3136.5,-187C3136.5,-187 2957.5,-187 2957.5,-187 2951.5,-187 2945.5,-181 2945.5,-175 2945.5,-175 2945.5,-116 2945.5,-116 2945.5,-110 2951.5,-104 2957.5,-104 2957.5,-104 3136.5,-104 3136.5,-104 3142.5,-104 3148.5,-110 3148.5,-116 3148.5,-116 3148.5,-175 3148.5,-175 3148.5,-181 3142.5,-187 3136.5,-187\"/>\n<text text-anchor=\"start\" x=\"2953.5\" y=\"-171.8\" font-family=\"Helvetica,sans-Serif\" font-size=\"14.00\" fill=\"#000000\">TLS_CIPHER_SUITES ≤ 9.0</text>\n<text text-anchor=\"start\" x=\"3009\" y=\"-156.8\" font-family=\"Helvetica,sans-Serif\" font-size=\"14.00\" fill=\"#000000\">gini = 0.278</text>\n<text text-anchor=\"start\" x=\"3007.5\" y=\"-141.8\" font-family=\"Helvetica,sans-Serif\" font-size=\"14.00\" fill=\"#000000\">samples = 5</text>\n<text text-anchor=\"start\" x=\"2997.5\" y=\"-126.8\" font-family=\"Helvetica,sans-Serif\" font-size=\"14.00\" fill=\"#000000\">value = [0, 5, 1]</text>\n<text text-anchor=\"start\" x=\"3018\" y=\"-111.8\" font-family=\"Helvetica,sans-Serif\" font-size=\"14.00\" fill=\"#000000\">class = 0</text>\n</g>\n<!-- 44&#45;&gt;45 -->\n<g id=\"edge45\" class=\"edge\">\n<title>44&#45;&gt;45</title>\n<path fill=\"none\" stroke=\"#000000\" d=\"M3047,-222.8796C3047,-214.6838 3047,-205.9891 3047,-197.5013\"/>\n<polygon fill=\"#000000\" stroke=\"#000000\" points=\"3050.5001,-197.298 3047,-187.2981 3043.5001,-197.2981 3050.5001,-197.298\"/>\n</g>\n<!-- 48 -->\n<g id=\"node49\" class=\"node\">\n<title>48</title>\n<path fill=\"#9152e8\" stroke=\"#000000\" d=\"M3297.5,-187C3297.5,-187 3206.5,-187 3206.5,-187 3200.5,-187 3194.5,-181 3194.5,-175 3194.5,-175 3194.5,-116 3194.5,-116 3194.5,-110 3200.5,-104 3206.5,-104 3206.5,-104 3297.5,-104 3297.5,-104 3303.5,-104 3309.5,-110 3309.5,-116 3309.5,-116 3309.5,-175 3309.5,-175 3309.5,-181 3303.5,-187 3297.5,-187\"/>\n<text text-anchor=\"start\" x=\"3217\" y=\"-171.8\" font-family=\"Helvetica,sans-Serif\" font-size=\"14.00\" fill=\"#000000\">TTL ≤ 96.0</text>\n<text text-anchor=\"start\" x=\"3214\" y=\"-156.8\" font-family=\"Helvetica,sans-Serif\" font-size=\"14.00\" fill=\"#000000\">gini = 0.198</text>\n<text text-anchor=\"start\" x=\"3212.5\" y=\"-141.8\" font-family=\"Helvetica,sans-Serif\" font-size=\"14.00\" fill=\"#000000\">samples = 5</text>\n<text text-anchor=\"start\" x=\"3202.5\" y=\"-126.8\" font-family=\"Helvetica,sans-Serif\" font-size=\"14.00\" fill=\"#000000\">value = [0, 1, 8]</text>\n<text text-anchor=\"start\" x=\"3225\" y=\"-111.8\" font-family=\"Helvetica,sans-Serif\" font-size=\"14.00\" fill=\"#000000\">class = &#160;</text>\n</g>\n<!-- 44&#45;&gt;48 -->\n<g id=\"edge48\" class=\"edge\">\n<title>44&#45;&gt;48</title>\n<path fill=\"none\" stroke=\"#000000\" d=\"M3118.6991,-222.8796C3140.4157,-210.2734 3164.1658,-196.4867 3185.5248,-184.0881\"/>\n<polygon fill=\"#000000\" stroke=\"#000000\" points=\"3187.314,-187.0964 3194.2054,-179.0491 3183.7998,-181.0425 3187.314,-187.0964\"/>\n</g>\n<!-- 46 -->\n<g id=\"node47\" class=\"node\">\n<title>46</title>\n<path fill=\"#8139e5\" stroke=\"#000000\" d=\"M3031.5,-68C3031.5,-68 2940.5,-68 2940.5,-68 2934.5,-68 2928.5,-62 2928.5,-56 2928.5,-56 2928.5,-12 2928.5,-12 2928.5,-6 2934.5,0 2940.5,0 2940.5,0 3031.5,0 3031.5,0 3037.5,0 3043.5,-6 3043.5,-12 3043.5,-12 3043.5,-56 3043.5,-56 3043.5,-62 3037.5,-68 3031.5,-68\"/>\n<text text-anchor=\"start\" x=\"2956.5\" y=\"-52.8\" font-family=\"Helvetica,sans-Serif\" font-size=\"14.00\" fill=\"#000000\">gini = 0.0</text>\n<text text-anchor=\"start\" x=\"2946.5\" y=\"-37.8\" font-family=\"Helvetica,sans-Serif\" font-size=\"14.00\" fill=\"#000000\">samples = 1</text>\n<text text-anchor=\"start\" x=\"2936.5\" y=\"-22.8\" font-family=\"Helvetica,sans-Serif\" font-size=\"14.00\" fill=\"#000000\">value = [0, 0, 1]</text>\n<text text-anchor=\"start\" x=\"2959\" y=\"-7.8\" font-family=\"Helvetica,sans-Serif\" font-size=\"14.00\" fill=\"#000000\">class = &#160;</text>\n</g>\n<!-- 45&#45;&gt;46 -->\n<g id=\"edge46\" class=\"edge\">\n<title>45&#45;&gt;46</title>\n<path fill=\"none\" stroke=\"#000000\" d=\"M3024.2859,-103.9815C3019.5092,-95.2504 3014.4595,-86.0202 3009.6494,-77.2281\"/>\n<polygon fill=\"#000000\" stroke=\"#000000\" points=\"3012.6153,-75.3568 3004.7451,-68.2637 3006.4742,-78.7165 3012.6153,-75.3568\"/>\n</g>\n<!-- 47 -->\n<g id=\"node48\" class=\"node\">\n<title>47</title>\n<path fill=\"#39e581\" stroke=\"#000000\" d=\"M3164.5,-68C3164.5,-68 3073.5,-68 3073.5,-68 3067.5,-68 3061.5,-62 3061.5,-56 3061.5,-56 3061.5,-12 3061.5,-12 3061.5,-6 3067.5,0 3073.5,0 3073.5,0 3164.5,0 3164.5,0 3170.5,0 3176.5,-6 3176.5,-12 3176.5,-12 3176.5,-56 3176.5,-56 3176.5,-62 3170.5,-68 3164.5,-68\"/>\n<text text-anchor=\"start\" x=\"3089.5\" y=\"-52.8\" font-family=\"Helvetica,sans-Serif\" font-size=\"14.00\" fill=\"#000000\">gini = 0.0</text>\n<text text-anchor=\"start\" x=\"3079.5\" y=\"-37.8\" font-family=\"Helvetica,sans-Serif\" font-size=\"14.00\" fill=\"#000000\">samples = 4</text>\n<text text-anchor=\"start\" x=\"3069.5\" y=\"-22.8\" font-family=\"Helvetica,sans-Serif\" font-size=\"14.00\" fill=\"#000000\">value = [0, 5, 0]</text>\n<text text-anchor=\"start\" x=\"3090\" y=\"-7.8\" font-family=\"Helvetica,sans-Serif\" font-size=\"14.00\" fill=\"#000000\">class = 0</text>\n</g>\n<!-- 45&#45;&gt;47 -->\n<g id=\"edge47\" class=\"edge\">\n<title>45&#45;&gt;47</title>\n<path fill=\"none\" stroke=\"#000000\" d=\"M3073.8101,-103.9815C3079.5669,-95.0666 3085.6596,-85.6313 3091.4441,-76.6734\"/>\n<polygon fill=\"#000000\" stroke=\"#000000\" points=\"3094.3901,-78.5631 3096.8746,-68.2637 3088.5096,-74.7658 3094.3901,-78.5631\"/>\n</g>\n<!-- 49 -->\n<g id=\"node50\" class=\"node\">\n<title>49</title>\n<path fill=\"#39e581\" stroke=\"#000000\" d=\"M3297.5,-68C3297.5,-68 3206.5,-68 3206.5,-68 3200.5,-68 3194.5,-62 3194.5,-56 3194.5,-56 3194.5,-12 3194.5,-12 3194.5,-6 3200.5,0 3206.5,0 3206.5,0 3297.5,0 3297.5,0 3303.5,0 3309.5,-6 3309.5,-12 3309.5,-12 3309.5,-56 3309.5,-56 3309.5,-62 3303.5,-68 3297.5,-68\"/>\n<text text-anchor=\"start\" x=\"3222.5\" y=\"-52.8\" font-family=\"Helvetica,sans-Serif\" font-size=\"14.00\" fill=\"#000000\">gini = 0.0</text>\n<text text-anchor=\"start\" x=\"3212.5\" y=\"-37.8\" font-family=\"Helvetica,sans-Serif\" font-size=\"14.00\" fill=\"#000000\">samples = 1</text>\n<text text-anchor=\"start\" x=\"3202.5\" y=\"-22.8\" font-family=\"Helvetica,sans-Serif\" font-size=\"14.00\" fill=\"#000000\">value = [0, 1, 0]</text>\n<text text-anchor=\"start\" x=\"3223\" y=\"-7.8\" font-family=\"Helvetica,sans-Serif\" font-size=\"14.00\" fill=\"#000000\">class = 0</text>\n</g>\n<!-- 48&#45;&gt;49 -->\n<g id=\"edge49\" class=\"edge\">\n<title>48&#45;&gt;49</title>\n<path fill=\"none\" stroke=\"#000000\" d=\"M3252,-103.9815C3252,-95.618 3252,-86.7965 3252,-78.3409\"/>\n<polygon fill=\"#000000\" stroke=\"#000000\" points=\"3255.5001,-78.2636 3252,-68.2637 3248.5001,-78.2637 3255.5001,-78.2636\"/>\n</g>\n<!-- 50 -->\n<g id=\"node51\" class=\"node\">\n<title>50</title>\n<path fill=\"#8139e5\" stroke=\"#000000\" d=\"M3430.5,-68C3430.5,-68 3339.5,-68 3339.5,-68 3333.5,-68 3327.5,-62 3327.5,-56 3327.5,-56 3327.5,-12 3327.5,-12 3327.5,-6 3333.5,0 3339.5,0 3339.5,0 3430.5,0 3430.5,0 3436.5,0 3442.5,-6 3442.5,-12 3442.5,-12 3442.5,-56 3442.5,-56 3442.5,-62 3436.5,-68 3430.5,-68\"/>\n<text text-anchor=\"start\" x=\"3355.5\" y=\"-52.8\" font-family=\"Helvetica,sans-Serif\" font-size=\"14.00\" fill=\"#000000\">gini = 0.0</text>\n<text text-anchor=\"start\" x=\"3345.5\" y=\"-37.8\" font-family=\"Helvetica,sans-Serif\" font-size=\"14.00\" fill=\"#000000\">samples = 4</text>\n<text text-anchor=\"start\" x=\"3335.5\" y=\"-22.8\" font-family=\"Helvetica,sans-Serif\" font-size=\"14.00\" fill=\"#000000\">value = [0, 0, 8]</text>\n<text text-anchor=\"start\" x=\"3358\" y=\"-7.8\" font-family=\"Helvetica,sans-Serif\" font-size=\"14.00\" fill=\"#000000\">class = &#160;</text>\n</g>\n<!-- 48&#45;&gt;50 -->\n<g id=\"edge50\" class=\"edge\">\n<title>48&#45;&gt;50</title>\n<path fill=\"none\" stroke=\"#000000\" d=\"M3301.5243,-103.9815C3312.9257,-94.4232 3325.0405,-84.2668 3336.4021,-74.7419\"/>\n<polygon fill=\"#000000\" stroke=\"#000000\" points=\"3338.7147,-77.3704 3344.1294,-68.2637 3334.2175,-72.006 3338.7147,-77.3704\"/>\n</g>\n</g>\n</svg>\n"
          },
          "metadata": {},
          "execution_count": 88
        }
      ]
    },
    {
      "cell_type": "code",
      "source": [
        "y_pred = rf.predict(X_test)\n",
        "\n",
        "base_value = (classification_report(y_test, y_pred))\n",
        "print(base_value)"
      ],
      "metadata": {
        "colab": {
          "base_uri": "https://localhost:8080/"
        },
        "id": "qv1vKcg1NJ0N",
        "outputId": "0515548b-637c-4122-82d9-f82584a96cb9"
      },
      "execution_count": null,
      "outputs": [
        {
          "output_type": "stream",
          "name": "stdout",
          "text": [
            "              precision    recall  f1-score   support\n",
            "\n",
            "           0       0.98      0.59      0.74      3902\n",
            "           1       0.82      0.89      0.85      2314\n",
            "           2       0.83      0.99      0.91      7100\n",
            "\n",
            "    accuracy                           0.86     13316\n",
            "   macro avg       0.88      0.82      0.83     13316\n",
            "weighted avg       0.88      0.86      0.85     13316\n",
            "\n"
          ]
        }
      ]
    },
    {
      "cell_type": "code",
      "source": [
        "!pip install scikit-plot"
      ],
      "metadata": {
        "colab": {
          "base_uri": "https://localhost:8080/"
        },
        "id": "h7vvkNdGODsF",
        "outputId": "4a5921bd-a9f3-4086-f831-10afde52e25a"
      },
      "execution_count": null,
      "outputs": [
        {
          "output_type": "stream",
          "name": "stdout",
          "text": [
            "Looking in indexes: https://pypi.org/simple, https://us-python.pkg.dev/colab-wheels/public/simple/\n",
            "Collecting scikit-plot\n",
            "  Downloading scikit_plot-0.3.7-py3-none-any.whl (33 kB)\n",
            "Requirement already satisfied: scikit-learn>=0.18 in /usr/local/lib/python3.8/dist-packages (from scikit-plot) (1.0.2)\n",
            "Requirement already satisfied: matplotlib>=1.4.0 in /usr/local/lib/python3.8/dist-packages (from scikit-plot) (3.2.2)\n",
            "Requirement already satisfied: scipy>=0.9 in /usr/local/lib/python3.8/dist-packages (from scikit-plot) (1.7.3)\n",
            "Requirement already satisfied: joblib>=0.10 in /usr/local/lib/python3.8/dist-packages (from scikit-plot) (1.2.0)\n",
            "Requirement already satisfied: kiwisolver>=1.0.1 in /usr/local/lib/python3.8/dist-packages (from matplotlib>=1.4.0->scikit-plot) (1.4.4)\n",
            "Requirement already satisfied: python-dateutil>=2.1 in /usr/local/lib/python3.8/dist-packages (from matplotlib>=1.4.0->scikit-plot) (2.8.2)\n",
            "Requirement already satisfied: pyparsing!=2.0.4,!=2.1.2,!=2.1.6,>=2.0.1 in /usr/local/lib/python3.8/dist-packages (from matplotlib>=1.4.0->scikit-plot) (3.0.9)\n",
            "Requirement already satisfied: numpy>=1.11 in /usr/local/lib/python3.8/dist-packages (from matplotlib>=1.4.0->scikit-plot) (1.21.6)\n",
            "Requirement already satisfied: cycler>=0.10 in /usr/local/lib/python3.8/dist-packages (from matplotlib>=1.4.0->scikit-plot) (0.11.0)\n",
            "Requirement already satisfied: six>=1.5 in /usr/local/lib/python3.8/dist-packages (from python-dateutil>=2.1->matplotlib>=1.4.0->scikit-plot) (1.15.0)\n",
            "Requirement already satisfied: threadpoolctl>=2.0.0 in /usr/local/lib/python3.8/dist-packages (from scikit-learn>=0.18->scikit-plot) (3.1.0)\n",
            "Installing collected packages: scikit-plot\n",
            "Successfully installed scikit-plot-0.3.7\n"
          ]
        }
      ]
    },
    {
      "cell_type": "code",
      "source": [
        "import scikitplot as skplt\n"
      ],
      "metadata": {
        "id": "VWgI3RXdOBws"
      },
      "execution_count": null,
      "outputs": []
    },
    {
      "cell_type": "code",
      "source": [
        "y_probs = rf.predict_proba(X_test)\n",
        "# Printing out the confusion Matrix and Stuff\n",
        "skplt.metrics.plot_confusion_matrix(y_test, y_pred)\n",
        "skplt.metrics.plot_roc(y_test, y_probs)\n",
        "skplt.metrics.plot_precision_recall_curve(y_test, y_probs)\n",
        "plt.show()"
      ],
      "metadata": {
        "colab": {
          "base_uri": "https://localhost:8080/",
          "height": 906
        },
        "id": "cxfiG5EmN9J5",
        "outputId": "d01b81fa-e114-4b68-970f-71274554666f"
      },
      "execution_count": null,
      "outputs": [
        {
          "output_type": "stream",
          "name": "stderr",
          "text": [
            "/usr/local/lib/python3.8/dist-packages/sklearn/utils/deprecation.py:87: FutureWarning: Function plot_precision_recall_curve is deprecated; This will be removed in v0.5.0. Please use scikitplot.metrics.plot_precision_recall instead.\n",
            "  warnings.warn(msg, category=FutureWarning)\n"
          ]
        },
        {
          "output_type": "display_data",
          "data": {
            "text/plain": [
              "<Figure size 432x288 with 2 Axes>"
            ],
            "image/png": "[encoded data removed]"
          },
          "metadata": {
            "needs_background": "light"
          }
        },
        {
          "output_type": "display_data",
          "data": {
            "text/plain": [
              "<Figure size 432x288 with 1 Axes>"
            ],
            "image/png": "[encoded data removed]"
          },
          "metadata": {
            "needs_background": "light"
          }
        },
        {
          "output_type": "display_data",
          "data": {
            "text/plain": [
              "<Figure size 432x288 with 1 Axes>"
            ],
            "image/png": "[encoded data removed]"
          },
          "metadata": {
            "needs_background": "light"
          }
        }
      ]
    },
    {
      "cell_type": "code",
      "source": [
        "# To-Do:  Create models for the other 3 protocols but TLS is done"
      ],
      "metadata": {
        "id": "qkfOnBPXO5FA"
      },
      "execution_count": null,
      "outputs": []
    }
  ],
  "metadata": {
    "accelerator": "GPU",
    "colab": {
      "provenance": []
    },
    "gpuClass": "standard",
    "kernelspec": {
      "display_name": "Python 3",
      "name": "python3"
    },
    "language_info": {
      "name": "python"
    }
  },
  "nbformat": 4,
  "nbformat_minor": 0
}