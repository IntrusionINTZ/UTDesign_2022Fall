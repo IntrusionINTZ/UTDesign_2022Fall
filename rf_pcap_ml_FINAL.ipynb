{
  "cells": [
    {
      "cell_type": "code",
      "execution_count": null,
      "metadata": {
        "id": "D1CBrjFWGDi_"
      },
      "outputs": [],
      "source": [
        "import seaborn as sns\n",
        "import math as math\n"
      ]
    },
    {
      "cell_type": "code",
      "execution_count": null,
      "metadata": {
        "id": "ulCKP27xttOp"
      },
      "outputs": [],
      "source": [
        "import pandas as pd\n",
        "import numpy as np\n",
        "from sklearn.ensemble import RandomForestClassifier\n",
        "\n"
      ]
    },
    {
      "cell_type": "markdown",
      "source": [
        "Get the 4 different protocols in their own groups and then use RF Forest Classifier on each one of them individually"
      ],
      "metadata": {
        "id": "r_lE9jfG39D1"
      }
    },
    {
      "cell_type": "code",
      "source": [
        "# DF For TLS Protocols\n",
        "ltl_df = pd.read_csv('tls_linux.csv', encoding = \"ISO-8859-1\")\n",
        "wtl_df = pd.read_csv('tls_windows.csv', encoding = \"ISO-8859-1\")\n",
        "mtl_df = pd.read_csv('tls_macos.csv', encoding = \"ISO-8859-1\")"
      ],
      "metadata": {
        "id": "Qq1T_Uwz4GHT"
      },
      "execution_count": null,
      "outputs": []
    },
    {
      "cell_type": "code",
      "execution_count": null,
      "metadata": {
        "colab": {
          "base_uri": "https://localhost:8080/",
          "height": 270
        },
        "id": "nFG8e-nTBo-b",
        "outputId": "4900e217-d77e-40e4-86e2-51134afd8143"
      },
      "outputs": [
        {
          "output_type": "execute_result",
          "data": {
            "text/plain": [
              "          SRC_IP  MF_FLAG  DF_FLAG  PACKET_NO KNOWN_HOST_DEVICE  PACKET_SIZE  \\\n",
              "0  172.16.16.128        0        0          1             Linux           20   \n",
              "1  172.16.16.128        0        0          2             Linux           20   \n",
              "2    172.16.16.2        0        1          3             Linux           20   \n",
              "3  172.16.16.128        0        1          4             Linux           20   \n",
              "4  172.16.16.128        0        0          6             Linux           20   \n",
              "\n",
              "      TIMESTAMP  TTL           DST_IP  IP_FRAG_OFF  \n",
              "0  1.258920e+09  128    172.16.16.255            0  \n",
              "1  1.258920e+09    1  239.255.255.250            0  \n",
              "2  1.258920e+09   64    172.16.16.128            0  \n",
              "3  1.258920e+09    4       224.0.1.60            0  \n",
              "4  1.258920e+09    1      224.0.0.252            0  "
            ],
            "text/html": [
              "\n",
              "  <div id=\"df-385c8244-d7ac-4a0d-92a4-5db1bc0b80a8\">\n",
              "    <div class=\"colab-df-container\">\n",
              "      <div>\n",
              "<style scoped>\n",
              "    .dataframe tbody tr th:only-of-type {\n",
              "        vertical-align: middle;\n",
              "    }\n",
              "\n",
              "    .dataframe tbody tr th {\n",
              "        vertical-align: top;\n",
              "    }\n",
              "\n",
              "    .dataframe thead th {\n",
              "        text-align: right;\n",
              "    }\n",
              "</style>\n",
              "<table border=\"1\" class=\"dataframe\">\n",
              "  <thead>\n",
              "    <tr style=\"text-align: right;\">\n",
              "      <th></th>\n",
              "      <th>SRC_IP</th>\n",
              "      <th>MF_FLAG</th>\n",
              "      <th>DF_FLAG</th>\n",
              "      <th>PACKET_NO</th>\n",
              "      <th>KNOWN_HOST_DEVICE</th>\n",
              "      <th>PACKET_SIZE</th>\n",
              "      <th>TIMESTAMP</th>\n",
              "      <th>TTL</th>\n",
              "      <th>DST_IP</th>\n",
              "      <th>IP_FRAG_OFF</th>\n",
              "    </tr>\n",
              "  </thead>\n",
              "  <tbody>\n",
              "    <tr>\n",
              "      <th>0</th>\n",
              "      <td>172.16.16.128</td>\n",
              "      <td>0</td>\n",
              "      <td>0</td>\n",
              "      <td>1</td>\n",
              "      <td>Linux</td>\n",
              "      <td>20</td>\n",
              "      <td>1.258920e+09</td>\n",
              "      <td>128</td>\n",
              "      <td>172.16.16.255</td>\n",
              "      <td>0</td>\n",
              "    </tr>\n",
              "    <tr>\n",
              "      <th>1</th>\n",
              "      <td>172.16.16.128</td>\n",
              "      <td>0</td>\n",
              "      <td>0</td>\n",
              "      <td>2</td>\n",
              "      <td>Linux</td>\n",
              "      <td>20</td>\n",
              "      <td>1.258920e+09</td>\n",
              "      <td>1</td>\n",
              "      <td>239.255.255.250</td>\n",
              "      <td>0</td>\n",
              "    </tr>\n",
              "    <tr>\n",
              "      <th>2</th>\n",
              "      <td>172.16.16.2</td>\n",
              "      <td>0</td>\n",
              "      <td>1</td>\n",
              "      <td>3</td>\n",
              "      <td>Linux</td>\n",
              "      <td>20</td>\n",
              "      <td>1.258920e+09</td>\n",
              "      <td>64</td>\n",
              "      <td>172.16.16.128</td>\n",
              "      <td>0</td>\n",
              "    </tr>\n",
              "    <tr>\n",
              "      <th>3</th>\n",
              "      <td>172.16.16.128</td>\n",
              "      <td>0</td>\n",
              "      <td>1</td>\n",
              "      <td>4</td>\n",
              "      <td>Linux</td>\n",
              "      <td>20</td>\n",
              "      <td>1.258920e+09</td>\n",
              "      <td>4</td>\n",
              "      <td>224.0.1.60</td>\n",
              "      <td>0</td>\n",
              "    </tr>\n",
              "    <tr>\n",
              "      <th>4</th>\n",
              "      <td>172.16.16.128</td>\n",
              "      <td>0</td>\n",
              "      <td>0</td>\n",
              "      <td>6</td>\n",
              "      <td>Linux</td>\n",
              "      <td>20</td>\n",
              "      <td>1.258920e+09</td>\n",
              "      <td>1</td>\n",
              "      <td>224.0.0.252</td>\n",
              "      <td>0</td>\n",
              "    </tr>\n",
              "  </tbody>\n",
              "</table>\n",
              "</div>\n",
              "      <button class=\"colab-df-convert\" onclick=\"convertToInteractive('df-385c8244-d7ac-4a0d-92a4-5db1bc0b80a8')\"\n",
              "              title=\"Convert this dataframe to an interactive table.\"\n",
              "              style=\"display:none;\">\n",
              "        \n",
              "  <svg xmlns=\"http://www.w3.org/2000/svg\" height=\"24px\"viewBox=\"0 0 24 24\"\n",
              "       width=\"24px\">\n",
              "    <path d=\"M0 0h24v24H0V0z\" fill=\"none\"/>\n",
              "    <path d=\"M18.56 5.44l.94 2.06.94-2.06 2.06-.94-2.06-.94-.94-2.06-.94 2.06-2.06.94zm-11 1L8.5 8.5l.94-2.06 2.06-.94-2.06-.94L8.5 2.5l-.94 2.06-2.06.94zm10 10l.94 2.06.94-2.06 2.06-.94-2.06-.94-.94-2.06-.94 2.06-2.06.94z\"/><path d=\"M17.41 7.96l-1.37-1.37c-.4-.4-.92-.59-1.43-.59-.52 0-1.04.2-1.43.59L10.3 9.45l-7.72 7.72c-.78.78-.78 2.05 0 2.83L4 21.41c.39.39.9.59 1.41.59.51 0 1.02-.2 1.41-.59l7.78-7.78 2.81-2.81c.8-.78.8-2.07 0-2.86zM5.41 20L4 18.59l7.72-7.72 1.47 1.35L5.41 20z\"/>\n",
              "  </svg>\n",
              "      </button>\n",
              "      \n",
              "  <style>\n",
              "    .colab-df-container {\n",
              "      display:flex;\n",
              "      flex-wrap:wrap;\n",
              "      gap: 12px;\n",
              "    }\n",
              "\n",
              "    .colab-df-convert {\n",
              "      background-color: #E8F0FE;\n",
              "      border: none;\n",
              "      border-radius: 50%;\n",
              "      cursor: pointer;\n",
              "      display: none;\n",
              "      fill: #1967D2;\n",
              "      height: 32px;\n",
              "      padding: 0 0 0 0;\n",
              "      width: 32px;\n",
              "    }\n",
              "\n",
              "    .colab-df-convert:hover {\n",
              "      background-color: #E2EBFA;\n",
              "      box-shadow: 0px 1px 2px rgba(60, 64, 67, 0.3), 0px 1px 3px 1px rgba(60, 64, 67, 0.15);\n",
              "      fill: #174EA6;\n",
              "    }\n",
              "\n",
              "    [theme=dark] .colab-df-convert {\n",
              "      background-color: #3B4455;\n",
              "      fill: #D2E3FC;\n",
              "    }\n",
              "\n",
              "    [theme=dark] .colab-df-convert:hover {\n",
              "      background-color: #434B5C;\n",
              "      box-shadow: 0px 1px 3px 1px rgba(0, 0, 0, 0.15);\n",
              "      filter: drop-shadow(0px 1px 2px rgba(0, 0, 0, 0.3));\n",
              "      fill: #FFFFFF;\n",
              "    }\n",
              "  </style>\n",
              "\n",
              "      <script>\n",
              "        const buttonEl =\n",
              "          document.querySelector('#df-385c8244-d7ac-4a0d-92a4-5db1bc0b80a8 button.colab-df-convert');\n",
              "        buttonEl.style.display =\n",
              "          google.colab.kernel.accessAllowed ? 'block' : 'none';\n",
              "\n",
              "        async function convertToInteractive(key) {\n",
              "          const element = document.querySelector('#df-385c8244-d7ac-4a0d-92a4-5db1bc0b80a8');\n",
              "          const dataTable =\n",
              "            await google.colab.kernel.invokeFunction('convertToInteractive',\n",
              "                                                     [key], {});\n",
              "          if (!dataTable) return;\n",
              "\n",
              "          const docLinkHtml = 'Like what you see? Visit the ' +\n",
              "            '<a target=\"_blank\" href=https://colab.research.google.com/notebooks/data_table.ipynb>data table notebook</a>'\n",
              "            + ' to learn more about interactive tables.';\n",
              "          element.innerHTML = '';\n",
              "          dataTable['output_type'] = 'display_data';\n",
              "          await google.colab.output.renderOutput(dataTable, element);\n",
              "          const docLink = document.createElement('div');\n",
              "          docLink.innerHTML = docLinkHtml;\n",
              "          element.appendChild(docLink);\n",
              "        }\n",
              "      </script>\n",
              "    </div>\n",
              "  </div>\n",
              "  "
            ]
          },
          "metadata": {},
          "execution_count": 5
        }
      ],
      "source": [
        "ltl_df.head()"
      ]
    },
    {
      "cell_type": "code",
      "source": [
        "wtl_df.head()"
      ],
      "metadata": {
        "colab": {
          "base_uri": "https://localhost:8080/",
          "height": 270
        },
        "id": "tWZuXQ164vNf",
        "outputId": "bb506852-8b67-4739-9bef-7124f57e439d"
      },
      "execution_count": null,
      "outputs": [
        {
          "output_type": "execute_result",
          "data": {
            "text/plain": [
              "   MF_FLAG  PACKET_SIZE TLS_VERSION  PACKET_NO  DF_FLAG KNOWN_HOST_DEVICE  \\\n",
              "0        0           20         NaN          1        1           Windows   \n",
              "1        0           20         NaN          2        1           Windows   \n",
              "2        0           20         NaN          3        1           Windows   \n",
              "3        0           20         NaN          4        1           Windows   \n",
              "4        0           20         NaN          5        1           Windows   \n",
              "\n",
              "  SUB_PROTOCOL TLS_EXTENSION_SIG_ALGS  TTL  IP_FRAG_OFF     TIMESTAMP  \\\n",
              "0          NaN                    NaN   42            0  1.663877e+09   \n",
              "1          NaN                    NaN  128            0  1.663877e+09   \n",
              "2          NaN                    NaN   42            0  1.663877e+09   \n",
              "3          NaN                    NaN  128            0  1.663878e+09   \n",
              "4          NaN                    NaN  118            0  1.663878e+09   \n",
              "\n",
              "  TLS_CIPHER_SUITES          SRC_IP          DST_IP  \n",
              "0               NaN   35.169.217.52  10.169.161.162  \n",
              "1               NaN  10.169.161.162   35.169.217.52  \n",
              "2               NaN   35.169.217.52  10.169.161.162  \n",
              "3               NaN  10.169.161.162   142.251.33.36  \n",
              "4               NaN   142.251.33.36  10.169.161.162  "
            ],
            "text/html": [
              "\n",
              "  <div id=\"df-2b0b0402-2abc-42e5-9261-2631d6fa9642\">\n",
              "    <div class=\"colab-df-container\">\n",
              "      <div>\n",
              "<style scoped>\n",
              "    .dataframe tbody tr th:only-of-type {\n",
              "        vertical-align: middle;\n",
              "    }\n",
              "\n",
              "    .dataframe tbody tr th {\n",
              "        vertical-align: top;\n",
              "    }\n",
              "\n",
              "    .dataframe thead th {\n",
              "        text-align: right;\n",
              "    }\n",
              "</style>\n",
              "<table border=\"1\" class=\"dataframe\">\n",
              "  <thead>\n",
              "    <tr style=\"text-align: right;\">\n",
              "      <th></th>\n",
              "      <th>MF_FLAG</th>\n",
              "      <th>PACKET_SIZE</th>\n",
              "      <th>TLS_VERSION</th>\n",
              "      <th>PACKET_NO</th>\n",
              "      <th>DF_FLAG</th>\n",
              "      <th>KNOWN_HOST_DEVICE</th>\n",
              "      <th>SUB_PROTOCOL</th>\n",
              "      <th>TLS_EXTENSION_SIG_ALGS</th>\n",
              "      <th>TTL</th>\n",
              "      <th>IP_FRAG_OFF</th>\n",
              "      <th>TIMESTAMP</th>\n",
              "      <th>TLS_CIPHER_SUITES</th>\n",
              "      <th>SRC_IP</th>\n",
              "      <th>DST_IP</th>\n",
              "    </tr>\n",
              "  </thead>\n",
              "  <tbody>\n",
              "    <tr>\n",
              "      <th>0</th>\n",
              "      <td>0</td>\n",
              "      <td>20</td>\n",
              "      <td>NaN</td>\n",
              "      <td>1</td>\n",
              "      <td>1</td>\n",
              "      <td>Windows</td>\n",
              "      <td>NaN</td>\n",
              "      <td>NaN</td>\n",
              "      <td>42</td>\n",
              "      <td>0</td>\n",
              "      <td>1.663877e+09</td>\n",
              "      <td>NaN</td>\n",
              "      <td>35.169.217.52</td>\n",
              "      <td>10.169.161.162</td>\n",
              "    </tr>\n",
              "    <tr>\n",
              "      <th>1</th>\n",
              "      <td>0</td>\n",
              "      <td>20</td>\n",
              "      <td>NaN</td>\n",
              "      <td>2</td>\n",
              "      <td>1</td>\n",
              "      <td>Windows</td>\n",
              "      <td>NaN</td>\n",
              "      <td>NaN</td>\n",
              "      <td>128</td>\n",
              "      <td>0</td>\n",
              "      <td>1.663877e+09</td>\n",
              "      <td>NaN</td>\n",
              "      <td>10.169.161.162</td>\n",
              "      <td>35.169.217.52</td>\n",
              "    </tr>\n",
              "    <tr>\n",
              "      <th>2</th>\n",
              "      <td>0</td>\n",
              "      <td>20</td>\n",
              "      <td>NaN</td>\n",
              "      <td>3</td>\n",
              "      <td>1</td>\n",
              "      <td>Windows</td>\n",
              "      <td>NaN</td>\n",
              "      <td>NaN</td>\n",
              "      <td>42</td>\n",
              "      <td>0</td>\n",
              "      <td>1.663877e+09</td>\n",
              "      <td>NaN</td>\n",
              "      <td>35.169.217.52</td>\n",
              "      <td>10.169.161.162</td>\n",
              "    </tr>\n",
              "    <tr>\n",
              "      <th>3</th>\n",
              "      <td>0</td>\n",
              "      <td>20</td>\n",
              "      <td>NaN</td>\n",
              "      <td>4</td>\n",
              "      <td>1</td>\n",
              "      <td>Windows</td>\n",
              "      <td>NaN</td>\n",
              "      <td>NaN</td>\n",
              "      <td>128</td>\n",
              "      <td>0</td>\n",
              "      <td>1.663878e+09</td>\n",
              "      <td>NaN</td>\n",
              "      <td>10.169.161.162</td>\n",
              "      <td>142.251.33.36</td>\n",
              "    </tr>\n",
              "    <tr>\n",
              "      <th>4</th>\n",
              "      <td>0</td>\n",
              "      <td>20</td>\n",
              "      <td>NaN</td>\n",
              "      <td>5</td>\n",
              "      <td>1</td>\n",
              "      <td>Windows</td>\n",
              "      <td>NaN</td>\n",
              "      <td>NaN</td>\n",
              "      <td>118</td>\n",
              "      <td>0</td>\n",
              "      <td>1.663878e+09</td>\n",
              "      <td>NaN</td>\n",
              "      <td>142.251.33.36</td>\n",
              "      <td>10.169.161.162</td>\n",
              "    </tr>\n",
              "  </tbody>\n",
              "</table>\n",
              "</div>\n",
              "      <button class=\"colab-df-convert\" onclick=\"convertToInteractive('df-2b0b0402-2abc-42e5-9261-2631d6fa9642')\"\n",
              "              title=\"Convert this dataframe to an interactive table.\"\n",
              "              style=\"display:none;\">\n",
              "        \n",
              "  <svg xmlns=\"http://www.w3.org/2000/svg\" height=\"24px\"viewBox=\"0 0 24 24\"\n",
              "       width=\"24px\">\n",
              "    <path d=\"M0 0h24v24H0V0z\" fill=\"none\"/>\n",
              "    <path d=\"M18.56 5.44l.94 2.06.94-2.06 2.06-.94-2.06-.94-.94-2.06-.94 2.06-2.06.94zm-11 1L8.5 8.5l.94-2.06 2.06-.94-2.06-.94L8.5 2.5l-.94 2.06-2.06.94zm10 10l.94 2.06.94-2.06 2.06-.94-2.06-.94-.94-2.06-.94 2.06-2.06.94z\"/><path d=\"M17.41 7.96l-1.37-1.37c-.4-.4-.92-.59-1.43-.59-.52 0-1.04.2-1.43.59L10.3 9.45l-7.72 7.72c-.78.78-.78 2.05 0 2.83L4 21.41c.39.39.9.59 1.41.59.51 0 1.02-.2 1.41-.59l7.78-7.78 2.81-2.81c.8-.78.8-2.07 0-2.86zM5.41 20L4 18.59l7.72-7.72 1.47 1.35L5.41 20z\"/>\n",
              "  </svg>\n",
              "      </button>\n",
              "      \n",
              "  <style>\n",
              "    .colab-df-container {\n",
              "      display:flex;\n",
              "      flex-wrap:wrap;\n",
              "      gap: 12px;\n",
              "    }\n",
              "\n",
              "    .colab-df-convert {\n",
              "      background-color: #E8F0FE;\n",
              "      border: none;\n",
              "      border-radius: 50%;\n",
              "      cursor: pointer;\n",
              "      display: none;\n",
              "      fill: #1967D2;\n",
              "      height: 32px;\n",
              "      padding: 0 0 0 0;\n",
              "      width: 32px;\n",
              "    }\n",
              "\n",
              "    .colab-df-convert:hover {\n",
              "      background-color: #E2EBFA;\n",
              "      box-shadow: 0px 1px 2px rgba(60, 64, 67, 0.3), 0px 1px 3px 1px rgba(60, 64, 67, 0.15);\n",
              "      fill: #174EA6;\n",
              "    }\n",
              "\n",
              "    [theme=dark] .colab-df-convert {\n",
              "      background-color: #3B4455;\n",
              "      fill: #D2E3FC;\n",
              "    }\n",
              "\n",
              "    [theme=dark] .colab-df-convert:hover {\n",
              "      background-color: #434B5C;\n",
              "      box-shadow: 0px 1px 3px 1px rgba(0, 0, 0, 0.15);\n",
              "      filter: drop-shadow(0px 1px 2px rgba(0, 0, 0, 0.3));\n",
              "      fill: #FFFFFF;\n",
              "    }\n",
              "  </style>\n",
              "\n",
              "      <script>\n",
              "        const buttonEl =\n",
              "          document.querySelector('#df-2b0b0402-2abc-42e5-9261-2631d6fa9642 button.colab-df-convert');\n",
              "        buttonEl.style.display =\n",
              "          google.colab.kernel.accessAllowed ? 'block' : 'none';\n",
              "\n",
              "        async function convertToInteractive(key) {\n",
              "          const element = document.querySelector('#df-2b0b0402-2abc-42e5-9261-2631d6fa9642');\n",
              "          const dataTable =\n",
              "            await google.colab.kernel.invokeFunction('convertToInteractive',\n",
              "                                                     [key], {});\n",
              "          if (!dataTable) return;\n",
              "\n",
              "          const docLinkHtml = 'Like what you see? Visit the ' +\n",
              "            '<a target=\"_blank\" href=https://colab.research.google.com/notebooks/data_table.ipynb>data table notebook</a>'\n",
              "            + ' to learn more about interactive tables.';\n",
              "          element.innerHTML = '';\n",
              "          dataTable['output_type'] = 'display_data';\n",
              "          await google.colab.output.renderOutput(dataTable, element);\n",
              "          const docLink = document.createElement('div');\n",
              "          docLink.innerHTML = docLinkHtml;\n",
              "          element.appendChild(docLink);\n",
              "        }\n",
              "      </script>\n",
              "    </div>\n",
              "  </div>\n",
              "  "
            ]
          },
          "metadata": {},
          "execution_count": 6
        }
      ]
    },
    {
      "cell_type": "code",
      "source": [
        "mtl_df.head()"
      ],
      "metadata": {
        "colab": {
          "base_uri": "https://localhost:8080/",
          "height": 270
        },
        "id": "thFOrVrK4y2c",
        "outputId": "0cb28aab-0f88-4171-b28a-5d595251e956"
      },
      "execution_count": null,
      "outputs": [
        {
          "output_type": "execute_result",
          "data": {
            "text/plain": [
              "   DF_FLAG  PACKET_NO TLS_VERSION         SRC_IP TLS_CIPHER_SUITES  \\\n",
              "0        1          1         NaN  192.168.86.21               NaN   \n",
              "1        1          2         NaN    52.96.57.34               NaN   \n",
              "2        0          3         NaN  192.168.86.21               NaN   \n",
              "3        1          4         NaN  140.82.112.26               NaN   \n",
              "4        0          5         NaN  192.168.86.23               NaN   \n",
              "\n",
              "  SUB_PROTOCOL TLS_EXTENSION_SIG_ALGS         DST_IP  TTL  MF_FLAG  \\\n",
              "0          NaN                    NaN    52.96.57.34   64        0   \n",
              "1          NaN                    NaN  192.168.86.21  241        0   \n",
              "2          NaN                    NaN  140.82.112.26   64        0   \n",
              "3          NaN                    NaN  192.168.86.21   49        0   \n",
              "4          NaN                    NaN    224.0.0.251  255        0   \n",
              "\n",
              "   PACKET_SIZE     TIMESTAMP  IP_FRAG_OFF KNOWN_HOST_DEVICE  \n",
              "0           20  1.666898e+09            0             MacOS  \n",
              "1           20  1.666898e+09            0             MacOS  \n",
              "2           20  1.666898e+09            0             MacOS  \n",
              "3           20  1.666898e+09            0             MacOS  \n",
              "4           20  1.666898e+09            0             MacOS  "
            ],
            "text/html": [
              "\n",
              "  <div id=\"df-ee5451b0-53df-4db9-a946-986bf9c10ed5\">\n",
              "    <div class=\"colab-df-container\">\n",
              "      <div>\n",
              "<style scoped>\n",
              "    .dataframe tbody tr th:only-of-type {\n",
              "        vertical-align: middle;\n",
              "    }\n",
              "\n",
              "    .dataframe tbody tr th {\n",
              "        vertical-align: top;\n",
              "    }\n",
              "\n",
              "    .dataframe thead th {\n",
              "        text-align: right;\n",
              "    }\n",
              "</style>\n",
              "<table border=\"1\" class=\"dataframe\">\n",
              "  <thead>\n",
              "    <tr style=\"text-align: right;\">\n",
              "      <th></th>\n",
              "      <th>DF_FLAG</th>\n",
              "      <th>PACKET_NO</th>\n",
              "      <th>TLS_VERSION</th>\n",
              "      <th>SRC_IP</th>\n",
              "      <th>TLS_CIPHER_SUITES</th>\n",
              "      <th>SUB_PROTOCOL</th>\n",
              "      <th>TLS_EXTENSION_SIG_ALGS</th>\n",
              "      <th>DST_IP</th>\n",
              "      <th>TTL</th>\n",
              "      <th>MF_FLAG</th>\n",
              "      <th>PACKET_SIZE</th>\n",
              "      <th>TIMESTAMP</th>\n",
              "      <th>IP_FRAG_OFF</th>\n",
              "      <th>KNOWN_HOST_DEVICE</th>\n",
              "    </tr>\n",
              "  </thead>\n",
              "  <tbody>\n",
              "    <tr>\n",
              "      <th>0</th>\n",
              "      <td>1</td>\n",
              "      <td>1</td>\n",
              "      <td>NaN</td>\n",
              "      <td>192.168.86.21</td>\n",
              "      <td>NaN</td>\n",
              "      <td>NaN</td>\n",
              "      <td>NaN</td>\n",
              "      <td>52.96.57.34</td>\n",
              "      <td>64</td>\n",
              "      <td>0</td>\n",
              "      <td>20</td>\n",
              "      <td>1.666898e+09</td>\n",
              "      <td>0</td>\n",
              "      <td>MacOS</td>\n",
              "    </tr>\n",
              "    <tr>\n",
              "      <th>1</th>\n",
              "      <td>1</td>\n",
              "      <td>2</td>\n",
              "      <td>NaN</td>\n",
              "      <td>52.96.57.34</td>\n",
              "      <td>NaN</td>\n",
              "      <td>NaN</td>\n",
              "      <td>NaN</td>\n",
              "      <td>192.168.86.21</td>\n",
              "      <td>241</td>\n",
              "      <td>0</td>\n",
              "      <td>20</td>\n",
              "      <td>1.666898e+09</td>\n",
              "      <td>0</td>\n",
              "      <td>MacOS</td>\n",
              "    </tr>\n",
              "    <tr>\n",
              "      <th>2</th>\n",
              "      <td>0</td>\n",
              "      <td>3</td>\n",
              "      <td>NaN</td>\n",
              "      <td>192.168.86.21</td>\n",
              "      <td>NaN</td>\n",
              "      <td>NaN</td>\n",
              "      <td>NaN</td>\n",
              "      <td>140.82.112.26</td>\n",
              "      <td>64</td>\n",
              "      <td>0</td>\n",
              "      <td>20</td>\n",
              "      <td>1.666898e+09</td>\n",
              "      <td>0</td>\n",
              "      <td>MacOS</td>\n",
              "    </tr>\n",
              "    <tr>\n",
              "      <th>3</th>\n",
              "      <td>1</td>\n",
              "      <td>4</td>\n",
              "      <td>NaN</td>\n",
              "      <td>140.82.112.26</td>\n",
              "      <td>NaN</td>\n",
              "      <td>NaN</td>\n",
              "      <td>NaN</td>\n",
              "      <td>192.168.86.21</td>\n",
              "      <td>49</td>\n",
              "      <td>0</td>\n",
              "      <td>20</td>\n",
              "      <td>1.666898e+09</td>\n",
              "      <td>0</td>\n",
              "      <td>MacOS</td>\n",
              "    </tr>\n",
              "    <tr>\n",
              "      <th>4</th>\n",
              "      <td>0</td>\n",
              "      <td>5</td>\n",
              "      <td>NaN</td>\n",
              "      <td>192.168.86.23</td>\n",
              "      <td>NaN</td>\n",
              "      <td>NaN</td>\n",
              "      <td>NaN</td>\n",
              "      <td>224.0.0.251</td>\n",
              "      <td>255</td>\n",
              "      <td>0</td>\n",
              "      <td>20</td>\n",
              "      <td>1.666898e+09</td>\n",
              "      <td>0</td>\n",
              "      <td>MacOS</td>\n",
              "    </tr>\n",
              "  </tbody>\n",
              "</table>\n",
              "</div>\n",
              "      <button class=\"colab-df-convert\" onclick=\"convertToInteractive('df-ee5451b0-53df-4db9-a946-986bf9c10ed5')\"\n",
              "              title=\"Convert this dataframe to an interactive table.\"\n",
              "              style=\"display:none;\">\n",
              "        \n",
              "  <svg xmlns=\"http://www.w3.org/2000/svg\" height=\"24px\"viewBox=\"0 0 24 24\"\n",
              "       width=\"24px\">\n",
              "    <path d=\"M0 0h24v24H0V0z\" fill=\"none\"/>\n",
              "    <path d=\"M18.56 5.44l.94 2.06.94-2.06 2.06-.94-2.06-.94-.94-2.06-.94 2.06-2.06.94zm-11 1L8.5 8.5l.94-2.06 2.06-.94-2.06-.94L8.5 2.5l-.94 2.06-2.06.94zm10 10l.94 2.06.94-2.06 2.06-.94-2.06-.94-.94-2.06-.94 2.06-2.06.94z\"/><path d=\"M17.41 7.96l-1.37-1.37c-.4-.4-.92-.59-1.43-.59-.52 0-1.04.2-1.43.59L10.3 9.45l-7.72 7.72c-.78.78-.78 2.05 0 2.83L4 21.41c.39.39.9.59 1.41.59.51 0 1.02-.2 1.41-.59l7.78-7.78 2.81-2.81c.8-.78.8-2.07 0-2.86zM5.41 20L4 18.59l7.72-7.72 1.47 1.35L5.41 20z\"/>\n",
              "  </svg>\n",
              "      </button>\n",
              "      \n",
              "  <style>\n",
              "    .colab-df-container {\n",
              "      display:flex;\n",
              "      flex-wrap:wrap;\n",
              "      gap: 12px;\n",
              "    }\n",
              "\n",
              "    .colab-df-convert {\n",
              "      background-color: #E8F0FE;\n",
              "      border: none;\n",
              "      border-radius: 50%;\n",
              "      cursor: pointer;\n",
              "      display: none;\n",
              "      fill: #1967D2;\n",
              "      height: 32px;\n",
              "      padding: 0 0 0 0;\n",
              "      width: 32px;\n",
              "    }\n",
              "\n",
              "    .colab-df-convert:hover {\n",
              "      background-color: #E2EBFA;\n",
              "      box-shadow: 0px 1px 2px rgba(60, 64, 67, 0.3), 0px 1px 3px 1px rgba(60, 64, 67, 0.15);\n",
              "      fill: #174EA6;\n",
              "    }\n",
              "\n",
              "    [theme=dark] .colab-df-convert {\n",
              "      background-color: #3B4455;\n",
              "      fill: #D2E3FC;\n",
              "    }\n",
              "\n",
              "    [theme=dark] .colab-df-convert:hover {\n",
              "      background-color: #434B5C;\n",
              "      box-shadow: 0px 1px 3px 1px rgba(0, 0, 0, 0.15);\n",
              "      filter: drop-shadow(0px 1px 2px rgba(0, 0, 0, 0.3));\n",
              "      fill: #FFFFFF;\n",
              "    }\n",
              "  </style>\n",
              "\n",
              "      <script>\n",
              "        const buttonEl =\n",
              "          document.querySelector('#df-ee5451b0-53df-4db9-a946-986bf9c10ed5 button.colab-df-convert');\n",
              "        buttonEl.style.display =\n",
              "          google.colab.kernel.accessAllowed ? 'block' : 'none';\n",
              "\n",
              "        async function convertToInteractive(key) {\n",
              "          const element = document.querySelector('#df-ee5451b0-53df-4db9-a946-986bf9c10ed5');\n",
              "          const dataTable =\n",
              "            await google.colab.kernel.invokeFunction('convertToInteractive',\n",
              "                                                     [key], {});\n",
              "          if (!dataTable) return;\n",
              "\n",
              "          const docLinkHtml = 'Like what you see? Visit the ' +\n",
              "            '<a target=\"_blank\" href=https://colab.research.google.com/notebooks/data_table.ipynb>data table notebook</a>'\n",
              "            + ' to learn more about interactive tables.';\n",
              "          element.innerHTML = '';\n",
              "          dataTable['output_type'] = 'display_data';\n",
              "          await google.colab.output.renderOutput(dataTable, element);\n",
              "          const docLink = document.createElement('div');\n",
              "          docLink.innerHTML = docLinkHtml;\n",
              "          element.appendChild(docLink);\n",
              "        }\n",
              "      </script>\n",
              "    </div>\n",
              "  </div>\n",
              "  "
            ]
          },
          "metadata": {},
          "execution_count": 7
        }
      ]
    },
    {
      "cell_type": "code",
      "source": [
        "mtl_df.dtypes"
      ],
      "metadata": {
        "colab": {
          "base_uri": "https://localhost:8080/"
        },
        "id": "YQxr1HRM6JSx",
        "outputId": "7cac448a-2eb8-4684-adb5-42f1ce9a8e97"
      },
      "execution_count": null,
      "outputs": [
        {
          "output_type": "execute_result",
          "data": {
            "text/plain": [
              "DF_FLAG                     int64\n",
              "PACKET_NO                   int64\n",
              "TLS_VERSION                object\n",
              "SRC_IP                     object\n",
              "TLS_CIPHER_SUITES          object\n",
              "SUB_PROTOCOL               object\n",
              "TLS_EXTENSION_SIG_ALGS     object\n",
              "DST_IP                     object\n",
              "TTL                         int64\n",
              "MF_FLAG                     int64\n",
              "PACKET_SIZE                 int64\n",
              "TIMESTAMP                 float64\n",
              "IP_FRAG_OFF                 int64\n",
              "KNOWN_HOST_DEVICE          object\n",
              "dtype: object"
            ]
          },
          "metadata": {},
          "execution_count": 8
        }
      ]
    },
    {
      "cell_type": "code",
      "source": [
        "mtl_df['TLS_CIPHER_SUITES'].isna().sum()\n"
      ],
      "metadata": {
        "colab": {
          "base_uri": "https://localhost:8080/"
        },
        "id": "CurxBoRp5SeY",
        "outputId": "c0326191-f6d2-47f1-d239-20cd782e8521"
      },
      "execution_count": null,
      "outputs": [
        {
          "output_type": "execute_result",
          "data": {
            "text/plain": [
              "7774"
            ]
          },
          "metadata": {},
          "execution_count": 9
        }
      ]
    },
    {
      "cell_type": "code",
      "source": [
        "mtl_df['TLS_EXTENSION_SIG_ALGS'].isna().sum()"
      ],
      "metadata": {
        "colab": {
          "base_uri": "https://localhost:8080/"
        },
        "id": "93uZKQxq55FI",
        "outputId": "75990625-756d-4140-b4aa-45768868b366"
      },
      "execution_count": null,
      "outputs": [
        {
          "output_type": "execute_result",
          "data": {
            "text/plain": [
              "7774"
            ]
          },
          "metadata": {},
          "execution_count": 10
        }
      ]
    },
    {
      "cell_type": "code",
      "source": [
        "mtl_df.shape[0]"
      ],
      "metadata": {
        "colab": {
          "base_uri": "https://localhost:8080/"
        },
        "id": "Y319lNX750Xd",
        "outputId": "f8875e73-7629-4459-9811-9cc8dab70a9c"
      },
      "execution_count": null,
      "outputs": [
        {
          "output_type": "execute_result",
          "data": {
            "text/plain": [
              "7810"
            ]
          },
          "metadata": {},
          "execution_count": 11
        }
      ]
    },
    {
      "cell_type": "code",
      "source": [
        "wtl_df.dtypes"
      ],
      "metadata": {
        "colab": {
          "base_uri": "https://localhost:8080/"
        },
        "id": "IsGDsmRh65IO",
        "outputId": "adcb2e84-d54d-4199-d962-bdd0c9a45b23"
      },
      "execution_count": null,
      "outputs": [
        {
          "output_type": "execute_result",
          "data": {
            "text/plain": [
              "MF_FLAG                     int64\n",
              "PACKET_SIZE                 int64\n",
              "TLS_VERSION                object\n",
              "PACKET_NO                   int64\n",
              "DF_FLAG                     int64\n",
              "KNOWN_HOST_DEVICE          object\n",
              "SUB_PROTOCOL               object\n",
              "TLS_EXTENSION_SIG_ALGS     object\n",
              "TTL                         int64\n",
              "IP_FRAG_OFF                 int64\n",
              "TIMESTAMP                 float64\n",
              "TLS_CIPHER_SUITES          object\n",
              "SRC_IP                     object\n",
              "DST_IP                     object\n",
              "dtype: object"
            ]
          },
          "metadata": {},
          "execution_count": 12
        }
      ]
    },
    {
      "cell_type": "code",
      "source": [
        "wtl_df.shape[0]"
      ],
      "metadata": {
        "colab": {
          "base_uri": "https://localhost:8080/"
        },
        "id": "gL9xZr3V7eiK",
        "outputId": "1840ef28-b36d-48ff-94b9-8bed12df5255"
      },
      "execution_count": null,
      "outputs": [
        {
          "output_type": "execute_result",
          "data": {
            "text/plain": [
              "23713"
            ]
          },
          "metadata": {},
          "execution_count": 13
        }
      ]
    },
    {
      "cell_type": "code",
      "source": [
        "wtl_df['TLS_EXTENSION_SIG_ALGS'].isna().sum()"
      ],
      "metadata": {
        "colab": {
          "base_uri": "https://localhost:8080/"
        },
        "id": "I1MaWbQe7mxD",
        "outputId": "b7af61bd-fd7a-43cb-aaa0-9e63b7771aa9"
      },
      "execution_count": null,
      "outputs": [
        {
          "output_type": "execute_result",
          "data": {
            "text/plain": [
              "23589"
            ]
          },
          "metadata": {},
          "execution_count": 14
        }
      ]
    },
    {
      "cell_type": "code",
      "source": [
        "ltl_df.dtypes"
      ],
      "metadata": {
        "colab": {
          "base_uri": "https://localhost:8080/"
        },
        "id": "YZMrojFx7x_v",
        "outputId": "8e7c154a-803e-43ac-8ed2-7a85d8ee2e8e"
      },
      "execution_count": null,
      "outputs": [
        {
          "output_type": "execute_result",
          "data": {
            "text/plain": [
              "SRC_IP                object\n",
              "MF_FLAG                int64\n",
              "DF_FLAG                int64\n",
              "PACKET_NO              int64\n",
              "KNOWN_HOST_DEVICE     object\n",
              "PACKET_SIZE            int64\n",
              "TIMESTAMP            float64\n",
              "TTL                    int64\n",
              "DST_IP                object\n",
              "IP_FRAG_OFF            int64\n",
              "dtype: object"
            ]
          },
          "metadata": {},
          "execution_count": 15
        }
      ]
    },
    {
      "cell_type": "code",
      "source": [
        "wtl_df['TLS_CIPHER_SUITES'].isna().sum()\n"
      ],
      "metadata": {
        "colab": {
          "base_uri": "https://localhost:8080/"
        },
        "id": "zaTK31Lx7svD",
        "outputId": "45298bda-0d64-4471-f1b0-291efce8b371"
      },
      "execution_count": null,
      "outputs": [
        {
          "output_type": "execute_result",
          "data": {
            "text/plain": [
              "23589"
            ]
          },
          "metadata": {},
          "execution_count": 16
        }
      ]
    },
    {
      "cell_type": "code",
      "source": [
        "#mtl_df[\"TLS_CIPHER_SUITES\"] = mtl_df[\"TLS_CIPHER_SUITES\"].astype('category')\n",
        "#mtl_df[\"TLS_EXTENSION_SIG_ALGS\"] = mtl_df[\"TLS_EXTENSION_SIG_ALGS\"].astype('category')\n",
        "#wtl_df[\"TLS_CIPHER_SUITES\"] = wtl_df[\"TLS_CIPHER_SUITES\"].astype('category')\n",
        "#wtl_df[\"TLS_EXTENSION_SIG_ALGS\"] = wtl_df[\"TLS_EXTENSION_SIG_ALGS\"].astype('category')\n"
      ],
      "metadata": {
        "id": "Gm6GPw2h_Sfr"
      },
      "execution_count": null,
      "outputs": []
    },
    {
      "cell_type": "code",
      "source": [
        "#mtl_df[\"TLS_CIPHER_SUITES\"] = mtl_df[\"TLS_CIPHER_SUITES\"].cat.codes\n",
        "#mtl_df[\"TLS_EXTENSION_SIG_ALGS\"] = mtl_df[\"TLS_EXTENSION_SIG_ALGS\"].cat.codes\n",
        "#wtl_df[\"TLS_CIPHER_SUITES\"] = wtl_df[\"TLS_CIPHER_SUITES\"].cat.codes\n",
        "#wtl_df[\"TLS_EXTENSION_SIG_ALGS\"] = wtl_df[\"TLS_EXTENSION_SIG_ALGS\"].cat.codes\n",
        "\n"
      ],
      "metadata": {
        "id": "Pf-_R1f360Cx"
      },
      "execution_count": null,
      "outputs": []
    },
    {
      "cell_type": "code",
      "source": [
        "ltl_df['OS'] = 1\n",
        "mtl_df['OS'] = 2\n",
        "wtl_df['OS'] = 3\n"
      ],
      "metadata": {
        "id": "a51snZzx_6us"
      },
      "execution_count": null,
      "outputs": []
    },
    {
      "cell_type": "code",
      "source": [
        "tls_df = pd.concat([ltl_df, mtl_df, wtl_df], axis=0)\n"
      ],
      "metadata": {
        "id": "4RtHCX8m_o9Z"
      },
      "execution_count": null,
      "outputs": []
    },
    {
      "cell_type": "code",
      "source": [
        "tls_df.head()"
      ],
      "metadata": {
        "colab": {
          "base_uri": "https://localhost:8080/",
          "height": 270
        },
        "id": "J90F6QtcASe1",
        "outputId": "8e1bf1f7-80f2-4e74-b0dc-7589e5154d00"
      },
      "execution_count": null,
      "outputs": [
        {
          "output_type": "execute_result",
          "data": {
            "text/plain": [
              "          SRC_IP  MF_FLAG  DF_FLAG  PACKET_NO KNOWN_HOST_DEVICE  PACKET_SIZE  \\\n",
              "0  172.16.16.128        0        0          1             Linux           20   \n",
              "1  172.16.16.128        0        0          2             Linux           20   \n",
              "2    172.16.16.2        0        1          3             Linux           20   \n",
              "3  172.16.16.128        0        1          4             Linux           20   \n",
              "4  172.16.16.128        0        0          6             Linux           20   \n",
              "\n",
              "      TIMESTAMP  TTL           DST_IP  IP_FRAG_OFF  OS TLS_VERSION  \\\n",
              "0  1.258920e+09  128    172.16.16.255            0   1         NaN   \n",
              "1  1.258920e+09    1  239.255.255.250            0   1         NaN   \n",
              "2  1.258920e+09   64    172.16.16.128            0   1         NaN   \n",
              "3  1.258920e+09    4       224.0.1.60            0   1         NaN   \n",
              "4  1.258920e+09    1      224.0.0.252            0   1         NaN   \n",
              "\n",
              "  TLS_CIPHER_SUITES SUB_PROTOCOL TLS_EXTENSION_SIG_ALGS  \n",
              "0               NaN          NaN                    NaN  \n",
              "1               NaN          NaN                    NaN  \n",
              "2               NaN          NaN                    NaN  \n",
              "3               NaN          NaN                    NaN  \n",
              "4               NaN          NaN                    NaN  "
            ],
            "text/html": [
              "\n",
              "  <div id=\"df-8b21c16c-7aee-4b33-88bc-b89f83b6773e\">\n",
              "    <div class=\"colab-df-container\">\n",
              "      <div>\n",
              "<style scoped>\n",
              "    .dataframe tbody tr th:only-of-type {\n",
              "        vertical-align: middle;\n",
              "    }\n",
              "\n",
              "    .dataframe tbody tr th {\n",
              "        vertical-align: top;\n",
              "    }\n",
              "\n",
              "    .dataframe thead th {\n",
              "        text-align: right;\n",
              "    }\n",
              "</style>\n",
              "<table border=\"1\" class=\"dataframe\">\n",
              "  <thead>\n",
              "    <tr style=\"text-align: right;\">\n",
              "      <th></th>\n",
              "      <th>SRC_IP</th>\n",
              "      <th>MF_FLAG</th>\n",
              "      <th>DF_FLAG</th>\n",
              "      <th>PACKET_NO</th>\n",
              "      <th>KNOWN_HOST_DEVICE</th>\n",
              "      <th>PACKET_SIZE</th>\n",
              "      <th>TIMESTAMP</th>\n",
              "      <th>TTL</th>\n",
              "      <th>DST_IP</th>\n",
              "      <th>IP_FRAG_OFF</th>\n",
              "      <th>OS</th>\n",
              "      <th>TLS_VERSION</th>\n",
              "      <th>TLS_CIPHER_SUITES</th>\n",
              "      <th>SUB_PROTOCOL</th>\n",
              "      <th>TLS_EXTENSION_SIG_ALGS</th>\n",
              "    </tr>\n",
              "  </thead>\n",
              "  <tbody>\n",
              "    <tr>\n",
              "      <th>0</th>\n",
              "      <td>172.16.16.128</td>\n",
              "      <td>0</td>\n",
              "      <td>0</td>\n",
              "      <td>1</td>\n",
              "      <td>Linux</td>\n",
              "      <td>20</td>\n",
              "      <td>1.258920e+09</td>\n",
              "      <td>128</td>\n",
              "      <td>172.16.16.255</td>\n",
              "      <td>0</td>\n",
              "      <td>1</td>\n",
              "      <td>NaN</td>\n",
              "      <td>NaN</td>\n",
              "      <td>NaN</td>\n",
              "      <td>NaN</td>\n",
              "    </tr>\n",
              "    <tr>\n",
              "      <th>1</th>\n",
              "      <td>172.16.16.128</td>\n",
              "      <td>0</td>\n",
              "      <td>0</td>\n",
              "      <td>2</td>\n",
              "      <td>Linux</td>\n",
              "      <td>20</td>\n",
              "      <td>1.258920e+09</td>\n",
              "      <td>1</td>\n",
              "      <td>239.255.255.250</td>\n",
              "      <td>0</td>\n",
              "      <td>1</td>\n",
              "      <td>NaN</td>\n",
              "      <td>NaN</td>\n",
              "      <td>NaN</td>\n",
              "      <td>NaN</td>\n",
              "    </tr>\n",
              "    <tr>\n",
              "      <th>2</th>\n",
              "      <td>172.16.16.2</td>\n",
              "      <td>0</td>\n",
              "      <td>1</td>\n",
              "      <td>3</td>\n",
              "      <td>Linux</td>\n",
              "      <td>20</td>\n",
              "      <td>1.258920e+09</td>\n",
              "      <td>64</td>\n",
              "      <td>172.16.16.128</td>\n",
              "      <td>0</td>\n",
              "      <td>1</td>\n",
              "      <td>NaN</td>\n",
              "      <td>NaN</td>\n",
              "      <td>NaN</td>\n",
              "      <td>NaN</td>\n",
              "    </tr>\n",
              "    <tr>\n",
              "      <th>3</th>\n",
              "      <td>172.16.16.128</td>\n",
              "      <td>0</td>\n",
              "      <td>1</td>\n",
              "      <td>4</td>\n",
              "      <td>Linux</td>\n",
              "      <td>20</td>\n",
              "      <td>1.258920e+09</td>\n",
              "      <td>4</td>\n",
              "      <td>224.0.1.60</td>\n",
              "      <td>0</td>\n",
              "      <td>1</td>\n",
              "      <td>NaN</td>\n",
              "      <td>NaN</td>\n",
              "      <td>NaN</td>\n",
              "      <td>NaN</td>\n",
              "    </tr>\n",
              "    <tr>\n",
              "      <th>4</th>\n",
              "      <td>172.16.16.128</td>\n",
              "      <td>0</td>\n",
              "      <td>0</td>\n",
              "      <td>6</td>\n",
              "      <td>Linux</td>\n",
              "      <td>20</td>\n",
              "      <td>1.258920e+09</td>\n",
              "      <td>1</td>\n",
              "      <td>224.0.0.252</td>\n",
              "      <td>0</td>\n",
              "      <td>1</td>\n",
              "      <td>NaN</td>\n",
              "      <td>NaN</td>\n",
              "      <td>NaN</td>\n",
              "      <td>NaN</td>\n",
              "    </tr>\n",
              "  </tbody>\n",
              "</table>\n",
              "</div>\n",
              "      <button class=\"colab-df-convert\" onclick=\"convertToInteractive('df-8b21c16c-7aee-4b33-88bc-b89f83b6773e')\"\n",
              "              title=\"Convert this dataframe to an interactive table.\"\n",
              "              style=\"display:none;\">\n",
              "        \n",
              "  <svg xmlns=\"http://www.w3.org/2000/svg\" height=\"24px\"viewBox=\"0 0 24 24\"\n",
              "       width=\"24px\">\n",
              "    <path d=\"M0 0h24v24H0V0z\" fill=\"none\"/>\n",
              "    <path d=\"M18.56 5.44l.94 2.06.94-2.06 2.06-.94-2.06-.94-.94-2.06-.94 2.06-2.06.94zm-11 1L8.5 8.5l.94-2.06 2.06-.94-2.06-.94L8.5 2.5l-.94 2.06-2.06.94zm10 10l.94 2.06.94-2.06 2.06-.94-2.06-.94-.94-2.06-.94 2.06-2.06.94z\"/><path d=\"M17.41 7.96l-1.37-1.37c-.4-.4-.92-.59-1.43-.59-.52 0-1.04.2-1.43.59L10.3 9.45l-7.72 7.72c-.78.78-.78 2.05 0 2.83L4 21.41c.39.39.9.59 1.41.59.51 0 1.02-.2 1.41-.59l7.78-7.78 2.81-2.81c.8-.78.8-2.07 0-2.86zM5.41 20L4 18.59l7.72-7.72 1.47 1.35L5.41 20z\"/>\n",
              "  </svg>\n",
              "      </button>\n",
              "      \n",
              "  <style>\n",
              "    .colab-df-container {\n",
              "      display:flex;\n",
              "      flex-wrap:wrap;\n",
              "      gap: 12px;\n",
              "    }\n",
              "\n",
              "    .colab-df-convert {\n",
              "      background-color: #E8F0FE;\n",
              "      border: none;\n",
              "      border-radius: 50%;\n",
              "      cursor: pointer;\n",
              "      display: none;\n",
              "      fill: #1967D2;\n",
              "      height: 32px;\n",
              "      padding: 0 0 0 0;\n",
              "      width: 32px;\n",
              "    }\n",
              "\n",
              "    .colab-df-convert:hover {\n",
              "      background-color: #E2EBFA;\n",
              "      box-shadow: 0px 1px 2px rgba(60, 64, 67, 0.3), 0px 1px 3px 1px rgba(60, 64, 67, 0.15);\n",
              "      fill: #174EA6;\n",
              "    }\n",
              "\n",
              "    [theme=dark] .colab-df-convert {\n",
              "      background-color: #3B4455;\n",
              "      fill: #D2E3FC;\n",
              "    }\n",
              "\n",
              "    [theme=dark] .colab-df-convert:hover {\n",
              "      background-color: #434B5C;\n",
              "      box-shadow: 0px 1px 3px 1px rgba(0, 0, 0, 0.15);\n",
              "      filter: drop-shadow(0px 1px 2px rgba(0, 0, 0, 0.3));\n",
              "      fill: #FFFFFF;\n",
              "    }\n",
              "  </style>\n",
              "\n",
              "      <script>\n",
              "        const buttonEl =\n",
              "          document.querySelector('#df-8b21c16c-7aee-4b33-88bc-b89f83b6773e button.colab-df-convert');\n",
              "        buttonEl.style.display =\n",
              "          google.colab.kernel.accessAllowed ? 'block' : 'none';\n",
              "\n",
              "        async function convertToInteractive(key) {\n",
              "          const element = document.querySelector('#df-8b21c16c-7aee-4b33-88bc-b89f83b6773e');\n",
              "          const dataTable =\n",
              "            await google.colab.kernel.invokeFunction('convertToInteractive',\n",
              "                                                     [key], {});\n",
              "          if (!dataTable) return;\n",
              "\n",
              "          const docLinkHtml = 'Like what you see? Visit the ' +\n",
              "            '<a target=\"_blank\" href=https://colab.research.google.com/notebooks/data_table.ipynb>data table notebook</a>'\n",
              "            + ' to learn more about interactive tables.';\n",
              "          element.innerHTML = '';\n",
              "          dataTable['output_type'] = 'display_data';\n",
              "          await google.colab.output.renderOutput(dataTable, element);\n",
              "          const docLink = document.createElement('div');\n",
              "          docLink.innerHTML = docLinkHtml;\n",
              "          element.appendChild(docLink);\n",
              "        }\n",
              "      </script>\n",
              "    </div>\n",
              "  </div>\n",
              "  "
            ]
          },
          "metadata": {},
          "execution_count": 21
        }
      ]
    },
    {
      "cell_type": "code",
      "source": [
        "tls_df[\"TLS_CIPHER_SUITES\"] = tls_df[\"TLS_CIPHER_SUITES\"].astype('category')\n",
        "tls_df[\"TLS_EXTENSION_SIG_ALGS\"] = tls_df[\"TLS_EXTENSION_SIG_ALGS\"].astype('category')\n",
        "\n"
      ],
      "metadata": {
        "id": "9FLAEBAfAmS4"
      },
      "execution_count": null,
      "outputs": []
    },
    {
      "cell_type": "code",
      "source": [
        "tls_df[\"TLS_CIPHER_SUITES\"] = tls_df[\"TLS_CIPHER_SUITES\"].cat.codes\n",
        "tls_df[\"TLS_EXTENSION_SIG_ALGS\"] = tls_df[\"TLS_EXTENSION_SIG_ALGS\"].cat.codes"
      ],
      "metadata": {
        "id": "bK8XJARLAxoy"
      },
      "execution_count": null,
      "outputs": []
    },
    {
      "cell_type": "code",
      "source": [
        "tls_df.dtypes"
      ],
      "metadata": {
        "colab": {
          "base_uri": "https://localhost:8080/"
        },
        "id": "vG-Psn_tAaUJ",
        "outputId": "b5604bf8-f887-4072-8fb8-e15246030733"
      },
      "execution_count": null,
      "outputs": [
        {
          "output_type": "execute_result",
          "data": {
            "text/plain": [
              "SRC_IP                     object\n",
              "MF_FLAG                     int64\n",
              "DF_FLAG                     int64\n",
              "PACKET_NO                   int64\n",
              "KNOWN_HOST_DEVICE          object\n",
              "PACKET_SIZE                 int64\n",
              "TIMESTAMP                 float64\n",
              "TTL                         int64\n",
              "DST_IP                     object\n",
              "IP_FRAG_OFF                 int64\n",
              "OS                          int64\n",
              "TLS_VERSION                object\n",
              "TLS_CIPHER_SUITES            int8\n",
              "SUB_PROTOCOL               object\n",
              "TLS_EXTENSION_SIG_ALGS       int8\n",
              "dtype: object"
            ]
          },
          "metadata": {},
          "execution_count": 24
        }
      ]
    },
    {
      "cell_type": "code",
      "source": [
        "tls_df.head()"
      ],
      "metadata": {
        "colab": {
          "base_uri": "https://localhost:8080/",
          "height": 270
        },
        "id": "z7G-e39jBZ_t",
        "outputId": "c5dfc23c-eb96-46d1-ec9f-29337e9e4307"
      },
      "execution_count": null,
      "outputs": [
        {
          "output_type": "execute_result",
          "data": {
            "text/plain": [
              "          SRC_IP  MF_FLAG  DF_FLAG  PACKET_NO KNOWN_HOST_DEVICE  PACKET_SIZE  \\\n",
              "0  172.16.16.128        0        0          1             Linux           20   \n",
              "1  172.16.16.128        0        0          2             Linux           20   \n",
              "2    172.16.16.2        0        1          3             Linux           20   \n",
              "3  172.16.16.128        0        1          4             Linux           20   \n",
              "4  172.16.16.128        0        0          6             Linux           20   \n",
              "\n",
              "      TIMESTAMP  TTL           DST_IP  IP_FRAG_OFF  OS TLS_VERSION  \\\n",
              "0  1.258920e+09  128    172.16.16.255            0   1         NaN   \n",
              "1  1.258920e+09    1  239.255.255.250            0   1         NaN   \n",
              "2  1.258920e+09   64    172.16.16.128            0   1         NaN   \n",
              "3  1.258920e+09    4       224.0.1.60            0   1         NaN   \n",
              "4  1.258920e+09    1      224.0.0.252            0   1         NaN   \n",
              "\n",
              "   TLS_CIPHER_SUITES SUB_PROTOCOL  TLS_EXTENSION_SIG_ALGS  \n",
              "0                 -1          NaN                      -1  \n",
              "1                 -1          NaN                      -1  \n",
              "2                 -1          NaN                      -1  \n",
              "3                 -1          NaN                      -1  \n",
              "4                 -1          NaN                      -1  "
            ],
            "text/html": [
              "\n",
              "  <div id=\"df-f67be241-5a74-4302-851c-1dbfa9303a36\">\n",
              "    <div class=\"colab-df-container\">\n",
              "      <div>\n",
              "<style scoped>\n",
              "    .dataframe tbody tr th:only-of-type {\n",
              "        vertical-align: middle;\n",
              "    }\n",
              "\n",
              "    .dataframe tbody tr th {\n",
              "        vertical-align: top;\n",
              "    }\n",
              "\n",
              "    .dataframe thead th {\n",
              "        text-align: right;\n",
              "    }\n",
              "</style>\n",
              "<table border=\"1\" class=\"dataframe\">\n",
              "  <thead>\n",
              "    <tr style=\"text-align: right;\">\n",
              "      <th></th>\n",
              "      <th>SRC_IP</th>\n",
              "      <th>MF_FLAG</th>\n",
              "      <th>DF_FLAG</th>\n",
              "      <th>PACKET_NO</th>\n",
              "      <th>KNOWN_HOST_DEVICE</th>\n",
              "      <th>PACKET_SIZE</th>\n",
              "      <th>TIMESTAMP</th>\n",
              "      <th>TTL</th>\n",
              "      <th>DST_IP</th>\n",
              "      <th>IP_FRAG_OFF</th>\n",
              "      <th>OS</th>\n",
              "      <th>TLS_VERSION</th>\n",
              "      <th>TLS_CIPHER_SUITES</th>\n",
              "      <th>SUB_PROTOCOL</th>\n",
              "      <th>TLS_EXTENSION_SIG_ALGS</th>\n",
              "    </tr>\n",
              "  </thead>\n",
              "  <tbody>\n",
              "    <tr>\n",
              "      <th>0</th>\n",
              "      <td>172.16.16.128</td>\n",
              "      <td>0</td>\n",
              "      <td>0</td>\n",
              "      <td>1</td>\n",
              "      <td>Linux</td>\n",
              "      <td>20</td>\n",
              "      <td>1.258920e+09</td>\n",
              "      <td>128</td>\n",
              "      <td>172.16.16.255</td>\n",
              "      <td>0</td>\n",
              "      <td>1</td>\n",
              "      <td>NaN</td>\n",
              "      <td>-1</td>\n",
              "      <td>NaN</td>\n",
              "      <td>-1</td>\n",
              "    </tr>\n",
              "    <tr>\n",
              "      <th>1</th>\n",
              "      <td>172.16.16.128</td>\n",
              "      <td>0</td>\n",
              "      <td>0</td>\n",
              "      <td>2</td>\n",
              "      <td>Linux</td>\n",
              "      <td>20</td>\n",
              "      <td>1.258920e+09</td>\n",
              "      <td>1</td>\n",
              "      <td>239.255.255.250</td>\n",
              "      <td>0</td>\n",
              "      <td>1</td>\n",
              "      <td>NaN</td>\n",
              "      <td>-1</td>\n",
              "      <td>NaN</td>\n",
              "      <td>-1</td>\n",
              "    </tr>\n",
              "    <tr>\n",
              "      <th>2</th>\n",
              "      <td>172.16.16.2</td>\n",
              "      <td>0</td>\n",
              "      <td>1</td>\n",
              "      <td>3</td>\n",
              "      <td>Linux</td>\n",
              "      <td>20</td>\n",
              "      <td>1.258920e+09</td>\n",
              "      <td>64</td>\n",
              "      <td>172.16.16.128</td>\n",
              "      <td>0</td>\n",
              "      <td>1</td>\n",
              "      <td>NaN</td>\n",
              "      <td>-1</td>\n",
              "      <td>NaN</td>\n",
              "      <td>-1</td>\n",
              "    </tr>\n",
              "    <tr>\n",
              "      <th>3</th>\n",
              "      <td>172.16.16.128</td>\n",
              "      <td>0</td>\n",
              "      <td>1</td>\n",
              "      <td>4</td>\n",
              "      <td>Linux</td>\n",
              "      <td>20</td>\n",
              "      <td>1.258920e+09</td>\n",
              "      <td>4</td>\n",
              "      <td>224.0.1.60</td>\n",
              "      <td>0</td>\n",
              "      <td>1</td>\n",
              "      <td>NaN</td>\n",
              "      <td>-1</td>\n",
              "      <td>NaN</td>\n",
              "      <td>-1</td>\n",
              "    </tr>\n",
              "    <tr>\n",
              "      <th>4</th>\n",
              "      <td>172.16.16.128</td>\n",
              "      <td>0</td>\n",
              "      <td>0</td>\n",
              "      <td>6</td>\n",
              "      <td>Linux</td>\n",
              "      <td>20</td>\n",
              "      <td>1.258920e+09</td>\n",
              "      <td>1</td>\n",
              "      <td>224.0.0.252</td>\n",
              "      <td>0</td>\n",
              "      <td>1</td>\n",
              "      <td>NaN</td>\n",
              "      <td>-1</td>\n",
              "      <td>NaN</td>\n",
              "      <td>-1</td>\n",
              "    </tr>\n",
              "  </tbody>\n",
              "</table>\n",
              "</div>\n",
              "      <button class=\"colab-df-convert\" onclick=\"convertToInteractive('df-f67be241-5a74-4302-851c-1dbfa9303a36')\"\n",
              "              title=\"Convert this dataframe to an interactive table.\"\n",
              "              style=\"display:none;\">\n",
              "        \n",
              "  <svg xmlns=\"http://www.w3.org/2000/svg\" height=\"24px\"viewBox=\"0 0 24 24\"\n",
              "       width=\"24px\">\n",
              "    <path d=\"M0 0h24v24H0V0z\" fill=\"none\"/>\n",
              "    <path d=\"M18.56 5.44l.94 2.06.94-2.06 2.06-.94-2.06-.94-.94-2.06-.94 2.06-2.06.94zm-11 1L8.5 8.5l.94-2.06 2.06-.94-2.06-.94L8.5 2.5l-.94 2.06-2.06.94zm10 10l.94 2.06.94-2.06 2.06-.94-2.06-.94-.94-2.06-.94 2.06-2.06.94z\"/><path d=\"M17.41 7.96l-1.37-1.37c-.4-.4-.92-.59-1.43-.59-.52 0-1.04.2-1.43.59L10.3 9.45l-7.72 7.72c-.78.78-.78 2.05 0 2.83L4 21.41c.39.39.9.59 1.41.59.51 0 1.02-.2 1.41-.59l7.78-7.78 2.81-2.81c.8-.78.8-2.07 0-2.86zM5.41 20L4 18.59l7.72-7.72 1.47 1.35L5.41 20z\"/>\n",
              "  </svg>\n",
              "      </button>\n",
              "      \n",
              "  <style>\n",
              "    .colab-df-container {\n",
              "      display:flex;\n",
              "      flex-wrap:wrap;\n",
              "      gap: 12px;\n",
              "    }\n",
              "\n",
              "    .colab-df-convert {\n",
              "      background-color: #E8F0FE;\n",
              "      border: none;\n",
              "      border-radius: 50%;\n",
              "      cursor: pointer;\n",
              "      display: none;\n",
              "      fill: #1967D2;\n",
              "      height: 32px;\n",
              "      padding: 0 0 0 0;\n",
              "      width: 32px;\n",
              "    }\n",
              "\n",
              "    .colab-df-convert:hover {\n",
              "      background-color: #E2EBFA;\n",
              "      box-shadow: 0px 1px 2px rgba(60, 64, 67, 0.3), 0px 1px 3px 1px rgba(60, 64, 67, 0.15);\n",
              "      fill: #174EA6;\n",
              "    }\n",
              "\n",
              "    [theme=dark] .colab-df-convert {\n",
              "      background-color: #3B4455;\n",
              "      fill: #D2E3FC;\n",
              "    }\n",
              "\n",
              "    [theme=dark] .colab-df-convert:hover {\n",
              "      background-color: #434B5C;\n",
              "      box-shadow: 0px 1px 3px 1px rgba(0, 0, 0, 0.15);\n",
              "      filter: drop-shadow(0px 1px 2px rgba(0, 0, 0, 0.3));\n",
              "      fill: #FFFFFF;\n",
              "    }\n",
              "  </style>\n",
              "\n",
              "      <script>\n",
              "        const buttonEl =\n",
              "          document.querySelector('#df-f67be241-5a74-4302-851c-1dbfa9303a36 button.colab-df-convert');\n",
              "        buttonEl.style.display =\n",
              "          google.colab.kernel.accessAllowed ? 'block' : 'none';\n",
              "\n",
              "        async function convertToInteractive(key) {\n",
              "          const element = document.querySelector('#df-f67be241-5a74-4302-851c-1dbfa9303a36');\n",
              "          const dataTable =\n",
              "            await google.colab.kernel.invokeFunction('convertToInteractive',\n",
              "                                                     [key], {});\n",
              "          if (!dataTable) return;\n",
              "\n",
              "          const docLinkHtml = 'Like what you see? Visit the ' +\n",
              "            '<a target=\"_blank\" href=https://colab.research.google.com/notebooks/data_table.ipynb>data table notebook</a>'\n",
              "            + ' to learn more about interactive tables.';\n",
              "          element.innerHTML = '';\n",
              "          dataTable['output_type'] = 'display_data';\n",
              "          await google.colab.output.renderOutput(dataTable, element);\n",
              "          const docLink = document.createElement('div');\n",
              "          docLink.innerHTML = docLinkHtml;\n",
              "          element.appendChild(docLink);\n",
              "        }\n",
              "      </script>\n",
              "    </div>\n",
              "  </div>\n",
              "  "
            ]
          },
          "metadata": {},
          "execution_count": 25
        }
      ]
    },
    {
      "cell_type": "code",
      "source": [
        "# Dropping TLS Columns\n",
        "tls_df.drop(['TIMESTAMP', 'DST_IP', 'KNOWN_HOST_DEVICE', 'TLS_VERSION', 'SUB_PROTOCOL'], axis=1, inplace=True)"
      ],
      "metadata": {
        "id": "3s4EjASrCEmI"
      },
      "execution_count": null,
      "outputs": []
    },
    {
      "cell_type": "code",
      "source": [
        "tls_df.head()"
      ],
      "metadata": {
        "colab": {
          "base_uri": "https://localhost:8080/",
          "height": 270
        },
        "id": "7HVzlsypDzzf",
        "outputId": "593f0857-082e-4639-da84-7468f949f468"
      },
      "execution_count": null,
      "outputs": [
        {
          "output_type": "execute_result",
          "data": {
            "text/plain": [
              "          SRC_IP  MF_FLAG  DF_FLAG  PACKET_NO  PACKET_SIZE  TTL  IP_FRAG_OFF  \\\n",
              "0  172.16.16.128        0        0          1           20  128            0   \n",
              "1  172.16.16.128        0        0          2           20    1            0   \n",
              "2    172.16.16.2        0        1          3           20   64            0   \n",
              "3  172.16.16.128        0        1          4           20    4            0   \n",
              "4  172.16.16.128        0        0          6           20    1            0   \n",
              "\n",
              "   OS  TLS_CIPHER_SUITES  TLS_EXTENSION_SIG_ALGS  \n",
              "0   1                 -1                      -1  \n",
              "1   1                 -1                      -1  \n",
              "2   1                 -1                      -1  \n",
              "3   1                 -1                      -1  \n",
              "4   1                 -1                      -1  "
            ],
            "text/html": [
              "\n",
              "  <div id=\"df-373cd5ba-c28d-42aa-ba89-6938f3b4945e\">\n",
              "    <div class=\"colab-df-container\">\n",
              "      <div>\n",
              "<style scoped>\n",
              "    .dataframe tbody tr th:only-of-type {\n",
              "        vertical-align: middle;\n",
              "    }\n",
              "\n",
              "    .dataframe tbody tr th {\n",
              "        vertical-align: top;\n",
              "    }\n",
              "\n",
              "    .dataframe thead th {\n",
              "        text-align: right;\n",
              "    }\n",
              "</style>\n",
              "<table border=\"1\" class=\"dataframe\">\n",
              "  <thead>\n",
              "    <tr style=\"text-align: right;\">\n",
              "      <th></th>\n",
              "      <th>SRC_IP</th>\n",
              "      <th>MF_FLAG</th>\n",
              "      <th>DF_FLAG</th>\n",
              "      <th>PACKET_NO</th>\n",
              "      <th>PACKET_SIZE</th>\n",
              "      <th>TTL</th>\n",
              "      <th>IP_FRAG_OFF</th>\n",
              "      <th>OS</th>\n",
              "      <th>TLS_CIPHER_SUITES</th>\n",
              "      <th>TLS_EXTENSION_SIG_ALGS</th>\n",
              "    </tr>\n",
              "  </thead>\n",
              "  <tbody>\n",
              "    <tr>\n",
              "      <th>0</th>\n",
              "      <td>172.16.16.128</td>\n",
              "      <td>0</td>\n",
              "      <td>0</td>\n",
              "      <td>1</td>\n",
              "      <td>20</td>\n",
              "      <td>128</td>\n",
              "      <td>0</td>\n",
              "      <td>1</td>\n",
              "      <td>-1</td>\n",
              "      <td>-1</td>\n",
              "    </tr>\n",
              "    <tr>\n",
              "      <th>1</th>\n",
              "      <td>172.16.16.128</td>\n",
              "      <td>0</td>\n",
              "      <td>0</td>\n",
              "      <td>2</td>\n",
              "      <td>20</td>\n",
              "      <td>1</td>\n",
              "      <td>0</td>\n",
              "      <td>1</td>\n",
              "      <td>-1</td>\n",
              "      <td>-1</td>\n",
              "    </tr>\n",
              "    <tr>\n",
              "      <th>2</th>\n",
              "      <td>172.16.16.2</td>\n",
              "      <td>0</td>\n",
              "      <td>1</td>\n",
              "      <td>3</td>\n",
              "      <td>20</td>\n",
              "      <td>64</td>\n",
              "      <td>0</td>\n",
              "      <td>1</td>\n",
              "      <td>-1</td>\n",
              "      <td>-1</td>\n",
              "    </tr>\n",
              "    <tr>\n",
              "      <th>3</th>\n",
              "      <td>172.16.16.128</td>\n",
              "      <td>0</td>\n",
              "      <td>1</td>\n",
              "      <td>4</td>\n",
              "      <td>20</td>\n",
              "      <td>4</td>\n",
              "      <td>0</td>\n",
              "      <td>1</td>\n",
              "      <td>-1</td>\n",
              "      <td>-1</td>\n",
              "    </tr>\n",
              "    <tr>\n",
              "      <th>4</th>\n",
              "      <td>172.16.16.128</td>\n",
              "      <td>0</td>\n",
              "      <td>0</td>\n",
              "      <td>6</td>\n",
              "      <td>20</td>\n",
              "      <td>1</td>\n",
              "      <td>0</td>\n",
              "      <td>1</td>\n",
              "      <td>-1</td>\n",
              "      <td>-1</td>\n",
              "    </tr>\n",
              "  </tbody>\n",
              "</table>\n",
              "</div>\n",
              "      <button class=\"colab-df-convert\" onclick=\"convertToInteractive('df-373cd5ba-c28d-42aa-ba89-6938f3b4945e')\"\n",
              "              title=\"Convert this dataframe to an interactive table.\"\n",
              "              style=\"display:none;\">\n",
              "        \n",
              "  <svg xmlns=\"http://www.w3.org/2000/svg\" height=\"24px\"viewBox=\"0 0 24 24\"\n",
              "       width=\"24px\">\n",
              "    <path d=\"M0 0h24v24H0V0z\" fill=\"none\"/>\n",
              "    <path d=\"M18.56 5.44l.94 2.06.94-2.06 2.06-.94-2.06-.94-.94-2.06-.94 2.06-2.06.94zm-11 1L8.5 8.5l.94-2.06 2.06-.94-2.06-.94L8.5 2.5l-.94 2.06-2.06.94zm10 10l.94 2.06.94-2.06 2.06-.94-2.06-.94-.94-2.06-.94 2.06-2.06.94z\"/><path d=\"M17.41 7.96l-1.37-1.37c-.4-.4-.92-.59-1.43-.59-.52 0-1.04.2-1.43.59L10.3 9.45l-7.72 7.72c-.78.78-.78 2.05 0 2.83L4 21.41c.39.39.9.59 1.41.59.51 0 1.02-.2 1.41-.59l7.78-7.78 2.81-2.81c.8-.78.8-2.07 0-2.86zM5.41 20L4 18.59l7.72-7.72 1.47 1.35L5.41 20z\"/>\n",
              "  </svg>\n",
              "      </button>\n",
              "      \n",
              "  <style>\n",
              "    .colab-df-container {\n",
              "      display:flex;\n",
              "      flex-wrap:wrap;\n",
              "      gap: 12px;\n",
              "    }\n",
              "\n",
              "    .colab-df-convert {\n",
              "      background-color: #E8F0FE;\n",
              "      border: none;\n",
              "      border-radius: 50%;\n",
              "      cursor: pointer;\n",
              "      display: none;\n",
              "      fill: #1967D2;\n",
              "      height: 32px;\n",
              "      padding: 0 0 0 0;\n",
              "      width: 32px;\n",
              "    }\n",
              "\n",
              "    .colab-df-convert:hover {\n",
              "      background-color: #E2EBFA;\n",
              "      box-shadow: 0px 1px 2px rgba(60, 64, 67, 0.3), 0px 1px 3px 1px rgba(60, 64, 67, 0.15);\n",
              "      fill: #174EA6;\n",
              "    }\n",
              "\n",
              "    [theme=dark] .colab-df-convert {\n",
              "      background-color: #3B4455;\n",
              "      fill: #D2E3FC;\n",
              "    }\n",
              "\n",
              "    [theme=dark] .colab-df-convert:hover {\n",
              "      background-color: #434B5C;\n",
              "      box-shadow: 0px 1px 3px 1px rgba(0, 0, 0, 0.15);\n",
              "      filter: drop-shadow(0px 1px 2px rgba(0, 0, 0, 0.3));\n",
              "      fill: #FFFFFF;\n",
              "    }\n",
              "  </style>\n",
              "\n",
              "      <script>\n",
              "        const buttonEl =\n",
              "          document.querySelector('#df-373cd5ba-c28d-42aa-ba89-6938f3b4945e button.colab-df-convert');\n",
              "        buttonEl.style.display =\n",
              "          google.colab.kernel.accessAllowed ? 'block' : 'none';\n",
              "\n",
              "        async function convertToInteractive(key) {\n",
              "          const element = document.querySelector('#df-373cd5ba-c28d-42aa-ba89-6938f3b4945e');\n",
              "          const dataTable =\n",
              "            await google.colab.kernel.invokeFunction('convertToInteractive',\n",
              "                                                     [key], {});\n",
              "          if (!dataTable) return;\n",
              "\n",
              "          const docLinkHtml = 'Like what you see? Visit the ' +\n",
              "            '<a target=\"_blank\" href=https://colab.research.google.com/notebooks/data_table.ipynb>data table notebook</a>'\n",
              "            + ' to learn more about interactive tables.';\n",
              "          element.innerHTML = '';\n",
              "          dataTable['output_type'] = 'display_data';\n",
              "          await google.colab.output.renderOutput(dataTable, element);\n",
              "          const docLink = document.createElement('div');\n",
              "          docLink.innerHTML = docLinkHtml;\n",
              "          element.appendChild(docLink);\n",
              "        }\n",
              "      </script>\n",
              "    </div>\n",
              "  </div>\n",
              "  "
            ]
          },
          "metadata": {},
          "execution_count": 27
        }
      ]
    },
    {
      "cell_type": "code",
      "source": [
        "tls_df.shape[0]"
      ],
      "metadata": {
        "colab": {
          "base_uri": "https://localhost:8080/"
        },
        "id": "sFhwDZz2FkoS",
        "outputId": "5a7b901c-0227-45d4-b540-86778b78c367"
      },
      "execution_count": null,
      "outputs": [
        {
          "output_type": "execute_result",
          "data": {
            "text/plain": [
              "44384"
            ]
          },
          "metadata": {},
          "execution_count": 28
        }
      ]
    },
    {
      "cell_type": "code",
      "source": [
        "corr = tls_df.corr()\n",
        "corr.style.background_gradient(cmap='coolwarm')"
      ],
      "metadata": {
        "colab": {
          "base_uri": "https://localhost:8080/",
          "height": 421
        },
        "id": "fu60S3WGESEZ",
        "outputId": "e5ccd6ac-543e-404a-c549-2667d6f34954"
      },
      "execution_count": null,
      "outputs": [
        {
          "output_type": "stream",
          "name": "stderr",
          "text": [
            "/usr/local/lib/python3.8/dist-packages/pandas/io/formats/style.py:2813: RuntimeWarning: All-NaN slice encountered\n",
            "  smin = np.nanmin(gmap) if vmin is None else vmin\n",
            "/usr/local/lib/python3.8/dist-packages/pandas/io/formats/style.py:2814: RuntimeWarning: All-NaN slice encountered\n",
            "  smax = np.nanmax(gmap) if vmax is None else vmax\n"
          ]
        },
        {
          "output_type": "execute_result",
          "data": {
            "text/plain": [
              "<pandas.io.formats.style.Styler at 0x7fb37957a8b0>"
            ],
            "text/html": [
              "<style type=\"text/css\">\n",
              "#T_3b7e1_row0_col0, #T_3b7e1_row0_col1, #T_3b7e1_row0_col2, #T_3b7e1_row0_col3, #T_3b7e1_row0_col4, #T_3b7e1_row0_col5, #T_3b7e1_row0_col6, #T_3b7e1_row0_col7, #T_3b7e1_row0_col8, #T_3b7e1_row1_col0, #T_3b7e1_row1_col5, #T_3b7e1_row2_col0, #T_3b7e1_row2_col5, #T_3b7e1_row3_col0, #T_3b7e1_row3_col5, #T_3b7e1_row4_col0, #T_3b7e1_row4_col5, #T_3b7e1_row5_col0, #T_3b7e1_row5_col1, #T_3b7e1_row5_col2, #T_3b7e1_row5_col3, #T_3b7e1_row5_col4, #T_3b7e1_row5_col5, #T_3b7e1_row5_col6, #T_3b7e1_row5_col7, #T_3b7e1_row5_col8, #T_3b7e1_row6_col0, #T_3b7e1_row6_col5, #T_3b7e1_row7_col0, #T_3b7e1_row7_col5, #T_3b7e1_row8_col0, #T_3b7e1_row8_col5 {\n",
              "  background-color: #000000;\n",
              "  color: #f1f1f1;\n",
              "}\n",
              "#T_3b7e1_row1_col1, #T_3b7e1_row2_col2, #T_3b7e1_row3_col3, #T_3b7e1_row4_col4, #T_3b7e1_row6_col6, #T_3b7e1_row7_col7, #T_3b7e1_row8_col8 {\n",
              "  background-color: #b40426;\n",
              "  color: #f1f1f1;\n",
              "}\n",
              "#T_3b7e1_row1_col2 {\n",
              "  background-color: #abc8fd;\n",
              "  color: #000000;\n",
              "}\n",
              "#T_3b7e1_row1_col3, #T_3b7e1_row2_col4, #T_3b7e1_row2_col6, #T_3b7e1_row2_col7, #T_3b7e1_row2_col8, #T_3b7e1_row3_col1, #T_3b7e1_row4_col3, #T_3b7e1_row6_col2, #T_3b7e1_row6_col3 {\n",
              "  background-color: #3b4cc0;\n",
              "  color: #f1f1f1;\n",
              "}\n",
              "#T_3b7e1_row1_col4 {\n",
              "  background-color: #7396f5;\n",
              "  color: #f1f1f1;\n",
              "}\n",
              "#T_3b7e1_row1_col6 {\n",
              "  background-color: #b1cbfc;\n",
              "  color: #000000;\n",
              "}\n",
              "#T_3b7e1_row1_col7 {\n",
              "  background-color: #4961d2;\n",
              "  color: #f1f1f1;\n",
              "}\n",
              "#T_3b7e1_row1_col8, #T_3b7e1_row6_col7 {\n",
              "  background-color: #4a63d3;\n",
              "  color: #f1f1f1;\n",
              "}\n",
              "#T_3b7e1_row2_col1 {\n",
              "  background-color: #688aef;\n",
              "  color: #f1f1f1;\n",
              "}\n",
              "#T_3b7e1_row2_col3 {\n",
              "  background-color: #4358cb;\n",
              "  color: #f1f1f1;\n",
              "}\n",
              "#T_3b7e1_row3_col2 {\n",
              "  background-color: #8caffe;\n",
              "  color: #000000;\n",
              "}\n",
              "#T_3b7e1_row3_col4 {\n",
              "  background-color: #5977e3;\n",
              "  color: #f1f1f1;\n",
              "}\n",
              "#T_3b7e1_row3_col6 {\n",
              "  background-color: #85a8fc;\n",
              "  color: #f1f1f1;\n",
              "}\n",
              "#T_3b7e1_row3_col7 {\n",
              "  background-color: #3f53c6;\n",
              "  color: #f1f1f1;\n",
              "}\n",
              "#T_3b7e1_row3_col8, #T_3b7e1_row4_col7, #T_3b7e1_row4_col8 {\n",
              "  background-color: #4055c8;\n",
              "  color: #f1f1f1;\n",
              "}\n",
              "#T_3b7e1_row4_col1 {\n",
              "  background-color: #5470de;\n",
              "  color: #f1f1f1;\n",
              "}\n",
              "#T_3b7e1_row4_col2 {\n",
              "  background-color: #6687ed;\n",
              "  color: #f1f1f1;\n",
              "}\n",
              "#T_3b7e1_row4_col6 {\n",
              "  background-color: #e9d5cb;\n",
              "  color: #000000;\n",
              "}\n",
              "#T_3b7e1_row6_col1 {\n",
              "  background-color: #6f92f3;\n",
              "  color: #f1f1f1;\n",
              "}\n",
              "#T_3b7e1_row6_col4 {\n",
              "  background-color: #d6dce4;\n",
              "  color: #000000;\n",
              "}\n",
              "#T_3b7e1_row6_col8 {\n",
              "  background-color: #4b64d5;\n",
              "  color: #f1f1f1;\n",
              "}\n",
              "#T_3b7e1_row7_col1 {\n",
              "  background-color: #465ecf;\n",
              "  color: #f1f1f1;\n",
              "}\n",
              "#T_3b7e1_row7_col2, #T_3b7e1_row8_col2 {\n",
              "  background-color: #82a6fb;\n",
              "  color: #f1f1f1;\n",
              "}\n",
              "#T_3b7e1_row7_col3, #T_3b7e1_row8_col3 {\n",
              "  background-color: #3d50c3;\n",
              "  color: #f1f1f1;\n",
              "}\n",
              "#T_3b7e1_row7_col4 {\n",
              "  background-color: #5e7de7;\n",
              "  color: #f1f1f1;\n",
              "}\n",
              "#T_3b7e1_row7_col6 {\n",
              "  background-color: #90b2fe;\n",
              "  color: #000000;\n",
              "}\n",
              "#T_3b7e1_row7_col8, #T_3b7e1_row8_col7 {\n",
              "  background-color: #d85646;\n",
              "  color: #f1f1f1;\n",
              "}\n",
              "#T_3b7e1_row8_col1 {\n",
              "  background-color: #485fd1;\n",
              "  color: #f1f1f1;\n",
              "}\n",
              "#T_3b7e1_row8_col4 {\n",
              "  background-color: #5d7ce6;\n",
              "  color: #f1f1f1;\n",
              "}\n",
              "#T_3b7e1_row8_col6 {\n",
              "  background-color: #92b4fe;\n",
              "  color: #000000;\n",
              "}\n",
              "</style>\n",
              "<table id=\"T_3b7e1_\" class=\"dataframe\">\n",
              "  <thead>\n",
              "    <tr>\n",
              "      <th class=\"blank level0\" >&nbsp;</th>\n",
              "      <th class=\"col_heading level0 col0\" >MF_FLAG</th>\n",
              "      <th class=\"col_heading level0 col1\" >DF_FLAG</th>\n",
              "      <th class=\"col_heading level0 col2\" >PACKET_NO</th>\n",
              "      <th class=\"col_heading level0 col3\" >PACKET_SIZE</th>\n",
              "      <th class=\"col_heading level0 col4\" >TTL</th>\n",
              "      <th class=\"col_heading level0 col5\" >IP_FRAG_OFF</th>\n",
              "      <th class=\"col_heading level0 col6\" >OS</th>\n",
              "      <th class=\"col_heading level0 col7\" >TLS_CIPHER_SUITES</th>\n",
              "      <th class=\"col_heading level0 col8\" >TLS_EXTENSION_SIG_ALGS</th>\n",
              "    </tr>\n",
              "  </thead>\n",
              "  <tbody>\n",
              "    <tr>\n",
              "      <th id=\"T_3b7e1_level0_row0\" class=\"row_heading level0 row0\" >MF_FLAG</th>\n",
              "      <td id=\"T_3b7e1_row0_col0\" class=\"data row0 col0\" >nan</td>\n",
              "      <td id=\"T_3b7e1_row0_col1\" class=\"data row0 col1\" >nan</td>\n",
              "      <td id=\"T_3b7e1_row0_col2\" class=\"data row0 col2\" >nan</td>\n",
              "      <td id=\"T_3b7e1_row0_col3\" class=\"data row0 col3\" >nan</td>\n",
              "      <td id=\"T_3b7e1_row0_col4\" class=\"data row0 col4\" >nan</td>\n",
              "      <td id=\"T_3b7e1_row0_col5\" class=\"data row0 col5\" >nan</td>\n",
              "      <td id=\"T_3b7e1_row0_col6\" class=\"data row0 col6\" >nan</td>\n",
              "      <td id=\"T_3b7e1_row0_col7\" class=\"data row0 col7\" >nan</td>\n",
              "      <td id=\"T_3b7e1_row0_col8\" class=\"data row0 col8\" >nan</td>\n",
              "    </tr>\n",
              "    <tr>\n",
              "      <th id=\"T_3b7e1_level0_row1\" class=\"row_heading level0 row1\" >DF_FLAG</th>\n",
              "      <td id=\"T_3b7e1_row1_col0\" class=\"data row1 col0\" >nan</td>\n",
              "      <td id=\"T_3b7e1_row1_col1\" class=\"data row1 col1\" >1.000000</td>\n",
              "      <td id=\"T_3b7e1_row1_col2\" class=\"data row1 col2\" >0.135220</td>\n",
              "      <td id=\"T_3b7e1_row1_col3\" class=\"data row1 col3\" >-0.011652</td>\n",
              "      <td id=\"T_3b7e1_row1_col4\" class=\"data row1 col4\" >0.074381</td>\n",
              "      <td id=\"T_3b7e1_row1_col5\" class=\"data row1 col5\" >nan</td>\n",
              "      <td id=\"T_3b7e1_row1_col6\" class=\"data row1 col6\" >0.154343</td>\n",
              "      <td id=\"T_3b7e1_row1_col7\" class=\"data row1 col7\" >0.030904</td>\n",
              "      <td id=\"T_3b7e1_row1_col8\" class=\"data row1 col8\" >0.034654</td>\n",
              "    </tr>\n",
              "    <tr>\n",
              "      <th id=\"T_3b7e1_level0_row2\" class=\"row_heading level0 row2\" >PACKET_NO</th>\n",
              "      <td id=\"T_3b7e1_row2_col0\" class=\"data row2 col0\" >nan</td>\n",
              "      <td id=\"T_3b7e1_row2_col1\" class=\"data row2 col1\" >0.135220</td>\n",
              "      <td id=\"T_3b7e1_row2_col2\" class=\"data row2 col2\" >1.000000</td>\n",
              "      <td id=\"T_3b7e1_row2_col3\" class=\"data row2 col3\" >0.016232</td>\n",
              "      <td id=\"T_3b7e1_row2_col4\" class=\"data row2 col4\" >-0.124478</td>\n",
              "      <td id=\"T_3b7e1_row2_col5\" class=\"data row2 col5\" >nan</td>\n",
              "      <td id=\"T_3b7e1_row2_col6\" class=\"data row2 col6\" >-0.306816</td>\n",
              "      <td id=\"T_3b7e1_row2_col7\" class=\"data row2 col7\" >-0.019565</td>\n",
              "      <td id=\"T_3b7e1_row2_col8\" class=\"data row2 col8\" >-0.020344</td>\n",
              "    </tr>\n",
              "    <tr>\n",
              "      <th id=\"T_3b7e1_level0_row3\" class=\"row_heading level0 row3\" >PACKET_SIZE</th>\n",
              "      <td id=\"T_3b7e1_row3_col0\" class=\"data row3 col0\" >nan</td>\n",
              "      <td id=\"T_3b7e1_row3_col1\" class=\"data row3 col1\" >-0.011652</td>\n",
              "      <td id=\"T_3b7e1_row3_col2\" class=\"data row3 col2\" >0.016232</td>\n",
              "      <td id=\"T_3b7e1_row3_col3\" class=\"data row3 col3\" >1.000000</td>\n",
              "      <td id=\"T_3b7e1_row3_col4\" class=\"data row3 col4\" >-0.011225</td>\n",
              "      <td id=\"T_3b7e1_row3_col5\" class=\"data row3 col5\" >nan</td>\n",
              "      <td id=\"T_3b7e1_row3_col6\" class=\"data row3 col6\" >-0.009556</td>\n",
              "      <td id=\"T_3b7e1_row3_col7\" class=\"data row3 col7\" >-0.000360</td>\n",
              "      <td id=\"T_3b7e1_row3_col8\" class=\"data row3 col8\" >-0.000404</td>\n",
              "    </tr>\n",
              "    <tr>\n",
              "      <th id=\"T_3b7e1_level0_row4\" class=\"row_heading level0 row4\" >TTL</th>\n",
              "      <td id=\"T_3b7e1_row4_col0\" class=\"data row4 col0\" >nan</td>\n",
              "      <td id=\"T_3b7e1_row4_col1\" class=\"data row4 col1\" >0.074381</td>\n",
              "      <td id=\"T_3b7e1_row4_col2\" class=\"data row4 col2\" >-0.124478</td>\n",
              "      <td id=\"T_3b7e1_row4_col3\" class=\"data row4 col3\" >-0.011225</td>\n",
              "      <td id=\"T_3b7e1_row4_col4\" class=\"data row4 col4\" >1.000000</td>\n",
              "      <td id=\"T_3b7e1_row4_col5\" class=\"data row4 col5\" >nan</td>\n",
              "      <td id=\"T_3b7e1_row4_col6\" class=\"data row4 col6\" >0.407919</td>\n",
              "      <td id=\"T_3b7e1_row4_col7\" class=\"data row4 col7\" >0.003214</td>\n",
              "      <td id=\"T_3b7e1_row4_col8\" class=\"data row4 col8\" >0.002549</td>\n",
              "    </tr>\n",
              "    <tr>\n",
              "      <th id=\"T_3b7e1_level0_row5\" class=\"row_heading level0 row5\" >IP_FRAG_OFF</th>\n",
              "      <td id=\"T_3b7e1_row5_col0\" class=\"data row5 col0\" >nan</td>\n",
              "      <td id=\"T_3b7e1_row5_col1\" class=\"data row5 col1\" >nan</td>\n",
              "      <td id=\"T_3b7e1_row5_col2\" class=\"data row5 col2\" >nan</td>\n",
              "      <td id=\"T_3b7e1_row5_col3\" class=\"data row5 col3\" >nan</td>\n",
              "      <td id=\"T_3b7e1_row5_col4\" class=\"data row5 col4\" >nan</td>\n",
              "      <td id=\"T_3b7e1_row5_col5\" class=\"data row5 col5\" >nan</td>\n",
              "      <td id=\"T_3b7e1_row5_col6\" class=\"data row5 col6\" >nan</td>\n",
              "      <td id=\"T_3b7e1_row5_col7\" class=\"data row5 col7\" >nan</td>\n",
              "      <td id=\"T_3b7e1_row5_col8\" class=\"data row5 col8\" >nan</td>\n",
              "    </tr>\n",
              "    <tr>\n",
              "      <th id=\"T_3b7e1_level0_row6\" class=\"row_heading level0 row6\" >OS</th>\n",
              "      <td id=\"T_3b7e1_row6_col0\" class=\"data row6 col0\" >nan</td>\n",
              "      <td id=\"T_3b7e1_row6_col1\" class=\"data row6 col1\" >0.154343</td>\n",
              "      <td id=\"T_3b7e1_row6_col2\" class=\"data row6 col2\" >-0.306816</td>\n",
              "      <td id=\"T_3b7e1_row6_col3\" class=\"data row6 col3\" >-0.009556</td>\n",
              "      <td id=\"T_3b7e1_row6_col4\" class=\"data row6 col4\" >0.407919</td>\n",
              "      <td id=\"T_3b7e1_row6_col5\" class=\"data row6 col5\" >nan</td>\n",
              "      <td id=\"T_3b7e1_row6_col6\" class=\"data row6 col6\" >1.000000</td>\n",
              "      <td id=\"T_3b7e1_row6_col7\" class=\"data row6 col7\" >0.033655</td>\n",
              "      <td id=\"T_3b7e1_row6_col8\" class=\"data row6 col8\" >0.036500</td>\n",
              "    </tr>\n",
              "    <tr>\n",
              "      <th id=\"T_3b7e1_level0_row7\" class=\"row_heading level0 row7\" >TLS_CIPHER_SUITES</th>\n",
              "      <td id=\"T_3b7e1_row7_col0\" class=\"data row7 col0\" >nan</td>\n",
              "      <td id=\"T_3b7e1_row7_col1\" class=\"data row7 col1\" >0.030904</td>\n",
              "      <td id=\"T_3b7e1_row7_col2\" class=\"data row7 col2\" >-0.019565</td>\n",
              "      <td id=\"T_3b7e1_row7_col3\" class=\"data row7 col3\" >-0.000360</td>\n",
              "      <td id=\"T_3b7e1_row7_col4\" class=\"data row7 col4\" >0.003214</td>\n",
              "      <td id=\"T_3b7e1_row7_col5\" class=\"data row7 col5\" >nan</td>\n",
              "      <td id=\"T_3b7e1_row7_col6\" class=\"data row7 col6\" >0.033655</td>\n",
              "      <td id=\"T_3b7e1_row7_col7\" class=\"data row7 col7\" >1.000000</td>\n",
              "      <td id=\"T_3b7e1_row7_col8\" class=\"data row7 col8\" >0.891780</td>\n",
              "    </tr>\n",
              "    <tr>\n",
              "      <th id=\"T_3b7e1_level0_row8\" class=\"row_heading level0 row8\" >TLS_EXTENSION_SIG_ALGS</th>\n",
              "      <td id=\"T_3b7e1_row8_col0\" class=\"data row8 col0\" >nan</td>\n",
              "      <td id=\"T_3b7e1_row8_col1\" class=\"data row8 col1\" >0.034654</td>\n",
              "      <td id=\"T_3b7e1_row8_col2\" class=\"data row8 col2\" >-0.020344</td>\n",
              "      <td id=\"T_3b7e1_row8_col3\" class=\"data row8 col3\" >-0.000404</td>\n",
              "      <td id=\"T_3b7e1_row8_col4\" class=\"data row8 col4\" >0.002549</td>\n",
              "      <td id=\"T_3b7e1_row8_col5\" class=\"data row8 col5\" >nan</td>\n",
              "      <td id=\"T_3b7e1_row8_col6\" class=\"data row8 col6\" >0.036500</td>\n",
              "      <td id=\"T_3b7e1_row8_col7\" class=\"data row8 col7\" >0.891780</td>\n",
              "      <td id=\"T_3b7e1_row8_col8\" class=\"data row8 col8\" >1.000000</td>\n",
              "    </tr>\n",
              "  </tbody>\n",
              "</table>\n"
            ]
          },
          "metadata": {},
          "execution_count": 29
        }
      ]
    },
    {
      "cell_type": "code",
      "source": [
        "tls_df.head()"
      ],
      "metadata": {
        "colab": {
          "base_uri": "https://localhost:8080/",
          "height": 270
        },
        "id": "yPxrYmECJTzK",
        "outputId": "39168fb3-fe59-4455-e266-5ca2b0c06438"
      },
      "execution_count": null,
      "outputs": [
        {
          "output_type": "execute_result",
          "data": {
            "text/plain": [
              "          SRC_IP  MF_FLAG  DF_FLAG  PACKET_NO  PACKET_SIZE  TTL  IP_FRAG_OFF  \\\n",
              "0  172.16.16.128        0        0          1           20  128            0   \n",
              "1  172.16.16.128        0        0          2           20    1            0   \n",
              "2    172.16.16.2        0        1          3           20   64            0   \n",
              "3  172.16.16.128        0        1          4           20    4            0   \n",
              "4  172.16.16.128        0        0          6           20    1            0   \n",
              "\n",
              "   OS  TLS_CIPHER_SUITES  TLS_EXTENSION_SIG_ALGS  \n",
              "0   1                 -1                      -1  \n",
              "1   1                 -1                      -1  \n",
              "2   1                 -1                      -1  \n",
              "3   1                 -1                      -1  \n",
              "4   1                 -1                      -1  "
            ],
            "text/html": [
              "\n",
              "  <div id=\"df-6fe2b5df-afe9-49b6-8a3d-f25a9cf26e43\">\n",
              "    <div class=\"colab-df-container\">\n",
              "      <div>\n",
              "<style scoped>\n",
              "    .dataframe tbody tr th:only-of-type {\n",
              "        vertical-align: middle;\n",
              "    }\n",
              "\n",
              "    .dataframe tbody tr th {\n",
              "        vertical-align: top;\n",
              "    }\n",
              "\n",
              "    .dataframe thead th {\n",
              "        text-align: right;\n",
              "    }\n",
              "</style>\n",
              "<table border=\"1\" class=\"dataframe\">\n",
              "  <thead>\n",
              "    <tr style=\"text-align: right;\">\n",
              "      <th></th>\n",
              "      <th>SRC_IP</th>\n",
              "      <th>MF_FLAG</th>\n",
              "      <th>DF_FLAG</th>\n",
              "      <th>PACKET_NO</th>\n",
              "      <th>PACKET_SIZE</th>\n",
              "      <th>TTL</th>\n",
              "      <th>IP_FRAG_OFF</th>\n",
              "      <th>OS</th>\n",
              "      <th>TLS_CIPHER_SUITES</th>\n",
              "      <th>TLS_EXTENSION_SIG_ALGS</th>\n",
              "    </tr>\n",
              "  </thead>\n",
              "  <tbody>\n",
              "    <tr>\n",
              "      <th>0</th>\n",
              "      <td>172.16.16.128</td>\n",
              "      <td>0</td>\n",
              "      <td>0</td>\n",
              "      <td>1</td>\n",
              "      <td>20</td>\n",
              "      <td>128</td>\n",
              "      <td>0</td>\n",
              "      <td>1</td>\n",
              "      <td>-1</td>\n",
              "      <td>-1</td>\n",
              "    </tr>\n",
              "    <tr>\n",
              "      <th>1</th>\n",
              "      <td>172.16.16.128</td>\n",
              "      <td>0</td>\n",
              "      <td>0</td>\n",
              "      <td>2</td>\n",
              "      <td>20</td>\n",
              "      <td>1</td>\n",
              "      <td>0</td>\n",
              "      <td>1</td>\n",
              "      <td>-1</td>\n",
              "      <td>-1</td>\n",
              "    </tr>\n",
              "    <tr>\n",
              "      <th>2</th>\n",
              "      <td>172.16.16.2</td>\n",
              "      <td>0</td>\n",
              "      <td>1</td>\n",
              "      <td>3</td>\n",
              "      <td>20</td>\n",
              "      <td>64</td>\n",
              "      <td>0</td>\n",
              "      <td>1</td>\n",
              "      <td>-1</td>\n",
              "      <td>-1</td>\n",
              "    </tr>\n",
              "    <tr>\n",
              "      <th>3</th>\n",
              "      <td>172.16.16.128</td>\n",
              "      <td>0</td>\n",
              "      <td>1</td>\n",
              "      <td>4</td>\n",
              "      <td>20</td>\n",
              "      <td>4</td>\n",
              "      <td>0</td>\n",
              "      <td>1</td>\n",
              "      <td>-1</td>\n",
              "      <td>-1</td>\n",
              "    </tr>\n",
              "    <tr>\n",
              "      <th>4</th>\n",
              "      <td>172.16.16.128</td>\n",
              "      <td>0</td>\n",
              "      <td>0</td>\n",
              "      <td>6</td>\n",
              "      <td>20</td>\n",
              "      <td>1</td>\n",
              "      <td>0</td>\n",
              "      <td>1</td>\n",
              "      <td>-1</td>\n",
              "      <td>-1</td>\n",
              "    </tr>\n",
              "  </tbody>\n",
              "</table>\n",
              "</div>\n",
              "      <button class=\"colab-df-convert\" onclick=\"convertToInteractive('df-6fe2b5df-afe9-49b6-8a3d-f25a9cf26e43')\"\n",
              "              title=\"Convert this dataframe to an interactive table.\"\n",
              "              style=\"display:none;\">\n",
              "        \n",
              "  <svg xmlns=\"http://www.w3.org/2000/svg\" height=\"24px\"viewBox=\"0 0 24 24\"\n",
              "       width=\"24px\">\n",
              "    <path d=\"M0 0h24v24H0V0z\" fill=\"none\"/>\n",
              "    <path d=\"M18.56 5.44l.94 2.06.94-2.06 2.06-.94-2.06-.94-.94-2.06-.94 2.06-2.06.94zm-11 1L8.5 8.5l.94-2.06 2.06-.94-2.06-.94L8.5 2.5l-.94 2.06-2.06.94zm10 10l.94 2.06.94-2.06 2.06-.94-2.06-.94-.94-2.06-.94 2.06-2.06.94z\"/><path d=\"M17.41 7.96l-1.37-1.37c-.4-.4-.92-.59-1.43-.59-.52 0-1.04.2-1.43.59L10.3 9.45l-7.72 7.72c-.78.78-.78 2.05 0 2.83L4 21.41c.39.39.9.59 1.41.59.51 0 1.02-.2 1.41-.59l7.78-7.78 2.81-2.81c.8-.78.8-2.07 0-2.86zM5.41 20L4 18.59l7.72-7.72 1.47 1.35L5.41 20z\"/>\n",
              "  </svg>\n",
              "      </button>\n",
              "      \n",
              "  <style>\n",
              "    .colab-df-container {\n",
              "      display:flex;\n",
              "      flex-wrap:wrap;\n",
              "      gap: 12px;\n",
              "    }\n",
              "\n",
              "    .colab-df-convert {\n",
              "      background-color: #E8F0FE;\n",
              "      border: none;\n",
              "      border-radius: 50%;\n",
              "      cursor: pointer;\n",
              "      display: none;\n",
              "      fill: #1967D2;\n",
              "      height: 32px;\n",
              "      padding: 0 0 0 0;\n",
              "      width: 32px;\n",
              "    }\n",
              "\n",
              "    .colab-df-convert:hover {\n",
              "      background-color: #E2EBFA;\n",
              "      box-shadow: 0px 1px 2px rgba(60, 64, 67, 0.3), 0px 1px 3px 1px rgba(60, 64, 67, 0.15);\n",
              "      fill: #174EA6;\n",
              "    }\n",
              "\n",
              "    [theme=dark] .colab-df-convert {\n",
              "      background-color: #3B4455;\n",
              "      fill: #D2E3FC;\n",
              "    }\n",
              "\n",
              "    [theme=dark] .colab-df-convert:hover {\n",
              "      background-color: #434B5C;\n",
              "      box-shadow: 0px 1px 3px 1px rgba(0, 0, 0, 0.15);\n",
              "      filter: drop-shadow(0px 1px 2px rgba(0, 0, 0, 0.3));\n",
              "      fill: #FFFFFF;\n",
              "    }\n",
              "  </style>\n",
              "\n",
              "      <script>\n",
              "        const buttonEl =\n",
              "          document.querySelector('#df-6fe2b5df-afe9-49b6-8a3d-f25a9cf26e43 button.colab-df-convert');\n",
              "        buttonEl.style.display =\n",
              "          google.colab.kernel.accessAllowed ? 'block' : 'none';\n",
              "\n",
              "        async function convertToInteractive(key) {\n",
              "          const element = document.querySelector('#df-6fe2b5df-afe9-49b6-8a3d-f25a9cf26e43');\n",
              "          const dataTable =\n",
              "            await google.colab.kernel.invokeFunction('convertToInteractive',\n",
              "                                                     [key], {});\n",
              "          if (!dataTable) return;\n",
              "\n",
              "          const docLinkHtml = 'Like what you see? Visit the ' +\n",
              "            '<a target=\"_blank\" href=https://colab.research.google.com/notebooks/data_table.ipynb>data table notebook</a>'\n",
              "            + ' to learn more about interactive tables.';\n",
              "          element.innerHTML = '';\n",
              "          dataTable['output_type'] = 'display_data';\n",
              "          await google.colab.output.renderOutput(dataTable, element);\n",
              "          const docLink = document.createElement('div');\n",
              "          docLink.innerHTML = docLinkHtml;\n",
              "          element.appendChild(docLink);\n",
              "        }\n",
              "      </script>\n",
              "    </div>\n",
              "  </div>\n",
              "  "
            ]
          },
          "metadata": {},
          "execution_count": 30
        }
      ]
    },
    {
      "cell_type": "code",
      "source": [
        "tls_df.drop([ 'SRC_IP'], axis=1, inplace=True)"
      ],
      "metadata": {
        "id": "-XehxKYUKRun"
      },
      "execution_count": null,
      "outputs": []
    },
    {
      "cell_type": "code",
      "execution_count": null,
      "metadata": {
        "id": "0M5OkF6KR3Zs"
      },
      "outputs": [],
      "source": [
        "# Features to Select: TTL, DF_FLAG, SRC_IP, PACKET_NO, TIMESTAMP, DST_IP\n",
        "from sklearn.feature_selection import SelectKBest\n",
        "from sklearn.feature_selection import chi2"
      ]
    },
    {
      "cell_type": "code",
      "execution_count": null,
      "metadata": {
        "id": "K9UHFh1vSnib"
      },
      "outputs": [],
      "source": [
        "from sklearn.model_selection import train_test_split, cross_val_score, GridSearchCV\n",
        "from sklearn.metrics import classification_report, accuracy_score, precision_score, precision_recall_curve\n",
        "import matplotlib.pyplot as plt\n",
        "from sklearn.preprocessing import MinMaxScaler, StandardScaler\n",
        "from sklearn.preprocessing import LabelEncoder\n",
        "from sklearn.pipeline import Pipeline"
      ]
    },
    {
      "cell_type": "code",
      "execution_count": null,
      "metadata": {
        "id": "XbdLcFMOYBkF"
      },
      "outputs": [],
      "source": [
        "from sklearn.metrics import classification_report, accuracy_score\n"
      ]
    },
    {
      "cell_type": "code",
      "execution_count": null,
      "metadata": {
        "id": "RaVyj7hkYJTo"
      },
      "outputs": [],
      "source": [
        "df_extracted = tls_df[['TTL', 'DF_FLAG', 'PACKET_NO', 'TLS_CIPHER_SUITES', 'TLS_EXTENSION_SIG_ALGS']]\n",
        "df_label = tls_df['OS']"
      ]
    },
    {
      "cell_type": "code",
      "execution_count": null,
      "metadata": {
        "id": "dlLPoQIaaTWm"
      },
      "outputs": [],
      "source": [
        "\n",
        "tft = LabelEncoder()\n",
        "df_label_t = tft.fit_transform(df_label)"
      ]
    },
    {
      "cell_type": "code",
      "execution_count": null,
      "metadata": {
        "id": "EK7yMokJYjmN"
      },
      "outputs": [],
      "source": [
        "X_train, X_test, y_train, y_test = train_test_split(df_extracted, df_label_t, test_size=0.3, random_state=1) # 70% training and 30% test\n"
      ]
    },
    {
      "cell_type": "code",
      "source": [
        "rf_pipe = Pipeline"
      ],
      "metadata": {
        "id": "e5kn_Wl8LEZD"
      },
      "execution_count": null,
      "outputs": []
    },
    {
      "cell_type": "code",
      "source": [
        "rf = RandomForestClassifier(max_depth = 5)\n",
        "rf.fit(X_train, y_train)"
      ],
      "metadata": {
        "colab": {
          "base_uri": "https://localhost:8080/"
        },
        "id": "BqTAaHmrLS3W",
        "outputId": "79248bcb-8a17-4d97-d6ca-4eaa2b1e3b93"
      },
      "execution_count": null,
      "outputs": [
        {
          "output_type": "execute_result",
          "data": {
            "text/plain": [
              "RandomForestClassifier(max_depth=5)"
            ]
          },
          "metadata": {},
          "execution_count": 39
        }
      ]
    },
    {
      "cell_type": "code",
      "source": [
        "import graphviz\n",
        "from sklearn import tree"
      ],
      "metadata": {
        "id": "oRKWAzCxLooV"
      },
      "execution_count": null,
      "outputs": []
    },
    {
      "cell_type": "code",
      "source": [
        "!pip install graphviz"
      ],
      "metadata": {
        "colab": {
          "base_uri": "https://localhost:8080/"
        },
        "id": "W7jJlP5SLb98",
        "outputId": "8c6ad582-f8b3-43ad-fe35-35f929efd929"
      },
      "execution_count": null,
      "outputs": [
        {
          "output_type": "stream",
          "name": "stdout",
          "text": [
            "Looking in indexes: https://pypi.org/simple, https://us-python.pkg.dev/colab-wheels/public/simple/\n",
            "Requirement already satisfied: graphviz in /usr/local/lib/python3.8/dist-packages (0.10.1)\n"
          ]
        }
      ]
    },
    {
      "cell_type": "code",
      "source": [
        "dot_data = tree.export_graphviz(rf.estimators_[0], out_file=None, feature_names = df_extracted.columns, class_names = str(df_label_t),\n",
        "                                filled = True, rounded = True, special_characters = True, impurity = True)\n",
        "\n",
        "graph = graphviz.Source(dot_data, format = 'png')\n",
        "graph"
      ],
      "metadata": {
        "colab": {
          "base_uri": "https://localhost:8080/",
          "height": 936
        },
        "id": "a5TNQlOXNDJD",
        "outputId": "065e91f2-c8fe-49a3-cabb-70bd941b9d76"
      },
      "execution_count": null,
      "outputs": [
        {
          "output_type": "execute_result",
          "data": {
            "text/plain": [
              "<graphviz.files.Source at 0x7fb37913fb80>"
            ],
            "image/svg+xml": "<?xml version=\"1.0\" encoding=\"UTF-8\" standalone=\"no\"?>\n<!DOCTYPE svg PUBLIC \"-//W3C//DTD SVG 1.1//EN\"\n \"http://www.w3.org/Graphics/SVG/1.1/DTD/svg11.dtd\">\n<!-- Generated by graphviz version 2.40.1 (20161225.0304)\n -->\n<!-- Title: Tree Pages: 1 -->\n<svg width=\"2954pt\" height=\"671pt\"\n viewBox=\"0.00 0.00 2954.00 671.00\" xmlns=\"http://www.w3.org/2000/svg\" xmlns:xlink=\"http://www.w3.org/1999/xlink\">\n<g id=\"graph0\" class=\"graph\" transform=\"scale(1 1) rotate(0) translate(4 667)\">\n<title>Tree</title>\n<polygon fill=\"#ffffff\" stroke=\"transparent\" points=\"-4,4 -4,-667 2950,-667 2950,4 -4,4\"/>\n<!-- 0 -->\n<g id=\"node1\" class=\"node\">\n<title>0</title>\n<path fill=\"#d3baf6\" stroke=\"#000000\" d=\"M1688.5,-663C1688.5,-663 1515.5,-663 1515.5,-663 1509.5,-663 1503.5,-657 1503.5,-651 1503.5,-651 1503.5,-592 1503.5,-592 1503.5,-586 1509.5,-580 1515.5,-580 1515.5,-580 1688.5,-580 1688.5,-580 1694.5,-580 1700.5,-586 1700.5,-592 1700.5,-592 1700.5,-651 1700.5,-651 1700.5,-657 1694.5,-663 1688.5,-663\"/>\n<text text-anchor=\"start\" x=\"1551\" y=\"-647.8\" font-family=\"Helvetica,sans-Serif\" font-size=\"14.00\" fill=\"#000000\">DF_FLAG ≤ 0.5</text>\n<text text-anchor=\"start\" x=\"1572.5\" y=\"-632.8\" font-family=\"Helvetica,sans-Serif\" font-size=\"14.00\" fill=\"#000000\">gini = 0.6</text>\n<text text-anchor=\"start\" x=\"1546\" y=\"-617.8\" font-family=\"Helvetica,sans-Serif\" font-size=\"14.00\" fill=\"#000000\">samples = 19599</text>\n<text text-anchor=\"start\" x=\"1511.5\" y=\"-602.8\" font-family=\"Helvetica,sans-Serif\" font-size=\"14.00\" fill=\"#000000\">value = [8914, 5556, 16598]</text>\n<text text-anchor=\"start\" x=\"1575\" y=\"-587.8\" font-family=\"Helvetica,sans-Serif\" font-size=\"14.00\" fill=\"#000000\">class = &#160;</text>\n</g>\n<!-- 1 -->\n<g id=\"node2\" class=\"node\">\n<title>1</title>\n<path fill=\"#fbf9fe\" stroke=\"#000000\" d=\"M1510.5,-544C1510.5,-544 1345.5,-544 1345.5,-544 1339.5,-544 1333.5,-538 1333.5,-532 1333.5,-532 1333.5,-473 1333.5,-473 1333.5,-467 1339.5,-461 1345.5,-461 1345.5,-461 1510.5,-461 1510.5,-461 1516.5,-461 1522.5,-467 1522.5,-473 1522.5,-473 1522.5,-532 1522.5,-532 1522.5,-538 1516.5,-544 1510.5,-544\"/>\n<text text-anchor=\"start\" x=\"1354\" y=\"-528.8\" font-family=\"Helvetica,sans-Serif\" font-size=\"14.00\" fill=\"#000000\">PACKET_NO ≤ 8937.5</text>\n<text text-anchor=\"start\" x=\"1390\" y=\"-513.8\" font-family=\"Helvetica,sans-Serif\" font-size=\"14.00\" fill=\"#000000\">gini = 0.649</text>\n<text text-anchor=\"start\" x=\"1376\" y=\"-498.8\" font-family=\"Helvetica,sans-Serif\" font-size=\"14.00\" fill=\"#000000\">samples = 4863</text>\n<text text-anchor=\"start\" x=\"1341.5\" y=\"-483.8\" font-family=\"Helvetica,sans-Serif\" font-size=\"14.00\" fill=\"#000000\">value = [2904, 1746, 3059]</text>\n<text text-anchor=\"start\" x=\"1401\" y=\"-468.8\" font-family=\"Helvetica,sans-Serif\" font-size=\"14.00\" fill=\"#000000\">class = &#160;</text>\n</g>\n<!-- 0&#45;&gt;1 -->\n<g id=\"edge1\" class=\"edge\">\n<title>0&#45;&gt;1</title>\n<path fill=\"none\" stroke=\"#000000\" d=\"M1541.1432,-579.8796C1526.9706,-570.1868 1511.7775,-559.7961 1497.2712,-549.8752\"/>\n<polygon fill=\"#000000\" stroke=\"#000000\" points=\"1499.0525,-546.8531 1488.8224,-544.0969 1495.1008,-552.6311 1499.0525,-546.8531\"/>\n<text text-anchor=\"middle\" x=\"1493.4347\" y=\"-564.9678\" font-family=\"Helvetica,sans-Serif\" font-size=\"14.00\" fill=\"#000000\">True</text>\n</g>\n<!-- 24 -->\n<g id=\"node25\" class=\"node\">\n<title>24</title>\n<path fill=\"#c8a9f4\" stroke=\"#000000\" d=\"M2100.5,-544C2100.5,-544 1927.5,-544 1927.5,-544 1921.5,-544 1915.5,-538 1915.5,-532 1915.5,-532 1915.5,-473 1915.5,-473 1915.5,-467 1921.5,-461 1927.5,-461 1927.5,-461 2100.5,-461 2100.5,-461 2106.5,-461 2112.5,-467 2112.5,-473 2112.5,-473 2112.5,-532 2112.5,-532 2112.5,-538 2106.5,-544 2100.5,-544\"/>\n<text text-anchor=\"start\" x=\"1979\" y=\"-528.8\" font-family=\"Helvetica,sans-Serif\" font-size=\"14.00\" fill=\"#000000\">TTL ≤ 82.5</text>\n<text text-anchor=\"start\" x=\"1976\" y=\"-513.8\" font-family=\"Helvetica,sans-Serif\" font-size=\"14.00\" fill=\"#000000\">gini = 0.571</text>\n<text text-anchor=\"start\" x=\"1958\" y=\"-498.8\" font-family=\"Helvetica,sans-Serif\" font-size=\"14.00\" fill=\"#000000\">samples = 14736</text>\n<text text-anchor=\"start\" x=\"1923.5\" y=\"-483.8\" font-family=\"Helvetica,sans-Serif\" font-size=\"14.00\" fill=\"#000000\">value = [6010, 3810, 13539]</text>\n<text text-anchor=\"start\" x=\"1987\" y=\"-468.8\" font-family=\"Helvetica,sans-Serif\" font-size=\"14.00\" fill=\"#000000\">class = &#160;</text>\n</g>\n<!-- 0&#45;&gt;24 -->\n<g id=\"edge24\" class=\"edge\">\n<title>0&#45;&gt;24</title>\n<path fill=\"none\" stroke=\"#000000\" d=\"M1700.6843,-592.9965C1762.5012,-575.1416 1842.2058,-552.1202 1905.7535,-533.7654\"/>\n<polygon fill=\"#000000\" stroke=\"#000000\" points=\"1906.7718,-537.1144 1915.4078,-530.9769 1904.8293,-530.3893 1906.7718,-537.1144\"/>\n<text text-anchor=\"middle\" x=\"1903.3298\" y=\"-549.1657\" font-family=\"Helvetica,sans-Serif\" font-size=\"14.00\" fill=\"#000000\">False</text>\n</g>\n<!-- 2 -->\n<g id=\"node3\" class=\"node\">\n<title>2</title>\n<path fill=\"#ebe0fb\" stroke=\"#000000\" d=\"M1025.5,-425C1025.5,-425 860.5,-425 860.5,-425 854.5,-425 848.5,-419 848.5,-413 848.5,-413 848.5,-354 848.5,-354 848.5,-348 854.5,-342 860.5,-342 860.5,-342 1025.5,-342 1025.5,-342 1031.5,-342 1037.5,-348 1037.5,-354 1037.5,-354 1037.5,-413 1037.5,-413 1037.5,-419 1031.5,-425 1025.5,-425\"/>\n<text text-anchor=\"start\" x=\"869\" y=\"-409.8\" font-family=\"Helvetica,sans-Serif\" font-size=\"14.00\" fill=\"#000000\">PACKET_NO ≤ 1252.0</text>\n<text text-anchor=\"start\" x=\"905\" y=\"-394.8\" font-family=\"Helvetica,sans-Serif\" font-size=\"14.00\" fill=\"#000000\">gini = 0.651</text>\n<text text-anchor=\"start\" x=\"891\" y=\"-379.8\" font-family=\"Helvetica,sans-Serif\" font-size=\"14.00\" fill=\"#000000\">samples = 4350</text>\n<text text-anchor=\"start\" x=\"856.5\" y=\"-364.8\" font-family=\"Helvetica,sans-Serif\" font-size=\"14.00\" fill=\"#000000\">value = [2197, 1746, 2937]</text>\n<text text-anchor=\"start\" x=\"916\" y=\"-349.8\" font-family=\"Helvetica,sans-Serif\" font-size=\"14.00\" fill=\"#000000\">class = &#160;</text>\n</g>\n<!-- 1&#45;&gt;2 -->\n<g id=\"edge2\" class=\"edge\">\n<title>1&#45;&gt;2</title>\n<path fill=\"none\" stroke=\"#000000\" d=\"M1333.3358,-479.2731C1251.2649,-459.1361 1132.6623,-430.0357 1047.7608,-409.2042\"/>\n<polygon fill=\"#000000\" stroke=\"#000000\" points=\"1048.3849,-405.7536 1037.8389,-406.7698 1046.7168,-412.5519 1048.3849,-405.7536\"/>\n</g>\n<!-- 17 -->\n<g id=\"node18\" class=\"node\">\n<title>17</title>\n<path fill=\"#e9975b\" stroke=\"#000000\" d=\"M1502.5,-425C1502.5,-425 1353.5,-425 1353.5,-425 1347.5,-425 1341.5,-419 1341.5,-413 1341.5,-413 1341.5,-354 1341.5,-354 1341.5,-348 1347.5,-342 1353.5,-342 1353.5,-342 1502.5,-342 1502.5,-342 1508.5,-342 1514.5,-348 1514.5,-354 1514.5,-354 1514.5,-413 1514.5,-413 1514.5,-419 1508.5,-425 1502.5,-425\"/>\n<text text-anchor=\"start\" x=\"1349.5\" y=\"-409.8\" font-family=\"Helvetica,sans-Serif\" font-size=\"14.00\" fill=\"#000000\">PACKET_NO ≤ 10122.5</text>\n<text text-anchor=\"start\" x=\"1390\" y=\"-394.8\" font-family=\"Helvetica,sans-Serif\" font-size=\"14.00\" fill=\"#000000\">gini = 0.251</text>\n<text text-anchor=\"start\" x=\"1380\" y=\"-379.8\" font-family=\"Helvetica,sans-Serif\" font-size=\"14.00\" fill=\"#000000\">samples = 513</text>\n<text text-anchor=\"start\" x=\"1362\" y=\"-364.8\" font-family=\"Helvetica,sans-Serif\" font-size=\"14.00\" fill=\"#000000\">value = [707, 0, 122]</text>\n<text text-anchor=\"start\" x=\"1401\" y=\"-349.8\" font-family=\"Helvetica,sans-Serif\" font-size=\"14.00\" fill=\"#000000\">class = [</text>\n</g>\n<!-- 1&#45;&gt;17 -->\n<g id=\"edge17\" class=\"edge\">\n<title>1&#45;&gt;17</title>\n<path fill=\"none\" stroke=\"#000000\" d=\"M1428,-460.8796C1428,-452.6838 1428,-443.9891 1428,-435.5013\"/>\n<polygon fill=\"#000000\" stroke=\"#000000\" points=\"1431.5001,-435.298 1428,-425.2981 1424.5001,-435.2981 1431.5001,-435.298\"/>\n</g>\n<!-- 3 -->\n<g id=\"node4\" class=\"node\">\n<title>3</title>\n<path fill=\"#c6a5f3\" stroke=\"#000000\" d=\"M545.5,-306C545.5,-306 396.5,-306 396.5,-306 390.5,-306 384.5,-300 384.5,-294 384.5,-294 384.5,-235 384.5,-235 384.5,-229 390.5,-223 396.5,-223 396.5,-223 545.5,-223 545.5,-223 551.5,-223 557.5,-229 557.5,-235 557.5,-235 557.5,-294 557.5,-294 557.5,-300 551.5,-306 545.5,-306\"/>\n<text text-anchor=\"start\" x=\"436\" y=\"-290.8\" font-family=\"Helvetica,sans-Serif\" font-size=\"14.00\" fill=\"#000000\">TTL ≤ 90.5</text>\n<text text-anchor=\"start\" x=\"433\" y=\"-275.8\" font-family=\"Helvetica,sans-Serif\" font-size=\"14.00\" fill=\"#000000\">gini = 0.579</text>\n<text text-anchor=\"start\" x=\"419\" y=\"-260.8\" font-family=\"Helvetica,sans-Serif\" font-size=\"14.00\" fill=\"#000000\">samples = 1255</text>\n<text text-anchor=\"start\" x=\"392.5\" y=\"-245.8\" font-family=\"Helvetica,sans-Serif\" font-size=\"14.00\" fill=\"#000000\">value = [435, 400, 1127]</text>\n<text text-anchor=\"start\" x=\"444\" y=\"-230.8\" font-family=\"Helvetica,sans-Serif\" font-size=\"14.00\" fill=\"#000000\">class = &#160;</text>\n</g>\n<!-- 2&#45;&gt;3 -->\n<g id=\"edge3\" class=\"edge\">\n<title>2&#45;&gt;3</title>\n<path fill=\"none\" stroke=\"#000000\" d=\"M848.335,-359.6332C766.7458,-339.063 649.4761,-309.4972 567.3893,-288.8015\"/>\n<polygon fill=\"#000000\" stroke=\"#000000\" points=\"568.1101,-285.3738 557.5579,-286.3228 566.3988,-292.1614 568.1101,-285.3738\"/>\n</g>\n<!-- 10 -->\n<g id=\"node11\" class=\"node\">\n<title>10</title>\n<path fill=\"#fdfcff\" stroke=\"#000000\" d=\"M1025.5,-306C1025.5,-306 860.5,-306 860.5,-306 854.5,-306 848.5,-300 848.5,-294 848.5,-294 848.5,-235 848.5,-235 848.5,-229 854.5,-223 860.5,-223 860.5,-223 1025.5,-223 1025.5,-223 1031.5,-223 1037.5,-229 1037.5,-235 1037.5,-235 1037.5,-294 1037.5,-294 1037.5,-300 1031.5,-306 1025.5,-306\"/>\n<text text-anchor=\"start\" x=\"869\" y=\"-290.8\" font-family=\"Helvetica,sans-Serif\" font-size=\"14.00\" fill=\"#000000\">PACKET_NO ≤ 2900.5</text>\n<text text-anchor=\"start\" x=\"905\" y=\"-275.8\" font-family=\"Helvetica,sans-Serif\" font-size=\"14.00\" fill=\"#000000\">gini = 0.661</text>\n<text text-anchor=\"start\" x=\"891\" y=\"-260.8\" font-family=\"Helvetica,sans-Serif\" font-size=\"14.00\" fill=\"#000000\">samples = 3095</text>\n<text text-anchor=\"start\" x=\"856.5\" y=\"-245.8\" font-family=\"Helvetica,sans-Serif\" font-size=\"14.00\" fill=\"#000000\">value = [1762, 1346, 1810]</text>\n<text text-anchor=\"start\" x=\"916\" y=\"-230.8\" font-family=\"Helvetica,sans-Serif\" font-size=\"14.00\" fill=\"#000000\">class = &#160;</text>\n</g>\n<!-- 2&#45;&gt;10 -->\n<g id=\"edge10\" class=\"edge\">\n<title>2&#45;&gt;10</title>\n<path fill=\"none\" stroke=\"#000000\" d=\"M943,-341.8796C943,-333.6838 943,-324.9891 943,-316.5013\"/>\n<polygon fill=\"#000000\" stroke=\"#000000\" points=\"946.5001,-316.298 943,-306.2981 939.5001,-316.2981 946.5001,-316.298\"/>\n</g>\n<!-- 4 -->\n<g id=\"node5\" class=\"node\">\n<title>4</title>\n<path fill=\"#f4fef8\" stroke=\"#000000\" d=\"M298,-187C298,-187 166,-187 166,-187 160,-187 154,-181 154,-175 154,-175 154,-116 154,-116 154,-110 160,-104 166,-104 166,-104 298,-104 298,-104 304,-104 310,-110 310,-116 310,-116 310,-175 310,-175 310,-181 304,-187 298,-187\"/>\n<text text-anchor=\"start\" x=\"162\" y=\"-171.8\" font-family=\"Helvetica,sans-Serif\" font-size=\"14.00\" fill=\"#000000\">PACKET_NO ≤ 385.5</text>\n<text text-anchor=\"start\" x=\"194\" y=\"-156.8\" font-family=\"Helvetica,sans-Serif\" font-size=\"14.00\" fill=\"#000000\">gini = 0.508</text>\n<text text-anchor=\"start\" x=\"184\" y=\"-141.8\" font-family=\"Helvetica,sans-Serif\" font-size=\"14.00\" fill=\"#000000\">samples = 477</text>\n<text text-anchor=\"start\" x=\"166\" y=\"-126.8\" font-family=\"Helvetica,sans-Serif\" font-size=\"14.00\" fill=\"#000000\">value = [359, 381, 6]</text>\n<text text-anchor=\"start\" x=\"203\" y=\"-111.8\" font-family=\"Helvetica,sans-Serif\" font-size=\"14.00\" fill=\"#000000\">class = 0</text>\n</g>\n<!-- 3&#45;&gt;4 -->\n<g id=\"edge4\" class=\"edge\">\n<title>3&#45;&gt;4</title>\n<path fill=\"none\" stroke=\"#000000\" d=\"M387.4094,-222.8796C365.4037,-211.9228 341.607,-200.0742 319.4064,-189.0203\"/>\n<polygon fill=\"#000000\" stroke=\"#000000\" points=\"320.8417,-185.8252 310.3299,-184.5011 317.7217,-192.0914 320.8417,-185.8252\"/>\n</g>\n<!-- 7 -->\n<g id=\"node8\" class=\"node\">\n<title>7</title>\n<path fill=\"#8c4ae7\" stroke=\"#000000\" d=\"M537,-187C537,-187 405,-187 405,-187 399,-187 393,-181 393,-175 393,-175 393,-116 393,-116 393,-110 399,-104 405,-104 405,-104 537,-104 537,-104 543,-104 549,-110 549,-116 549,-116 549,-175 549,-175 549,-181 543,-187 537,-187\"/>\n<text text-anchor=\"start\" x=\"409\" y=\"-171.8\" font-family=\"Helvetica,sans-Serif\" font-size=\"14.00\" fill=\"#000000\">PACKET_NO ≤ 4.0</text>\n<text text-anchor=\"start\" x=\"433\" y=\"-156.8\" font-family=\"Helvetica,sans-Serif\" font-size=\"14.00\" fill=\"#000000\">gini = 0.146</text>\n<text text-anchor=\"start\" x=\"423\" y=\"-141.8\" font-family=\"Helvetica,sans-Serif\" font-size=\"14.00\" fill=\"#000000\">samples = 778</text>\n<text text-anchor=\"start\" x=\"401\" y=\"-126.8\" font-family=\"Helvetica,sans-Serif\" font-size=\"14.00\" fill=\"#000000\">value = [76, 19, 1121]</text>\n<text text-anchor=\"start\" x=\"444\" y=\"-111.8\" font-family=\"Helvetica,sans-Serif\" font-size=\"14.00\" fill=\"#000000\">class = &#160;</text>\n</g>\n<!-- 3&#45;&gt;7 -->\n<g id=\"edge7\" class=\"edge\">\n<title>3&#45;&gt;7</title>\n<path fill=\"none\" stroke=\"#000000\" d=\"M471,-222.8796C471,-214.6838 471,-205.9891 471,-197.5013\"/>\n<polygon fill=\"#000000\" stroke=\"#000000\" points=\"474.5001,-197.298 471,-187.2981 467.5001,-197.2981 474.5001,-197.298\"/>\n</g>\n<!-- 5 -->\n<g id=\"node6\" class=\"node\">\n<title>5</title>\n<path fill=\"#eca16c\" stroke=\"#000000\" d=\"M128,-68C128,-68 12,-68 12,-68 6,-68 0,-62 0,-56 0,-56 0,-12 0,-12 0,-6 6,0 12,0 12,0 128,0 128,0 134,0 140,-6 140,-12 140,-12 140,-56 140,-56 140,-62 134,-68 128,-68\"/>\n<text text-anchor=\"start\" x=\"32\" y=\"-52.8\" font-family=\"Helvetica,sans-Serif\" font-size=\"14.00\" fill=\"#000000\">gini = 0.349</text>\n<text text-anchor=\"start\" x=\"26\" y=\"-37.8\" font-family=\"Helvetica,sans-Serif\" font-size=\"14.00\" fill=\"#000000\">samples = 93</text>\n<text text-anchor=\"start\" x=\"8\" y=\"-22.8\" font-family=\"Helvetica,sans-Serif\" font-size=\"14.00\" fill=\"#000000\">value = [111, 24, 6]</text>\n<text text-anchor=\"start\" x=\"43\" y=\"-7.8\" font-family=\"Helvetica,sans-Serif\" font-size=\"14.00\" fill=\"#000000\">class = [</text>\n</g>\n<!-- 4&#45;&gt;5 -->\n<g id=\"edge5\" class=\"edge\">\n<title>4&#45;&gt;5</title>\n<path fill=\"none\" stroke=\"#000000\" d=\"M171.6772,-103.9815C157.314,-94.0957 142.0212,-83.5701 127.7753,-73.7651\"/>\n<polygon fill=\"#000000\" stroke=\"#000000\" points=\"129.7454,-70.8722 119.5235,-68.0856 125.7766,-76.6384 129.7454,-70.8722\"/>\n</g>\n<!-- 6 -->\n<g id=\"node7\" class=\"node\">\n<title>6</title>\n<path fill=\"#c3f7d9\" stroke=\"#000000\" d=\"M294,-68C294,-68 170,-68 170,-68 164,-68 158,-62 158,-56 158,-56 158,-12 158,-12 158,-6 164,0 170,0 170,0 294,0 294,0 300,0 306,-6 306,-12 306,-12 306,-56 306,-56 306,-62 300,-68 294,-68\"/>\n<text text-anchor=\"start\" x=\"194\" y=\"-52.8\" font-family=\"Helvetica,sans-Serif\" font-size=\"14.00\" fill=\"#000000\">gini = 0.484</text>\n<text text-anchor=\"start\" x=\"184\" y=\"-37.8\" font-family=\"Helvetica,sans-Serif\" font-size=\"14.00\" fill=\"#000000\">samples = 384</text>\n<text text-anchor=\"start\" x=\"166\" y=\"-22.8\" font-family=\"Helvetica,sans-Serif\" font-size=\"14.00\" fill=\"#000000\">value = [248, 357, 0]</text>\n<text text-anchor=\"start\" x=\"203\" y=\"-7.8\" font-family=\"Helvetica,sans-Serif\" font-size=\"14.00\" fill=\"#000000\">class = 0</text>\n</g>\n<!-- 4&#45;&gt;6 -->\n<g id=\"edge6\" class=\"edge\">\n<title>4&#45;&gt;6</title>\n<path fill=\"none\" stroke=\"#000000\" d=\"M232,-103.9815C232,-95.618 232,-86.7965 232,-78.3409\"/>\n<polygon fill=\"#000000\" stroke=\"#000000\" points=\"235.5001,-78.2636 232,-68.2637 228.5001,-78.2637 235.5001,-78.2636\"/>\n</g>\n<!-- 8 -->\n<g id=\"node9\" class=\"node\">\n<title>8</title>\n<path fill=\"#e58139\" stroke=\"#000000\" d=\"M427.5,-68C427.5,-68 336.5,-68 336.5,-68 330.5,-68 324.5,-62 324.5,-56 324.5,-56 324.5,-12 324.5,-12 324.5,-6 330.5,0 336.5,0 336.5,0 427.5,0 427.5,0 433.5,0 439.5,-6 439.5,-12 439.5,-12 439.5,-56 439.5,-56 439.5,-62 433.5,-68 427.5,-68\"/>\n<text text-anchor=\"start\" x=\"352.5\" y=\"-52.8\" font-family=\"Helvetica,sans-Serif\" font-size=\"14.00\" fill=\"#000000\">gini = 0.0</text>\n<text text-anchor=\"start\" x=\"342.5\" y=\"-37.8\" font-family=\"Helvetica,sans-Serif\" font-size=\"14.00\" fill=\"#000000\">samples = 1</text>\n<text text-anchor=\"start\" x=\"332.5\" y=\"-22.8\" font-family=\"Helvetica,sans-Serif\" font-size=\"14.00\" fill=\"#000000\">value = [3, 0, 0]</text>\n<text text-anchor=\"start\" x=\"355\" y=\"-7.8\" font-family=\"Helvetica,sans-Serif\" font-size=\"14.00\" fill=\"#000000\">class = [</text>\n</g>\n<!-- 7&#45;&gt;8 -->\n<g id=\"edge8\" class=\"edge\">\n<title>7&#45;&gt;8</title>\n<path fill=\"none\" stroke=\"#000000\" d=\"M437.8597,-103.9815C430.597,-94.8828 422.9017,-85.242 415.6204,-76.1199\"/>\n<polygon fill=\"#000000\" stroke=\"#000000\" points=\"418.3234,-73.8958 409.3495,-68.2637 412.8525,-78.2627 418.3234,-73.8958\"/>\n</g>\n<!-- 9 -->\n<g id=\"node10\" class=\"node\">\n<title>9</title>\n<path fill=\"#8b49e7\" stroke=\"#000000\" d=\"M602,-68C602,-68 470,-68 470,-68 464,-68 458,-62 458,-56 458,-56 458,-12 458,-12 458,-6 464,0 470,0 470,0 602,0 602,0 608,0 614,-6 614,-12 614,-12 614,-56 614,-56 614,-62 608,-68 602,-68\"/>\n<text text-anchor=\"start\" x=\"498\" y=\"-52.8\" font-family=\"Helvetica,sans-Serif\" font-size=\"14.00\" fill=\"#000000\">gini = 0.142</text>\n<text text-anchor=\"start\" x=\"488\" y=\"-37.8\" font-family=\"Helvetica,sans-Serif\" font-size=\"14.00\" fill=\"#000000\">samples = 777</text>\n<text text-anchor=\"start\" x=\"466\" y=\"-22.8\" font-family=\"Helvetica,sans-Serif\" font-size=\"14.00\" fill=\"#000000\">value = [73, 19, 1121]</text>\n<text text-anchor=\"start\" x=\"509\" y=\"-7.8\" font-family=\"Helvetica,sans-Serif\" font-size=\"14.00\" fill=\"#000000\">class = &#160;</text>\n</g>\n<!-- 7&#45;&gt;9 -->\n<g id=\"edge9\" class=\"edge\">\n<title>7&#45;&gt;9</title>\n<path fill=\"none\" stroke=\"#000000\" d=\"M495.2036,-103.9815C500.3471,-95.1585 505.7877,-85.8258 510.9616,-76.9506\"/>\n<polygon fill=\"#000000\" stroke=\"#000000\" points=\"514.013,-78.6656 516.0257,-68.2637 507.9656,-75.1402 514.013,-78.6656\"/>\n</g>\n<!-- 11 -->\n<g id=\"node12\" class=\"node\">\n<title>11</title>\n<path fill=\"#c9f8dc\" stroke=\"#000000\" d=\"M918,-187C918,-187 778,-187 778,-187 772,-187 766,-181 766,-175 766,-175 766,-116 766,-116 766,-110 772,-104 778,-104 778,-104 918,-104 918,-104 924,-104 930,-110 930,-116 930,-116 930,-175 930,-175 930,-181 924,-187 918,-187\"/>\n<text text-anchor=\"start\" x=\"813\" y=\"-171.8\" font-family=\"Helvetica,sans-Serif\" font-size=\"14.00\" fill=\"#000000\">TTL ≤ 60.5</text>\n<text text-anchor=\"start\" x=\"810\" y=\"-156.8\" font-family=\"Helvetica,sans-Serif\" font-size=\"14.00\" fill=\"#000000\">gini = 0.637</text>\n<text text-anchor=\"start\" x=\"796\" y=\"-141.8\" font-family=\"Helvetica,sans-Serif\" font-size=\"14.00\" fill=\"#000000\">samples = 1061</text>\n<text text-anchor=\"start\" x=\"774\" y=\"-126.8\" font-family=\"Helvetica,sans-Serif\" font-size=\"14.00\" fill=\"#000000\">value = [462, 795, 420]</text>\n<text text-anchor=\"start\" x=\"819\" y=\"-111.8\" font-family=\"Helvetica,sans-Serif\" font-size=\"14.00\" fill=\"#000000\">class = 0</text>\n</g>\n<!-- 10&#45;&gt;11 -->\n<g id=\"edge11\" class=\"edge\">\n<title>10&#45;&gt;11</title>\n<path fill=\"none\" stroke=\"#000000\" d=\"M909.7736,-222.8796C902.6556,-213.9633 895.0661,-204.4565 887.7308,-195.268\"/>\n<polygon fill=\"#000000\" stroke=\"#000000\" points=\"890.3425,-192.9295 881.3682,-187.2981 884.8719,-197.2968 890.3425,-192.9295\"/>\n</g>\n<!-- 14 -->\n<g id=\"node15\" class=\"node\">\n<title>14</title>\n<path fill=\"#f9f6fe\" stroke=\"#000000\" d=\"M1117.5,-187C1117.5,-187 960.5,-187 960.5,-187 954.5,-187 948.5,-181 948.5,-175 948.5,-175 948.5,-116 948.5,-116 948.5,-110 954.5,-104 960.5,-104 960.5,-104 1117.5,-104 1117.5,-104 1123.5,-104 1129.5,-110 1129.5,-116 1129.5,-116 1129.5,-175 1129.5,-175 1129.5,-181 1123.5,-187 1117.5,-187\"/>\n<text text-anchor=\"start\" x=\"1004\" y=\"-171.8\" font-family=\"Helvetica,sans-Serif\" font-size=\"14.00\" fill=\"#000000\">TTL ≤ 56.5</text>\n<text text-anchor=\"start\" x=\"1001\" y=\"-156.8\" font-family=\"Helvetica,sans-Serif\" font-size=\"14.00\" fill=\"#000000\">gini = 0.626</text>\n<text text-anchor=\"start\" x=\"987\" y=\"-141.8\" font-family=\"Helvetica,sans-Serif\" font-size=\"14.00\" fill=\"#000000\">samples = 2034</text>\n<text text-anchor=\"start\" x=\"956.5\" y=\"-126.8\" font-family=\"Helvetica,sans-Serif\" font-size=\"14.00\" fill=\"#000000\">value = [1300, 551, 1390]</text>\n<text text-anchor=\"start\" x=\"1012\" y=\"-111.8\" font-family=\"Helvetica,sans-Serif\" font-size=\"14.00\" fill=\"#000000\">class = &#160;</text>\n</g>\n<!-- 10&#45;&gt;14 -->\n<g id=\"edge14\" class=\"edge\">\n<title>10&#45;&gt;14</title>\n<path fill=\"none\" stroke=\"#000000\" d=\"M976.5761,-222.8796C983.7691,-213.9633 991.4384,-204.4565 998.851,-195.268\"/>\n<polygon fill=\"#000000\" stroke=\"#000000\" points=\"1001.7258,-197.2788 1005.2805,-187.2981 996.2776,-192.8836 1001.7258,-197.2788\"/>\n</g>\n<!-- 12 -->\n<g id=\"node13\" class=\"node\">\n<title>12</title>\n<path fill=\"#e5823b\" stroke=\"#000000\" d=\"M751.5,-68C751.5,-68 644.5,-68 644.5,-68 638.5,-68 632.5,-62 632.5,-56 632.5,-56 632.5,-12 632.5,-12 632.5,-6 638.5,0 644.5,0 644.5,0 751.5,0 751.5,0 757.5,0 763.5,-6 763.5,-12 763.5,-12 763.5,-56 763.5,-56 763.5,-62 757.5,-68 751.5,-68\"/>\n<text text-anchor=\"start\" x=\"660\" y=\"-52.8\" font-family=\"Helvetica,sans-Serif\" font-size=\"14.00\" fill=\"#000000\">gini = 0.021</text>\n<text text-anchor=\"start\" x=\"650\" y=\"-37.8\" font-family=\"Helvetica,sans-Serif\" font-size=\"14.00\" fill=\"#000000\">samples = 252</text>\n<text text-anchor=\"start\" x=\"640.5\" y=\"-22.8\" font-family=\"Helvetica,sans-Serif\" font-size=\"14.00\" fill=\"#000000\">value = [378, 2, 2]</text>\n<text text-anchor=\"start\" x=\"671\" y=\"-7.8\" font-family=\"Helvetica,sans-Serif\" font-size=\"14.00\" fill=\"#000000\">class = [</text>\n</g>\n<!-- 11&#45;&gt;12 -->\n<g id=\"edge12\" class=\"edge\">\n<title>11&#45;&gt;12</title>\n<path fill=\"none\" stroke=\"#000000\" d=\"M792.1455,-103.9815C779.1632,-94.3313 765.3606,-84.0714 752.4403,-74.4673\"/>\n<polygon fill=\"#000000\" stroke=\"#000000\" points=\"754.2083,-71.4204 744.0946,-68.2637 750.0322,-77.0384 754.2083,-71.4204\"/>\n</g>\n<!-- 13 -->\n<g id=\"node14\" class=\"node\">\n<title>13</title>\n<path fill=\"#aaf4c9\" stroke=\"#000000\" d=\"M926,-68C926,-68 794,-68 794,-68 788,-68 782,-62 782,-56 782,-56 782,-12 782,-12 782,-6 788,0 794,0 794,0 926,0 926,0 932,0 938,-6 938,-12 938,-12 938,-56 938,-56 938,-62 932,-68 926,-68\"/>\n<text text-anchor=\"start\" x=\"822\" y=\"-52.8\" font-family=\"Helvetica,sans-Serif\" font-size=\"14.00\" fill=\"#000000\">gini = 0.517</text>\n<text text-anchor=\"start\" x=\"812\" y=\"-37.8\" font-family=\"Helvetica,sans-Serif\" font-size=\"14.00\" fill=\"#000000\">samples = 809</text>\n<text text-anchor=\"start\" x=\"790\" y=\"-22.8\" font-family=\"Helvetica,sans-Serif\" font-size=\"14.00\" fill=\"#000000\">value = [84, 793, 418]</text>\n<text text-anchor=\"start\" x=\"831\" y=\"-7.8\" font-family=\"Helvetica,sans-Serif\" font-size=\"14.00\" fill=\"#000000\">class = 0</text>\n</g>\n<!-- 11&#45;&gt;13 -->\n<g id=\"edge13\" class=\"edge\">\n<title>11&#45;&gt;13</title>\n<path fill=\"none\" stroke=\"#000000\" d=\"M852.4684,-103.9815C853.3685,-95.618 854.3179,-86.7965 855.2279,-78.3409\"/>\n<polygon fill=\"#000000\" stroke=\"#000000\" points=\"858.7222,-78.5808 856.3124,-68.2637 851.7624,-77.8317 858.7222,-78.5808\"/>\n</g>\n<!-- 15 -->\n<g id=\"node16\" class=\"node\">\n<title>15</title>\n<path fill=\"#e5823b\" stroke=\"#000000\" d=\"M1084,-68C1084,-68 968,-68 968,-68 962,-68 956,-62 956,-56 956,-56 956,-12 956,-12 956,-6 962,0 968,0 968,0 1084,0 1084,0 1090,0 1096,-6 1096,-12 1096,-12 1096,-56 1096,-56 1096,-62 1090,-68 1084,-68\"/>\n<text text-anchor=\"start\" x=\"988\" y=\"-52.8\" font-family=\"Helvetica,sans-Serif\" font-size=\"14.00\" fill=\"#000000\">gini = 0.018</text>\n<text text-anchor=\"start\" x=\"978\" y=\"-37.8\" font-family=\"Helvetica,sans-Serif\" font-size=\"14.00\" fill=\"#000000\">samples = 751</text>\n<text text-anchor=\"start\" x=\"964\" y=\"-22.8\" font-family=\"Helvetica,sans-Serif\" font-size=\"14.00\" fill=\"#000000\">value = [1203, 4, 7]</text>\n<text text-anchor=\"start\" x=\"999\" y=\"-7.8\" font-family=\"Helvetica,sans-Serif\" font-size=\"14.00\" fill=\"#000000\">class = [</text>\n</g>\n<!-- 14&#45;&gt;15 -->\n<g id=\"edge15\" class=\"edge\">\n<title>14&#45;&gt;15</title>\n<path fill=\"none\" stroke=\"#000000\" d=\"M1034.1593,-103.9815C1033.1842,-95.618 1032.1557,-86.7965 1031.1698,-78.3409\"/>\n<polygon fill=\"#000000\" stroke=\"#000000\" points=\"1034.6295,-77.791 1029.9949,-68.2637 1027.6766,-78.6017 1034.6295,-77.791\"/>\n</g>\n<!-- 16 -->\n<g id=\"node17\" class=\"node\">\n<title>16</title>\n<path fill=\"#b88ff0\" stroke=\"#000000\" d=\"M1266,-68C1266,-68 1126,-68 1126,-68 1120,-68 1114,-62 1114,-56 1114,-56 1114,-12 1114,-12 1114,-6 1120,0 1126,0 1126,0 1266,0 1266,0 1272,0 1278,-6 1278,-12 1278,-12 1278,-56 1278,-56 1278,-62 1272,-68 1266,-68\"/>\n<text text-anchor=\"start\" x=\"1158\" y=\"-52.8\" font-family=\"Helvetica,sans-Serif\" font-size=\"14.00\" fill=\"#000000\">gini = 0.459</text>\n<text text-anchor=\"start\" x=\"1144\" y=\"-37.8\" font-family=\"Helvetica,sans-Serif\" font-size=\"14.00\" fill=\"#000000\">samples = 1283</text>\n<text text-anchor=\"start\" x=\"1122\" y=\"-22.8\" font-family=\"Helvetica,sans-Serif\" font-size=\"14.00\" fill=\"#000000\">value = [97, 547, 1383]</text>\n<text text-anchor=\"start\" x=\"1169\" y=\"-7.8\" font-family=\"Helvetica,sans-Serif\" font-size=\"14.00\" fill=\"#000000\">class = &#160;</text>\n</g>\n<!-- 14&#45;&gt;16 -->\n<g id=\"edge16\" class=\"edge\">\n<title>14&#45;&gt;16</title>\n<path fill=\"none\" stroke=\"#000000\" d=\"M1097.461,-103.9815C1111.2508,-94.1881 1125.9247,-83.7668 1139.6205,-74.0402\"/>\n<polygon fill=\"#000000\" stroke=\"#000000\" points=\"1141.8785,-76.7295 1148.005,-68.0856 1137.8253,-71.0223 1141.8785,-76.7295\"/>\n</g>\n<!-- 18 -->\n<g id=\"node19\" class=\"node\">\n<title>18</title>\n<path fill=\"#f1b991\" stroke=\"#000000\" d=\"M1421,-306C1421,-306 1297,-306 1297,-306 1291,-306 1285,-300 1285,-294 1285,-294 1285,-235 1285,-235 1285,-229 1291,-223 1297,-223 1297,-223 1421,-223 1421,-223 1427,-223 1433,-229 1433,-235 1433,-235 1433,-294 1433,-294 1433,-300 1427,-306 1421,-306\"/>\n<text text-anchor=\"start\" x=\"1320\" y=\"-290.8\" font-family=\"Helvetica,sans-Serif\" font-size=\"14.00\" fill=\"#000000\">TTL ≤ 116.0</text>\n<text text-anchor=\"start\" x=\"1321\" y=\"-275.8\" font-family=\"Helvetica,sans-Serif\" font-size=\"14.00\" fill=\"#000000\">gini = 0.426</text>\n<text text-anchor=\"start\" x=\"1311\" y=\"-260.8\" font-family=\"Helvetica,sans-Serif\" font-size=\"14.00\" fill=\"#000000\">samples = 239</text>\n<text text-anchor=\"start\" x=\"1293\" y=\"-245.8\" font-family=\"Helvetica,sans-Serif\" font-size=\"14.00\" fill=\"#000000\">value = [274, 0, 122]</text>\n<text text-anchor=\"start\" x=\"1332\" y=\"-230.8\" font-family=\"Helvetica,sans-Serif\" font-size=\"14.00\" fill=\"#000000\">class = [</text>\n</g>\n<!-- 17&#45;&gt;18 -->\n<g id=\"edge18\" class=\"edge\">\n<title>17&#45;&gt;18</title>\n<path fill=\"none\" stroke=\"#000000\" d=\"M1403.8671,-341.8796C1398.8539,-333.2335 1393.5187,-324.0322 1388.3419,-315.1042\"/>\n<polygon fill=\"#000000\" stroke=\"#000000\" points=\"1391.2798,-313.1934 1383.2359,-306.2981 1385.2242,-316.7047 1391.2798,-313.1934\"/>\n</g>\n<!-- 23 -->\n<g id=\"node24\" class=\"node\">\n<title>23</title>\n<path fill=\"#e58139\" stroke=\"#000000\" d=\"M1570.5,-298.5C1570.5,-298.5 1463.5,-298.5 1463.5,-298.5 1457.5,-298.5 1451.5,-292.5 1451.5,-286.5 1451.5,-286.5 1451.5,-242.5 1451.5,-242.5 1451.5,-236.5 1457.5,-230.5 1463.5,-230.5 1463.5,-230.5 1570.5,-230.5 1570.5,-230.5 1576.5,-230.5 1582.5,-236.5 1582.5,-242.5 1582.5,-242.5 1582.5,-286.5 1582.5,-286.5 1582.5,-292.5 1576.5,-298.5 1570.5,-298.5\"/>\n<text text-anchor=\"start\" x=\"1487.5\" y=\"-283.3\" font-family=\"Helvetica,sans-Serif\" font-size=\"14.00\" fill=\"#000000\">gini = 0.0</text>\n<text text-anchor=\"start\" x=\"1469\" y=\"-268.3\" font-family=\"Helvetica,sans-Serif\" font-size=\"14.00\" fill=\"#000000\">samples = 274</text>\n<text text-anchor=\"start\" x=\"1459.5\" y=\"-253.3\" font-family=\"Helvetica,sans-Serif\" font-size=\"14.00\" fill=\"#000000\">value = [433, 0, 0]</text>\n<text text-anchor=\"start\" x=\"1490\" y=\"-238.3\" font-family=\"Helvetica,sans-Serif\" font-size=\"14.00\" fill=\"#000000\">class = [</text>\n</g>\n<!-- 17&#45;&gt;23 -->\n<g id=\"edge23\" class=\"edge\">\n<title>17&#45;&gt;23</title>\n<path fill=\"none\" stroke=\"#000000\" d=\"M1459.1279,-341.8796C1467.5986,-330.5536 1476.7819,-318.2748 1485.2847,-306.9058\"/>\n<polygon fill=\"#000000\" stroke=\"#000000\" points=\"1488.1495,-308.9193 1491.3359,-298.8149 1482.5438,-304.7268 1488.1495,-308.9193\"/>\n</g>\n<!-- 19 -->\n<g id=\"node20\" class=\"node\">\n<title>19</title>\n<path fill=\"#e58139\" stroke=\"#000000\" d=\"M1337.5,-179.5C1337.5,-179.5 1230.5,-179.5 1230.5,-179.5 1224.5,-179.5 1218.5,-173.5 1218.5,-167.5 1218.5,-167.5 1218.5,-123.5 1218.5,-123.5 1218.5,-117.5 1224.5,-111.5 1230.5,-111.5 1230.5,-111.5 1337.5,-111.5 1337.5,-111.5 1343.5,-111.5 1349.5,-117.5 1349.5,-123.5 1349.5,-123.5 1349.5,-167.5 1349.5,-167.5 1349.5,-173.5 1343.5,-179.5 1337.5,-179.5\"/>\n<text text-anchor=\"start\" x=\"1254.5\" y=\"-164.3\" font-family=\"Helvetica,sans-Serif\" font-size=\"14.00\" fill=\"#000000\">gini = 0.0</text>\n<text text-anchor=\"start\" x=\"1236\" y=\"-149.3\" font-family=\"Helvetica,sans-Serif\" font-size=\"14.00\" fill=\"#000000\">samples = 163</text>\n<text text-anchor=\"start\" x=\"1226.5\" y=\"-134.3\" font-family=\"Helvetica,sans-Serif\" font-size=\"14.00\" fill=\"#000000\">value = [269, 0, 0]</text>\n<text text-anchor=\"start\" x=\"1257\" y=\"-119.3\" font-family=\"Helvetica,sans-Serif\" font-size=\"14.00\" fill=\"#000000\">class = [</text>\n</g>\n<!-- 18&#45;&gt;19 -->\n<g id=\"edge19\" class=\"edge\">\n<title>18&#45;&gt;19</title>\n<path fill=\"none\" stroke=\"#000000\" d=\"M1332.7686,-222.8796C1325.769,-211.7735 1318.192,-199.7513 1311.1444,-188.5691\"/>\n<polygon fill=\"#000000\" stroke=\"#000000\" points=\"1313.92,-186.4087 1305.6271,-179.8149 1307.998,-190.1411 1313.92,-186.4087\"/>\n</g>\n<!-- 20 -->\n<g id=\"node21\" class=\"node\">\n<title>20</title>\n<path fill=\"#8641e6\" stroke=\"#000000\" d=\"M1486.5,-187C1486.5,-187 1379.5,-187 1379.5,-187 1373.5,-187 1367.5,-181 1367.5,-175 1367.5,-175 1367.5,-116 1367.5,-116 1367.5,-110 1373.5,-104 1379.5,-104 1379.5,-104 1486.5,-104 1486.5,-104 1492.5,-104 1498.5,-110 1498.5,-116 1498.5,-116 1498.5,-175 1498.5,-175 1498.5,-181 1492.5,-187 1486.5,-187\"/>\n<text text-anchor=\"start\" x=\"1394\" y=\"-171.8\" font-family=\"Helvetica,sans-Serif\" font-size=\"14.00\" fill=\"#000000\">TTL ≤ 186.5</text>\n<text text-anchor=\"start\" x=\"1395\" y=\"-156.8\" font-family=\"Helvetica,sans-Serif\" font-size=\"14.00\" fill=\"#000000\">gini = 0.076</text>\n<text text-anchor=\"start\" x=\"1389\" y=\"-141.8\" font-family=\"Helvetica,sans-Serif\" font-size=\"14.00\" fill=\"#000000\">samples = 76</text>\n<text text-anchor=\"start\" x=\"1375.5\" y=\"-126.8\" font-family=\"Helvetica,sans-Serif\" font-size=\"14.00\" fill=\"#000000\">value = [5, 0, 122]</text>\n<text text-anchor=\"start\" x=\"1406\" y=\"-111.8\" font-family=\"Helvetica,sans-Serif\" font-size=\"14.00\" fill=\"#000000\">class = &#160;</text>\n</g>\n<!-- 18&#45;&gt;20 -->\n<g id=\"edge20\" class=\"edge\">\n<title>18&#45;&gt;20</title>\n<path fill=\"none\" stroke=\"#000000\" d=\"M1384.8816,-222.8796C1390.3142,-214.1434 1396.0992,-204.8404 1401.7053,-195.8253\"/>\n<polygon fill=\"#000000\" stroke=\"#000000\" points=\"1404.6993,-197.6383 1407.0079,-187.2981 1398.7549,-193.9418 1404.6993,-197.6383\"/>\n</g>\n<!-- 21 -->\n<g id=\"node22\" class=\"node\">\n<title>21</title>\n<path fill=\"#8139e5\" stroke=\"#000000\" d=\"M1415.5,-68C1415.5,-68 1308.5,-68 1308.5,-68 1302.5,-68 1296.5,-62 1296.5,-56 1296.5,-56 1296.5,-12 1296.5,-12 1296.5,-6 1302.5,0 1308.5,0 1308.5,0 1415.5,0 1415.5,0 1421.5,0 1427.5,-6 1427.5,-12 1427.5,-12 1427.5,-56 1427.5,-56 1427.5,-62 1421.5,-68 1415.5,-68\"/>\n<text text-anchor=\"start\" x=\"1332.5\" y=\"-52.8\" font-family=\"Helvetica,sans-Serif\" font-size=\"14.00\" fill=\"#000000\">gini = 0.0</text>\n<text text-anchor=\"start\" x=\"1318\" y=\"-37.8\" font-family=\"Helvetica,sans-Serif\" font-size=\"14.00\" fill=\"#000000\">samples = 73</text>\n<text text-anchor=\"start\" x=\"1304.5\" y=\"-22.8\" font-family=\"Helvetica,sans-Serif\" font-size=\"14.00\" fill=\"#000000\">value = [0, 0, 122]</text>\n<text text-anchor=\"start\" x=\"1335\" y=\"-7.8\" font-family=\"Helvetica,sans-Serif\" font-size=\"14.00\" fill=\"#000000\">class = &#160;</text>\n</g>\n<!-- 20&#45;&gt;21 -->\n<g id=\"edge21\" class=\"edge\">\n<title>20&#45;&gt;21</title>\n<path fill=\"none\" stroke=\"#000000\" d=\"M1406.5622,-103.9815C1400.944,-95.1585 1395.0012,-85.8258 1389.3497,-76.9506\"/>\n<polygon fill=\"#000000\" stroke=\"#000000\" points=\"1392.1416,-74.8188 1383.8181,-68.2637 1386.2371,-78.5787 1392.1416,-74.8188\"/>\n</g>\n<!-- 22 -->\n<g id=\"node23\" class=\"node\">\n<title>22</title>\n<path fill=\"#e58139\" stroke=\"#000000\" d=\"M1548.5,-68C1548.5,-68 1457.5,-68 1457.5,-68 1451.5,-68 1445.5,-62 1445.5,-56 1445.5,-56 1445.5,-12 1445.5,-12 1445.5,-6 1451.5,0 1457.5,0 1457.5,0 1548.5,0 1548.5,0 1554.5,0 1560.5,-6 1560.5,-12 1560.5,-12 1560.5,-56 1560.5,-56 1560.5,-62 1554.5,-68 1548.5,-68\"/>\n<text text-anchor=\"start\" x=\"1473.5\" y=\"-52.8\" font-family=\"Helvetica,sans-Serif\" font-size=\"14.00\" fill=\"#000000\">gini = 0.0</text>\n<text text-anchor=\"start\" x=\"1463.5\" y=\"-37.8\" font-family=\"Helvetica,sans-Serif\" font-size=\"14.00\" fill=\"#000000\">samples = 3</text>\n<text text-anchor=\"start\" x=\"1453.5\" y=\"-22.8\" font-family=\"Helvetica,sans-Serif\" font-size=\"14.00\" fill=\"#000000\">value = [5, 0, 0]</text>\n<text text-anchor=\"start\" x=\"1476\" y=\"-7.8\" font-family=\"Helvetica,sans-Serif\" font-size=\"14.00\" fill=\"#000000\">class = [</text>\n</g>\n<!-- 20&#45;&gt;22 -->\n<g id=\"edge22\" class=\"edge\">\n<title>20&#45;&gt;22</title>\n<path fill=\"none\" stroke=\"#000000\" d=\"M1459.0654,-103.9815C1464.6045,-95.1585 1470.4636,-85.8258 1476.0355,-76.9506\"/>\n<polygon fill=\"#000000\" stroke=\"#000000\" points=\"1479.1363,-78.594 1481.4892,-68.2637 1473.2078,-74.872 1479.1363,-78.594\"/>\n</g>\n<!-- 25 -->\n<g id=\"node26\" class=\"node\">\n<title>25</title>\n<path fill=\"#fdfbff\" stroke=\"#000000\" d=\"M2105.5,-425C2105.5,-425 1922.5,-425 1922.5,-425 1916.5,-425 1910.5,-419 1910.5,-413 1910.5,-413 1910.5,-354 1910.5,-354 1910.5,-348 1916.5,-342 1922.5,-342 1922.5,-342 2105.5,-342 2105.5,-342 2111.5,-342 2117.5,-348 2117.5,-354 2117.5,-354 2117.5,-413 2117.5,-413 2117.5,-419 2111.5,-425 2105.5,-425\"/>\n<text text-anchor=\"start\" x=\"1918.5\" y=\"-409.8\" font-family=\"Helvetica,sans-Serif\" font-size=\"14.00\" fill=\"#000000\">TLS_CIPHER_SUITES ≤ &#45;0.5</text>\n<text text-anchor=\"start\" x=\"1976\" y=\"-394.8\" font-family=\"Helvetica,sans-Serif\" font-size=\"14.00\" fill=\"#000000\">gini = 0.664</text>\n<text text-anchor=\"start\" x=\"1962\" y=\"-379.8\" font-family=\"Helvetica,sans-Serif\" font-size=\"14.00\" fill=\"#000000\">samples = 7431</text>\n<text text-anchor=\"start\" x=\"1927.5\" y=\"-364.8\" font-family=\"Helvetica,sans-Serif\" font-size=\"14.00\" fill=\"#000000\">value = [4135, 3419, 4273]</text>\n<text text-anchor=\"start\" x=\"1987\" y=\"-349.8\" font-family=\"Helvetica,sans-Serif\" font-size=\"14.00\" fill=\"#000000\">class = &#160;</text>\n</g>\n<!-- 24&#45;&gt;25 -->\n<g id=\"edge25\" class=\"edge\">\n<title>24&#45;&gt;25</title>\n<path fill=\"none\" stroke=\"#000000\" d=\"M2014,-460.8796C2014,-452.6838 2014,-443.9891 2014,-435.5013\"/>\n<polygon fill=\"#000000\" stroke=\"#000000\" points=\"2017.5001,-435.298 2014,-425.2981 2010.5001,-435.2981 2017.5001,-435.298\"/>\n</g>\n<!-- 34 -->\n<g id=\"node35\" class=\"node\">\n<title>34</title>\n<path fill=\"#9f67eb\" stroke=\"#000000\" d=\"M2531.5,-425C2531.5,-425 2348.5,-425 2348.5,-425 2342.5,-425 2336.5,-419 2336.5,-413 2336.5,-413 2336.5,-354 2336.5,-354 2336.5,-348 2342.5,-342 2348.5,-342 2348.5,-342 2531.5,-342 2531.5,-342 2537.5,-342 2543.5,-348 2543.5,-354 2543.5,-354 2543.5,-413 2543.5,-413 2543.5,-419 2537.5,-425 2531.5,-425\"/>\n<text text-anchor=\"start\" x=\"2344.5\" y=\"-409.8\" font-family=\"Helvetica,sans-Serif\" font-size=\"14.00\" fill=\"#000000\">TLS_CIPHER_SUITES ≤ &#45;0.5</text>\n<text text-anchor=\"start\" x=\"2402\" y=\"-394.8\" font-family=\"Helvetica,sans-Serif\" font-size=\"14.00\" fill=\"#000000\">gini = 0.327</text>\n<text text-anchor=\"start\" x=\"2388\" y=\"-379.8\" font-family=\"Helvetica,sans-Serif\" font-size=\"14.00\" fill=\"#000000\">samples = 7305</text>\n<text text-anchor=\"start\" x=\"2357.5\" y=\"-364.8\" font-family=\"Helvetica,sans-Serif\" font-size=\"14.00\" fill=\"#000000\">value = [1875, 391, 9266]</text>\n<text text-anchor=\"start\" x=\"2413\" y=\"-349.8\" font-family=\"Helvetica,sans-Serif\" font-size=\"14.00\" fill=\"#000000\">class = &#160;</text>\n</g>\n<!-- 24&#45;&gt;34 -->\n<g id=\"edge34\" class=\"edge\">\n<title>24&#45;&gt;34</title>\n<path fill=\"none\" stroke=\"#000000\" d=\"M2112.5357,-474.9748C2176.4819,-457.1119 2260.0084,-433.7793 2326.6976,-415.1502\"/>\n<polygon fill=\"#000000\" stroke=\"#000000\" points=\"2327.7209,-418.4984 2336.4105,-412.437 2325.8375,-411.7565 2327.7209,-418.4984\"/>\n</g>\n<!-- 26 -->\n<g id=\"node27\" class=\"node\">\n<title>26</title>\n<path fill=\"#fdfbff\" stroke=\"#000000\" d=\"M2009.5,-306C2009.5,-306 1844.5,-306 1844.5,-306 1838.5,-306 1832.5,-300 1832.5,-294 1832.5,-294 1832.5,-235 1832.5,-235 1832.5,-229 1838.5,-223 1844.5,-223 1844.5,-223 2009.5,-223 2009.5,-223 2015.5,-223 2021.5,-229 2021.5,-235 2021.5,-235 2021.5,-294 2021.5,-294 2021.5,-300 2015.5,-306 2009.5,-306\"/>\n<text text-anchor=\"start\" x=\"1892\" y=\"-290.8\" font-family=\"Helvetica,sans-Serif\" font-size=\"14.00\" fill=\"#000000\">TTL ≤ 56.5</text>\n<text text-anchor=\"start\" x=\"1889\" y=\"-275.8\" font-family=\"Helvetica,sans-Serif\" font-size=\"14.00\" fill=\"#000000\">gini = 0.663</text>\n<text text-anchor=\"start\" x=\"1875\" y=\"-260.8\" font-family=\"Helvetica,sans-Serif\" font-size=\"14.00\" fill=\"#000000\">samples = 7416</text>\n<text text-anchor=\"start\" x=\"1840.5\" y=\"-245.8\" font-family=\"Helvetica,sans-Serif\" font-size=\"14.00\" fill=\"#000000\">value = [4135, 3399, 4273]</text>\n<text text-anchor=\"start\" x=\"1900\" y=\"-230.8\" font-family=\"Helvetica,sans-Serif\" font-size=\"14.00\" fill=\"#000000\">class = &#160;</text>\n</g>\n<!-- 25&#45;&gt;26 -->\n<g id=\"edge26\" class=\"edge\">\n<title>25&#45;&gt;26</title>\n<path fill=\"none\" stroke=\"#000000\" d=\"M1983.5716,-341.8796C1977.1189,-333.0534 1970.243,-323.6485 1963.5887,-314.5466\"/>\n<polygon fill=\"#000000\" stroke=\"#000000\" points=\"1966.2856,-312.3051 1957.5583,-306.2981 1960.6347,-316.4364 1966.2856,-312.3051\"/>\n</g>\n<!-- 33 -->\n<g id=\"node34\" class=\"node\">\n<title>33</title>\n<path fill=\"#39e581\" stroke=\"#000000\" d=\"M2150.5,-298.5C2150.5,-298.5 2051.5,-298.5 2051.5,-298.5 2045.5,-298.5 2039.5,-292.5 2039.5,-286.5 2039.5,-286.5 2039.5,-242.5 2039.5,-242.5 2039.5,-236.5 2045.5,-230.5 2051.5,-230.5 2051.5,-230.5 2150.5,-230.5 2150.5,-230.5 2156.5,-230.5 2162.5,-236.5 2162.5,-242.5 2162.5,-242.5 2162.5,-286.5 2162.5,-286.5 2162.5,-292.5 2156.5,-298.5 2150.5,-298.5\"/>\n<text text-anchor=\"start\" x=\"2071.5\" y=\"-283.3\" font-family=\"Helvetica,sans-Serif\" font-size=\"14.00\" fill=\"#000000\">gini = 0.0</text>\n<text text-anchor=\"start\" x=\"2057\" y=\"-268.3\" font-family=\"Helvetica,sans-Serif\" font-size=\"14.00\" fill=\"#000000\">samples = 15</text>\n<text text-anchor=\"start\" x=\"2047.5\" y=\"-253.3\" font-family=\"Helvetica,sans-Serif\" font-size=\"14.00\" fill=\"#000000\">value = [0, 20, 0]</text>\n<text text-anchor=\"start\" x=\"2072\" y=\"-238.3\" font-family=\"Helvetica,sans-Serif\" font-size=\"14.00\" fill=\"#000000\">class = 0</text>\n</g>\n<!-- 25&#45;&gt;33 -->\n<g id=\"edge33\" class=\"edge\">\n<title>25&#45;&gt;33</title>\n<path fill=\"none\" stroke=\"#000000\" d=\"M2044.4284,-341.8796C2052.7087,-330.5536 2061.6857,-318.2748 2069.9974,-306.9058\"/>\n<polygon fill=\"#000000\" stroke=\"#000000\" points=\"2072.8361,-308.9533 2075.9126,-298.8149 2067.1853,-304.822 2072.8361,-308.9533\"/>\n</g>\n<!-- 27 -->\n<g id=\"node28\" class=\"node\">\n<title>27</title>\n<path fill=\"#cdb1f5\" stroke=\"#000000\" d=\"M1924.5,-187C1924.5,-187 1767.5,-187 1767.5,-187 1761.5,-187 1755.5,-181 1755.5,-175 1755.5,-175 1755.5,-116 1755.5,-116 1755.5,-110 1761.5,-104 1767.5,-104 1767.5,-104 1924.5,-104 1924.5,-104 1930.5,-104 1936.5,-110 1936.5,-116 1936.5,-116 1936.5,-175 1936.5,-175 1936.5,-181 1930.5,-187 1924.5,-187\"/>\n<text text-anchor=\"start\" x=\"1811\" y=\"-171.8\" font-family=\"Helvetica,sans-Serif\" font-size=\"14.00\" fill=\"#000000\">TTL ≤ 52.5</text>\n<text text-anchor=\"start\" x=\"1808\" y=\"-156.8\" font-family=\"Helvetica,sans-Serif\" font-size=\"14.00\" fill=\"#000000\">gini = 0.484</text>\n<text text-anchor=\"start\" x=\"1794\" y=\"-141.8\" font-family=\"Helvetica,sans-Serif\" font-size=\"14.00\" fill=\"#000000\">samples = 4298</text>\n<text text-anchor=\"start\" x=\"1763.5\" y=\"-126.8\" font-family=\"Helvetica,sans-Serif\" font-size=\"14.00\" fill=\"#000000\">value = [2504, 107, 4216]</text>\n<text text-anchor=\"start\" x=\"1819\" y=\"-111.8\" font-family=\"Helvetica,sans-Serif\" font-size=\"14.00\" fill=\"#000000\">class = &#160;</text>\n</g>\n<!-- 26&#45;&gt;27 -->\n<g id=\"edge27\" class=\"edge\">\n<title>26&#45;&gt;27</title>\n<path fill=\"none\" stroke=\"#000000\" d=\"M1898.6701,-222.8796C1892.7237,-214.1434 1886.3914,-204.8404 1880.255,-195.8253\"/>\n<polygon fill=\"#000000\" stroke=\"#000000\" points=\"1882.9711,-193.5953 1874.4508,-187.2981 1877.1844,-197.5342 1882.9711,-193.5953\"/>\n</g>\n<!-- 30 -->\n<g id=\"node31\" class=\"node\">\n<title>30</title>\n<path fill=\"#9df2c1\" stroke=\"#000000\" d=\"M2115.5,-187C2115.5,-187 1966.5,-187 1966.5,-187 1960.5,-187 1954.5,-181 1954.5,-175 1954.5,-175 1954.5,-116 1954.5,-116 1954.5,-110 1960.5,-104 1966.5,-104 1966.5,-104 2115.5,-104 2115.5,-104 2121.5,-104 2127.5,-110 2127.5,-116 2127.5,-116 2127.5,-175 2127.5,-175 2127.5,-181 2121.5,-187 2115.5,-187\"/>\n<text text-anchor=\"start\" x=\"1967\" y=\"-171.8\" font-family=\"Helvetica,sans-Serif\" font-size=\"14.00\" fill=\"#000000\">PACKET_NO ≤ 7994.5</text>\n<text text-anchor=\"start\" x=\"2003\" y=\"-156.8\" font-family=\"Helvetica,sans-Serif\" font-size=\"14.00\" fill=\"#000000\">gini = 0.456</text>\n<text text-anchor=\"start\" x=\"1989\" y=\"-141.8\" font-family=\"Helvetica,sans-Serif\" font-size=\"14.00\" fill=\"#000000\">samples = 3118</text>\n<text text-anchor=\"start\" x=\"1962.5\" y=\"-126.8\" font-family=\"Helvetica,sans-Serif\" font-size=\"14.00\" fill=\"#000000\">value = [1631, 3292, 57]</text>\n<text text-anchor=\"start\" x=\"2012\" y=\"-111.8\" font-family=\"Helvetica,sans-Serif\" font-size=\"14.00\" fill=\"#000000\">class = 0</text>\n</g>\n<!-- 26&#45;&gt;30 -->\n<g id=\"edge30\" class=\"edge\">\n<title>26&#45;&gt;30</title>\n<path fill=\"none\" stroke=\"#000000\" d=\"M1966.8717,-222.8796C1975.5858,-213.7832 1984.8888,-204.0722 1993.8562,-194.7116\"/>\n<polygon fill=\"#000000\" stroke=\"#000000\" points=\"1996.5678,-196.9405 2000.9581,-187.2981 1991.513,-192.098 1996.5678,-196.9405\"/>\n</g>\n<!-- 28 -->\n<g id=\"node29\" class=\"node\">\n<title>28</title>\n<path fill=\"#f2eafc\" stroke=\"#000000\" d=\"M1739.5,-68C1739.5,-68 1590.5,-68 1590.5,-68 1584.5,-68 1578.5,-62 1578.5,-56 1578.5,-56 1578.5,-12 1578.5,-12 1578.5,-6 1584.5,0 1590.5,0 1590.5,0 1739.5,0 1739.5,0 1745.5,0 1751.5,-6 1751.5,-12 1751.5,-12 1751.5,-56 1751.5,-56 1751.5,-62 1745.5,-68 1739.5,-68\"/>\n<text text-anchor=\"start\" x=\"1627\" y=\"-52.8\" font-family=\"Helvetica,sans-Serif\" font-size=\"14.00\" fill=\"#000000\">gini = 0.508</text>\n<text text-anchor=\"start\" x=\"1613\" y=\"-37.8\" font-family=\"Helvetica,sans-Serif\" font-size=\"14.00\" fill=\"#000000\">samples = 3164</text>\n<text text-anchor=\"start\" x=\"1586.5\" y=\"-22.8\" font-family=\"Helvetica,sans-Serif\" font-size=\"14.00\" fill=\"#000000\">value = [2342, 49, 2621]</text>\n<text text-anchor=\"start\" x=\"1638\" y=\"-7.8\" font-family=\"Helvetica,sans-Serif\" font-size=\"14.00\" fill=\"#000000\">class = &#160;</text>\n</g>\n<!-- 27&#45;&gt;28 -->\n<g id=\"edge28\" class=\"edge\">\n<title>27&#45;&gt;28</title>\n<path fill=\"none\" stroke=\"#000000\" d=\"M1778.6023,-103.9815C1762.4045,-94.0034 1745.1487,-83.3733 1729.1055,-73.4904\"/>\n<polygon fill=\"#000000\" stroke=\"#000000\" points=\"1730.6817,-70.3506 1720.3318,-68.0856 1727.0103,-76.3105 1730.6817,-70.3506\"/>\n</g>\n<!-- 29 -->\n<g id=\"node30\" class=\"node\">\n<title>29</title>\n<path fill=\"#9253e8\" stroke=\"#000000\" d=\"M1922,-68C1922,-68 1782,-68 1782,-68 1776,-68 1770,-62 1770,-56 1770,-56 1770,-12 1770,-12 1770,-6 1776,0 1782,0 1782,0 1922,0 1922,0 1928,0 1934,-6 1934,-12 1934,-12 1934,-56 1934,-56 1934,-62 1928,-68 1922,-68\"/>\n<text text-anchor=\"start\" x=\"1814\" y=\"-52.8\" font-family=\"Helvetica,sans-Serif\" font-size=\"14.00\" fill=\"#000000\">gini = 0.219</text>\n<text text-anchor=\"start\" x=\"1800\" y=\"-37.8\" font-family=\"Helvetica,sans-Serif\" font-size=\"14.00\" fill=\"#000000\">samples = 1134</text>\n<text text-anchor=\"start\" x=\"1778\" y=\"-22.8\" font-family=\"Helvetica,sans-Serif\" font-size=\"14.00\" fill=\"#000000\">value = [162, 58, 1595]</text>\n<text text-anchor=\"start\" x=\"1825\" y=\"-7.8\" font-family=\"Helvetica,sans-Serif\" font-size=\"14.00\" fill=\"#000000\">class = &#160;</text>\n</g>\n<!-- 27&#45;&gt;29 -->\n<g id=\"edge29\" class=\"edge\">\n<title>27&#45;&gt;29</title>\n<path fill=\"none\" stroke=\"#000000\" d=\"M1848.2342,-103.9815C1848.6842,-95.618 1849.1589,-86.7965 1849.6139,-78.3409\"/>\n<polygon fill=\"#000000\" stroke=\"#000000\" points=\"1853.1137,-78.4373 1850.1562,-68.2637 1846.1238,-78.0611 1853.1137,-78.4373\"/>\n</g>\n<!-- 31 -->\n<g id=\"node32\" class=\"node\">\n<title>31</title>\n<path fill=\"#70eca4\" stroke=\"#000000\" d=\"M2104,-68C2104,-68 1964,-68 1964,-68 1958,-68 1952,-62 1952,-56 1952,-56 1952,-12 1952,-12 1952,-6 1958,0 1964,0 1964,0 2104,0 2104,0 2110,0 2116,-6 2116,-12 2116,-12 2116,-56 2116,-56 2116,-62 2110,-68 2104,-68\"/>\n<text text-anchor=\"start\" x=\"1996\" y=\"-52.8\" font-family=\"Helvetica,sans-Serif\" font-size=\"14.00\" fill=\"#000000\">gini = 0.348</text>\n<text text-anchor=\"start\" x=\"1982\" y=\"-37.8\" font-family=\"Helvetica,sans-Serif\" font-size=\"14.00\" fill=\"#000000\">samples = 2649</text>\n<text text-anchor=\"start\" x=\"1960\" y=\"-22.8\" font-family=\"Helvetica,sans-Serif\" font-size=\"14.00\" fill=\"#000000\">value = [879, 3292, 49]</text>\n<text text-anchor=\"start\" x=\"2005\" y=\"-7.8\" font-family=\"Helvetica,sans-Serif\" font-size=\"14.00\" fill=\"#000000\">class = 0</text>\n</g>\n<!-- 30&#45;&gt;31 -->\n<g id=\"edge31\" class=\"edge\">\n<title>30&#45;&gt;31</title>\n<path fill=\"none\" stroke=\"#000000\" d=\"M2038.3935,-103.9815C2037.8684,-95.618 2037.3146,-86.7965 2036.7837,-78.3409\"/>\n<polygon fill=\"#000000\" stroke=\"#000000\" points=\"2040.2709,-78.0247 2036.1511,-68.2637 2033.2846,-78.4634 2040.2709,-78.0247\"/>\n</g>\n<!-- 32 -->\n<g id=\"node33\" class=\"node\">\n<title>32</title>\n<path fill=\"#e5823b\" stroke=\"#000000\" d=\"M2253.5,-68C2253.5,-68 2146.5,-68 2146.5,-68 2140.5,-68 2134.5,-62 2134.5,-56 2134.5,-56 2134.5,-12 2134.5,-12 2134.5,-6 2140.5,0 2146.5,0 2146.5,0 2253.5,0 2253.5,0 2259.5,0 2265.5,-6 2265.5,-12 2265.5,-12 2265.5,-56 2265.5,-56 2265.5,-62 2259.5,-68 2253.5,-68\"/>\n<text text-anchor=\"start\" x=\"2162\" y=\"-52.8\" font-family=\"Helvetica,sans-Serif\" font-size=\"14.00\" fill=\"#000000\">gini = 0.021</text>\n<text text-anchor=\"start\" x=\"2152\" y=\"-37.8\" font-family=\"Helvetica,sans-Serif\" font-size=\"14.00\" fill=\"#000000\">samples = 469</text>\n<text text-anchor=\"start\" x=\"2142.5\" y=\"-22.8\" font-family=\"Helvetica,sans-Serif\" font-size=\"14.00\" fill=\"#000000\">value = [752, 0, 8]</text>\n<text text-anchor=\"start\" x=\"2173\" y=\"-7.8\" font-family=\"Helvetica,sans-Serif\" font-size=\"14.00\" fill=\"#000000\">class = [</text>\n</g>\n<!-- 30&#45;&gt;32 -->\n<g id=\"edge32\" class=\"edge\">\n<title>30&#45;&gt;32</title>\n<path fill=\"none\" stroke=\"#000000\" d=\"M2100.2057,-103.9815C2114.1712,-94.1881 2129.0321,-83.7668 2142.9023,-74.0402\"/>\n<polygon fill=\"#000000\" stroke=\"#000000\" points=\"2145.2156,-76.6928 2151.3936,-68.0856 2141.1965,-70.9616 2145.2156,-76.6928\"/>\n</g>\n<!-- 35 -->\n<g id=\"node36\" class=\"node\">\n<title>35</title>\n<path fill=\"#9f68eb\" stroke=\"#000000\" d=\"M2518.5,-306C2518.5,-306 2361.5,-306 2361.5,-306 2355.5,-306 2349.5,-300 2349.5,-294 2349.5,-294 2349.5,-235 2349.5,-235 2349.5,-229 2355.5,-223 2361.5,-223 2361.5,-223 2518.5,-223 2518.5,-223 2524.5,-223 2530.5,-229 2530.5,-235 2530.5,-235 2530.5,-294 2530.5,-294 2530.5,-300 2524.5,-306 2518.5,-306\"/>\n<text text-anchor=\"start\" x=\"2401\" y=\"-290.8\" font-family=\"Helvetica,sans-Serif\" font-size=\"14.00\" fill=\"#000000\">TTL ≤ 171.5</text>\n<text text-anchor=\"start\" x=\"2402\" y=\"-275.8\" font-family=\"Helvetica,sans-Serif\" font-size=\"14.00\" fill=\"#000000\">gini = 0.329</text>\n<text text-anchor=\"start\" x=\"2388\" y=\"-260.8\" font-family=\"Helvetica,sans-Serif\" font-size=\"14.00\" fill=\"#000000\">samples = 7256</text>\n<text text-anchor=\"start\" x=\"2357.5\" y=\"-245.8\" font-family=\"Helvetica,sans-Serif\" font-size=\"14.00\" fill=\"#000000\">value = [1875, 391, 9182]</text>\n<text text-anchor=\"start\" x=\"2413\" y=\"-230.8\" font-family=\"Helvetica,sans-Serif\" font-size=\"14.00\" fill=\"#000000\">class = &#160;</text>\n</g>\n<!-- 34&#45;&gt;35 -->\n<g id=\"edge35\" class=\"edge\">\n<title>34&#45;&gt;35</title>\n<path fill=\"none\" stroke=\"#000000\" d=\"M2440,-341.8796C2440,-333.6838 2440,-324.9891 2440,-316.5013\"/>\n<polygon fill=\"#000000\" stroke=\"#000000\" points=\"2443.5001,-316.298 2440,-306.2981 2436.5001,-316.2981 2443.5001,-316.298\"/>\n</g>\n<!-- 42 -->\n<g id=\"node43\" class=\"node\">\n<title>42</title>\n<path fill=\"#8139e5\" stroke=\"#000000\" d=\"M2659.5,-298.5C2659.5,-298.5 2560.5,-298.5 2560.5,-298.5 2554.5,-298.5 2548.5,-292.5 2548.5,-286.5 2548.5,-286.5 2548.5,-242.5 2548.5,-242.5 2548.5,-236.5 2554.5,-230.5 2560.5,-230.5 2560.5,-230.5 2659.5,-230.5 2659.5,-230.5 2665.5,-230.5 2671.5,-236.5 2671.5,-242.5 2671.5,-242.5 2671.5,-286.5 2671.5,-286.5 2671.5,-292.5 2665.5,-298.5 2659.5,-298.5\"/>\n<text text-anchor=\"start\" x=\"2580.5\" y=\"-283.3\" font-family=\"Helvetica,sans-Serif\" font-size=\"14.00\" fill=\"#000000\">gini = 0.0</text>\n<text text-anchor=\"start\" x=\"2566\" y=\"-268.3\" font-family=\"Helvetica,sans-Serif\" font-size=\"14.00\" fill=\"#000000\">samples = 49</text>\n<text text-anchor=\"start\" x=\"2556.5\" y=\"-253.3\" font-family=\"Helvetica,sans-Serif\" font-size=\"14.00\" fill=\"#000000\">value = [0, 0, 84]</text>\n<text text-anchor=\"start\" x=\"2583\" y=\"-238.3\" font-family=\"Helvetica,sans-Serif\" font-size=\"14.00\" fill=\"#000000\">class = &#160;</text>\n</g>\n<!-- 34&#45;&gt;42 -->\n<g id=\"edge42\" class=\"edge\">\n<title>34&#45;&gt;42</title>\n<path fill=\"none\" stroke=\"#000000\" d=\"M2499.4578,-341.8796C2516.8196,-329.7263 2535.7488,-316.4759 2552.9575,-304.4297\"/>\n<polygon fill=\"#000000\" stroke=\"#000000\" points=\"2555.0676,-307.225 2561.2528,-298.623 2551.0533,-301.4904 2555.0676,-307.225\"/>\n</g>\n<!-- 36 -->\n<g id=\"node37\" class=\"node\">\n<title>36</title>\n<path fill=\"#b78df0\" stroke=\"#000000\" d=\"M2514.5,-187C2514.5,-187 2365.5,-187 2365.5,-187 2359.5,-187 2353.5,-181 2353.5,-175 2353.5,-175 2353.5,-116 2353.5,-116 2353.5,-110 2359.5,-104 2365.5,-104 2365.5,-104 2514.5,-104 2514.5,-104 2520.5,-104 2526.5,-110 2526.5,-116 2526.5,-116 2526.5,-175 2526.5,-175 2526.5,-181 2520.5,-187 2514.5,-187\"/>\n<text text-anchor=\"start\" x=\"2401\" y=\"-171.8\" font-family=\"Helvetica,sans-Serif\" font-size=\"14.00\" fill=\"#000000\">TTL ≤ 119.5</text>\n<text text-anchor=\"start\" x=\"2402\" y=\"-156.8\" font-family=\"Helvetica,sans-Serif\" font-size=\"14.00\" fill=\"#000000\">gini = 0.425</text>\n<text text-anchor=\"start\" x=\"2388\" y=\"-141.8\" font-family=\"Helvetica,sans-Serif\" font-size=\"14.00\" fill=\"#000000\">samples = 3972</text>\n<text text-anchor=\"start\" x=\"2361.5\" y=\"-126.8\" font-family=\"Helvetica,sans-Serif\" font-size=\"14.00\" fill=\"#000000\">value = [1837, 43, 4370]</text>\n<text text-anchor=\"start\" x=\"2413\" y=\"-111.8\" font-family=\"Helvetica,sans-Serif\" font-size=\"14.00\" fill=\"#000000\">class = &#160;</text>\n</g>\n<!-- 35&#45;&gt;36 -->\n<g id=\"edge36\" class=\"edge\">\n<title>35&#45;&gt;36</title>\n<path fill=\"none\" stroke=\"#000000\" d=\"M2440,-222.8796C2440,-214.6838 2440,-205.9891 2440,-197.5013\"/>\n<polygon fill=\"#000000\" stroke=\"#000000\" points=\"2443.5001,-197.298 2440,-187.2981 2436.5001,-197.2981 2443.5001,-197.298\"/>\n</g>\n<!-- 39 -->\n<g id=\"node40\" class=\"node\">\n<title>39</title>\n<path fill=\"#8b49e7\" stroke=\"#000000\" d=\"M2780,-187C2780,-187 2640,-187 2640,-187 2634,-187 2628,-181 2628,-175 2628,-175 2628,-116 2628,-116 2628,-110 2634,-104 2640,-104 2640,-104 2780,-104 2780,-104 2786,-104 2792,-110 2792,-116 2792,-116 2792,-175 2792,-175 2792,-181 2786,-187 2780,-187\"/>\n<text text-anchor=\"start\" x=\"2671\" y=\"-171.8\" font-family=\"Helvetica,sans-Serif\" font-size=\"14.00\" fill=\"#000000\">TTL ≤ 239.0</text>\n<text text-anchor=\"start\" x=\"2672\" y=\"-156.8\" font-family=\"Helvetica,sans-Serif\" font-size=\"14.00\" fill=\"#000000\">gini = 0.138</text>\n<text text-anchor=\"start\" x=\"2658\" y=\"-141.8\" font-family=\"Helvetica,sans-Serif\" font-size=\"14.00\" fill=\"#000000\">samples = 3284</text>\n<text text-anchor=\"start\" x=\"2636\" y=\"-126.8\" font-family=\"Helvetica,sans-Serif\" font-size=\"14.00\" fill=\"#000000\">value = [38, 348, 4812]</text>\n<text text-anchor=\"start\" x=\"2683\" y=\"-111.8\" font-family=\"Helvetica,sans-Serif\" font-size=\"14.00\" fill=\"#000000\">class = &#160;</text>\n</g>\n<!-- 35&#45;&gt;39 -->\n<g id=\"edge39\" class=\"edge\">\n<title>35&#45;&gt;39</title>\n<path fill=\"none\" stroke=\"#000000\" d=\"M2530.6572,-224.5437C2558.8733,-212.1077 2589.9968,-198.3903 2618.2846,-185.9227\"/>\n<polygon fill=\"#000000\" stroke=\"#000000\" points=\"2620.0218,-188.982 2627.7608,-181.7461 2617.1986,-182.5765 2620.0218,-188.982\"/>\n</g>\n<!-- 37 -->\n<g id=\"node38\" class=\"node\">\n<title>37</title>\n<path fill=\"#8f4ee8\" stroke=\"#000000\" d=\"M2420,-68C2420,-68 2296,-68 2296,-68 2290,-68 2284,-62 2284,-56 2284,-56 2284,-12 2284,-12 2284,-6 2290,0 2296,0 2296,0 2420,0 2420,0 2426,0 2432,-6 2432,-12 2432,-12 2432,-56 2432,-56 2432,-62 2426,-68 2420,-68\"/>\n<text text-anchor=\"start\" x=\"2320\" y=\"-52.8\" font-family=\"Helvetica,sans-Serif\" font-size=\"14.00\" fill=\"#000000\">gini = 0.185</text>\n<text text-anchor=\"start\" x=\"2310\" y=\"-37.8\" font-family=\"Helvetica,sans-Serif\" font-size=\"14.00\" fill=\"#000000\">samples = 408</text>\n<text text-anchor=\"start\" x=\"2292\" y=\"-22.8\" font-family=\"Helvetica,sans-Serif\" font-size=\"14.00\" fill=\"#000000\">value = [23, 41, 574]</text>\n<text text-anchor=\"start\" x=\"2331\" y=\"-7.8\" font-family=\"Helvetica,sans-Serif\" font-size=\"14.00\" fill=\"#000000\">class = &#160;</text>\n</g>\n<!-- 36&#45;&gt;37 -->\n<g id=\"edge37\" class=\"edge\">\n<title>36&#45;&gt;37</title>\n<path fill=\"none\" stroke=\"#000000\" d=\"M2409.4662,-103.9815C2402.8424,-94.9747 2395.8279,-85.4367 2389.1795,-76.3965\"/>\n<polygon fill=\"#000000\" stroke=\"#000000\" points=\"2391.9426,-74.2461 2383.1984,-68.2637 2386.3034,-78.3933 2391.9426,-74.2461\"/>\n</g>\n<!-- 38 -->\n<g id=\"node39\" class=\"node\">\n<title>38</title>\n<path fill=\"#bd98f1\" stroke=\"#000000\" d=\"M2602,-68C2602,-68 2462,-68 2462,-68 2456,-68 2450,-62 2450,-56 2450,-56 2450,-12 2450,-12 2450,-6 2456,0 2462,0 2462,0 2602,0 2602,0 2608,0 2614,-6 2614,-12 2614,-12 2614,-56 2614,-56 2614,-62 2608,-68 2602,-68\"/>\n<text text-anchor=\"start\" x=\"2494\" y=\"-52.8\" font-family=\"Helvetica,sans-Serif\" font-size=\"14.00\" fill=\"#000000\">gini = 0.438</text>\n<text text-anchor=\"start\" x=\"2480\" y=\"-37.8\" font-family=\"Helvetica,sans-Serif\" font-size=\"14.00\" fill=\"#000000\">samples = 3564</text>\n<text text-anchor=\"start\" x=\"2458\" y=\"-22.8\" font-family=\"Helvetica,sans-Serif\" font-size=\"14.00\" fill=\"#000000\">value = [1814, 2, 3796]</text>\n<text text-anchor=\"start\" x=\"2505\" y=\"-7.8\" font-family=\"Helvetica,sans-Serif\" font-size=\"14.00\" fill=\"#000000\">class = &#160;</text>\n</g>\n<!-- 36&#45;&gt;38 -->\n<g id=\"edge38\" class=\"edge\">\n<title>36&#45;&gt;38</title>\n<path fill=\"none\" stroke=\"#000000\" d=\"M2474.2574,-103.9815C2481.7649,-94.8828 2489.7196,-85.242 2497.2464,-76.1199\"/>\n<polygon fill=\"#000000\" stroke=\"#000000\" points=\"2500.0639,-78.2045 2503.7286,-68.2637 2494.6646,-73.7495 2500.0639,-78.2045\"/>\n</g>\n<!-- 40 -->\n<g id=\"node41\" class=\"node\">\n<title>40</title>\n<path fill=\"#8946e7\" stroke=\"#000000\" d=\"M2776,-68C2776,-68 2644,-68 2644,-68 2638,-68 2632,-62 2632,-56 2632,-56 2632,-12 2632,-12 2632,-6 2638,0 2644,0 2644,0 2776,0 2776,0 2782,0 2788,-6 2788,-12 2788,-12 2788,-56 2788,-56 2788,-62 2782,-68 2776,-68\"/>\n<text text-anchor=\"start\" x=\"2672\" y=\"-52.8\" font-family=\"Helvetica,sans-Serif\" font-size=\"14.00\" fill=\"#000000\">gini = 0.118</text>\n<text text-anchor=\"start\" x=\"2658\" y=\"-37.8\" font-family=\"Helvetica,sans-Serif\" font-size=\"14.00\" fill=\"#000000\">samples = 3236</text>\n<text text-anchor=\"start\" x=\"2640\" y=\"-22.8\" font-family=\"Helvetica,sans-Serif\" font-size=\"14.00\" fill=\"#000000\">value = [0, 322, 4800]</text>\n<text text-anchor=\"start\" x=\"2683\" y=\"-7.8\" font-family=\"Helvetica,sans-Serif\" font-size=\"14.00\" fill=\"#000000\">class = &#160;</text>\n</g>\n<!-- 39&#45;&gt;40 -->\n<g id=\"edge40\" class=\"edge\">\n<title>39&#45;&gt;40</title>\n<path fill=\"none\" stroke=\"#000000\" d=\"M2710,-103.9815C2710,-95.618 2710,-86.7965 2710,-78.3409\"/>\n<polygon fill=\"#000000\" stroke=\"#000000\" points=\"2713.5001,-78.2636 2710,-68.2637 2706.5001,-78.2637 2713.5001,-78.2636\"/>\n</g>\n<!-- 41 -->\n<g id=\"node42\" class=\"node\">\n<title>41</title>\n<path fill=\"#f9e1cf\" stroke=\"#000000\" d=\"M2934,-68C2934,-68 2818,-68 2818,-68 2812,-68 2806,-62 2806,-56 2806,-56 2806,-12 2806,-12 2806,-6 2812,0 2818,0 2818,0 2934,0 2934,0 2940,0 2946,-6 2946,-12 2946,-12 2946,-56 2946,-56 2946,-62 2940,-68 2934,-68\"/>\n<text text-anchor=\"start\" x=\"2838\" y=\"-52.8\" font-family=\"Helvetica,sans-Serif\" font-size=\"14.00\" fill=\"#000000\">gini = 0.608</text>\n<text text-anchor=\"start\" x=\"2832\" y=\"-37.8\" font-family=\"Helvetica,sans-Serif\" font-size=\"14.00\" fill=\"#000000\">samples = 48</text>\n<text text-anchor=\"start\" x=\"2814\" y=\"-22.8\" font-family=\"Helvetica,sans-Serif\" font-size=\"14.00\" fill=\"#000000\">value = [38, 26, 12]</text>\n<text text-anchor=\"start\" x=\"2849\" y=\"-7.8\" font-family=\"Helvetica,sans-Serif\" font-size=\"14.00\" fill=\"#000000\">class = [</text>\n</g>\n<!-- 39&#45;&gt;41 -->\n<g id=\"edge41\" class=\"edge\">\n<title>39&#45;&gt;41</title>\n<path fill=\"none\" stroke=\"#000000\" d=\"M2771.8123,-103.9815C2786.5301,-94.0957 2802.2005,-83.5701 2816.7981,-73.7651\"/>\n<polygon fill=\"#000000\" stroke=\"#000000\" points=\"2818.904,-76.5669 2825.2537,-68.0856 2815.0009,-70.7561 2818.904,-76.5669\"/>\n</g>\n</g>\n</svg>\n"
          },
          "metadata": {},
          "execution_count": 42
        }
      ]
    },
    {
      "cell_type": "code",
      "source": [
        "y_pred = rf.predict(X_test)\n",
        "\n",
        "base_value = (classification_report(y_test, y_pred))\n",
        "print(base_value)"
      ],
      "metadata": {
        "colab": {
          "base_uri": "https://localhost:8080/"
        },
        "id": "qv1vKcg1NJ0N",
        "outputId": "05a48379-27ae-46e1-fdb9-d6cd353b6c50"
      },
      "execution_count": null,
      "outputs": [
        {
          "output_type": "stream",
          "name": "stdout",
          "text": [
            "              precision    recall  f1-score   support\n",
            "\n",
            "           0       0.98      0.59      0.74      3902\n",
            "           1       0.82      0.89      0.85      2314\n",
            "           2       0.83      0.99      0.91      7100\n",
            "\n",
            "    accuracy                           0.86     13316\n",
            "   macro avg       0.88      0.82      0.83     13316\n",
            "weighted avg       0.88      0.86      0.85     13316\n",
            "\n"
          ]
        }
      ]
    },
    {
      "cell_type": "code",
      "source": [
        "!pip install scikit-plot"
      ],
      "metadata": {
        "colab": {
          "base_uri": "https://localhost:8080/"
        },
        "id": "h7vvkNdGODsF",
        "outputId": "e423d4e0-231c-479a-e3cb-458f02c3e4a2"
      },
      "execution_count": null,
      "outputs": [
        {
          "output_type": "stream",
          "name": "stdout",
          "text": [
            "Looking in indexes: https://pypi.org/simple, https://us-python.pkg.dev/colab-wheels/public/simple/\n",
            "Collecting scikit-plot\n",
            "  Downloading scikit_plot-0.3.7-py3-none-any.whl (33 kB)\n",
            "Requirement already satisfied: scikit-learn>=0.18 in /usr/local/lib/python3.8/dist-packages (from scikit-plot) (1.0.2)\n",
            "Requirement already satisfied: scipy>=0.9 in /usr/local/lib/python3.8/dist-packages (from scikit-plot) (1.7.3)\n",
            "Requirement already satisfied: joblib>=0.10 in /usr/local/lib/python3.8/dist-packages (from scikit-plot) (1.2.0)\n",
            "Requirement already satisfied: matplotlib>=1.4.0 in /usr/local/lib/python3.8/dist-packages (from scikit-plot) (3.2.2)\n",
            "Requirement already satisfied: cycler>=0.10 in /usr/local/lib/python3.8/dist-packages (from matplotlib>=1.4.0->scikit-plot) (0.11.0)\n",
            "Requirement already satisfied: kiwisolver>=1.0.1 in /usr/local/lib/python3.8/dist-packages (from matplotlib>=1.4.0->scikit-plot) (1.4.4)\n",
            "Requirement already satisfied: python-dateutil>=2.1 in /usr/local/lib/python3.8/dist-packages (from matplotlib>=1.4.0->scikit-plot) (2.8.2)\n",
            "Requirement already satisfied: pyparsing!=2.0.4,!=2.1.2,!=2.1.6,>=2.0.1 in /usr/local/lib/python3.8/dist-packages (from matplotlib>=1.4.0->scikit-plot) (3.0.9)\n",
            "Requirement already satisfied: numpy>=1.11 in /usr/local/lib/python3.8/dist-packages (from matplotlib>=1.4.0->scikit-plot) (1.21.6)\n",
            "Requirement already satisfied: six>=1.5 in /usr/local/lib/python3.8/dist-packages (from python-dateutil>=2.1->matplotlib>=1.4.0->scikit-plot) (1.15.0)\n",
            "Requirement already satisfied: threadpoolctl>=2.0.0 in /usr/local/lib/python3.8/dist-packages (from scikit-learn>=0.18->scikit-plot) (3.1.0)\n",
            "Installing collected packages: scikit-plot\n",
            "Successfully installed scikit-plot-0.3.7\n"
          ]
        }
      ]
    },
    {
      "cell_type": "code",
      "source": [
        "import scikitplot as skplt\n"
      ],
      "metadata": {
        "id": "VWgI3RXdOBws"
      },
      "execution_count": null,
      "outputs": []
    },
    {
      "cell_type": "code",
      "source": [
        "y_probs = rf.predict_proba(X_test)\n",
        "# Printing out the confusion Matrix and Stuff\n",
        "skplt.metrics.plot_confusion_matrix(y_test, y_pred)\n",
        "skplt.metrics.plot_roc(y_test, y_probs)\n",
        "skplt.metrics.plot_precision_recall_curve(y_test, y_probs)\n",
        "plt.show()"
      ],
      "metadata": {
        "colab": {
          "base_uri": "https://localhost:8080/",
          "height": 906
        },
        "id": "cxfiG5EmN9J5",
        "outputId": "4038677b-a94f-4501-f2dd-9619945fb9ee"
      },
      "execution_count": null,
      "outputs": [
        {
          "output_type": "stream",
          "name": "stderr",
          "text": [
            "/usr/local/lib/python3.8/dist-packages/sklearn/utils/deprecation.py:87: FutureWarning: Function plot_precision_recall_curve is deprecated; This will be removed in v0.5.0. Please use scikitplot.metrics.plot_precision_recall instead.\n",
            "  warnings.warn(msg, category=FutureWarning)\n"
          ]
        },
        {
          "output_type": "display_data",
          "data": {
            "text/plain": [
              "<Figure size 432x288 with 2 Axes>"
            ],
            "image/png": "[encoded data removed]"
          },
          "metadata": {
            "needs_background": "light"
          }
        },
        {
          "output_type": "display_data",
          "data": {
            "text/plain": [
              "<Figure size 432x288 with 1 Axes>"
            ],
            "image/png": "[encoded data removed]"
          },
          "metadata": {
            "needs_background": "light"
          }
        },
        {
          "output_type": "display_data",
          "data": {
            "text/plain": [
              "<Figure size 432x288 with 1 Axes>"
            ],
            "image/png": "[encoded data removed]"
          },
          "metadata": {
            "needs_background": "light"
          }
        }
      ]
    },
    {
      "cell_type": "code",
      "source": [
        "!pip install tqdm"
      ],
      "metadata": {
        "colab": {
          "base_uri": "https://localhost:8080/"
        },
        "id": "fpDDM-wXSP8J",
        "outputId": "5c81a90b-35af-4b6f-d661-101058fd8b64"
      },
      "execution_count": null,
      "outputs": [
        {
          "output_type": "stream",
          "name": "stdout",
          "text": [
            "Looking in indexes: https://pypi.org/simple, https://us-python.pkg.dev/colab-wheels/public/simple/\n",
            "Requirement already satisfied: tqdm in /usr/local/lib/python3.8/dist-packages (4.64.1)\n"
          ]
        }
      ]
    },
    {
      "cell_type": "code",
      "source": [
        "from tqdm.notebook import tqdm_notebook"
      ],
      "metadata": {
        "id": "NrKCprzQSaq0"
      },
      "execution_count": null,
      "outputs": []
    },
    {
      "cell_type": "code",
      "source": [
        "# Import necessary libraries\n",
        "from sklearn.ensemble import RandomForestClassifier\n",
        "from sklearn.model_selection import GridSearchCV\n",
        "\n",
        "# Create the parameter grid\n",
        "param_grid = {\n",
        "    'n_estimators': [100, 200, 300, 400, 500],\n",
        "    'max_depth': [5, 10, 15, 20, 25],\n",
        "    'min_samples_split': [2, 5, 10],\n",
        "    'min_samples_leaf': [1, 2, 4]\n",
        "}\n",
        "\n",
        "# Create a random forest classifier\n",
        "clf = RandomForestClassifier()\n",
        "\n",
        "# Set up the grid search\n",
        "grid_search = GridSearchCV(clf, param_grid, cv=2, verbose=1, n_jobs = 10)\n",
        "\n",
        "grid_search.fit(X_train, y_train)\n",
        "  \n",
        "# Fit the grid search to the data\n",
        "\n",
        "# Print the best hyperparameters found\n",
        "print(grid_search.best_params_)\n"
      ],
      "metadata": {
        "colab": {
          "base_uri": "https://localhost:8080/",
          "height": 399
        },
        "id": "84DaaVoeXz7A",
        "outputId": "357e2d02-02f2-45ad-a051-d792c790bc5d"
      },
      "execution_count": null,
      "outputs": [
        {
          "output_type": "stream",
          "name": "stdout",
          "text": [
            "Fitting 2 folds for each of 225 candidates, totalling 450 fits\n"
          ]
        },
        {
          "output_type": "error",
          "ename": "KeyboardInterrupt",
          "evalue": "ignored",
          "traceback": [
            "\u001b[0;31m---------------------------------------------------------------------------\u001b[0m",
            "\u001b[0;31mKeyboardInterrupt\u001b[0m                         Traceback (most recent call last)",
            "\u001b[0;32m<ipython-input-49-2ac0d12b3e01>\u001b[0m in \u001b[0;36m<module>\u001b[0;34m\u001b[0m\n\u001b[1;32m     17\u001b[0m \u001b[0mgrid_search\u001b[0m \u001b[0;34m=\u001b[0m \u001b[0mGridSearchCV\u001b[0m\u001b[0;34m(\u001b[0m\u001b[0mclf\u001b[0m\u001b[0;34m,\u001b[0m \u001b[0mparam_grid\u001b[0m\u001b[0;34m,\u001b[0m \u001b[0mcv\u001b[0m\u001b[0;34m=\u001b[0m\u001b[0;36m2\u001b[0m\u001b[0;34m,\u001b[0m \u001b[0mverbose\u001b[0m\u001b[0;34m=\u001b[0m\u001b[0;36m1\u001b[0m\u001b[0;34m,\u001b[0m \u001b[0mn_jobs\u001b[0m \u001b[0;34m=\u001b[0m \u001b[0;36m10\u001b[0m\u001b[0;34m)\u001b[0m\u001b[0;34m\u001b[0m\u001b[0;34m\u001b[0m\u001b[0m\n\u001b[1;32m     18\u001b[0m \u001b[0;34m\u001b[0m\u001b[0m\n\u001b[0;32m---> 19\u001b[0;31m \u001b[0mgrid_search\u001b[0m\u001b[0;34m.\u001b[0m\u001b[0mfit\u001b[0m\u001b[0;34m(\u001b[0m\u001b[0mX_train\u001b[0m\u001b[0;34m,\u001b[0m \u001b[0my_train\u001b[0m\u001b[0;34m)\u001b[0m\u001b[0;34m\u001b[0m\u001b[0;34m\u001b[0m\u001b[0m\n\u001b[0m\u001b[1;32m     20\u001b[0m \u001b[0;34m\u001b[0m\u001b[0m\n\u001b[1;32m     21\u001b[0m \u001b[0;31m# Fit the grid search to the data\u001b[0m\u001b[0;34m\u001b[0m\u001b[0;34m\u001b[0m\u001b[0;34m\u001b[0m\u001b[0m\n",
            "\u001b[0;32m/usr/local/lib/python3.8/dist-packages/sklearn/model_selection/_search.py\u001b[0m in \u001b[0;36mfit\u001b[0;34m(self, X, y, groups, **fit_params)\u001b[0m\n\u001b[1;32m    889\u001b[0m                 \u001b[0;32mreturn\u001b[0m \u001b[0mresults\u001b[0m\u001b[0;34m\u001b[0m\u001b[0;34m\u001b[0m\u001b[0m\n\u001b[1;32m    890\u001b[0m \u001b[0;34m\u001b[0m\u001b[0m\n\u001b[0;32m--> 891\u001b[0;31m             \u001b[0mself\u001b[0m\u001b[0;34m.\u001b[0m\u001b[0m_run_search\u001b[0m\u001b[0;34m(\u001b[0m\u001b[0mevaluate_candidates\u001b[0m\u001b[0;34m)\u001b[0m\u001b[0;34m\u001b[0m\u001b[0;34m\u001b[0m\u001b[0m\n\u001b[0m\u001b[1;32m    892\u001b[0m \u001b[0;34m\u001b[0m\u001b[0m\n\u001b[1;32m    893\u001b[0m             \u001b[0;31m# multimetric is determined here because in the case of a callable\u001b[0m\u001b[0;34m\u001b[0m\u001b[0;34m\u001b[0m\u001b[0;34m\u001b[0m\u001b[0m\n",
            "\u001b[0;32m/usr/local/lib/python3.8/dist-packages/sklearn/model_selection/_search.py\u001b[0m in \u001b[0;36m_run_search\u001b[0;34m(self, evaluate_candidates)\u001b[0m\n\u001b[1;32m   1390\u001b[0m     \u001b[0;32mdef\u001b[0m \u001b[0m_run_search\u001b[0m\u001b[0;34m(\u001b[0m\u001b[0mself\u001b[0m\u001b[0;34m,\u001b[0m \u001b[0mevaluate_candidates\u001b[0m\u001b[0;34m)\u001b[0m\u001b[0;34m:\u001b[0m\u001b[0;34m\u001b[0m\u001b[0;34m\u001b[0m\u001b[0m\n\u001b[1;32m   1391\u001b[0m         \u001b[0;34m\"\"\"Search all candidates in param_grid\"\"\"\u001b[0m\u001b[0;34m\u001b[0m\u001b[0;34m\u001b[0m\u001b[0m\n\u001b[0;32m-> 1392\u001b[0;31m         \u001b[0mevaluate_candidates\u001b[0m\u001b[0;34m(\u001b[0m\u001b[0mParameterGrid\u001b[0m\u001b[0;34m(\u001b[0m\u001b[0mself\u001b[0m\u001b[0;34m.\u001b[0m\u001b[0mparam_grid\u001b[0m\u001b[0;34m)\u001b[0m\u001b[0;34m)\u001b[0m\u001b[0;34m\u001b[0m\u001b[0;34m\u001b[0m\u001b[0m\n\u001b[0m\u001b[1;32m   1393\u001b[0m \u001b[0;34m\u001b[0m\u001b[0m\n\u001b[1;32m   1394\u001b[0m \u001b[0;34m\u001b[0m\u001b[0m\n",
            "\u001b[0;32m/usr/local/lib/python3.8/dist-packages/sklearn/model_selection/_search.py\u001b[0m in \u001b[0;36mevaluate_candidates\u001b[0;34m(candidate_params, cv, more_results)\u001b[0m\n\u001b[1;32m    836\u001b[0m                     )\n\u001b[1;32m    837\u001b[0m \u001b[0;34m\u001b[0m\u001b[0m\n\u001b[0;32m--> 838\u001b[0;31m                 out = parallel(\n\u001b[0m\u001b[1;32m    839\u001b[0m                     delayed(_fit_and_score)(\n\u001b[1;32m    840\u001b[0m                         \u001b[0mclone\u001b[0m\u001b[0;34m(\u001b[0m\u001b[0mbase_estimator\u001b[0m\u001b[0;34m)\u001b[0m\u001b[0;34m,\u001b[0m\u001b[0;34m\u001b[0m\u001b[0;34m\u001b[0m\u001b[0m\n",
            "\u001b[0;32m/usr/local/lib/python3.8/dist-packages/joblib/parallel.py\u001b[0m in \u001b[0;36m__call__\u001b[0;34m(self, iterable)\u001b[0m\n\u001b[1;32m   1096\u001b[0m \u001b[0;34m\u001b[0m\u001b[0m\n\u001b[1;32m   1097\u001b[0m             \u001b[0;32mwith\u001b[0m \u001b[0mself\u001b[0m\u001b[0;34m.\u001b[0m\u001b[0m_backend\u001b[0m\u001b[0;34m.\u001b[0m\u001b[0mretrieval_context\u001b[0m\u001b[0;34m(\u001b[0m\u001b[0;34m)\u001b[0m\u001b[0;34m:\u001b[0m\u001b[0;34m\u001b[0m\u001b[0;34m\u001b[0m\u001b[0m\n\u001b[0;32m-> 1098\u001b[0;31m                 \u001b[0mself\u001b[0m\u001b[0;34m.\u001b[0m\u001b[0mretrieve\u001b[0m\u001b[0;34m(\u001b[0m\u001b[0;34m)\u001b[0m\u001b[0;34m\u001b[0m\u001b[0;34m\u001b[0m\u001b[0m\n\u001b[0m\u001b[1;32m   1099\u001b[0m             \u001b[0;31m# Make sure that we get a last message telling us we are done\u001b[0m\u001b[0;34m\u001b[0m\u001b[0;34m\u001b[0m\u001b[0;34m\u001b[0m\u001b[0m\n\u001b[1;32m   1100\u001b[0m             \u001b[0melapsed_time\u001b[0m \u001b[0;34m=\u001b[0m \u001b[0mtime\u001b[0m\u001b[0;34m.\u001b[0m\u001b[0mtime\u001b[0m\u001b[0;34m(\u001b[0m\u001b[0;34m)\u001b[0m \u001b[0;34m-\u001b[0m \u001b[0mself\u001b[0m\u001b[0;34m.\u001b[0m\u001b[0m_start_time\u001b[0m\u001b[0;34m\u001b[0m\u001b[0;34m\u001b[0m\u001b[0m\n",
            "\u001b[0;32m/usr/local/lib/python3.8/dist-packages/joblib/parallel.py\u001b[0m in \u001b[0;36mretrieve\u001b[0;34m(self)\u001b[0m\n\u001b[1;32m    973\u001b[0m             \u001b[0;32mtry\u001b[0m\u001b[0;34m:\u001b[0m\u001b[0;34m\u001b[0m\u001b[0;34m\u001b[0m\u001b[0m\n\u001b[1;32m    974\u001b[0m                 \u001b[0;32mif\u001b[0m \u001b[0mgetattr\u001b[0m\u001b[0;34m(\u001b[0m\u001b[0mself\u001b[0m\u001b[0;34m.\u001b[0m\u001b[0m_backend\u001b[0m\u001b[0;34m,\u001b[0m \u001b[0;34m'supports_timeout'\u001b[0m\u001b[0;34m,\u001b[0m \u001b[0;32mFalse\u001b[0m\u001b[0;34m)\u001b[0m\u001b[0;34m:\u001b[0m\u001b[0;34m\u001b[0m\u001b[0;34m\u001b[0m\u001b[0m\n\u001b[0;32m--> 975\u001b[0;31m                     \u001b[0mself\u001b[0m\u001b[0;34m.\u001b[0m\u001b[0m_output\u001b[0m\u001b[0;34m.\u001b[0m\u001b[0mextend\u001b[0m\u001b[0;34m(\u001b[0m\u001b[0mjob\u001b[0m\u001b[0;34m.\u001b[0m\u001b[0mget\u001b[0m\u001b[0;34m(\u001b[0m\u001b[0mtimeout\u001b[0m\u001b[0;34m=\u001b[0m\u001b[0mself\u001b[0m\u001b[0;34m.\u001b[0m\u001b[0mtimeout\u001b[0m\u001b[0;34m)\u001b[0m\u001b[0;34m)\u001b[0m\u001b[0;34m\u001b[0m\u001b[0;34m\u001b[0m\u001b[0m\n\u001b[0m\u001b[1;32m    976\u001b[0m                 \u001b[0;32melse\u001b[0m\u001b[0;34m:\u001b[0m\u001b[0;34m\u001b[0m\u001b[0;34m\u001b[0m\u001b[0m\n\u001b[1;32m    977\u001b[0m                     \u001b[0mself\u001b[0m\u001b[0;34m.\u001b[0m\u001b[0m_output\u001b[0m\u001b[0;34m.\u001b[0m\u001b[0mextend\u001b[0m\u001b[0;34m(\u001b[0m\u001b[0mjob\u001b[0m\u001b[0;34m.\u001b[0m\u001b[0mget\u001b[0m\u001b[0;34m(\u001b[0m\u001b[0;34m)\u001b[0m\u001b[0;34m)\u001b[0m\u001b[0;34m\u001b[0m\u001b[0;34m\u001b[0m\u001b[0m\n",
            "\u001b[0;32m/usr/local/lib/python3.8/dist-packages/joblib/_parallel_backends.py\u001b[0m in \u001b[0;36mwrap_future_result\u001b[0;34m(future, timeout)\u001b[0m\n\u001b[1;32m    565\u001b[0m         AsyncResults.get from multiprocessing.\"\"\"\n\u001b[1;32m    566\u001b[0m         \u001b[0;32mtry\u001b[0m\u001b[0;34m:\u001b[0m\u001b[0;34m\u001b[0m\u001b[0;34m\u001b[0m\u001b[0m\n\u001b[0;32m--> 567\u001b[0;31m             \u001b[0;32mreturn\u001b[0m \u001b[0mfuture\u001b[0m\u001b[0;34m.\u001b[0m\u001b[0mresult\u001b[0m\u001b[0;34m(\u001b[0m\u001b[0mtimeout\u001b[0m\u001b[0;34m=\u001b[0m\u001b[0mtimeout\u001b[0m\u001b[0;34m)\u001b[0m\u001b[0;34m\u001b[0m\u001b[0;34m\u001b[0m\u001b[0m\n\u001b[0m\u001b[1;32m    568\u001b[0m         \u001b[0;32mexcept\u001b[0m \u001b[0mCfTimeoutError\u001b[0m \u001b[0;32mas\u001b[0m \u001b[0me\u001b[0m\u001b[0;34m:\u001b[0m\u001b[0;34m\u001b[0m\u001b[0;34m\u001b[0m\u001b[0m\n\u001b[1;32m    569\u001b[0m             \u001b[0;32mraise\u001b[0m \u001b[0mTimeoutError\u001b[0m \u001b[0;32mfrom\u001b[0m \u001b[0me\u001b[0m\u001b[0;34m\u001b[0m\u001b[0;34m\u001b[0m\u001b[0m\n",
            "\u001b[0;32m/usr/lib/python3.8/concurrent/futures/_base.py\u001b[0m in \u001b[0;36mresult\u001b[0;34m(self, timeout)\u001b[0m\n\u001b[1;32m    437\u001b[0m                     \u001b[0;32mreturn\u001b[0m \u001b[0mself\u001b[0m\u001b[0;34m.\u001b[0m\u001b[0m__get_result\u001b[0m\u001b[0;34m(\u001b[0m\u001b[0;34m)\u001b[0m\u001b[0;34m\u001b[0m\u001b[0;34m\u001b[0m\u001b[0m\n\u001b[1;32m    438\u001b[0m \u001b[0;34m\u001b[0m\u001b[0m\n\u001b[0;32m--> 439\u001b[0;31m                 \u001b[0mself\u001b[0m\u001b[0;34m.\u001b[0m\u001b[0m_condition\u001b[0m\u001b[0;34m.\u001b[0m\u001b[0mwait\u001b[0m\u001b[0;34m(\u001b[0m\u001b[0mtimeout\u001b[0m\u001b[0;34m)\u001b[0m\u001b[0;34m\u001b[0m\u001b[0;34m\u001b[0m\u001b[0m\n\u001b[0m\u001b[1;32m    440\u001b[0m \u001b[0;34m\u001b[0m\u001b[0m\n\u001b[1;32m    441\u001b[0m                 \u001b[0;32mif\u001b[0m \u001b[0mself\u001b[0m\u001b[0;34m.\u001b[0m\u001b[0m_state\u001b[0m \u001b[0;32min\u001b[0m \u001b[0;34m[\u001b[0m\u001b[0mCANCELLED\u001b[0m\u001b[0;34m,\u001b[0m \u001b[0mCANCELLED_AND_NOTIFIED\u001b[0m\u001b[0;34m]\u001b[0m\u001b[0;34m:\u001b[0m\u001b[0;34m\u001b[0m\u001b[0;34m\u001b[0m\u001b[0m\n",
            "\u001b[0;32m/usr/lib/python3.8/threading.py\u001b[0m in \u001b[0;36mwait\u001b[0;34m(self, timeout)\u001b[0m\n\u001b[1;32m    300\u001b[0m         \u001b[0;32mtry\u001b[0m\u001b[0;34m:\u001b[0m    \u001b[0;31m# restore state no matter what (e.g., KeyboardInterrupt)\u001b[0m\u001b[0;34m\u001b[0m\u001b[0;34m\u001b[0m\u001b[0m\n\u001b[1;32m    301\u001b[0m             \u001b[0;32mif\u001b[0m \u001b[0mtimeout\u001b[0m \u001b[0;32mis\u001b[0m \u001b[0;32mNone\u001b[0m\u001b[0;34m:\u001b[0m\u001b[0;34m\u001b[0m\u001b[0;34m\u001b[0m\u001b[0m\n\u001b[0;32m--> 302\u001b[0;31m                 \u001b[0mwaiter\u001b[0m\u001b[0;34m.\u001b[0m\u001b[0macquire\u001b[0m\u001b[0;34m(\u001b[0m\u001b[0;34m)\u001b[0m\u001b[0;34m\u001b[0m\u001b[0;34m\u001b[0m\u001b[0m\n\u001b[0m\u001b[1;32m    303\u001b[0m                 \u001b[0mgotit\u001b[0m \u001b[0;34m=\u001b[0m \u001b[0;32mTrue\u001b[0m\u001b[0;34m\u001b[0m\u001b[0;34m\u001b[0m\u001b[0m\n\u001b[1;32m    304\u001b[0m             \u001b[0;32melse\u001b[0m\u001b[0;34m:\u001b[0m\u001b[0;34m\u001b[0m\u001b[0;34m\u001b[0m\u001b[0m\n",
            "\u001b[0;31mKeyboardInterrupt\u001b[0m: "
          ]
        }
      ]
    },
    {
      "cell_type": "code",
      "source": [
        "rf_optim = RandomForestClassifier(max_depth= 15, min_samples_leaf= 1, min_samples_split= 5, n_estimators= 300)\n",
        "rf_optim.fit(X_train, y_train)"
      ],
      "metadata": {
        "colab": {
          "base_uri": "https://localhost:8080/"
        },
        "id": "yvIYThGcov-K",
        "outputId": "f31e512d-8d52-4486-d493-ae54bed045f6"
      },
      "execution_count": null,
      "outputs": [
        {
          "output_type": "execute_result",
          "data": {
            "text/plain": [
              "RandomForestClassifier(max_depth=15, min_samples_split=5, n_estimators=300)"
            ]
          },
          "metadata": {},
          "execution_count": 50
        }
      ]
    },
    {
      "cell_type": "code",
      "source": [
        "y_pred = rf_optim.predict(X_test)\n",
        "\n",
        "base_value = (classification_report(y_test, y_pred))\n",
        "print(base_value)\n",
        "\n",
        "y_probs = rf.predict_proba(X_test)\n",
        "# Printing out the confusion Matrix and Stuff\n",
        "skplt.metrics.plot_confusion_matrix(y_test, y_pred)\n",
        "skplt.metrics.plot_roc(y_test, y_probs)\n",
        "skplt.metrics.plot_precision_recall_curve(y_test, y_probs)\n",
        "plt.show()"
      ],
      "metadata": {
        "colab": {
          "base_uri": "https://localhost:8080/",
          "height": 1000
        },
        "id": "Ny_AsswOptWK",
        "outputId": "89d60758-4844-483d-93cd-463cac170bc4"
      },
      "execution_count": null,
      "outputs": [
        {
          "output_type": "stream",
          "name": "stdout",
          "text": [
            "              precision    recall  f1-score   support\n",
            "\n",
            "           0       0.92      0.80      0.86      3902\n",
            "           1       0.95      0.93      0.94      2314\n",
            "           2       0.91      0.98      0.94      7100\n",
            "\n",
            "    accuracy                           0.92     13316\n",
            "   macro avg       0.93      0.90      0.91     13316\n",
            "weighted avg       0.92      0.92      0.92     13316\n",
            "\n"
          ]
        },
        {
          "output_type": "stream",
          "name": "stderr",
          "text": [
            "/usr/local/lib/python3.8/dist-packages/sklearn/utils/deprecation.py:87: FutureWarning: Function plot_precision_recall_curve is deprecated; This will be removed in v0.5.0. Please use scikitplot.metrics.plot_precision_recall instead.\n",
            "  warnings.warn(msg, category=FutureWarning)\n"
          ]
        },
        {
          "output_type": "display_data",
          "data": {
            "text/plain": [
              "<Figure size 432x288 with 2 Axes>"
            ],
            "image/png": "[encoded data removed]"
          },
          "metadata": {
            "needs_background": "light"
          }
        },
        {
          "output_type": "display_data",
          "data": {
            "text/plain": [
              "<Figure size 432x288 with 1 Axes>"
            ],
            "image/png": "[encoded data removed]"
          },
          "metadata": {
            "needs_background": "light"
          }
        },
        {
          "output_type": "display_data",
          "data": {
            "text/plain": [
              "<Figure size 432x288 with 1 Axes>"
            ],
            "image/png": "[encoded data removed]"
          },
          "metadata": {
            "needs_background": "light"
          }
        }
      ]
    },
    {
      "cell_type": "code",
      "source": [
        "misclassified = np.where(y_test != y_pred)\n"
      ],
      "metadata": {
        "id": "40z_YYAFtAEa"
      },
      "execution_count": null,
      "outputs": []
    },
    {
      "cell_type": "code",
      "source": [
        "print(misclassified)"
      ],
      "metadata": {
        "colab": {
          "base_uri": "https://localhost:8080/"
        },
        "id": "fR08FZQrtEwW",
        "outputId": "b57a7582-eace-4da8-e399-313ce8379ed8"
      },
      "execution_count": null,
      "outputs": [
        {
          "output_type": "stream",
          "name": "stdout",
          "text": [
            "(array([   15,    21,    26, ..., 13277, 13279, 13312]),)\n"
          ]
        }
      ]
    },
    {
      "cell_type": "code",
      "source": [
        "ten_mis = []\n",
        "for i in range(10):\n",
        "  ten_mis.append(misclassified[0][i])\n",
        "\n",
        "print(ten_mis)"
      ],
      "metadata": {
        "colab": {
          "base_uri": "https://localhost:8080/"
        },
        "id": "lzvJlUUhtID6",
        "outputId": "a0c9909c-f6ad-4a08-973c-c3cf04164fba"
      },
      "execution_count": null,
      "outputs": [
        {
          "output_type": "stream",
          "name": "stdout",
          "text": [
            "[15, 21, 26, 41, 49, 53, 55, 66, 69, 94]\n"
          ]
        }
      ]
    },
    {
      "cell_type": "code",
      "source": [
        "X_test"
      ],
      "metadata": {
        "colab": {
          "base_uri": "https://localhost:8080/",
          "height": 424
        },
        "id": "rkoFY0xot1Rv",
        "outputId": "f17b42ac-e1c7-47c1-9768-bbfae51ac4dc"
      },
      "execution_count": null,
      "outputs": [
        {
          "output_type": "execute_result",
          "data": {
            "text/plain": [
              "       TTL  DF_FLAG  PACKET_NO  TLS_CIPHER_SUITES  TLS_EXTENSION_SIG_ALGS\n",
              "22927  128        1       6332                 -1                      -1\n",
              "11093   64        1      11126                 -1                      -1\n",
              "10600  128        1      10633                 -1                      -1\n",
              "11294   56        0      11327                 -1                      -1\n",
              "8913   128        1       8946                 -1                      -1\n",
              "...    ...      ...        ...                ...                     ...\n",
              "22170   56        1       5562                 -1                      -1\n",
              "7512   128        1       7513                 -1                      -1\n",
              "5697   128        1       5698                 -1                      -1\n",
              "19908  128        1       3292                 -1                      -1\n",
              "5111    64        1       5139                 -1                      -1\n",
              "\n",
              "[13316 rows x 5 columns]"
            ],
            "text/html": [
              "\n",
              "  <div id=\"df-0a6b472d-cb08-452e-a483-4534b2ea5ae7\">\n",
              "    <div class=\"colab-df-container\">\n",
              "      <div>\n",
              "<style scoped>\n",
              "    .dataframe tbody tr th:only-of-type {\n",
              "        vertical-align: middle;\n",
              "    }\n",
              "\n",
              "    .dataframe tbody tr th {\n",
              "        vertical-align: top;\n",
              "    }\n",
              "\n",
              "    .dataframe thead th {\n",
              "        text-align: right;\n",
              "    }\n",
              "</style>\n",
              "<table border=\"1\" class=\"dataframe\">\n",
              "  <thead>\n",
              "    <tr style=\"text-align: right;\">\n",
              "      <th></th>\n",
              "      <th>TTL</th>\n",
              "      <th>DF_FLAG</th>\n",
              "      <th>PACKET_NO</th>\n",
              "      <th>TLS_CIPHER_SUITES</th>\n",
              "      <th>TLS_EXTENSION_SIG_ALGS</th>\n",
              "    </tr>\n",
              "  </thead>\n",
              "  <tbody>\n",
              "    <tr>\n",
              "      <th>22927</th>\n",
              "      <td>128</td>\n",
              "      <td>1</td>\n",
              "      <td>6332</td>\n",
              "      <td>-1</td>\n",
              "      <td>-1</td>\n",
              "    </tr>\n",
              "    <tr>\n",
              "      <th>11093</th>\n",
              "      <td>64</td>\n",
              "      <td>1</td>\n",
              "      <td>11126</td>\n",
              "      <td>-1</td>\n",
              "      <td>-1</td>\n",
              "    </tr>\n",
              "    <tr>\n",
              "      <th>10600</th>\n",
              "      <td>128</td>\n",
              "      <td>1</td>\n",
              "      <td>10633</td>\n",
              "      <td>-1</td>\n",
              "      <td>-1</td>\n",
              "    </tr>\n",
              "    <tr>\n",
              "      <th>11294</th>\n",
              "      <td>56</td>\n",
              "      <td>0</td>\n",
              "      <td>11327</td>\n",
              "      <td>-1</td>\n",
              "      <td>-1</td>\n",
              "    </tr>\n",
              "    <tr>\n",
              "      <th>8913</th>\n",
              "      <td>128</td>\n",
              "      <td>1</td>\n",
              "      <td>8946</td>\n",
              "      <td>-1</td>\n",
              "      <td>-1</td>\n",
              "    </tr>\n",
              "    <tr>\n",
              "      <th>...</th>\n",
              "      <td>...</td>\n",
              "      <td>...</td>\n",
              "      <td>...</td>\n",
              "      <td>...</td>\n",
              "      <td>...</td>\n",
              "    </tr>\n",
              "    <tr>\n",
              "      <th>22170</th>\n",
              "      <td>56</td>\n",
              "      <td>1</td>\n",
              "      <td>5562</td>\n",
              "      <td>-1</td>\n",
              "      <td>-1</td>\n",
              "    </tr>\n",
              "    <tr>\n",
              "      <th>7512</th>\n",
              "      <td>128</td>\n",
              "      <td>1</td>\n",
              "      <td>7513</td>\n",
              "      <td>-1</td>\n",
              "      <td>-1</td>\n",
              "    </tr>\n",
              "    <tr>\n",
              "      <th>5697</th>\n",
              "      <td>128</td>\n",
              "      <td>1</td>\n",
              "      <td>5698</td>\n",
              "      <td>-1</td>\n",
              "      <td>-1</td>\n",
              "    </tr>\n",
              "    <tr>\n",
              "      <th>19908</th>\n",
              "      <td>128</td>\n",
              "      <td>1</td>\n",
              "      <td>3292</td>\n",
              "      <td>-1</td>\n",
              "      <td>-1</td>\n",
              "    </tr>\n",
              "    <tr>\n",
              "      <th>5111</th>\n",
              "      <td>64</td>\n",
              "      <td>1</td>\n",
              "      <td>5139</td>\n",
              "      <td>-1</td>\n",
              "      <td>-1</td>\n",
              "    </tr>\n",
              "  </tbody>\n",
              "</table>\n",
              "<p>13316 rows × 5 columns</p>\n",
              "</div>\n",
              "      <button class=\"colab-df-convert\" onclick=\"convertToInteractive('df-0a6b472d-cb08-452e-a483-4534b2ea5ae7')\"\n",
              "              title=\"Convert this dataframe to an interactive table.\"\n",
              "              style=\"display:none;\">\n",
              "        \n",
              "  <svg xmlns=\"http://www.w3.org/2000/svg\" height=\"24px\"viewBox=\"0 0 24 24\"\n",
              "       width=\"24px\">\n",
              "    <path d=\"M0 0h24v24H0V0z\" fill=\"none\"/>\n",
              "    <path d=\"M18.56 5.44l.94 2.06.94-2.06 2.06-.94-2.06-.94-.94-2.06-.94 2.06-2.06.94zm-11 1L8.5 8.5l.94-2.06 2.06-.94-2.06-.94L8.5 2.5l-.94 2.06-2.06.94zm10 10l.94 2.06.94-2.06 2.06-.94-2.06-.94-.94-2.06-.94 2.06-2.06.94z\"/><path d=\"M17.41 7.96l-1.37-1.37c-.4-.4-.92-.59-1.43-.59-.52 0-1.04.2-1.43.59L10.3 9.45l-7.72 7.72c-.78.78-.78 2.05 0 2.83L4 21.41c.39.39.9.59 1.41.59.51 0 1.02-.2 1.41-.59l7.78-7.78 2.81-2.81c.8-.78.8-2.07 0-2.86zM5.41 20L4 18.59l7.72-7.72 1.47 1.35L5.41 20z\"/>\n",
              "  </svg>\n",
              "      </button>\n",
              "      \n",
              "  <style>\n",
              "    .colab-df-container {\n",
              "      display:flex;\n",
              "      flex-wrap:wrap;\n",
              "      gap: 12px;\n",
              "    }\n",
              "\n",
              "    .colab-df-convert {\n",
              "      background-color: #E8F0FE;\n",
              "      border: none;\n",
              "      border-radius: 50%;\n",
              "      cursor: pointer;\n",
              "      display: none;\n",
              "      fill: #1967D2;\n",
              "      height: 32px;\n",
              "      padding: 0 0 0 0;\n",
              "      width: 32px;\n",
              "    }\n",
              "\n",
              "    .colab-df-convert:hover {\n",
              "      background-color: #E2EBFA;\n",
              "      box-shadow: 0px 1px 2px rgba(60, 64, 67, 0.3), 0px 1px 3px 1px rgba(60, 64, 67, 0.15);\n",
              "      fill: #174EA6;\n",
              "    }\n",
              "\n",
              "    [theme=dark] .colab-df-convert {\n",
              "      background-color: #3B4455;\n",
              "      fill: #D2E3FC;\n",
              "    }\n",
              "\n",
              "    [theme=dark] .colab-df-convert:hover {\n",
              "      background-color: #434B5C;\n",
              "      box-shadow: 0px 1px 3px 1px rgba(0, 0, 0, 0.15);\n",
              "      filter: drop-shadow(0px 1px 2px rgba(0, 0, 0, 0.3));\n",
              "      fill: #FFFFFF;\n",
              "    }\n",
              "  </style>\n",
              "\n",
              "      <script>\n",
              "        const buttonEl =\n",
              "          document.querySelector('#df-0a6b472d-cb08-452e-a483-4534b2ea5ae7 button.colab-df-convert');\n",
              "        buttonEl.style.display =\n",
              "          google.colab.kernel.accessAllowed ? 'block' : 'none';\n",
              "\n",
              "        async function convertToInteractive(key) {\n",
              "          const element = document.querySelector('#df-0a6b472d-cb08-452e-a483-4534b2ea5ae7');\n",
              "          const dataTable =\n",
              "            await google.colab.kernel.invokeFunction('convertToInteractive',\n",
              "                                                     [key], {});\n",
              "          if (!dataTable) return;\n",
              "\n",
              "          const docLinkHtml = 'Like what you see? Visit the ' +\n",
              "            '<a target=\"_blank\" href=https://colab.research.google.com/notebooks/data_table.ipynb>data table notebook</a>'\n",
              "            + ' to learn more about interactive tables.';\n",
              "          element.innerHTML = '';\n",
              "          dataTable['output_type'] = 'display_data';\n",
              "          await google.colab.output.renderOutput(dataTable, element);\n",
              "          const docLink = document.createElement('div');\n",
              "          docLink.innerHTML = docLinkHtml;\n",
              "          element.appendChild(docLink);\n",
              "        }\n",
              "      </script>\n",
              "    </div>\n",
              "  </div>\n",
              "  "
            ]
          },
          "metadata": {},
          "execution_count": 66
        }
      ]
    },
    {
      "cell_type": "code",
      "source": [
        "import pickle\n",
        "\n",
        "# Save the model to a file\n",
        "with open('tls_model.pkl', 'wb') as file:\n",
        "    pickle.dump(rf_optim, file)\n"
      ],
      "metadata": {
        "id": "Zw7P2fbYbcBd"
      },
      "execution_count": null,
      "outputs": []
    },
    {
      "cell_type": "code",
      "source": [
        "import pickle\n",
        "\n",
        "# Load the saved model from the file\n",
        "with open('tls_model.pkl', 'rb') as file:\n",
        "    model = pickle.load(file)\n",
        "\n",
        "# Use the loaded model to make predictions on new data\n",
        "#predictions = model.predict(new_data)\n"
      ],
      "metadata": {
        "id": "kwEdDryLbh8a"
      },
      "execution_count": null,
      "outputs": []
    },
    {
      "cell_type": "code",
      "source": [
        "# To-Do:  Create models for the other 3 protocols but TLS is done"
      ],
      "metadata": {
        "id": "qkfOnBPXO5FA"
      },
      "execution_count": null,
      "outputs": []
    }
  ],
  "metadata": {
    "accelerator": "GPU",
    "colab": {
      "provenance": []
    },
    "gpuClass": "standard",
    "kernelspec": {
      "display_name": "Python 3",
      "name": "python3"
    },
    "language_info": {
      "name": "python"
    }
  },
  "nbformat": 4,
  "nbformat_minor": 0
}